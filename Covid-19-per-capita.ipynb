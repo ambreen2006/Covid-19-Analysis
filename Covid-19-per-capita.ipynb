{
 "cells": [
  {
   "cell_type": "markdown",
   "metadata": {},
   "source": [
    "# Covid-19 Analysis\n",
    "\n",
    "Looking at the Covid-19 data obtained from 'Our World in Data'.\n",
    "\n",
    "**Index:**\n",
    "\n",
    "- Extracting Data\n",
    "    - Python imports\n",
    "    - Fetch COVID-19 data from Our World in Data\n",
    "    - Fetch Canadian specific data from [health-infobase.canada.ca](health-infobase.canada.ca)\n",
    "- Filtering and Cleaning\n",
    "    - Extract world record\n",
    "    - Filtering for the latest data\n",
    "    - Preparing population data\n",
    "        -  Missing population data\n",
    "    - Appending inferred information\n",
    "    - Preparing Canadian specific data\n",
    "- Analysis\n",
    "    - World record\n",
    "        - Plots\n",
    "        - Table\n",
    "    - Top 5: total cases per capita and deaths per total\n",
    "        - Plots\n",
    "        - Tables\n",
    "    - Comparison between select countries\n",
    "    - Highest number of total cases and deaths\n",
    "        - Plots\n",
    "        - Tables\n",
    "    - Canadian provinces and territories\n",
    "        - Canadian provinces and territories\n",
    "        - Cases and Deaths\n",
    "            - Plots\n",
    "            - Tables\n",
    "                - Total\n",
    "                - Sorted by confirmed cases\n",
    "        - Per Capita\n",
    "            - Plots\n",
    "            - Tables\n",
    "                - Sorted by confirmed cases per capita\n",
    "                - Population"
   ]
  },
  {
   "cell_type": "markdown",
   "metadata": {},
   "source": [
    "## Extracting coronavirus and country data"
   ]
  },
  {
   "cell_type": "markdown",
   "metadata": {},
   "source": [
    "### Python Imports"
   ]
  },
  {
   "cell_type": "code",
   "execution_count": 47,
   "metadata": {},
   "outputs": [],
   "source": [
    "import numpy as np\n",
    "import pandas as pd\n",
    "import matplotlib.pyplot as plt\n",
    "import plotly.graph_objects as go\n",
    "import requests\n",
    "\n",
    "from datetime import datetime"
   ]
  },
  {
   "cell_type": "markdown",
   "metadata": {},
   "source": [
    "### Fetch COVID-19 data from Our World in Data"
   ]
  },
  {
   "cell_type": "code",
   "execution_count": 48,
   "metadata": {},
   "outputs": [],
   "source": [
    "r = requests.get('https://covid.ourworldindata.org/data/ecdc/full_data.csv')"
   ]
  },
  {
   "cell_type": "code",
   "execution_count": 49,
   "metadata": {},
   "outputs": [],
   "source": [
    "with open('full_data.csv', 'wb') as fd:\n",
    "    for chunk in r.iter_content(chunk_size = 128):\n",
    "        fd.write(chunk)"
   ]
  },
  {
   "cell_type": "markdown",
   "metadata": {},
   "source": [
    "### Get Canadian specific data from health-infobase.canada.ca"
   ]
  },
  {
   "cell_type": "code",
   "execution_count": 50,
   "metadata": {
    "scrolled": true
   },
   "outputs": [],
   "source": [
    "r = requests.get('https://health-infobase.canada.ca/src/data/covidLive/covid19.csv')"
   ]
  },
  {
   "cell_type": "code",
   "execution_count": 51,
   "metadata": {},
   "outputs": [],
   "source": [
    "with open('summary_current.csv', 'wb') as fd:\n",
    "    for chunk in r.iter_content(chunk_size = 128):\n",
    "        fd.write(chunk)"
   ]
  },
  {
   "cell_type": "markdown",
   "metadata": {},
   "source": [
    "### Load data "
   ]
  },
  {
   "cell_type": "code",
   "execution_count": 52,
   "metadata": {},
   "outputs": [],
   "source": [
    "rdata = pd.read_csv('full_data.csv')\n",
    "rpopulation_data = pd.read_csv('population_data.csv') \n",
    "canadian_data = pd.read_csv('summary_current.csv')\n",
    "deaths_from_infections = pd.read_csv('deaths-from-infections-of-currently-noneradicable-diseases.csv')"
   ]
  },
  {
   "cell_type": "code",
   "execution_count": 53,
   "metadata": {},
   "outputs": [],
   "source": [
    "canadian_population_dict = {'Population':[14711827, 8537674, 5110917, 4413146, 1377517, 1181666, 977457, 779993, 521365, 158158, 44904, 39097, 41078], \n",
    "                            'Location':['Ontario', 'Quebec', 'British Columbia', 'Alberta','Manitoba','Saskatchewan',\n",
    "                                        'Nova Scotia', 'New Brunswick', 'Newfoundland and Labrador','Prince Edward Island', 'Northwest Territories','Nunavut','Yukon']}\n",
    "\n",
    "canadian_population = pd.DataFrame.from_dict(canadian_population_dict)"
   ]
  },
  {
   "cell_type": "markdown",
   "metadata": {},
   "source": [
    "## Filtering and cleaning data "
   ]
  },
  {
   "cell_type": "code",
   "execution_count": 54,
   "metadata": {
    "scrolled": true
   },
   "outputs": [
    {
     "name": "stdout",
     "output_type": "stream",
     "text": [
      "Data Types date            object\n",
      "location        object\n",
      "new_cases       int64 \n",
      "new_deaths      int64 \n",
      "total_cases     int64 \n",
      "total_deaths    int64 \n",
      "dtype: object\n",
      "Columns with NaN Index([], dtype='object')\n"
     ]
    }
   ],
   "source": [
    "print(\"Data Types\", rdata.dtypes)\n",
    "print(\"Columns with NaN\", rdata.columns[rdata.isna().any()])"
   ]
  },
  {
   "cell_type": "code",
   "execution_count": 55,
   "metadata": {},
   "outputs": [],
   "source": [
    "pd.set_option(\"display.max_colwidth\", -1)"
   ]
  },
  {
   "cell_type": "code",
   "execution_count": 56,
   "metadata": {
    "scrolled": true
   },
   "outputs": [
    {
     "data": {
      "text/plain": [
       "date            object\n",
       "location        object\n",
       "new_cases       int64 \n",
       "new_deaths      int64 \n",
       "total_cases     int64 \n",
       "total_deaths    int64 \n",
       "dtype: object"
      ]
     },
     "execution_count": 56,
     "metadata": {},
     "output_type": "execute_result"
    }
   ],
   "source": [
    "rdata = rdata.fillna(value = 0)\n",
    "pdata = rdata.astype({'new_cases':'int64', \n",
    "                     'new_deaths':'int64', \n",
    "                     'total_deaths':'int64'})\n",
    "pdata.dtypes"
   ]
  },
  {
   "cell_type": "code",
   "execution_count": 57,
   "metadata": {},
   "outputs": [],
   "source": [
    "rdata['date_fm'] = pd.to_datetime(rdata['date'], infer_datetime_format='%Y-%m-%d')"
   ]
  },
  {
   "cell_type": "code",
   "execution_count": 58,
   "metadata": {},
   "outputs": [
    {
     "data": {
      "text/plain": [
       "'2020-03-31'"
      ]
     },
     "execution_count": 58,
     "metadata": {},
     "output_type": "execute_result"
    }
   ],
   "source": [
    "latest = pdata['date'].max()\n",
    "latest"
   ]
  },
  {
   "cell_type": "code",
   "execution_count": 59,
   "metadata": {},
   "outputs": [],
   "source": [
    "canadian_data['date'] = pd.to_datetime(canadian_data['date'], infer_datetime_format='%d-%m-%Y')"
   ]
  },
  {
   "cell_type": "code",
   "execution_count": 60,
   "metadata": {
    "scrolled": true
   },
   "outputs": [],
   "source": [
    "latest_canadian = canadian_data['date'].max()"
   ]
  },
  {
   "cell_type": "code",
   "execution_count": 61,
   "metadata": {},
   "outputs": [
    {
     "data": {
      "text/plain": [
       "2017"
      ]
     },
     "execution_count": 61,
     "metadata": {},
     "output_type": "execute_result"
    }
   ],
   "source": [
    "latest_year = deaths_from_infections['Year'].max()\n",
    "latest_year"
   ]
  },
  {
   "cell_type": "code",
   "execution_count": 62,
   "metadata": {},
   "outputs": [],
   "source": [
    "deaths_from_infections.drop('Code', axis = 1, inplace = True)"
   ]
  },
  {
   "cell_type": "code",
   "execution_count": 63,
   "metadata": {},
   "outputs": [],
   "source": [
    "deaths_from_infections = deaths_from_infections[deaths_from_infections['Year'] == latest_year]"
   ]
  },
  {
   "cell_type": "code",
   "execution_count": 64,
   "metadata": {},
   "outputs": [],
   "source": [
    "deaths_from_infections.rename(inplace = True, columns = \n",
    "                              {'Entity':'Location', \n",
    "                               'Malaria (deaths)': 'Malaria',\n",
    "                               'Tuberculosis (deaths)':'Tuberculosis',\n",
    "                               'HIV/AIDS (deaths)':'HIV/AIDS',\n",
    "                               'Rabies (deaths)':'Rabies'})"
   ]
  },
  {
   "cell_type": "code",
   "execution_count": 65,
   "metadata": {},
   "outputs": [],
   "source": [
    "deaths_from_infections.set_index('Location', inplace = True)"
   ]
  },
  {
   "cell_type": "code",
   "execution_count": 66,
   "metadata": {},
   "outputs": [],
   "source": [
    "earliest = '2020-03-01'"
   ]
  },
  {
   "cell_type": "markdown",
   "metadata": {},
   "source": [
    "### Extract world record"
   ]
  },
  {
   "cell_type": "code",
   "execution_count": 67,
   "metadata": {
    "scrolled": true
   },
   "outputs": [],
   "source": [
    "world_record = rdata[rdata['location'] == 'World']"
   ]
  },
  {
   "cell_type": "code",
   "execution_count": 68,
   "metadata": {
    "scrolled": false
   },
   "outputs": [],
   "source": [
    "world_record = world_record.drop(columns = ['date'])\n",
    "world_record = world_record.set_index('date_fm')"
   ]
  },
  {
   "cell_type": "code",
   "execution_count": 69,
   "metadata": {
    "scrolled": true
   },
   "outputs": [],
   "source": [
    "diff = datetime.today() - datetime.fromisoformat(rdata['date'].min())"
   ]
  },
  {
   "cell_type": "code",
   "execution_count": 120,
   "metadata": {},
   "outputs": [],
   "source": [
    "world_deaths_from_infections = deaths_from_infections[deaths_from_infections.index == 'World'].copy()\n",
    "world_deaths_from_infections.drop(inplace = True, columns = ['Year'])"
   ]
  },
  {
   "cell_type": "code",
   "execution_count": 71,
   "metadata": {},
   "outputs": [],
   "source": [
    "scale = 365\n",
    "world_deaths_from_infections_scaled = world_deaths_from_infections.copy()\n",
    "world_deaths_from_infections_scaled['Malaria'] = (world_deaths_from_infections['Malaria'].div(scale))\n",
    "world_deaths_from_infections_scaled['Tuberculosis'] = (world_deaths_from_infections['Tuberculosis'].div(scale))\n",
    "world_deaths_from_infections_scaled['Rabies'] = (world_deaths_from_infections['Rabies'].div(scale))\n",
    "world_deaths_from_infections_scaled['HIV/AIDS'] = (world_deaths_from_infections['HIV/AIDS'].div(scale))"
   ]
  },
  {
   "cell_type": "code",
   "execution_count": 72,
   "metadata": {},
   "outputs": [],
   "source": [
    "covid_19 = world_record['total_deaths'][world_record.index == latest].div(scale)[0]\n",
    "world_deaths_from_infections_scaled = world_deaths_from_infections_scaled.assign(COVID_19 = covid_19)"
   ]
  },
  {
   "cell_type": "markdown",
   "metadata": {},
   "source": [
    "### Filtering for the latest data"
   ]
  },
  {
   "cell_type": "code",
   "execution_count": 73,
   "metadata": {},
   "outputs": [],
   "source": [
    "data = pdata[pdata['date'] == latest]\n",
    "data = data.drop('date', axis = 1)\n",
    "data = data.set_index('location')"
   ]
  },
  {
   "cell_type": "code",
   "execution_count": 74,
   "metadata": {
    "scrolled": true
   },
   "outputs": [],
   "source": [
    "data = data[data.index != 'World']"
   ]
  },
  {
   "cell_type": "code",
   "execution_count": 75,
   "metadata": {
    "scrolled": true
   },
   "outputs": [],
   "source": [
    "max_total_cases = data['total_cases'].max()"
   ]
  },
  {
   "cell_type": "code",
   "execution_count": 76,
   "metadata": {},
   "outputs": [],
   "source": [
    "canadian_data = canadian_data[canadian_data['date'] == latest_canadian]\n",
    "canadian_data = canadian_data.drop(columns = ['pruid', 'date','prnameFR'])"
   ]
  },
  {
   "cell_type": "markdown",
   "metadata": {},
   "source": [
    "### Preparing population data"
   ]
  },
  {
   "cell_type": "code",
   "execution_count": 77,
   "metadata": {
    "scrolled": true
   },
   "outputs": [],
   "source": [
    "population = rpopulation_data.filter(['Country Name', '2018'])"
   ]
  },
  {
   "cell_type": "code",
   "execution_count": 78,
   "metadata": {},
   "outputs": [],
   "source": [
    "population = population.rename(columns = {'Country Name':'location'})\n",
    "population = population.set_index('location')"
   ]
  },
  {
   "cell_type": "markdown",
   "metadata": {},
   "source": [
    "#### Missing population data"
   ]
  },
  {
   "cell_type": "code",
   "execution_count": 79,
   "metadata": {
    "scrolled": false
   },
   "outputs": [
    {
     "data": {
      "text/html": [
       "<div>\n",
       "<style scoped>\n",
       "    .dataframe tbody tr th:only-of-type {\n",
       "        vertical-align: middle;\n",
       "    }\n",
       "\n",
       "    .dataframe tbody tr th {\n",
       "        vertical-align: top;\n",
       "    }\n",
       "\n",
       "    .dataframe thead th {\n",
       "        text-align: right;\n",
       "    }\n",
       "</style>\n",
       "<table border=\"1\" class=\"dataframe\">\n",
       "  <thead>\n",
       "    <tr style=\"text-align: right;\">\n",
       "      <th></th>\n",
       "      <th>new_cases</th>\n",
       "      <th>new_deaths</th>\n",
       "      <th>total_cases</th>\n",
       "      <th>total_deaths</th>\n",
       "    </tr>\n",
       "    <tr>\n",
       "      <th>location</th>\n",
       "      <th></th>\n",
       "      <th></th>\n",
       "      <th></th>\n",
       "      <th></th>\n",
       "    </tr>\n",
       "  </thead>\n",
       "  <tbody>\n",
       "    <tr>\n",
       "      <td>Anguilla</td>\n",
       "      <td>0</td>\n",
       "      <td>0</td>\n",
       "      <td>2</td>\n",
       "      <td>0</td>\n",
       "    </tr>\n",
       "    <tr>\n",
       "      <td>Falkland Islands</td>\n",
       "      <td>0</td>\n",
       "      <td>0</td>\n",
       "      <td>0</td>\n",
       "      <td>0</td>\n",
       "    </tr>\n",
       "    <tr>\n",
       "      <td>Guernsey</td>\n",
       "      <td>0</td>\n",
       "      <td>0</td>\n",
       "      <td>45</td>\n",
       "      <td>0</td>\n",
       "    </tr>\n",
       "    <tr>\n",
       "      <td>Jersey</td>\n",
       "      <td>0</td>\n",
       "      <td>0</td>\n",
       "      <td>63</td>\n",
       "      <td>2</td>\n",
       "    </tr>\n",
       "    <tr>\n",
       "      <td>Mariana Islands</td>\n",
       "      <td>2</td>\n",
       "      <td>0</td>\n",
       "      <td>2</td>\n",
       "      <td>0</td>\n",
       "    </tr>\n",
       "    <tr>\n",
       "      <td>Montserrat</td>\n",
       "      <td>0</td>\n",
       "      <td>0</td>\n",
       "      <td>5</td>\n",
       "      <td>0</td>\n",
       "    </tr>\n",
       "    <tr>\n",
       "      <td>Palestine</td>\n",
       "      <td>9</td>\n",
       "      <td>0</td>\n",
       "      <td>115</td>\n",
       "      <td>1</td>\n",
       "    </tr>\n",
       "    <tr>\n",
       "      <td>Saint Kitts and Nevis</td>\n",
       "      <td>0</td>\n",
       "      <td>0</td>\n",
       "      <td>7</td>\n",
       "      <td>0</td>\n",
       "    </tr>\n",
       "    <tr>\n",
       "      <td>Taiwan</td>\n",
       "      <td>0</td>\n",
       "      <td>0</td>\n",
       "      <td>306</td>\n",
       "      <td>5</td>\n",
       "    </tr>\n",
       "    <tr>\n",
       "      <td>Vatican</td>\n",
       "      <td>0</td>\n",
       "      <td>0</td>\n",
       "      <td>6</td>\n",
       "      <td>0</td>\n",
       "    </tr>\n",
       "  </tbody>\n",
       "</table>\n",
       "</div>"
      ],
      "text/plain": [
       "                       new_cases  new_deaths  total_cases  total_deaths\n",
       "location                                                               \n",
       "Anguilla               0          0           2            0           \n",
       "Falkland Islands       0          0           0            0           \n",
       "Guernsey               0          0           45           0           \n",
       "Jersey                 0          0           63           2           \n",
       "Mariana Islands        2          0           2            0           \n",
       "Montserrat             0          0           5            0           \n",
       "Palestine              9          0           115          1           \n",
       "Saint Kitts and Nevis  0          0           7            0           \n",
       "Taiwan                 0          0           306          5           \n",
       "Vatican                0          0           6            0           "
      ]
     },
     "execution_count": 79,
     "metadata": {},
     "output_type": "execute_result"
    }
   ],
   "source": [
    "data[data.index.isin(population.index) == False]"
   ]
  },
  {
   "cell_type": "markdown",
   "metadata": {},
   "source": [
    "### Appending inferred information "
   ]
  },
  {
   "cell_type": "code",
   "execution_count": 80,
   "metadata": {
    "scrolled": true
   },
   "outputs": [
    {
     "data": {
      "text/html": [
       "<div>\n",
       "<style scoped>\n",
       "    .dataframe tbody tr th:only-of-type {\n",
       "        vertical-align: middle;\n",
       "    }\n",
       "\n",
       "    .dataframe tbody tr th {\n",
       "        vertical-align: top;\n",
       "    }\n",
       "\n",
       "    .dataframe thead th {\n",
       "        text-align: right;\n",
       "    }\n",
       "</style>\n",
       "<table border=\"1\" class=\"dataframe\">\n",
       "  <thead>\n",
       "    <tr style=\"text-align: right;\">\n",
       "      <th></th>\n",
       "      <th>new_cases</th>\n",
       "      <th>new_deaths</th>\n",
       "      <th>total_cases</th>\n",
       "      <th>total_deaths</th>\n",
       "      <th>total_cases_per_capita</th>\n",
       "      <th>total_deaths_per_capita</th>\n",
       "      <th>deaths_per_total</th>\n",
       "    </tr>\n",
       "    <tr>\n",
       "      <th>location</th>\n",
       "      <th></th>\n",
       "      <th></th>\n",
       "      <th></th>\n",
       "      <th></th>\n",
       "      <th></th>\n",
       "      <th></th>\n",
       "      <th></th>\n",
       "    </tr>\n",
       "  </thead>\n",
       "  <tbody>\n",
       "    <tr>\n",
       "      <td>Afghanistan</td>\n",
       "      <td>27</td>\n",
       "      <td>0</td>\n",
       "      <td>141</td>\n",
       "      <td>4</td>\n",
       "      <td>0.379314</td>\n",
       "      <td>0.010761</td>\n",
       "      <td>0.0284</td>\n",
       "    </tr>\n",
       "    <tr>\n",
       "      <td>Albania</td>\n",
       "      <td>11</td>\n",
       "      <td>2</td>\n",
       "      <td>223</td>\n",
       "      <td>12</td>\n",
       "      <td>7.779859</td>\n",
       "      <td>0.418647</td>\n",
       "      <td>0.0538</td>\n",
       "    </tr>\n",
       "    <tr>\n",
       "      <td>Algeria</td>\n",
       "      <td>57</td>\n",
       "      <td>2</td>\n",
       "      <td>511</td>\n",
       "      <td>31</td>\n",
       "      <td>1.210085</td>\n",
       "      <td>0.073410</td>\n",
       "      <td>0.0607</td>\n",
       "    </tr>\n",
       "    <tr>\n",
       "      <td>Andorra</td>\n",
       "      <td>36</td>\n",
       "      <td>2</td>\n",
       "      <td>370</td>\n",
       "      <td>8</td>\n",
       "      <td>480.482040</td>\n",
       "      <td>10.388801</td>\n",
       "      <td>0.0216</td>\n",
       "    </tr>\n",
       "    <tr>\n",
       "      <td>Angola</td>\n",
       "      <td>0</td>\n",
       "      <td>0</td>\n",
       "      <td>7</td>\n",
       "      <td>2</td>\n",
       "      <td>0.022720</td>\n",
       "      <td>0.006491</td>\n",
       "      <td>0.2857</td>\n",
       "    </tr>\n",
       "  </tbody>\n",
       "</table>\n",
       "</div>"
      ],
      "text/plain": [
       "             new_cases  new_deaths  total_cases  total_deaths  \\\n",
       "location                                                        \n",
       "Afghanistan  27         0           141          4              \n",
       "Albania      11         2           223          12             \n",
       "Algeria      57         2           511          31             \n",
       "Andorra      36         2           370          8              \n",
       "Angola       0          0           7            2              \n",
       "\n",
       "             total_cases_per_capita  total_deaths_per_capita  deaths_per_total  \n",
       "location                                                                        \n",
       "Afghanistan  0.379314                0.010761                 0.0284            \n",
       "Albania      7.779859                0.418647                 0.0538            \n",
       "Algeria      1.210085                0.073410                 0.0607            \n",
       "Andorra      480.482040              10.388801                0.0216            \n",
       "Angola       0.022720                0.006491                 0.2857            "
      ]
     },
     "execution_count": 80,
     "metadata": {},
     "output_type": "execute_result"
    }
   ],
   "source": [
    "data['total_cases_per_capita'] = data['total_cases'].div(data.index.map(population['2018'])).mul(100000)\n",
    "data['total_deaths_per_capita'] = data['total_deaths'].div(data.index.map(population['2018'])).mul(100000)\n",
    "data['deaths_per_total'] = data['total_deaths'].div(data['total_cases'])\n",
    "data['deaths_per_total'] = data['deaths_per_total'].round(decimals = 4)\n",
    "data.head()"
   ]
  },
  {
   "cell_type": "markdown",
   "metadata": {},
   "source": [
    "### Preparing Canadian specific data"
   ]
  },
  {
   "cell_type": "code",
   "execution_count": 81,
   "metadata": {},
   "outputs": [],
   "source": [
    "canadian_data = canadian_data.rename(columns = {'numconf': 'Confirmed Cases', \n",
    "                                                'numprob':'Probable Cases',\n",
    "                                                'numtotal':'Total',\n",
    "                                                'numtoday':'Today',\n",
    "                                                'numdeaths': 'Deaths',\n",
    "                                                'prname':'Location'})"
   ]
  },
  {
   "cell_type": "code",
   "execution_count": 82,
   "metadata": {},
   "outputs": [],
   "source": [
    "canadian_data.set_index('Location', inplace = True)\n",
    "canadian_population.set_index('Location', inplace = True)"
   ]
  },
  {
   "cell_type": "code",
   "execution_count": 83,
   "metadata": {},
   "outputs": [],
   "source": [
    "canadian_data_total = canadian_data[canadian_data.index == 'Canada']"
   ]
  },
  {
   "cell_type": "code",
   "execution_count": 84,
   "metadata": {},
   "outputs": [],
   "source": [
    "canadian_data = canadian_data[canadian_data.index.isin(canadian_population.index) == True]\n",
    "canadian_population = canadian_population[canadian_population.index.isin(canadian_data.index) == True]"
   ]
  },
  {
   "cell_type": "code",
   "execution_count": 85,
   "metadata": {},
   "outputs": [],
   "source": [
    "canadian_data['Deaths per Confirmed Cases'] = (canadian_data['Deaths'].div(canadian_data['Confirmed Cases']))"
   ]
  },
  {
   "cell_type": "code",
   "execution_count": 86,
   "metadata": {
    "scrolled": true
   },
   "outputs": [],
   "source": [
    "canadian_data = canadian_data.assign(Confirmed_Cases_Per_Capita = canadian_data['Confirmed Cases'].div(canadian_population['Population']))\n",
    "canadian_data = canadian_data.assign(Deaths_Per_Capita = canadian_data['Deaths'].div(canadian_population['Population']))"
   ]
  },
  {
   "cell_type": "code",
   "execution_count": 87,
   "metadata": {},
   "outputs": [],
   "source": [
    "canadian_data.rename(columns = {'Confirmed_Cases_Per_Capita':'Confirmed Cases Per Capita', \n",
    "                                'Deaths_Per_Capita':'Deaths Per Capita'}, inplace = True)"
   ]
  },
  {
   "cell_type": "markdown",
   "metadata": {},
   "source": [
    "## Analysis"
   ]
  },
  {
   "cell_type": "markdown",
   "metadata": {},
   "source": [
    "### World record"
   ]
  },
  {
   "cell_type": "markdown",
   "metadata": {},
   "source": [
    "#### Plots"
   ]
  },
  {
   "cell_type": "code",
   "execution_count": 123,
   "metadata": {
    "scrolled": false
   },
   "outputs": [
    {
     "data": {
      "image/png": "[encoded data removed]",
      "text/plain": [
       "<Figure size 1080x864 with 4 Axes>"
      ]
     },
     "metadata": {
      "needs_background": "light"
     },
     "output_type": "display_data"
    }
   ],
   "source": [
    "fig, ((ax1, ax2), (ax3, ax4)) = plt.subplots(2, 2, figsize = (15,12))\n",
    "fig.suptitle('World Record')\n",
    "\n",
    "world_record.index.name = 'Date'\n",
    "diffy = 26\n",
    "ax3_title = 'Deaths in ' + str(latest_year) +', averaged per day'\n",
    "ax3.set_title(ax3_title)\n",
    "\n",
    "world_record.plot(kind='line', y= ['total_cases', 'total_deaths'], color = ['blue', 'red'], ax = ax1)\n",
    "world_record.plot(kind='line', y= 'total_deaths', color = 'red', ax = ax2)\n",
    "world_deaths_from_infections_scaled.plot(kind = 'bar', ax = ax3)\n",
    "world_record.plot(kind='line', y= 'new_deaths', color = 'blue', ax = ax4)\n",
    "\n",
    "ax4.hlines(world_deaths_from_infections_scaled['Malaria'], world_record.index.min(), world_record.index.max(), linestyles = 'dotted')\n",
    "ax4.text(world_record.index.min(), world_deaths_from_infections_scaled['Malaria']+diffy, 'Malaria')\n",
    "\n",
    "ax4.hlines(world_deaths_from_infections_scaled['Rabies'], world_record.index.min(), world_record.index.max(), linestyles = 'dotted')\n",
    "ax4.text(world_record.index.min(), world_deaths_from_infections_scaled['Rabies']+diffy, 'Rabies')\n",
    "\n",
    "ax4.hlines(world_deaths_from_infections_scaled['Tuberculosis'], world_record.index.min(), world_record.index.max(), linestyles = 'dotted')\n",
    "ax4.text(world_record.index.min(), world_deaths_from_infections_scaled['Tuberculosis']+diffy, 'Tuberculosis')\n",
    "\n",
    "ax4.hlines(world_deaths_from_infections_scaled['HIV/AIDS'], world_record.index.min(), world_record.index.max(), linestyles = 'dotted')\n",
    "ax4.text(world_record.index.min(), world_deaths_from_infections_scaled['HIV/AIDS']+diffy, 'HIV/AIDS')\n",
    "\n",
    "plt.savefig('world.png', bbox_inches = 'tight')"
   ]
  },
  {
   "cell_type": "markdown",
   "metadata": {},
   "source": [
    "#### Table"
   ]
  },
  {
   "cell_type": "code",
   "execution_count": 89,
   "metadata": {
    "scrolled": true
   },
   "outputs": [
    {
     "data": {
      "text/html": [
       "<div>\n",
       "<style scoped>\n",
       "    .dataframe tbody tr th:only-of-type {\n",
       "        vertical-align: middle;\n",
       "    }\n",
       "\n",
       "    .dataframe tbody tr th {\n",
       "        vertical-align: top;\n",
       "    }\n",
       "\n",
       "    .dataframe thead th {\n",
       "        text-align: right;\n",
       "    }\n",
       "</style>\n",
       "<table border=\"1\" class=\"dataframe\">\n",
       "  <thead>\n",
       "    <tr style=\"text-align: right;\">\n",
       "      <th></th>\n",
       "      <th>location</th>\n",
       "      <th>new_cases</th>\n",
       "      <th>new_deaths</th>\n",
       "      <th>total_cases</th>\n",
       "      <th>total_deaths</th>\n",
       "    </tr>\n",
       "    <tr>\n",
       "      <th>Date</th>\n",
       "      <th></th>\n",
       "      <th></th>\n",
       "      <th></th>\n",
       "      <th></th>\n",
       "      <th></th>\n",
       "    </tr>\n",
       "  </thead>\n",
       "  <tbody>\n",
       "    <tr>\n",
       "      <td>2020-03-31</td>\n",
       "      <td>World</td>\n",
       "      <td>62445</td>\n",
       "      <td>3698</td>\n",
       "      <td>777798</td>\n",
       "      <td>37272</td>\n",
       "    </tr>\n",
       "  </tbody>\n",
       "</table>\n",
       "</div>"
      ],
      "text/plain": [
       "           location  new_cases  new_deaths  total_cases  total_deaths\n",
       "Date                                                                 \n",
       "2020-03-31  World    62445      3698        777798       37272       "
      ]
     },
     "execution_count": 89,
     "metadata": {},
     "output_type": "execute_result"
    }
   ],
   "source": [
    "world_record[world_record.index == latest]"
   ]
  },
  {
   "cell_type": "code",
   "execution_count": 90,
   "metadata": {},
   "outputs": [
    {
     "data": {
      "text/html": [
       "<div>\n",
       "<style scoped>\n",
       "    .dataframe tbody tr th:only-of-type {\n",
       "        vertical-align: middle;\n",
       "    }\n",
       "\n",
       "    .dataframe tbody tr th {\n",
       "        vertical-align: top;\n",
       "    }\n",
       "\n",
       "    .dataframe thead th {\n",
       "        text-align: right;\n",
       "    }\n",
       "</style>\n",
       "<table border=\"1\" class=\"dataframe\">\n",
       "  <thead>\n",
       "    <tr style=\"text-align: right;\">\n",
       "      <th></th>\n",
       "      <th>Malaria</th>\n",
       "      <th>Tuberculosis</th>\n",
       "      <th>HIV/AIDS</th>\n",
       "      <th>Rabies</th>\n",
       "    </tr>\n",
       "    <tr>\n",
       "      <th>Location</th>\n",
       "      <th></th>\n",
       "      <th></th>\n",
       "      <th></th>\n",
       "      <th></th>\n",
       "    </tr>\n",
       "  </thead>\n",
       "  <tbody>\n",
       "    <tr>\n",
       "      <td>World</td>\n",
       "      <td>619826.63466</td>\n",
       "      <td>1.183672e+06</td>\n",
       "      <td>954491.747216</td>\n",
       "      <td>11659.073233</td>\n",
       "    </tr>\n",
       "  </tbody>\n",
       "</table>\n",
       "</div>"
      ],
      "text/plain": [
       "               Malaria  Tuberculosis       HIV/AIDS        Rabies\n",
       "Location                                                         \n",
       "World     619826.63466  1.183672e+06  954491.747216  11659.073233"
      ]
     },
     "execution_count": 90,
     "metadata": {},
     "output_type": "execute_result"
    }
   ],
   "source": [
    "world_deaths_from_infections"
   ]
  },
  {
   "cell_type": "code",
   "execution_count": 91,
   "metadata": {},
   "outputs": [
    {
     "data": {
      "text/html": [
       "<div>\n",
       "<style scoped>\n",
       "    .dataframe tbody tr th:only-of-type {\n",
       "        vertical-align: middle;\n",
       "    }\n",
       "\n",
       "    .dataframe tbody tr th {\n",
       "        vertical-align: top;\n",
       "    }\n",
       "\n",
       "    .dataframe thead th {\n",
       "        text-align: right;\n",
       "    }\n",
       "</style>\n",
       "<table border=\"1\" class=\"dataframe\">\n",
       "  <thead>\n",
       "    <tr style=\"text-align: right;\">\n",
       "      <th></th>\n",
       "      <th>Malaria</th>\n",
       "      <th>Tuberculosis</th>\n",
       "      <th>HIV/AIDS</th>\n",
       "      <th>Rabies</th>\n",
       "      <th>COVID_19</th>\n",
       "    </tr>\n",
       "    <tr>\n",
       "      <th>Location</th>\n",
       "      <th></th>\n",
       "      <th></th>\n",
       "      <th></th>\n",
       "      <th></th>\n",
       "      <th></th>\n",
       "    </tr>\n",
       "  </thead>\n",
       "  <tbody>\n",
       "    <tr>\n",
       "      <td>World</td>\n",
       "      <td>1698.155163</td>\n",
       "      <td>3242.937234</td>\n",
       "      <td>2615.045883</td>\n",
       "      <td>31.942666</td>\n",
       "      <td>102.115068</td>\n",
       "    </tr>\n",
       "  </tbody>\n",
       "</table>\n",
       "</div>"
      ],
      "text/plain": [
       "              Malaria  Tuberculosis     HIV/AIDS     Rabies    COVID_19\n",
       "Location                                                               \n",
       "World     1698.155163  3242.937234   2615.045883  31.942666  102.115068"
      ]
     },
     "execution_count": 91,
     "metadata": {},
     "output_type": "execute_result"
    }
   ],
   "source": [
    "world_deaths_from_infections_scaled"
   ]
  },
  {
   "cell_type": "markdown",
   "metadata": {},
   "source": [
    "### Top 5: total cases per capita and deaths per total"
   ]
  },
  {
   "cell_type": "code",
   "execution_count": 92,
   "metadata": {
    "scrolled": true
   },
   "outputs": [],
   "source": [
    "highest_total_cases_pc = data.nlargest(5, 'total_cases_per_capita')"
   ]
  },
  {
   "cell_type": "code",
   "execution_count": 93,
   "metadata": {
    "scrolled": true
   },
   "outputs": [],
   "source": [
    "highest_total_cases_pc = highest_total_cases_pc.merge(population, on = 'location')"
   ]
  },
  {
   "cell_type": "code",
   "execution_count": 94,
   "metadata": {},
   "outputs": [],
   "source": [
    "deaths_per_cases = data[data['total_cases'] > 50].nlargest(5, 'deaths_per_total')\n",
    "deaths_per_cases = deaths_per_cases.merge(population, on = 'location')"
   ]
  },
  {
   "cell_type": "code",
   "execution_count": 95,
   "metadata": {},
   "outputs": [],
   "source": [
    "total_cases_for_table = highest_total_cases_pc.drop(columns = ['total_deaths_per_capita', 'deaths_per_total', 'new_deaths', 'total_deaths'])\n",
    "total_cases_for_table = total_cases_for_table.reset_index()\n",
    "total_cases_for_table = total_cases_for_table.rename(columns = {'2018':'population'})"
   ]
  },
  {
   "cell_type": "code",
   "execution_count": 96,
   "metadata": {
    "scrolled": true
   },
   "outputs": [],
   "source": [
    "deathsratio_for_table = deaths_per_cases.drop(columns = ['new_cases', 'new_deaths', 'total_cases_per_capita', 'total_deaths_per_capita'])\n",
    "deathsratio_for_table = deathsratio_for_table.reset_index()\n",
    "deathsratio_for_table = deathsratio_for_table.rename(columns = {'2018':'population'})"
   ]
  },
  {
   "cell_type": "markdown",
   "metadata": {},
   "source": [
    "#### Plots"
   ]
  },
  {
   "cell_type": "code",
   "execution_count": 97,
   "metadata": {},
   "outputs": [
    {
     "data": {
      "image/png": "[encoded data removed]",
      "text/plain": [
       "<Figure size 936x576 with 2 Axes>"
      ]
     },
     "metadata": {
      "needs_background": "light"
     },
     "output_type": "display_data"
    }
   ],
   "source": [
    "fig, (ax1, ax2) = plt.subplots(1, 2, figsize=(13, 8))\n",
    "highest_total_cases_pc.sort_values(by = 'total_cases_per_capita', ascending = True).plot(kind='barh',y = 'total_cases_per_capita', ax = ax1,\n",
    "                            ylim = (0, data['total_cases_per_capita'].max()+ 0.0005))\n",
    "\n",
    "ax2.yaxis.set_label_position('right')\n",
    "ax2.yaxis.tick_right()\n",
    "ax2.set_title('Percent Deaths')\n",
    "deaths_per_cases.sort_values(by = 'deaths_per_total', ascending = True).plot.barh(y = 'deaths_per_total', \n",
    "                                                      color ='red', ax = ax2,\n",
    "                                                      alpha = 0.6)\n",
    "plt.savefig('total_cases_per_capita_and_deaths_per_total.png', bbox_inches = 'tight')"
   ]
  },
  {
   "cell_type": "markdown",
   "metadata": {},
   "source": [
    "#### Tables"
   ]
  },
  {
   "cell_type": "markdown",
   "metadata": {},
   "source": [
    "##### Highest total cases per capita"
   ]
  },
  {
   "cell_type": "code",
   "execution_count": 98,
   "metadata": {
    "scrolled": true
   },
   "outputs": [
    {
     "data": {
      "text/html": [
       "<div>\n",
       "<style scoped>\n",
       "    .dataframe tbody tr th:only-of-type {\n",
       "        vertical-align: middle;\n",
       "    }\n",
       "\n",
       "    .dataframe tbody tr th {\n",
       "        vertical-align: top;\n",
       "    }\n",
       "\n",
       "    .dataframe thead th {\n",
       "        text-align: right;\n",
       "    }\n",
       "</style>\n",
       "<table border=\"1\" class=\"dataframe\">\n",
       "  <thead>\n",
       "    <tr style=\"text-align: right;\">\n",
       "      <th></th>\n",
       "      <th>location</th>\n",
       "      <th>new_cases</th>\n",
       "      <th>total_cases</th>\n",
       "      <th>total_cases_per_capita</th>\n",
       "      <th>population</th>\n",
       "    </tr>\n",
       "  </thead>\n",
       "  <tbody>\n",
       "    <tr>\n",
       "      <td>0</td>\n",
       "      <td>San Marino</td>\n",
       "      <td>0</td>\n",
       "      <td>229</td>\n",
       "      <td>677.815599</td>\n",
       "      <td>33785.0</td>\n",
       "    </tr>\n",
       "    <tr>\n",
       "      <td>1</td>\n",
       "      <td>Andorra</td>\n",
       "      <td>36</td>\n",
       "      <td>370</td>\n",
       "      <td>480.482040</td>\n",
       "      <td>77006.0</td>\n",
       "    </tr>\n",
       "    <tr>\n",
       "      <td>2</td>\n",
       "      <td>Faeroe Islands</td>\n",
       "      <td>9</td>\n",
       "      <td>168</td>\n",
       "      <td>346.413180</td>\n",
       "      <td>48497.0</td>\n",
       "    </tr>\n",
       "    <tr>\n",
       "      <td>3</td>\n",
       "      <td>Luxembourg</td>\n",
       "      <td>38</td>\n",
       "      <td>1988</td>\n",
       "      <td>327.120027</td>\n",
       "      <td>607728.0</td>\n",
       "    </tr>\n",
       "    <tr>\n",
       "      <td>4</td>\n",
       "      <td>Iceland</td>\n",
       "      <td>66</td>\n",
       "      <td>1086</td>\n",
       "      <td>307.149281</td>\n",
       "      <td>353574.0</td>\n",
       "    </tr>\n",
       "  </tbody>\n",
       "</table>\n",
       "</div>"
      ],
      "text/plain": [
       "         location  new_cases  total_cases  total_cases_per_capita  population\n",
       "0  San Marino      0          229          677.815599              33785.0   \n",
       "1  Andorra         36         370          480.482040              77006.0   \n",
       "2  Faeroe Islands  9          168          346.413180              48497.0   \n",
       "3  Luxembourg      38         1988         327.120027              607728.0  \n",
       "4  Iceland         66         1086         307.149281              353574.0  "
      ]
     },
     "execution_count": 98,
     "metadata": {},
     "output_type": "execute_result"
    }
   ],
   "source": [
    "total_cases_for_table"
   ]
  },
  {
   "cell_type": "markdown",
   "metadata": {},
   "source": [
    "##### Highest deaths to total cases"
   ]
  },
  {
   "cell_type": "code",
   "execution_count": 99,
   "metadata": {},
   "outputs": [
    {
     "data": {
      "text/html": [
       "<div>\n",
       "<style scoped>\n",
       "    .dataframe tbody tr th:only-of-type {\n",
       "        vertical-align: middle;\n",
       "    }\n",
       "\n",
       "    .dataframe tbody tr th {\n",
       "        vertical-align: top;\n",
       "    }\n",
       "\n",
       "    .dataframe thead th {\n",
       "        text-align: right;\n",
       "    }\n",
       "</style>\n",
       "<table border=\"1\" class=\"dataframe\">\n",
       "  <thead>\n",
       "    <tr style=\"text-align: right;\">\n",
       "      <th></th>\n",
       "      <th>location</th>\n",
       "      <th>total_cases</th>\n",
       "      <th>total_deaths</th>\n",
       "      <th>deaths_per_total</th>\n",
       "      <th>population</th>\n",
       "    </tr>\n",
       "  </thead>\n",
       "  <tbody>\n",
       "    <tr>\n",
       "      <td>0</td>\n",
       "      <td>Italy</td>\n",
       "      <td>101739</td>\n",
       "      <td>11591</td>\n",
       "      <td>0.1139</td>\n",
       "      <td>60431283.0</td>\n",
       "    </tr>\n",
       "    <tr>\n",
       "      <td>1</td>\n",
       "      <td>San Marino</td>\n",
       "      <td>229</td>\n",
       "      <td>25</td>\n",
       "      <td>0.1092</td>\n",
       "      <td>33785.0</td>\n",
       "    </tr>\n",
       "    <tr>\n",
       "      <td>2</td>\n",
       "      <td>Indonesia</td>\n",
       "      <td>1414</td>\n",
       "      <td>122</td>\n",
       "      <td>0.0863</td>\n",
       "      <td>267663435.0</td>\n",
       "    </tr>\n",
       "    <tr>\n",
       "      <td>3</td>\n",
       "      <td>Spain</td>\n",
       "      <td>85195</td>\n",
       "      <td>7340</td>\n",
       "      <td>0.0862</td>\n",
       "      <td>46723749.0</td>\n",
       "    </tr>\n",
       "    <tr>\n",
       "      <td>4</td>\n",
       "      <td>Democratic Republic of Congo</td>\n",
       "      <td>98</td>\n",
       "      <td>8</td>\n",
       "      <td>0.0816</td>\n",
       "      <td>84068091.0</td>\n",
       "    </tr>\n",
       "  </tbody>\n",
       "</table>\n",
       "</div>"
      ],
      "text/plain": [
       "                       location  total_cases  total_deaths  deaths_per_total  \\\n",
       "0  Italy                         101739       11591         0.1139             \n",
       "1  San Marino                    229          25            0.1092             \n",
       "2  Indonesia                     1414         122           0.0863             \n",
       "3  Spain                         85195        7340          0.0862             \n",
       "4  Democratic Republic of Congo  98           8             0.0816             \n",
       "\n",
       "    population  \n",
       "0  60431283.0   \n",
       "1  33785.0      \n",
       "2  267663435.0  \n",
       "3  46723749.0   \n",
       "4  84068091.0   "
      ]
     },
     "execution_count": 99,
     "metadata": {},
     "output_type": "execute_result"
    }
   ],
   "source": [
    "deathsratio_for_table"
   ]
  },
  {
   "cell_type": "markdown",
   "metadata": {},
   "source": [
    "### Comparison between select countries"
   ]
  },
  {
   "cell_type": "code",
   "execution_count": 100,
   "metadata": {},
   "outputs": [],
   "source": [
    "filter_countries = ['Canada','United States', 'Pakistan', 'China', 'Italy']"
   ]
  },
  {
   "cell_type": "code",
   "execution_count": 101,
   "metadata": {},
   "outputs": [],
   "source": [
    "country_subset = rdata[rdata['location'].isin(filter_countries) & rdata['date_fm'].between(earliest, latest)]\n",
    "country_subset = country_subset.drop(columns = ['date'])\n",
    "country_subset = country_subset.set_index('date_fm')\n",
    "country_subset.index.name = 'Date'"
   ]
  },
  {
   "cell_type": "code",
   "execution_count": 102,
   "metadata": {},
   "outputs": [],
   "source": [
    "percapita = pd.DataFrame(country_subset['location'])\n",
    "percapita['new_cases_per_capita'] =  country_subset['new_cases'].div(country_subset['location'].map(population['2018'])).mul(100000)"
   ]
  },
  {
   "cell_type": "code",
   "execution_count": 103,
   "metadata": {},
   "outputs": [],
   "source": [
    "percapita_total = pd.DataFrame(country_subset['location'])\n",
    "percapita_total['total_cases_per_capita'] =  country_subset['total_cases'].div(country_subset['location'].map(population['2018'])).mul(100000)"
   ]
  },
  {
   "cell_type": "markdown",
   "metadata": {},
   "source": [
    "#### Plots"
   ]
  },
  {
   "cell_type": "markdown",
   "metadata": {},
   "source": [
    "##### By new cases"
   ]
  },
  {
   "cell_type": "code",
   "execution_count": 104,
   "metadata": {
    "scrolled": false
   },
   "outputs": [
    {
     "data": {
      "image/png": "[encoded data removed]",
      "text/plain": [
       "<Figure size 1440x1080 with 1 Axes>"
      ]
     },
     "metadata": {
      "needs_background": "light"
     },
     "output_type": "display_data"
    }
   ],
   "source": [
    "inc = 400\n",
    "\n",
    "_, ax = plt.subplots(figsize = (20, 15))\n",
    "ax.set_title('Comparison of New Cases Over Time')\n",
    "ax.set_yticks(np.arange(0, country_subset['new_cases'].max()+inc, inc))\n",
    "\n",
    "for name, group in country_subset.groupby('location'):\n",
    "    group.plot(kind ='line', y = 'new_cases', ax = ax, label = name)\n",
    "    \n",
    "    max_record = group.loc[group['new_cases'].idxmax()]\n",
    "    max_date = pd.to_datetime(max_record.name)\n",
    "    max_new_cases = max_record['new_cases']\n",
    "    plt.hlines(max_new_cases, earliest, max_date, linestyles = 'dotted')\n",
    "\n",
    "plt.savefig('select_countries_new_cases.png', bbox_inches = 'tight')"
   ]
  },
  {
   "cell_type": "markdown",
   "metadata": {},
   "source": [
    "##### New cases per capita"
   ]
  },
  {
   "cell_type": "code",
   "execution_count": 105,
   "metadata": {
    "scrolled": false
   },
   "outputs": [
    {
     "data": {
      "image/png": "[encoded data removed]",
      "text/plain": [
       "<Figure size 1080x720 with 1 Axes>"
      ]
     },
     "metadata": {
      "needs_background": "light"
     },
     "output_type": "display_data"
    }
   ],
   "source": [
    "_, ax = plt.subplots(figsize = (15, 10))\n",
    "\n",
    "ax.set_title('Comparison of New Cases Per 100,000 People')\n",
    "\n",
    "for name, group in percapita.groupby('location'):\n",
    "    group.plot(kind ='line', y = 'new_cases_per_capita', ax = ax, label = name)\n",
    "\n",
    "plt.savefig('select_countries_new_cases_per_capita.png', bbox_inches = 'tight')"
   ]
  },
  {
   "cell_type": "markdown",
   "metadata": {},
   "source": [
    "##### Total cases per capita"
   ]
  },
  {
   "cell_type": "code",
   "execution_count": 106,
   "metadata": {},
   "outputs": [
    {
     "data": {
      "image/png": "[encoded data removed]",
      "text/plain": [
       "<Figure size 1080x720 with 1 Axes>"
      ]
     },
     "metadata": {
      "needs_background": "light"
     },
     "output_type": "display_data"
    }
   ],
   "source": [
    "inc = 10\n",
    "\n",
    "_, ax = plt.subplots(figsize = (15, 10))\n",
    "\n",
    "ax.set_title('Comparison of Total Cases Per 100,000 People')\n",
    "ax.set_yticks(np.arange(0, percapita_total['total_cases_per_capita'].max()+inc, inc))\n",
    "\n",
    "for name, group in percapita_total.groupby('location'):\n",
    "    group.plot(kind ='line', y = 'total_cases_per_capita', ax = ax, label = name)\n",
    "\n",
    "plt.savefig('select_countries_total_cases_per_capita.png', bbox_inches = 'tight')"
   ]
  },
  {
   "cell_type": "code",
   "execution_count": 107,
   "metadata": {
    "scrolled": false
   },
   "outputs": [
    {
     "data": {
      "text/html": [
       "<div>\n",
       "<style scoped>\n",
       "    .dataframe tbody tr th:only-of-type {\n",
       "        vertical-align: middle;\n",
       "    }\n",
       "\n",
       "    .dataframe tbody tr th {\n",
       "        vertical-align: top;\n",
       "    }\n",
       "\n",
       "    .dataframe thead th {\n",
       "        text-align: right;\n",
       "    }\n",
       "</style>\n",
       "<table border=\"1\" class=\"dataframe\">\n",
       "  <thead>\n",
       "    <tr style=\"text-align: right;\">\n",
       "      <th></th>\n",
       "      <th>location</th>\n",
       "      <th>new_cases</th>\n",
       "      <th>new_deaths</th>\n",
       "      <th>total_cases</th>\n",
       "      <th>total_deaths</th>\n",
       "    </tr>\n",
       "    <tr>\n",
       "      <th>Date</th>\n",
       "      <th></th>\n",
       "      <th></th>\n",
       "      <th></th>\n",
       "      <th></th>\n",
       "      <th></th>\n",
       "    </tr>\n",
       "  </thead>\n",
       "  <tbody>\n",
       "    <tr>\n",
       "      <td>2020-03-31</td>\n",
       "      <td>Canada</td>\n",
       "      <td>1169</td>\n",
       "      <td>28</td>\n",
       "      <td>7424</td>\n",
       "      <td>89</td>\n",
       "    </tr>\n",
       "    <tr>\n",
       "      <td>2020-03-31</td>\n",
       "      <td>China</td>\n",
       "      <td>84</td>\n",
       "      <td>3</td>\n",
       "      <td>82241</td>\n",
       "      <td>3309</td>\n",
       "    </tr>\n",
       "    <tr>\n",
       "      <td>2020-03-31</td>\n",
       "      <td>Italy</td>\n",
       "      <td>4050</td>\n",
       "      <td>810</td>\n",
       "      <td>101739</td>\n",
       "      <td>11591</td>\n",
       "    </tr>\n",
       "    <tr>\n",
       "      <td>2020-03-31</td>\n",
       "      <td>Pakistan</td>\n",
       "      <td>99</td>\n",
       "      <td>5</td>\n",
       "      <td>1625</td>\n",
       "      <td>18</td>\n",
       "    </tr>\n",
       "    <tr>\n",
       "      <td>2020-03-31</td>\n",
       "      <td>United States</td>\n",
       "      <td>21595</td>\n",
       "      <td>661</td>\n",
       "      <td>164620</td>\n",
       "      <td>3170</td>\n",
       "    </tr>\n",
       "  </tbody>\n",
       "</table>\n",
       "</div>"
      ],
      "text/plain": [
       "                 location  new_cases  new_deaths  total_cases  total_deaths\n",
       "Date                                                                       \n",
       "2020-03-31  Canada         1169       28          7424         89          \n",
       "2020-03-31  China          84         3           82241        3309        \n",
       "2020-03-31  Italy          4050       810         101739       11591       \n",
       "2020-03-31  Pakistan       99         5           1625         18          \n",
       "2020-03-31  United States  21595      661         164620       3170        "
      ]
     },
     "execution_count": 107,
     "metadata": {},
     "output_type": "execute_result"
    }
   ],
   "source": [
    "country_subset_latest = country_subset[country_subset.index == latest]\n",
    "country_subset_latest"
   ]
  },
  {
   "cell_type": "markdown",
   "metadata": {},
   "source": [
    "### Highest number of total cases and deaths"
   ]
  },
  {
   "cell_type": "code",
   "execution_count": 108,
   "metadata": {},
   "outputs": [],
   "source": [
    "highest_total_cases = data.nlargest(5, 'total_cases')\n",
    "highest_deaths = data.nlargest(5, 'total_deaths')"
   ]
  },
  {
   "cell_type": "markdown",
   "metadata": {},
   "source": [
    "#### Plots"
   ]
  },
  {
   "cell_type": "code",
   "execution_count": 109,
   "metadata": {},
   "outputs": [
    {
     "data": {
      "image/png": "[encoded data removed]",
      "text/plain": [
       "<Figure size 936x576 with 2 Axes>"
      ]
     },
     "metadata": {
      "needs_background": "light"
     },
     "output_type": "display_data"
    }
   ],
   "source": [
    "fig, (ax1, ax2) = plt.subplots(1, 2, figsize=(13, 8))\n",
    "fig.suptitle('Top 5 Countries')\n",
    "\n",
    "highest_total_cases.plot(kind = 'bar', y = 'total_cases', color = ['blue'], ax = ax1)\n",
    "highest_deaths.plot(kind = 'bar', y = 'total_deaths', color = ['red'], ax = ax2)\n",
    "plt.savefig('highest_total_cases_and_deaths.png', bbox_inches = 'tight')"
   ]
  },
  {
   "cell_type": "markdown",
   "metadata": {},
   "source": [
    "#### Tables"
   ]
  },
  {
   "cell_type": "markdown",
   "metadata": {},
   "source": [
    "##### Highest total cases"
   ]
  },
  {
   "cell_type": "code",
   "execution_count": 110,
   "metadata": {
    "scrolled": true
   },
   "outputs": [
    {
     "data": {
      "text/html": [
       "<div>\n",
       "<style scoped>\n",
       "    .dataframe tbody tr th:only-of-type {\n",
       "        vertical-align: middle;\n",
       "    }\n",
       "\n",
       "    .dataframe tbody tr th {\n",
       "        vertical-align: top;\n",
       "    }\n",
       "\n",
       "    .dataframe thead th {\n",
       "        text-align: right;\n",
       "    }\n",
       "</style>\n",
       "<table border=\"1\" class=\"dataframe\">\n",
       "  <thead>\n",
       "    <tr style=\"text-align: right;\">\n",
       "      <th></th>\n",
       "      <th>new_cases</th>\n",
       "      <th>new_deaths</th>\n",
       "      <th>total_cases</th>\n",
       "      <th>total_deaths</th>\n",
       "      <th>total_cases_per_capita</th>\n",
       "      <th>total_deaths_per_capita</th>\n",
       "      <th>deaths_per_total</th>\n",
       "    </tr>\n",
       "    <tr>\n",
       "      <th>location</th>\n",
       "      <th></th>\n",
       "      <th></th>\n",
       "      <th></th>\n",
       "      <th></th>\n",
       "      <th></th>\n",
       "      <th></th>\n",
       "      <th></th>\n",
       "    </tr>\n",
       "  </thead>\n",
       "  <tbody>\n",
       "    <tr>\n",
       "      <td>United States</td>\n",
       "      <td>21595</td>\n",
       "      <td>661</td>\n",
       "      <td>164620</td>\n",
       "      <td>3170</td>\n",
       "      <td>50.316744</td>\n",
       "      <td>0.968923</td>\n",
       "      <td>0.0193</td>\n",
       "    </tr>\n",
       "    <tr>\n",
       "      <td>Italy</td>\n",
       "      <td>4050</td>\n",
       "      <td>810</td>\n",
       "      <td>101739</td>\n",
       "      <td>11591</td>\n",
       "      <td>168.354857</td>\n",
       "      <td>19.180463</td>\n",
       "      <td>0.1139</td>\n",
       "    </tr>\n",
       "    <tr>\n",
       "      <td>Spain</td>\n",
       "      <td>6398</td>\n",
       "      <td>812</td>\n",
       "      <td>85195</td>\n",
       "      <td>7340</td>\n",
       "      <td>182.337680</td>\n",
       "      <td>15.709356</td>\n",
       "      <td>0.0862</td>\n",
       "    </tr>\n",
       "    <tr>\n",
       "      <td>China</td>\n",
       "      <td>84</td>\n",
       "      <td>3</td>\n",
       "      <td>82241</td>\n",
       "      <td>3309</td>\n",
       "      <td>5.905021</td>\n",
       "      <td>0.237591</td>\n",
       "      <td>0.0402</td>\n",
       "    </tr>\n",
       "    <tr>\n",
       "      <td>Germany</td>\n",
       "      <td>4615</td>\n",
       "      <td>128</td>\n",
       "      <td>61913</td>\n",
       "      <td>583</td>\n",
       "      <td>74.658810</td>\n",
       "      <td>0.703020</td>\n",
       "      <td>0.0094</td>\n",
       "    </tr>\n",
       "  </tbody>\n",
       "</table>\n",
       "</div>"
      ],
      "text/plain": [
       "               new_cases  new_deaths  total_cases  total_deaths  \\\n",
       "location                                                          \n",
       "United States  21595      661         164620       3170           \n",
       "Italy          4050       810         101739       11591          \n",
       "Spain          6398       812         85195        7340           \n",
       "China          84         3           82241        3309           \n",
       "Germany        4615       128         61913        583            \n",
       "\n",
       "               total_cases_per_capita  total_deaths_per_capita  \\\n",
       "location                                                         \n",
       "United States  50.316744               0.968923                  \n",
       "Italy          168.354857              19.180463                 \n",
       "Spain          182.337680              15.709356                 \n",
       "China          5.905021                0.237591                  \n",
       "Germany        74.658810               0.703020                  \n",
       "\n",
       "               deaths_per_total  \n",
       "location                         \n",
       "United States  0.0193            \n",
       "Italy          0.1139            \n",
       "Spain          0.0862            \n",
       "China          0.0402            \n",
       "Germany        0.0094            "
      ]
     },
     "execution_count": 110,
     "metadata": {},
     "output_type": "execute_result"
    }
   ],
   "source": [
    "highest_total_cases"
   ]
  },
  {
   "cell_type": "markdown",
   "metadata": {},
   "source": [
    "##### Highest total deaths"
   ]
  },
  {
   "cell_type": "code",
   "execution_count": 111,
   "metadata": {},
   "outputs": [
    {
     "data": {
      "text/html": [
       "<div>\n",
       "<style scoped>\n",
       "    .dataframe tbody tr th:only-of-type {\n",
       "        vertical-align: middle;\n",
       "    }\n",
       "\n",
       "    .dataframe tbody tr th {\n",
       "        vertical-align: top;\n",
       "    }\n",
       "\n",
       "    .dataframe thead th {\n",
       "        text-align: right;\n",
       "    }\n",
       "</style>\n",
       "<table border=\"1\" class=\"dataframe\">\n",
       "  <thead>\n",
       "    <tr style=\"text-align: right;\">\n",
       "      <th></th>\n",
       "      <th>new_cases</th>\n",
       "      <th>new_deaths</th>\n",
       "      <th>total_cases</th>\n",
       "      <th>total_deaths</th>\n",
       "      <th>total_cases_per_capita</th>\n",
       "      <th>total_deaths_per_capita</th>\n",
       "      <th>deaths_per_total</th>\n",
       "    </tr>\n",
       "    <tr>\n",
       "      <th>location</th>\n",
       "      <th></th>\n",
       "      <th></th>\n",
       "      <th></th>\n",
       "      <th></th>\n",
       "      <th></th>\n",
       "      <th></th>\n",
       "      <th></th>\n",
       "    </tr>\n",
       "  </thead>\n",
       "  <tbody>\n",
       "    <tr>\n",
       "      <td>Italy</td>\n",
       "      <td>4050</td>\n",
       "      <td>810</td>\n",
       "      <td>101739</td>\n",
       "      <td>11591</td>\n",
       "      <td>168.354857</td>\n",
       "      <td>19.180463</td>\n",
       "      <td>0.1139</td>\n",
       "    </tr>\n",
       "    <tr>\n",
       "      <td>Spain</td>\n",
       "      <td>6398</td>\n",
       "      <td>812</td>\n",
       "      <td>85195</td>\n",
       "      <td>7340</td>\n",
       "      <td>182.337680</td>\n",
       "      <td>15.709356</td>\n",
       "      <td>0.0862</td>\n",
       "    </tr>\n",
       "    <tr>\n",
       "      <td>China</td>\n",
       "      <td>84</td>\n",
       "      <td>3</td>\n",
       "      <td>82241</td>\n",
       "      <td>3309</td>\n",
       "      <td>5.905021</td>\n",
       "      <td>0.237591</td>\n",
       "      <td>0.0402</td>\n",
       "    </tr>\n",
       "    <tr>\n",
       "      <td>United States</td>\n",
       "      <td>21595</td>\n",
       "      <td>661</td>\n",
       "      <td>164620</td>\n",
       "      <td>3170</td>\n",
       "      <td>50.316744</td>\n",
       "      <td>0.968923</td>\n",
       "      <td>0.0193</td>\n",
       "    </tr>\n",
       "    <tr>\n",
       "      <td>France</td>\n",
       "      <td>4376</td>\n",
       "      <td>418</td>\n",
       "      <td>44550</td>\n",
       "      <td>3024</td>\n",
       "      <td>66.505199</td>\n",
       "      <td>4.514292</td>\n",
       "      <td>0.0679</td>\n",
       "    </tr>\n",
       "  </tbody>\n",
       "</table>\n",
       "</div>"
      ],
      "text/plain": [
       "               new_cases  new_deaths  total_cases  total_deaths  \\\n",
       "location                                                          \n",
       "Italy          4050       810         101739       11591          \n",
       "Spain          6398       812         85195        7340           \n",
       "China          84         3           82241        3309           \n",
       "United States  21595      661         164620       3170           \n",
       "France         4376       418         44550        3024           \n",
       "\n",
       "               total_cases_per_capita  total_deaths_per_capita  \\\n",
       "location                                                         \n",
       "Italy          168.354857              19.180463                 \n",
       "Spain          182.337680              15.709356                 \n",
       "China          5.905021                0.237591                  \n",
       "United States  50.316744               0.968923                  \n",
       "France         66.505199               4.514292                  \n",
       "\n",
       "               deaths_per_total  \n",
       "location                         \n",
       "Italy          0.1139            \n",
       "Spain          0.0862            \n",
       "China          0.0402            \n",
       "United States  0.0193            \n",
       "France         0.0679            "
      ]
     },
     "execution_count": 111,
     "metadata": {},
     "output_type": "execute_result"
    }
   ],
   "source": [
    "highest_deaths"
   ]
  },
  {
   "cell_type": "markdown",
   "metadata": {},
   "source": [
    "### Canadian provinces and territories"
   ]
  },
  {
   "cell_type": "markdown",
   "metadata": {},
   "source": [
    "#### Cases and Deaths"
   ]
  },
  {
   "cell_type": "code",
   "execution_count": 112,
   "metadata": {},
   "outputs": [
    {
     "data": {
      "image/png": "[encoded data removed]",
      "text/plain": [
       "<Figure size 1440x1440 with 1 Axes>"
      ]
     },
     "metadata": {
      "needs_background": "light"
     },
     "output_type": "display_data"
    }
   ],
   "source": [
    "canadian_data.plot(kind = 'bar', y = ['Confirmed Cases', 'Probable Cases', 'Deaths', 'Total'], color = ['blue', 'orange', 'red', 'purple'], figsize = (20,20))\n",
    "plt.savefig('canadian_provinces_all.png', bbox_inches = 'tight')"
   ]
  },
  {
   "cell_type": "code",
   "execution_count": 113,
   "metadata": {
    "scrolled": false
   },
   "outputs": [],
   "source": [
    "canadian_data.sort_values(by = 'Confirmed Cases', ascending = False, inplace = True)"
   ]
  },
  {
   "cell_type": "markdown",
   "metadata": {},
   "source": [
    "##### Plots"
   ]
  },
  {
   "cell_type": "code",
   "execution_count": 114,
   "metadata": {
    "scrolled": false
   },
   "outputs": [
    {
     "data": {
      "image/png": "[encoded data removed]",
      "text/plain": [
       "<Figure size 1440x360 with 3 Axes>"
      ]
     },
     "metadata": {
      "needs_background": "light"
     },
     "output_type": "display_data"
    }
   ],
   "source": [
    "_, (ax1, ax2, ax3) = plt.subplots(1, 3, figsize=(20, 5))\n",
    "canadian_data.plot(kind = 'bar', y = 'Confirmed Cases', color = ['blue'], ax = ax1)\n",
    "canadian_data.plot(kind = 'bar', y = 'Deaths', color = ['red'], ax = ax2)\n",
    "canadian_data.plot(kind = 'bar', y = 'Deaths per Confirmed Cases', color = ['purple'], ax = ax3)\n",
    "plt.savefig('canadian_provinces.png', bbox_inches = 'tight')"
   ]
  },
  {
   "cell_type": "markdown",
   "metadata": {},
   "source": [
    "##### Tables"
   ]
  },
  {
   "cell_type": "markdown",
   "metadata": {},
   "source": [
    "###### Total"
   ]
  },
  {
   "cell_type": "code",
   "execution_count": 115,
   "metadata": {
    "scrolled": true
   },
   "outputs": [
    {
     "data": {
      "text/html": [
       "<div>\n",
       "<style scoped>\n",
       "    .dataframe tbody tr th:only-of-type {\n",
       "        vertical-align: middle;\n",
       "    }\n",
       "\n",
       "    .dataframe tbody tr th {\n",
       "        vertical-align: top;\n",
       "    }\n",
       "\n",
       "    .dataframe thead th {\n",
       "        text-align: right;\n",
       "    }\n",
       "</style>\n",
       "<table border=\"1\" class=\"dataframe\">\n",
       "  <thead>\n",
       "    <tr style=\"text-align: right;\">\n",
       "      <th></th>\n",
       "      <th>Confirmed Cases</th>\n",
       "      <th>Probable Cases</th>\n",
       "      <th>Deaths</th>\n",
       "      <th>Total</th>\n",
       "      <th>Today</th>\n",
       "      <th>percentoday</th>\n",
       "      <th>numtested</th>\n",
       "    </tr>\n",
       "    <tr>\n",
       "      <th>Location</th>\n",
       "      <th></th>\n",
       "      <th></th>\n",
       "      <th></th>\n",
       "      <th></th>\n",
       "      <th></th>\n",
       "      <th></th>\n",
       "      <th></th>\n",
       "    </tr>\n",
       "  </thead>\n",
       "  <tbody>\n",
       "    <tr>\n",
       "      <td>Canada</td>\n",
       "      <td>7695</td>\n",
       "      <td>13</td>\n",
       "      <td>89</td>\n",
       "      <td>7708</td>\n",
       "      <td>271</td>\n",
       "      <td>0.036</td>\n",
       "      <td>NaN</td>\n",
       "    </tr>\n",
       "  </tbody>\n",
       "</table>\n",
       "</div>"
      ],
      "text/plain": [
       "          Confirmed Cases  Probable Cases  Deaths  Total  Today  percentoday  \\\n",
       "Location                                                                       \n",
       "Canada    7695             13              89      7708   271    0.036         \n",
       "\n",
       "          numtested  \n",
       "Location             \n",
       "Canada   NaN         "
      ]
     },
     "execution_count": 115,
     "metadata": {},
     "output_type": "execute_result"
    }
   ],
   "source": [
    "canadian_data_total"
   ]
  },
  {
   "cell_type": "markdown",
   "metadata": {},
   "source": [
    "###### Sorted by confirmed cases"
   ]
  },
  {
   "cell_type": "code",
   "execution_count": 116,
   "metadata": {},
   "outputs": [
    {
     "data": {
      "text/html": [
       "<div>\n",
       "<style scoped>\n",
       "    .dataframe tbody tr th:only-of-type {\n",
       "        vertical-align: middle;\n",
       "    }\n",
       "\n",
       "    .dataframe tbody tr th {\n",
       "        vertical-align: top;\n",
       "    }\n",
       "\n",
       "    .dataframe thead th {\n",
       "        text-align: right;\n",
       "    }\n",
       "</style>\n",
       "<table border=\"1\" class=\"dataframe\">\n",
       "  <thead>\n",
       "    <tr style=\"text-align: right;\">\n",
       "      <th></th>\n",
       "      <th>Confirmed Cases</th>\n",
       "      <th>Probable Cases</th>\n",
       "      <th>Deaths</th>\n",
       "      <th>Total</th>\n",
       "      <th>Today</th>\n",
       "      <th>percentoday</th>\n",
       "      <th>numtested</th>\n",
       "      <th>Deaths per Confirmed Cases</th>\n",
       "      <th>Confirmed Cases Per Capita</th>\n",
       "      <th>Deaths Per Capita</th>\n",
       "    </tr>\n",
       "    <tr>\n",
       "      <th>Location</th>\n",
       "      <th></th>\n",
       "      <th></th>\n",
       "      <th></th>\n",
       "      <th></th>\n",
       "      <th></th>\n",
       "      <th></th>\n",
       "      <th></th>\n",
       "      <th></th>\n",
       "      <th></th>\n",
       "      <th></th>\n",
       "    </tr>\n",
       "  </thead>\n",
       "  <tbody>\n",
       "    <tr>\n",
       "      <td>Quebec</td>\n",
       "      <td>3430</td>\n",
       "      <td>0</td>\n",
       "      <td>25</td>\n",
       "      <td>3430</td>\n",
       "      <td>0</td>\n",
       "      <td>0.000</td>\n",
       "      <td>NaN</td>\n",
       "      <td>0.007289</td>\n",
       "      <td>0.000402</td>\n",
       "      <td>2.928198e-06</td>\n",
       "    </tr>\n",
       "    <tr>\n",
       "      <td>Ontario</td>\n",
       "      <td>1966</td>\n",
       "      <td>0</td>\n",
       "      <td>33</td>\n",
       "      <td>1966</td>\n",
       "      <td>260</td>\n",
       "      <td>0.152</td>\n",
       "      <td>NaN</td>\n",
       "      <td>0.016785</td>\n",
       "      <td>0.000134</td>\n",
       "      <td>2.243093e-06</td>\n",
       "    </tr>\n",
       "    <tr>\n",
       "      <td>British Columbia</td>\n",
       "      <td>970</td>\n",
       "      <td>0</td>\n",
       "      <td>19</td>\n",
       "      <td>970</td>\n",
       "      <td>10</td>\n",
       "      <td>0.010</td>\n",
       "      <td>NaN</td>\n",
       "      <td>0.019588</td>\n",
       "      <td>0.000190</td>\n",
       "      <td>3.717532e-06</td>\n",
       "    </tr>\n",
       "    <tr>\n",
       "      <td>Alberta</td>\n",
       "      <td>690</td>\n",
       "      <td>0</td>\n",
       "      <td>8</td>\n",
       "      <td>690</td>\n",
       "      <td>0</td>\n",
       "      <td>0.000</td>\n",
       "      <td>NaN</td>\n",
       "      <td>0.011594</td>\n",
       "      <td>0.000156</td>\n",
       "      <td>1.812766e-06</td>\n",
       "    </tr>\n",
       "    <tr>\n",
       "      <td>Saskatchewan</td>\n",
       "      <td>176</td>\n",
       "      <td>0</td>\n",
       "      <td>2</td>\n",
       "      <td>176</td>\n",
       "      <td>1</td>\n",
       "      <td>0.006</td>\n",
       "      <td>NaN</td>\n",
       "      <td>0.011364</td>\n",
       "      <td>0.000149</td>\n",
       "      <td>1.692526e-06</td>\n",
       "    </tr>\n",
       "    <tr>\n",
       "      <td>Newfoundland and Labrador</td>\n",
       "      <td>148</td>\n",
       "      <td>0</td>\n",
       "      <td>1</td>\n",
       "      <td>148</td>\n",
       "      <td>0</td>\n",
       "      <td>0.000</td>\n",
       "      <td>NaN</td>\n",
       "      <td>0.006757</td>\n",
       "      <td>0.000284</td>\n",
       "      <td>1.918042e-06</td>\n",
       "    </tr>\n",
       "    <tr>\n",
       "      <td>Nova Scotia</td>\n",
       "      <td>127</td>\n",
       "      <td>0</td>\n",
       "      <td>0</td>\n",
       "      <td>127</td>\n",
       "      <td>0</td>\n",
       "      <td>0.000</td>\n",
       "      <td>NaN</td>\n",
       "      <td>0.000000</td>\n",
       "      <td>0.000130</td>\n",
       "      <td>0.000000e+00</td>\n",
       "    </tr>\n",
       "    <tr>\n",
       "      <td>Manitoba</td>\n",
       "      <td>83</td>\n",
       "      <td>13</td>\n",
       "      <td>1</td>\n",
       "      <td>96</td>\n",
       "      <td>0</td>\n",
       "      <td>0.000</td>\n",
       "      <td>NaN</td>\n",
       "      <td>0.012048</td>\n",
       "      <td>0.000060</td>\n",
       "      <td>7.259439e-07</td>\n",
       "    </tr>\n",
       "    <tr>\n",
       "      <td>New Brunswick</td>\n",
       "      <td>68</td>\n",
       "      <td>0</td>\n",
       "      <td>0</td>\n",
       "      <td>68</td>\n",
       "      <td>0</td>\n",
       "      <td>0.000</td>\n",
       "      <td>NaN</td>\n",
       "      <td>0.000000</td>\n",
       "      <td>0.000087</td>\n",
       "      <td>0.000000e+00</td>\n",
       "    </tr>\n",
       "    <tr>\n",
       "      <td>Prince Edward Island</td>\n",
       "      <td>18</td>\n",
       "      <td>0</td>\n",
       "      <td>0</td>\n",
       "      <td>18</td>\n",
       "      <td>0</td>\n",
       "      <td>0.000</td>\n",
       "      <td>NaN</td>\n",
       "      <td>0.000000</td>\n",
       "      <td>0.000114</td>\n",
       "      <td>0.000000e+00</td>\n",
       "    </tr>\n",
       "    <tr>\n",
       "      <td>Yukon</td>\n",
       "      <td>5</td>\n",
       "      <td>0</td>\n",
       "      <td>0</td>\n",
       "      <td>5</td>\n",
       "      <td>0</td>\n",
       "      <td>0.000</td>\n",
       "      <td>NaN</td>\n",
       "      <td>0.000000</td>\n",
       "      <td>0.000122</td>\n",
       "      <td>0.000000e+00</td>\n",
       "    </tr>\n",
       "    <tr>\n",
       "      <td>Northwest Territories</td>\n",
       "      <td>1</td>\n",
       "      <td>0</td>\n",
       "      <td>0</td>\n",
       "      <td>1</td>\n",
       "      <td>0</td>\n",
       "      <td>0.000</td>\n",
       "      <td>NaN</td>\n",
       "      <td>0.000000</td>\n",
       "      <td>0.000022</td>\n",
       "      <td>0.000000e+00</td>\n",
       "    </tr>\n",
       "    <tr>\n",
       "      <td>Nunavut</td>\n",
       "      <td>0</td>\n",
       "      <td>0</td>\n",
       "      <td>0</td>\n",
       "      <td>0</td>\n",
       "      <td>0</td>\n",
       "      <td>0.000</td>\n",
       "      <td>NaN</td>\n",
       "      <td>NaN</td>\n",
       "      <td>0.000000</td>\n",
       "      <td>0.000000e+00</td>\n",
       "    </tr>\n",
       "  </tbody>\n",
       "</table>\n",
       "</div>"
      ],
      "text/plain": [
       "                           Confirmed Cases  Probable Cases  Deaths  Total  \\\n",
       "Location                                                                    \n",
       "Quebec                     3430             0               25      3430    \n",
       "Ontario                    1966             0               33      1966    \n",
       "British Columbia           970              0               19      970     \n",
       "Alberta                    690              0               8       690     \n",
       "Saskatchewan               176              0               2       176     \n",
       "Newfoundland and Labrador  148              0               1       148     \n",
       "Nova Scotia                127              0               0       127     \n",
       "Manitoba                   83               13              1       96      \n",
       "New Brunswick              68               0               0       68      \n",
       "Prince Edward Island       18               0               0       18      \n",
       "Yukon                      5                0               0       5       \n",
       "Northwest Territories      1                0               0       1       \n",
       "Nunavut                    0                0               0       0       \n",
       "\n",
       "                           Today  percentoday  numtested  \\\n",
       "Location                                                   \n",
       "Quebec                     0      0.000       NaN          \n",
       "Ontario                    260    0.152       NaN          \n",
       "British Columbia           10     0.010       NaN          \n",
       "Alberta                    0      0.000       NaN          \n",
       "Saskatchewan               1      0.006       NaN          \n",
       "Newfoundland and Labrador  0      0.000       NaN          \n",
       "Nova Scotia                0      0.000       NaN          \n",
       "Manitoba                   0      0.000       NaN          \n",
       "New Brunswick              0      0.000       NaN          \n",
       "Prince Edward Island       0      0.000       NaN          \n",
       "Yukon                      0      0.000       NaN          \n",
       "Northwest Territories      0      0.000       NaN          \n",
       "Nunavut                    0      0.000       NaN          \n",
       "\n",
       "                           Deaths per Confirmed Cases  \\\n",
       "Location                                                \n",
       "Quebec                     0.007289                     \n",
       "Ontario                    0.016785                     \n",
       "British Columbia           0.019588                     \n",
       "Alberta                    0.011594                     \n",
       "Saskatchewan               0.011364                     \n",
       "Newfoundland and Labrador  0.006757                     \n",
       "Nova Scotia                0.000000                     \n",
       "Manitoba                   0.012048                     \n",
       "New Brunswick              0.000000                     \n",
       "Prince Edward Island       0.000000                     \n",
       "Yukon                      0.000000                     \n",
       "Northwest Territories      0.000000                     \n",
       "Nunavut                   NaN                           \n",
       "\n",
       "                           Confirmed Cases Per Capita  Deaths Per Capita  \n",
       "Location                                                                  \n",
       "Quebec                     0.000402                    2.928198e-06       \n",
       "Ontario                    0.000134                    2.243093e-06       \n",
       "British Columbia           0.000190                    3.717532e-06       \n",
       "Alberta                    0.000156                    1.812766e-06       \n",
       "Saskatchewan               0.000149                    1.692526e-06       \n",
       "Newfoundland and Labrador  0.000284                    1.918042e-06       \n",
       "Nova Scotia                0.000130                    0.000000e+00       \n",
       "Manitoba                   0.000060                    7.259439e-07       \n",
       "New Brunswick              0.000087                    0.000000e+00       \n",
       "Prince Edward Island       0.000114                    0.000000e+00       \n",
       "Yukon                      0.000122                    0.000000e+00       \n",
       "Northwest Territories      0.000022                    0.000000e+00       \n",
       "Nunavut                    0.000000                    0.000000e+00       "
      ]
     },
     "execution_count": 116,
     "metadata": {},
     "output_type": "execute_result"
    }
   ],
   "source": [
    "canadian_data"
   ]
  },
  {
   "cell_type": "markdown",
   "metadata": {},
   "source": [
    "#### Per Capita"
   ]
  },
  {
   "cell_type": "markdown",
   "metadata": {},
   "source": [
    "##### Plots"
   ]
  },
  {
   "cell_type": "code",
   "execution_count": 117,
   "metadata": {
    "scrolled": false
   },
   "outputs": [
    {
     "data": {
      "image/png": "[encoded data removed]",
      "text/plain": [
       "<Figure size 1440x360 with 2 Axes>"
      ]
     },
     "metadata": {
      "needs_background": "light"
     },
     "output_type": "display_data"
    }
   ],
   "source": [
    "cdata_sorted = canadian_data.sort_values(by = 'Confirmed Cases Per Capita', ascending = False)\n",
    "\n",
    "fig, (ax1, ax2) = plt.subplots(1, 2, figsize=(20, 5))\n",
    "fig.suptitle('Canadian Provinces and Territories Per Capita')\n",
    "\n",
    "cdata_sorted.plot(kind = 'bar', y = 'Confirmed Cases Per Capita', color = ['blue'], ax = ax1)\n",
    "cdata_sorted.plot(kind = 'bar', y = 'Deaths Per Capita', color = ['red'], ax = ax2)\n",
    "\n",
    "plt.savefig('canadian_provinces_per_capita.png', bbox_inches = 'tight')"
   ]
  },
  {
   "cell_type": "markdown",
   "metadata": {},
   "source": [
    "##### Tables"
   ]
  },
  {
   "cell_type": "markdown",
   "metadata": {},
   "source": [
    "###### Sorted by confirmed cases per capita"
   ]
  },
  {
   "cell_type": "code",
   "execution_count": 118,
   "metadata": {
    "scrolled": false
   },
   "outputs": [
    {
     "data": {
      "text/html": [
       "<div>\n",
       "<style scoped>\n",
       "    .dataframe tbody tr th:only-of-type {\n",
       "        vertical-align: middle;\n",
       "    }\n",
       "\n",
       "    .dataframe tbody tr th {\n",
       "        vertical-align: top;\n",
       "    }\n",
       "\n",
       "    .dataframe thead th {\n",
       "        text-align: right;\n",
       "    }\n",
       "</style>\n",
       "<table border=\"1\" class=\"dataframe\">\n",
       "  <thead>\n",
       "    <tr style=\"text-align: right;\">\n",
       "      <th></th>\n",
       "      <th>Confirmed Cases</th>\n",
       "      <th>Probable Cases</th>\n",
       "      <th>Deaths</th>\n",
       "      <th>Total</th>\n",
       "      <th>Today</th>\n",
       "      <th>percentoday</th>\n",
       "      <th>numtested</th>\n",
       "      <th>Deaths per Confirmed Cases</th>\n",
       "      <th>Confirmed Cases Per Capita</th>\n",
       "      <th>Deaths Per Capita</th>\n",
       "    </tr>\n",
       "    <tr>\n",
       "      <th>Location</th>\n",
       "      <th></th>\n",
       "      <th></th>\n",
       "      <th></th>\n",
       "      <th></th>\n",
       "      <th></th>\n",
       "      <th></th>\n",
       "      <th></th>\n",
       "      <th></th>\n",
       "      <th></th>\n",
       "      <th></th>\n",
       "    </tr>\n",
       "  </thead>\n",
       "  <tbody>\n",
       "    <tr>\n",
       "      <td>Quebec</td>\n",
       "      <td>3430</td>\n",
       "      <td>0</td>\n",
       "      <td>25</td>\n",
       "      <td>3430</td>\n",
       "      <td>0</td>\n",
       "      <td>0.000</td>\n",
       "      <td>NaN</td>\n",
       "      <td>0.007289</td>\n",
       "      <td>0.000402</td>\n",
       "      <td>2.928198e-06</td>\n",
       "    </tr>\n",
       "    <tr>\n",
       "      <td>Newfoundland and Labrador</td>\n",
       "      <td>148</td>\n",
       "      <td>0</td>\n",
       "      <td>1</td>\n",
       "      <td>148</td>\n",
       "      <td>0</td>\n",
       "      <td>0.000</td>\n",
       "      <td>NaN</td>\n",
       "      <td>0.006757</td>\n",
       "      <td>0.000284</td>\n",
       "      <td>1.918042e-06</td>\n",
       "    </tr>\n",
       "    <tr>\n",
       "      <td>British Columbia</td>\n",
       "      <td>970</td>\n",
       "      <td>0</td>\n",
       "      <td>19</td>\n",
       "      <td>970</td>\n",
       "      <td>10</td>\n",
       "      <td>0.010</td>\n",
       "      <td>NaN</td>\n",
       "      <td>0.019588</td>\n",
       "      <td>0.000190</td>\n",
       "      <td>3.717532e-06</td>\n",
       "    </tr>\n",
       "    <tr>\n",
       "      <td>Alberta</td>\n",
       "      <td>690</td>\n",
       "      <td>0</td>\n",
       "      <td>8</td>\n",
       "      <td>690</td>\n",
       "      <td>0</td>\n",
       "      <td>0.000</td>\n",
       "      <td>NaN</td>\n",
       "      <td>0.011594</td>\n",
       "      <td>0.000156</td>\n",
       "      <td>1.812766e-06</td>\n",
       "    </tr>\n",
       "    <tr>\n",
       "      <td>Saskatchewan</td>\n",
       "      <td>176</td>\n",
       "      <td>0</td>\n",
       "      <td>2</td>\n",
       "      <td>176</td>\n",
       "      <td>1</td>\n",
       "      <td>0.006</td>\n",
       "      <td>NaN</td>\n",
       "      <td>0.011364</td>\n",
       "      <td>0.000149</td>\n",
       "      <td>1.692526e-06</td>\n",
       "    </tr>\n",
       "    <tr>\n",
       "      <td>Ontario</td>\n",
       "      <td>1966</td>\n",
       "      <td>0</td>\n",
       "      <td>33</td>\n",
       "      <td>1966</td>\n",
       "      <td>260</td>\n",
       "      <td>0.152</td>\n",
       "      <td>NaN</td>\n",
       "      <td>0.016785</td>\n",
       "      <td>0.000134</td>\n",
       "      <td>2.243093e-06</td>\n",
       "    </tr>\n",
       "    <tr>\n",
       "      <td>Nova Scotia</td>\n",
       "      <td>127</td>\n",
       "      <td>0</td>\n",
       "      <td>0</td>\n",
       "      <td>127</td>\n",
       "      <td>0</td>\n",
       "      <td>0.000</td>\n",
       "      <td>NaN</td>\n",
       "      <td>0.000000</td>\n",
       "      <td>0.000130</td>\n",
       "      <td>0.000000e+00</td>\n",
       "    </tr>\n",
       "    <tr>\n",
       "      <td>Yukon</td>\n",
       "      <td>5</td>\n",
       "      <td>0</td>\n",
       "      <td>0</td>\n",
       "      <td>5</td>\n",
       "      <td>0</td>\n",
       "      <td>0.000</td>\n",
       "      <td>NaN</td>\n",
       "      <td>0.000000</td>\n",
       "      <td>0.000122</td>\n",
       "      <td>0.000000e+00</td>\n",
       "    </tr>\n",
       "    <tr>\n",
       "      <td>Prince Edward Island</td>\n",
       "      <td>18</td>\n",
       "      <td>0</td>\n",
       "      <td>0</td>\n",
       "      <td>18</td>\n",
       "      <td>0</td>\n",
       "      <td>0.000</td>\n",
       "      <td>NaN</td>\n",
       "      <td>0.000000</td>\n",
       "      <td>0.000114</td>\n",
       "      <td>0.000000e+00</td>\n",
       "    </tr>\n",
       "    <tr>\n",
       "      <td>New Brunswick</td>\n",
       "      <td>68</td>\n",
       "      <td>0</td>\n",
       "      <td>0</td>\n",
       "      <td>68</td>\n",
       "      <td>0</td>\n",
       "      <td>0.000</td>\n",
       "      <td>NaN</td>\n",
       "      <td>0.000000</td>\n",
       "      <td>0.000087</td>\n",
       "      <td>0.000000e+00</td>\n",
       "    </tr>\n",
       "    <tr>\n",
       "      <td>Manitoba</td>\n",
       "      <td>83</td>\n",
       "      <td>13</td>\n",
       "      <td>1</td>\n",
       "      <td>96</td>\n",
       "      <td>0</td>\n",
       "      <td>0.000</td>\n",
       "      <td>NaN</td>\n",
       "      <td>0.012048</td>\n",
       "      <td>0.000060</td>\n",
       "      <td>7.259439e-07</td>\n",
       "    </tr>\n",
       "    <tr>\n",
       "      <td>Northwest Territories</td>\n",
       "      <td>1</td>\n",
       "      <td>0</td>\n",
       "      <td>0</td>\n",
       "      <td>1</td>\n",
       "      <td>0</td>\n",
       "      <td>0.000</td>\n",
       "      <td>NaN</td>\n",
       "      <td>0.000000</td>\n",
       "      <td>0.000022</td>\n",
       "      <td>0.000000e+00</td>\n",
       "    </tr>\n",
       "    <tr>\n",
       "      <td>Nunavut</td>\n",
       "      <td>0</td>\n",
       "      <td>0</td>\n",
       "      <td>0</td>\n",
       "      <td>0</td>\n",
       "      <td>0</td>\n",
       "      <td>0.000</td>\n",
       "      <td>NaN</td>\n",
       "      <td>NaN</td>\n",
       "      <td>0.000000</td>\n",
       "      <td>0.000000e+00</td>\n",
       "    </tr>\n",
       "  </tbody>\n",
       "</table>\n",
       "</div>"
      ],
      "text/plain": [
       "                           Confirmed Cases  Probable Cases  Deaths  Total  \\\n",
       "Location                                                                    \n",
       "Quebec                     3430             0               25      3430    \n",
       "Newfoundland and Labrador  148              0               1       148     \n",
       "British Columbia           970              0               19      970     \n",
       "Alberta                    690              0               8       690     \n",
       "Saskatchewan               176              0               2       176     \n",
       "Ontario                    1966             0               33      1966    \n",
       "Nova Scotia                127              0               0       127     \n",
       "Yukon                      5                0               0       5       \n",
       "Prince Edward Island       18               0               0       18      \n",
       "New Brunswick              68               0               0       68      \n",
       "Manitoba                   83               13              1       96      \n",
       "Northwest Territories      1                0               0       1       \n",
       "Nunavut                    0                0               0       0       \n",
       "\n",
       "                           Today  percentoday  numtested  \\\n",
       "Location                                                   \n",
       "Quebec                     0      0.000       NaN          \n",
       "Newfoundland and Labrador  0      0.000       NaN          \n",
       "British Columbia           10     0.010       NaN          \n",
       "Alberta                    0      0.000       NaN          \n",
       "Saskatchewan               1      0.006       NaN          \n",
       "Ontario                    260    0.152       NaN          \n",
       "Nova Scotia                0      0.000       NaN          \n",
       "Yukon                      0      0.000       NaN          \n",
       "Prince Edward Island       0      0.000       NaN          \n",
       "New Brunswick              0      0.000       NaN          \n",
       "Manitoba                   0      0.000       NaN          \n",
       "Northwest Territories      0      0.000       NaN          \n",
       "Nunavut                    0      0.000       NaN          \n",
       "\n",
       "                           Deaths per Confirmed Cases  \\\n",
       "Location                                                \n",
       "Quebec                     0.007289                     \n",
       "Newfoundland and Labrador  0.006757                     \n",
       "British Columbia           0.019588                     \n",
       "Alberta                    0.011594                     \n",
       "Saskatchewan               0.011364                     \n",
       "Ontario                    0.016785                     \n",
       "Nova Scotia                0.000000                     \n",
       "Yukon                      0.000000                     \n",
       "Prince Edward Island       0.000000                     \n",
       "New Brunswick              0.000000                     \n",
       "Manitoba                   0.012048                     \n",
       "Northwest Territories      0.000000                     \n",
       "Nunavut                   NaN                           \n",
       "\n",
       "                           Confirmed Cases Per Capita  Deaths Per Capita  \n",
       "Location                                                                  \n",
       "Quebec                     0.000402                    2.928198e-06       \n",
       "Newfoundland and Labrador  0.000284                    1.918042e-06       \n",
       "British Columbia           0.000190                    3.717532e-06       \n",
       "Alberta                    0.000156                    1.812766e-06       \n",
       "Saskatchewan               0.000149                    1.692526e-06       \n",
       "Ontario                    0.000134                    2.243093e-06       \n",
       "Nova Scotia                0.000130                    0.000000e+00       \n",
       "Yukon                      0.000122                    0.000000e+00       \n",
       "Prince Edward Island       0.000114                    0.000000e+00       \n",
       "New Brunswick              0.000087                    0.000000e+00       \n",
       "Manitoba                   0.000060                    7.259439e-07       \n",
       "Northwest Territories      0.000022                    0.000000e+00       \n",
       "Nunavut                    0.000000                    0.000000e+00       "
      ]
     },
     "execution_count": 118,
     "metadata": {},
     "output_type": "execute_result"
    }
   ],
   "source": [
    "cdata_sorted"
   ]
  },
  {
   "cell_type": "markdown",
   "metadata": {},
   "source": [
    "###### Population"
   ]
  },
  {
   "cell_type": "code",
   "execution_count": 119,
   "metadata": {
    "scrolled": false
   },
   "outputs": [
    {
     "data": {
      "text/html": [
       "<div>\n",
       "<style scoped>\n",
       "    .dataframe tbody tr th:only-of-type {\n",
       "        vertical-align: middle;\n",
       "    }\n",
       "\n",
       "    .dataframe tbody tr th {\n",
       "        vertical-align: top;\n",
       "    }\n",
       "\n",
       "    .dataframe thead th {\n",
       "        text-align: right;\n",
       "    }\n",
       "</style>\n",
       "<table border=\"1\" class=\"dataframe\">\n",
       "  <thead>\n",
       "    <tr style=\"text-align: right;\">\n",
       "      <th></th>\n",
       "      <th>Population</th>\n",
       "    </tr>\n",
       "    <tr>\n",
       "      <th>Location</th>\n",
       "      <th></th>\n",
       "    </tr>\n",
       "  </thead>\n",
       "  <tbody>\n",
       "    <tr>\n",
       "      <td>Ontario</td>\n",
       "      <td>14711827</td>\n",
       "    </tr>\n",
       "    <tr>\n",
       "      <td>Quebec</td>\n",
       "      <td>8537674</td>\n",
       "    </tr>\n",
       "    <tr>\n",
       "      <td>British Columbia</td>\n",
       "      <td>5110917</td>\n",
       "    </tr>\n",
       "    <tr>\n",
       "      <td>Alberta</td>\n",
       "      <td>4413146</td>\n",
       "    </tr>\n",
       "    <tr>\n",
       "      <td>Manitoba</td>\n",
       "      <td>1377517</td>\n",
       "    </tr>\n",
       "    <tr>\n",
       "      <td>Saskatchewan</td>\n",
       "      <td>1181666</td>\n",
       "    </tr>\n",
       "    <tr>\n",
       "      <td>Nova Scotia</td>\n",
       "      <td>977457</td>\n",
       "    </tr>\n",
       "    <tr>\n",
       "      <td>New Brunswick</td>\n",
       "      <td>779993</td>\n",
       "    </tr>\n",
       "    <tr>\n",
       "      <td>Newfoundland and Labrador</td>\n",
       "      <td>521365</td>\n",
       "    </tr>\n",
       "    <tr>\n",
       "      <td>Prince Edward Island</td>\n",
       "      <td>158158</td>\n",
       "    </tr>\n",
       "    <tr>\n",
       "      <td>Northwest Territories</td>\n",
       "      <td>44904</td>\n",
       "    </tr>\n",
       "    <tr>\n",
       "      <td>Nunavut</td>\n",
       "      <td>39097</td>\n",
       "    </tr>\n",
       "    <tr>\n",
       "      <td>Yukon</td>\n",
       "      <td>41078</td>\n",
       "    </tr>\n",
       "  </tbody>\n",
       "</table>\n",
       "</div>"
      ],
      "text/plain": [
       "                           Population\n",
       "Location                             \n",
       "Ontario                    14711827  \n",
       "Quebec                     8537674   \n",
       "British Columbia           5110917   \n",
       "Alberta                    4413146   \n",
       "Manitoba                   1377517   \n",
       "Saskatchewan               1181666   \n",
       "Nova Scotia                977457    \n",
       "New Brunswick              779993    \n",
       "Newfoundland and Labrador  521365    \n",
       "Prince Edward Island       158158    \n",
       "Northwest Territories      44904     \n",
       "Nunavut                    39097     \n",
       "Yukon                      41078     "
      ]
     },
     "execution_count": 119,
     "metadata": {},
     "output_type": "execute_result"
    }
   ],
   "source": [
    "canadian_population"
   ]
  },
  {
   "cell_type": "markdown",
   "metadata": {},
   "source": [
    "## Resources\n",
    "1. Data obtained from: https://ourworldindata.org/coronavirus-source-data\n",
    "2. Population data from: https://data.worldbank.org/indicator/SP.POP.TOTL\n",
    "3. Canadian data: https://www.canada.ca/en/public-health/services/diseases/2019-novel-coronavirus-infection.html\n",
    "4. Canadian population: https://en.wikipedia.org/wiki/List_of_Canadian_provinces_and_territories_by_population\n",
    "5. Deaths from infectious diseases: https://ourworldindata.org/grapher/deaths-from-infections-of-currently-noneradicable-diseases\n",
    "6. Tuberculosis: https://www.doctorswithoutborders.ca/issues/tuberculosis-deadly-and-neglected"
   ]
  }
 ],
 "metadata": {
  "kernelspec": {
   "display_name": "Python 3",
   "language": "python",
   "name": "python3"
  },
  "language_info": {
   "codemirror_mode": {
    "name": "ipython",
    "version": 3
   },
   "file_extension": ".py",
   "mimetype": "text/x-python",
   "name": "python",
   "nbconvert_exporter": "python",
   "pygments_lexer": "ipython3",
   "version": "3.7.4"
  }
 },
 "nbformat": 4,
 "nbformat_minor": 2
}
