{
 "cells": [
  {
   "cell_type": "markdown",
   "metadata": {},
   "source": [
    "# Covid-19 Analysis\n",
    "\n",
    "Looking at the Covid-19 data obtained from 'Our World in Data'.\n",
    "\n",
    "**Index:**\n",
    "\n",
    "- Extracting Data\n",
    "    - Python imports\n",
    "    - Fetch COVID-19 data from Our World in Data\n",
    "    - Scrape Canadian specific data from www.canada.ca\n",
    "- Filtering and Cleaning\n",
    "    - Extract world record\n",
    "    - Filtering for the latest data\n",
    "    - Preparing population data\n",
    "        -  Missing population data\n",
    "    - Appending inferred information\n",
    "    - Preparing Canadian specific data\n",
    "- Analysis\n",
    "    - World record\n",
    "        - Plots\n",
    "        - Table\n",
    "    - Top 5: total cases per capita and deaths per total\n",
    "        - Plots\n",
    "        - Tables\n",
    "    - Comparison between select countries\n",
    "    - Highest number of total cases and deaths\n",
    "        - Plots\n",
    "        - Tables\n",
    "    - Canadian provinces and territories\n",
    "        - Canadian provinces and territories\n",
    "        - Cases and Deaths\n",
    "            - Plots\n",
    "            - Tables\n",
    "                - Total\n",
    "                - Sorted by confirmed cases\n",
    "        - Per Capita\n",
    "            - Plots\n",
    "            - Tables\n",
    "                - Sorted by confirmed cases per capita\n",
    "                - Population"
   ]
  },
  {
   "cell_type": "markdown",
   "metadata": {},
   "source": [
    "## Extracting coronavirus and country data"
   ]
  },
  {
   "cell_type": "markdown",
   "metadata": {},
   "source": [
    "### Python Imports"
   ]
  },
  {
   "cell_type": "code",
   "execution_count": 132,
   "metadata": {},
   "outputs": [],
   "source": [
    "import numpy as np\n",
    "import pandas as pd\n",
    "import matplotlib.pyplot as plt\n",
    "import plotly.graph_objects as go\n",
    "import requests\n",
    "\n",
    "from scrape_covid19_data import DataScraper"
   ]
  },
  {
   "cell_type": "markdown",
   "metadata": {},
   "source": [
    "### Fetch COVID-19 data from Our World in Data"
   ]
  },
  {
   "cell_type": "code",
   "execution_count": null,
   "metadata": {},
   "outputs": [],
   "source": [
    "r = requests.get('https://covid.ourworldindata.org/data/ecdc/full_data.csv')"
   ]
  },
  {
   "cell_type": "code",
   "execution_count": null,
   "metadata": {},
   "outputs": [],
   "source": [
    "with open('full_data.csv', 'wb') as fd:\n",
    "    for chunk in r.iter_content(chunk_size = 128):\n",
    "        fd.write(chunk)"
   ]
  },
  {
   "cell_type": "markdown",
   "metadata": {},
   "source": [
    "### Scrape Canadian specific data from www.canada.ca"
   ]
  },
  {
   "cell_type": "code",
   "execution_count": 2,
   "metadata": {
    "scrolled": true
   },
   "outputs": [],
   "source": [
    "url = \"https://www.canada.ca/en/public-health/services/diseases/2019-novel-coronavirus-infection.html\"\n",
    "scraper = DataScraper(url)"
   ]
  },
  {
   "cell_type": "markdown",
   "metadata": {},
   "source": [
    "### Load data "
   ]
  },
  {
   "cell_type": "code",
   "execution_count": 133,
   "metadata": {},
   "outputs": [],
   "source": [
    "rdata = pd.read_csv('full_data.csv')\n",
    "rpopulation_data = pd.read_csv('population_data.csv') "
   ]
  },
  {
   "cell_type": "code",
   "execution_count": 134,
   "metadata": {},
   "outputs": [],
   "source": [
    "scraper.parse(in_memory = False)"
   ]
  },
  {
   "cell_type": "code",
   "execution_count": 135,
   "metadata": {
    "scrolled": true
   },
   "outputs": [
    {
     "data": {
      "text/html": [
       "<div>\n",
       "<style scoped>\n",
       "    .dataframe tbody tr th:only-of-type {\n",
       "        vertical-align: middle;\n",
       "    }\n",
       "\n",
       "    .dataframe tbody tr th {\n",
       "        vertical-align: top;\n",
       "    }\n",
       "\n",
       "    .dataframe thead th {\n",
       "        text-align: right;\n",
       "    }\n",
       "</style>\n",
       "<table border=\"1\" class=\"dataframe\">\n",
       "  <thead>\n",
       "    <tr style=\"text-align: right;\">\n",
       "      <th></th>\n",
       "      <th>date</th>\n",
       "      <th>location</th>\n",
       "      <th>new_cases</th>\n",
       "      <th>new_deaths</th>\n",
       "      <th>total_cases</th>\n",
       "      <th>total_deaths</th>\n",
       "    </tr>\n",
       "  </thead>\n",
       "  <tbody>\n",
       "    <tr>\n",
       "      <td>7211</td>\n",
       "      <td>2020-03-26</td>\n",
       "      <td>Zimbabwe</td>\n",
       "      <td>1</td>\n",
       "      <td>0</td>\n",
       "      <td>3</td>\n",
       "      <td>1</td>\n",
       "    </tr>\n",
       "    <tr>\n",
       "      <td>7212</td>\n",
       "      <td>2020-03-27</td>\n",
       "      <td>Zimbabwe</td>\n",
       "      <td>0</td>\n",
       "      <td>0</td>\n",
       "      <td>3</td>\n",
       "      <td>1</td>\n",
       "    </tr>\n",
       "  </tbody>\n",
       "</table>\n",
       "</div>"
      ],
      "text/plain": [
       "            date  location  new_cases  new_deaths  total_cases  total_deaths\n",
       "7211  2020-03-26  Zimbabwe          1           0            3             1\n",
       "7212  2020-03-27  Zimbabwe          0           0            3             1"
      ]
     },
     "execution_count": 135,
     "metadata": {},
     "output_type": "execute_result"
    }
   ],
   "source": [
    "rdata.tail(n = 2)"
   ]
  },
  {
   "cell_type": "code",
   "execution_count": 136,
   "metadata": {
    "scrolled": true
   },
   "outputs": [
    {
     "data": {
      "text/html": [
       "<div>\n",
       "<style scoped>\n",
       "    .dataframe tbody tr th:only-of-type {\n",
       "        vertical-align: middle;\n",
       "    }\n",
       "\n",
       "    .dataframe tbody tr th {\n",
       "        vertical-align: top;\n",
       "    }\n",
       "\n",
       "    .dataframe thead th {\n",
       "        text-align: right;\n",
       "    }\n",
       "</style>\n",
       "<table border=\"1\" class=\"dataframe\">\n",
       "  <thead>\n",
       "    <tr style=\"text-align: right;\">\n",
       "      <th></th>\n",
       "      <th>Country Name</th>\n",
       "      <th>Country Code</th>\n",
       "      <th>Indicator Name</th>\n",
       "      <th>Indicator Code</th>\n",
       "      <th>1960</th>\n",
       "      <th>1961</th>\n",
       "      <th>1962</th>\n",
       "      <th>1963</th>\n",
       "      <th>1964</th>\n",
       "      <th>1965</th>\n",
       "      <th>...</th>\n",
       "      <th>2010</th>\n",
       "      <th>2011</th>\n",
       "      <th>2012</th>\n",
       "      <th>2013</th>\n",
       "      <th>2014</th>\n",
       "      <th>2015</th>\n",
       "      <th>2016</th>\n",
       "      <th>2017</th>\n",
       "      <th>2018</th>\n",
       "      <th>2019</th>\n",
       "    </tr>\n",
       "  </thead>\n",
       "  <tbody>\n",
       "    <tr>\n",
       "      <td>0</td>\n",
       "      <td>Aruba</td>\n",
       "      <td>ABW</td>\n",
       "      <td>Population, total</td>\n",
       "      <td>SP.POP.TOTL</td>\n",
       "      <td>54211.0</td>\n",
       "      <td>55438.0</td>\n",
       "      <td>56225.0</td>\n",
       "      <td>56695.0</td>\n",
       "      <td>57032.0</td>\n",
       "      <td>57360.0</td>\n",
       "      <td>...</td>\n",
       "      <td>101669.0</td>\n",
       "      <td>102046.0</td>\n",
       "      <td>102560.0</td>\n",
       "      <td>103159.0</td>\n",
       "      <td>103774.0</td>\n",
       "      <td>104341.0</td>\n",
       "      <td>104872.0</td>\n",
       "      <td>105366.0</td>\n",
       "      <td>105845.0</td>\n",
       "      <td>NaN</td>\n",
       "    </tr>\n",
       "    <tr>\n",
       "      <td>1</td>\n",
       "      <td>Afghanistan</td>\n",
       "      <td>AFG</td>\n",
       "      <td>Population, total</td>\n",
       "      <td>SP.POP.TOTL</td>\n",
       "      <td>8996973.0</td>\n",
       "      <td>9169410.0</td>\n",
       "      <td>9351441.0</td>\n",
       "      <td>9543205.0</td>\n",
       "      <td>9744781.0</td>\n",
       "      <td>9956320.0</td>\n",
       "      <td>...</td>\n",
       "      <td>29185507.0</td>\n",
       "      <td>30117413.0</td>\n",
       "      <td>31161376.0</td>\n",
       "      <td>32269589.0</td>\n",
       "      <td>33370794.0</td>\n",
       "      <td>34413603.0</td>\n",
       "      <td>35383128.0</td>\n",
       "      <td>36296400.0</td>\n",
       "      <td>37172386.0</td>\n",
       "      <td>NaN</td>\n",
       "    </tr>\n",
       "  </tbody>\n",
       "</table>\n",
       "<p>2 rows × 64 columns</p>\n",
       "</div>"
      ],
      "text/plain": [
       "  Country Name Country Code     Indicator Name Indicator Code       1960  \\\n",
       "0        Aruba          ABW  Population, total    SP.POP.TOTL    54211.0   \n",
       "1  Afghanistan          AFG  Population, total    SP.POP.TOTL  8996973.0   \n",
       "\n",
       "        1961       1962       1963       1964       1965  ...        2010  \\\n",
       "0    55438.0    56225.0    56695.0    57032.0    57360.0  ...    101669.0   \n",
       "1  9169410.0  9351441.0  9543205.0  9744781.0  9956320.0  ...  29185507.0   \n",
       "\n",
       "         2011        2012        2013        2014        2015        2016  \\\n",
       "0    102046.0    102560.0    103159.0    103774.0    104341.0    104872.0   \n",
       "1  30117413.0  31161376.0  32269589.0  33370794.0  34413603.0  35383128.0   \n",
       "\n",
       "         2017        2018  2019  \n",
       "0    105366.0    105845.0   NaN  \n",
       "1  36296400.0  37172386.0   NaN  \n",
       "\n",
       "[2 rows x 64 columns]"
      ]
     },
     "execution_count": 136,
     "metadata": {},
     "output_type": "execute_result"
    }
   ],
   "source": [
    "rpopulation_data.head(n = 2)"
   ]
  },
  {
   "cell_type": "code",
   "execution_count": 137,
   "metadata": {},
   "outputs": [],
   "source": [
    "canadian_data, pub_date = scraper.get_parsed_data()"
   ]
  },
  {
   "cell_type": "code",
   "execution_count": 138,
   "metadata": {},
   "outputs": [],
   "source": [
    "canadian_population_dict = {'Population':[14711827, 8537674, 5110917, 4413146, 1377517, 1181666, 977457, 779993, 521365, 158158, 44904, 39097, 41078], \n",
    "                            'Location':['Ontario', 'Quebec', 'British Columbia', 'Alberta','Manitoba','Saskatchewan',\n",
    "                                        'Nova Scotia', 'New Brunswick', 'Newfoundland and Labrador','Prince Edward Island', 'Northwest Territories','Nunavut','Yukon']}\n",
    "\n",
    "canadian_population = pd.DataFrame.from_dict(canadian_population_dict)"
   ]
  },
  {
   "cell_type": "markdown",
   "metadata": {},
   "source": [
    "## Filtering and cleaning data "
   ]
  },
  {
   "cell_type": "code",
   "execution_count": null,
   "metadata": {},
   "outputs": [],
   "source": [
    "print(\"Data Types\", rdata.dtypes)\n",
    "print(\"Columns with NaN\", rdata.columns[rdata.isna().any()])"
   ]
  },
  {
   "cell_type": "code",
   "execution_count": 139,
   "metadata": {},
   "outputs": [
    {
     "data": {
      "text/plain": [
       "date            object\n",
       "location        object\n",
       "new_cases        int64\n",
       "new_deaths       int64\n",
       "total_cases      int64\n",
       "total_deaths     int64\n",
       "dtype: object"
      ]
     },
     "execution_count": 139,
     "metadata": {},
     "output_type": "execute_result"
    }
   ],
   "source": [
    "rdata = rdata.fillna(value = 0)\n",
    "pdata = rdata.astype({'new_cases':'int64', \n",
    "                     'new_deaths':'int64', \n",
    "                     'total_deaths':'int64'})\n",
    "pdata.dtypes"
   ]
  },
  {
   "cell_type": "code",
   "execution_count": 140,
   "metadata": {},
   "outputs": [],
   "source": [
    "rdata['date_fm'] = pd.to_datetime(rdata['date'], infer_datetime_format='%Y-%m-%d')"
   ]
  },
  {
   "cell_type": "code",
   "execution_count": 141,
   "metadata": {},
   "outputs": [
    {
     "data": {
      "text/plain": [
       "'2020-03-27'"
      ]
     },
     "execution_count": 141,
     "metadata": {},
     "output_type": "execute_result"
    }
   ],
   "source": [
    "latest = pdata['date'].max()\n",
    "latest"
   ]
  },
  {
   "cell_type": "markdown",
   "metadata": {},
   "source": [
    "### Extract world record"
   ]
  },
  {
   "cell_type": "code",
   "execution_count": 142,
   "metadata": {
    "scrolled": true
   },
   "outputs": [],
   "source": [
    "world_record = rdata[rdata['location'] == 'World']"
   ]
  },
  {
   "cell_type": "code",
   "execution_count": 143,
   "metadata": {
    "scrolled": false
   },
   "outputs": [],
   "source": [
    "world_record = world_record.drop(columns = ['date'])\n",
    "world_record = world_record.set_index('date_fm')"
   ]
  },
  {
   "cell_type": "markdown",
   "metadata": {},
   "source": [
    "### Filtering for the latest data"
   ]
  },
  {
   "cell_type": "code",
   "execution_count": 144,
   "metadata": {},
   "outputs": [],
   "source": [
    "data = pdata[pdata['date'] == latest]\n",
    "data = data.drop('date', axis = 1)\n",
    "data = data.set_index('location')"
   ]
  },
  {
   "cell_type": "code",
   "execution_count": 145,
   "metadata": {
    "scrolled": true
   },
   "outputs": [],
   "source": [
    "data = data[data.index != 'World']"
   ]
  },
  {
   "cell_type": "code",
   "execution_count": 146,
   "metadata": {
    "scrolled": true
   },
   "outputs": [],
   "source": [
    "max_total_cases = data['total_cases'].max()"
   ]
  },
  {
   "cell_type": "markdown",
   "metadata": {},
   "source": [
    "### Preparing population data"
   ]
  },
  {
   "cell_type": "code",
   "execution_count": 147,
   "metadata": {
    "scrolled": true
   },
   "outputs": [],
   "source": [
    "population = rpopulation_data.filter(['Country Name', '2018'])"
   ]
  },
  {
   "cell_type": "code",
   "execution_count": 148,
   "metadata": {},
   "outputs": [
    {
     "data": {
      "text/html": [
       "<div>\n",
       "<style scoped>\n",
       "    .dataframe tbody tr th:only-of-type {\n",
       "        vertical-align: middle;\n",
       "    }\n",
       "\n",
       "    .dataframe tbody tr th {\n",
       "        vertical-align: top;\n",
       "    }\n",
       "\n",
       "    .dataframe thead th {\n",
       "        text-align: right;\n",
       "    }\n",
       "</style>\n",
       "<table border=\"1\" class=\"dataframe\">\n",
       "  <thead>\n",
       "    <tr style=\"text-align: right;\">\n",
       "      <th></th>\n",
       "      <th>2018</th>\n",
       "    </tr>\n",
       "    <tr>\n",
       "      <th>location</th>\n",
       "      <th></th>\n",
       "    </tr>\n",
       "  </thead>\n",
       "  <tbody>\n",
       "    <tr>\n",
       "      <td>Aruba</td>\n",
       "      <td>105845.0</td>\n",
       "    </tr>\n",
       "  </tbody>\n",
       "</table>\n",
       "</div>"
      ],
      "text/plain": [
       "              2018\n",
       "location          \n",
       "Aruba     105845.0"
      ]
     },
     "execution_count": 148,
     "metadata": {},
     "output_type": "execute_result"
    }
   ],
   "source": [
    "population = population.rename(columns = {'Country Name':'location'})\n",
    "population = population.set_index('location')\n",
    "population.head(n=1)"
   ]
  },
  {
   "cell_type": "markdown",
   "metadata": {},
   "source": [
    "#### Missing population data"
   ]
  },
  {
   "cell_type": "code",
   "execution_count": 149,
   "metadata": {
    "scrolled": true
   },
   "outputs": [
    {
     "data": {
      "text/html": [
       "<div>\n",
       "<style scoped>\n",
       "    .dataframe tbody tr th:only-of-type {\n",
       "        vertical-align: middle;\n",
       "    }\n",
       "\n",
       "    .dataframe tbody tr th {\n",
       "        vertical-align: top;\n",
       "    }\n",
       "\n",
       "    .dataframe thead th {\n",
       "        text-align: right;\n",
       "    }\n",
       "</style>\n",
       "<table border=\"1\" class=\"dataframe\">\n",
       "  <thead>\n",
       "    <tr style=\"text-align: right;\">\n",
       "      <th></th>\n",
       "      <th>new_cases</th>\n",
       "      <th>new_deaths</th>\n",
       "      <th>total_cases</th>\n",
       "      <th>total_deaths</th>\n",
       "    </tr>\n",
       "    <tr>\n",
       "      <th>location</th>\n",
       "      <th></th>\n",
       "      <th></th>\n",
       "      <th></th>\n",
       "      <th></th>\n",
       "    </tr>\n",
       "  </thead>\n",
       "  <tbody>\n",
       "    <tr>\n",
       "      <td>Anguilla</td>\n",
       "      <td>2</td>\n",
       "      <td>0</td>\n",
       "      <td>2</td>\n",
       "      <td>0</td>\n",
       "    </tr>\n",
       "    <tr>\n",
       "      <td>Guernsey</td>\n",
       "      <td>4</td>\n",
       "      <td>0</td>\n",
       "      <td>34</td>\n",
       "      <td>0</td>\n",
       "    </tr>\n",
       "    <tr>\n",
       "      <td>Jersey</td>\n",
       "      <td>14</td>\n",
       "      <td>1</td>\n",
       "      <td>32</td>\n",
       "      <td>1</td>\n",
       "    </tr>\n",
       "    <tr>\n",
       "      <td>Montserrat</td>\n",
       "      <td>4</td>\n",
       "      <td>0</td>\n",
       "      <td>5</td>\n",
       "      <td>0</td>\n",
       "    </tr>\n",
       "    <tr>\n",
       "      <td>Palestine</td>\n",
       "      <td>22</td>\n",
       "      <td>1</td>\n",
       "      <td>84</td>\n",
       "      <td>1</td>\n",
       "    </tr>\n",
       "    <tr>\n",
       "      <td>Saint Kitts and Nevis</td>\n",
       "      <td>0</td>\n",
       "      <td>0</td>\n",
       "      <td>2</td>\n",
       "      <td>0</td>\n",
       "    </tr>\n",
       "    <tr>\n",
       "      <td>Taiwan</td>\n",
       "      <td>17</td>\n",
       "      <td>0</td>\n",
       "      <td>252</td>\n",
       "      <td>2</td>\n",
       "    </tr>\n",
       "    <tr>\n",
       "      <td>Vatican</td>\n",
       "      <td>4</td>\n",
       "      <td>0</td>\n",
       "      <td>5</td>\n",
       "      <td>0</td>\n",
       "    </tr>\n",
       "  </tbody>\n",
       "</table>\n",
       "</div>"
      ],
      "text/plain": [
       "                       new_cases  new_deaths  total_cases  total_deaths\n",
       "location                                                               \n",
       "Anguilla                       2           0            2             0\n",
       "Guernsey                       4           0           34             0\n",
       "Jersey                        14           1           32             1\n",
       "Montserrat                     4           0            5             0\n",
       "Palestine                     22           1           84             1\n",
       "Saint Kitts and Nevis          0           0            2             0\n",
       "Taiwan                        17           0          252             2\n",
       "Vatican                        4           0            5             0"
      ]
     },
     "execution_count": 149,
     "metadata": {},
     "output_type": "execute_result"
    }
   ],
   "source": [
    "data[data.index.isin(population.index) == False]"
   ]
  },
  {
   "cell_type": "markdown",
   "metadata": {},
   "source": [
    "### Appending inferred information "
   ]
  },
  {
   "cell_type": "code",
   "execution_count": 150,
   "metadata": {
    "scrolled": true
   },
   "outputs": [
    {
     "data": {
      "text/html": [
       "<div>\n",
       "<style scoped>\n",
       "    .dataframe tbody tr th:only-of-type {\n",
       "        vertical-align: middle;\n",
       "    }\n",
       "\n",
       "    .dataframe tbody tr th {\n",
       "        vertical-align: top;\n",
       "    }\n",
       "\n",
       "    .dataframe thead th {\n",
       "        text-align: right;\n",
       "    }\n",
       "</style>\n",
       "<table border=\"1\" class=\"dataframe\">\n",
       "  <thead>\n",
       "    <tr style=\"text-align: right;\">\n",
       "      <th></th>\n",
       "      <th>new_cases</th>\n",
       "      <th>new_deaths</th>\n",
       "      <th>total_cases</th>\n",
       "      <th>total_deaths</th>\n",
       "      <th>total_cases_per_capita</th>\n",
       "      <th>total_deaths_per_capita</th>\n",
       "      <th>deaths_per_total</th>\n",
       "    </tr>\n",
       "    <tr>\n",
       "      <th>location</th>\n",
       "      <th></th>\n",
       "      <th></th>\n",
       "      <th></th>\n",
       "      <th></th>\n",
       "      <th></th>\n",
       "      <th></th>\n",
       "      <th></th>\n",
       "    </tr>\n",
       "  </thead>\n",
       "  <tbody>\n",
       "    <tr>\n",
       "      <td>Afghanistan</td>\n",
       "      <td>0</td>\n",
       "      <td>0</td>\n",
       "      <td>75</td>\n",
       "      <td>1</td>\n",
       "      <td>2.017627e-06</td>\n",
       "      <td>2.690169e-08</td>\n",
       "      <td>0.0133</td>\n",
       "    </tr>\n",
       "    <tr>\n",
       "      <td>Albania</td>\n",
       "      <td>28</td>\n",
       "      <td>1</td>\n",
       "      <td>174</td>\n",
       "      <td>6</td>\n",
       "      <td>6.070383e-05</td>\n",
       "      <td>2.093236e-06</td>\n",
       "      <td>0.0345</td>\n",
       "    </tr>\n",
       "    <tr>\n",
       "      <td>Algeria</td>\n",
       "      <td>41</td>\n",
       "      <td>4</td>\n",
       "      <td>305</td>\n",
       "      <td>21</td>\n",
       "      <td>7.222622e-06</td>\n",
       "      <td>4.972953e-07</td>\n",
       "      <td>0.0689</td>\n",
       "    </tr>\n",
       "    <tr>\n",
       "      <td>Andorra</td>\n",
       "      <td>36</td>\n",
       "      <td>3</td>\n",
       "      <td>224</td>\n",
       "      <td>3</td>\n",
       "      <td>2.908864e-03</td>\n",
       "      <td>3.895800e-05</td>\n",
       "      <td>0.0134</td>\n",
       "    </tr>\n",
       "    <tr>\n",
       "      <td>Angola</td>\n",
       "      <td>1</td>\n",
       "      <td>0</td>\n",
       "      <td>3</td>\n",
       "      <td>0</td>\n",
       "      <td>9.737174e-08</td>\n",
       "      <td>0.000000e+00</td>\n",
       "      <td>0.0000</td>\n",
       "    </tr>\n",
       "  </tbody>\n",
       "</table>\n",
       "</div>"
      ],
      "text/plain": [
       "             new_cases  new_deaths  total_cases  total_deaths  \\\n",
       "location                                                        \n",
       "Afghanistan          0           0           75             1   \n",
       "Albania             28           1          174             6   \n",
       "Algeria             41           4          305            21   \n",
       "Andorra             36           3          224             3   \n",
       "Angola               1           0            3             0   \n",
       "\n",
       "             total_cases_per_capita  total_deaths_per_capita  deaths_per_total  \n",
       "location                                                                        \n",
       "Afghanistan            2.017627e-06             2.690169e-08            0.0133  \n",
       "Albania                6.070383e-05             2.093236e-06            0.0345  \n",
       "Algeria                7.222622e-06             4.972953e-07            0.0689  \n",
       "Andorra                2.908864e-03             3.895800e-05            0.0134  \n",
       "Angola                 9.737174e-08             0.000000e+00            0.0000  "
      ]
     },
     "execution_count": 150,
     "metadata": {},
     "output_type": "execute_result"
    }
   ],
   "source": [
    "data['total_cases_per_capita'] = data['total_cases'].div(data.index.map(population['2018']))\n",
    "data['total_deaths_per_capita'] = data['total_deaths'].div(data.index.map(population['2018']))\n",
    "data['deaths_per_total'] = data['total_deaths'].div(data['total_cases'])\n",
    "data['deaths_per_total'] = data['deaths_per_total'].round(decimals = 4)\n",
    "data.head()"
   ]
  },
  {
   "cell_type": "markdown",
   "metadata": {},
   "source": [
    "### Preparing Canadian specific data"
   ]
  },
  {
   "cell_type": "code",
   "execution_count": 151,
   "metadata": {},
   "outputs": [],
   "source": [
    "canadian_data = canadian_data.rename(columns = {'Number of confirmed cases': 'Confirmed Cases', \n",
    "                                                'Number of probable cases':'Probable Cases',\n",
    "                                                'Number of deaths': 'Deaths',\n",
    "                                                'Province, territory or other':'Location'})"
   ]
  },
  {
   "cell_type": "code",
   "execution_count": 152,
   "metadata": {},
   "outputs": [],
   "source": [
    "canadian_data.set_index('Location', inplace = True)\n",
    "canadian_population.set_index('Location', inplace = True)"
   ]
  },
  {
   "cell_type": "code",
   "execution_count": 153,
   "metadata": {},
   "outputs": [],
   "source": [
    "canadian_data_total = canadian_data[canadian_data.index == 'Total']"
   ]
  },
  {
   "cell_type": "code",
   "execution_count": 154,
   "metadata": {},
   "outputs": [],
   "source": [
    "canadian_data = canadian_data[canadian_data.index.isin(canadian_population.index) == True]\n",
    "canadian_population = canadian_population[canadian_population.index.isin(canadian_data.index) == True]"
   ]
  },
  {
   "cell_type": "code",
   "execution_count": 155,
   "metadata": {},
   "outputs": [],
   "source": [
    "canadian_data['Deaths per Confirmed Cases'] = (canadian_data['Deaths'].div(canadian_data['Confirmed Cases']))"
   ]
  },
  {
   "cell_type": "code",
   "execution_count": 156,
   "metadata": {
    "scrolled": true
   },
   "outputs": [],
   "source": [
    "canadian_data = canadian_data.assign(Confirmed_Cases_Per_Capita = canadian_data['Confirmed Cases'].div(canadian_population['Population']))\n",
    "canadian_data = canadian_data.assign(Deaths_Per_Capita = canadian_data['Deaths'].div(canadian_population['Population']))"
   ]
  },
  {
   "cell_type": "code",
   "execution_count": 157,
   "metadata": {},
   "outputs": [],
   "source": [
    "canadian_data.rename(columns = {'Confirmed_Cases_Per_Capita':'Confirmed Cases Per Capita', \n",
    "                                'Deaths_Per_Capita':'Deaths Per Capita'}, inplace = True)"
   ]
  },
  {
   "cell_type": "markdown",
   "metadata": {},
   "source": [
    "## Analysis"
   ]
  },
  {
   "cell_type": "markdown",
   "metadata": {},
   "source": [
    "### World record"
   ]
  },
  {
   "cell_type": "markdown",
   "metadata": {},
   "source": [
    "#### Plots"
   ]
  },
  {
   "cell_type": "code",
   "execution_count": 158,
   "metadata": {
    "scrolled": false
   },
   "outputs": [
    {
     "data": {
      "image/png": "[encoded data removed]",
      "text/plain": [
       "<Figure size 1080x1080 with 2 Axes>"
      ]
     },
     "metadata": {
      "needs_background": "light"
     },
     "output_type": "display_data"
    }
   ],
   "source": [
    "fig, (ax1, ax2) = plt.subplots(2, 1, figsize = (15,15))\n",
    "\n",
    "fig.suptitle('World Record')\n",
    "\n",
    "world_record.index.name = 'Date'\n",
    "\n",
    "world_record.plot(kind='line', y= ['total_cases', 'total_deaths'], ax = ax1)\n",
    "world_record.plot(kind='line', y= 'total_deaths', ax = ax2)\n",
    "\n",
    "plt.savefig('world.png', bbox_inches = 'tight')"
   ]
  },
  {
   "cell_type": "markdown",
   "metadata": {},
   "source": [
    "#### Table"
   ]
  },
  {
   "cell_type": "code",
   "execution_count": 159,
   "metadata": {
    "scrolled": true
   },
   "outputs": [
    {
     "data": {
      "text/html": [
       "<div>\n",
       "<style scoped>\n",
       "    .dataframe tbody tr th:only-of-type {\n",
       "        vertical-align: middle;\n",
       "    }\n",
       "\n",
       "    .dataframe tbody tr th {\n",
       "        vertical-align: top;\n",
       "    }\n",
       "\n",
       "    .dataframe thead th {\n",
       "        text-align: right;\n",
       "    }\n",
       "</style>\n",
       "<table border=\"1\" class=\"dataframe\">\n",
       "  <thead>\n",
       "    <tr style=\"text-align: right;\">\n",
       "      <th></th>\n",
       "      <th>location</th>\n",
       "      <th>new_cases</th>\n",
       "      <th>new_deaths</th>\n",
       "      <th>total_cases</th>\n",
       "      <th>total_deaths</th>\n",
       "    </tr>\n",
       "    <tr>\n",
       "      <th>Date</th>\n",
       "      <th></th>\n",
       "      <th></th>\n",
       "      <th></th>\n",
       "      <th></th>\n",
       "      <th></th>\n",
       "    </tr>\n",
       "  </thead>\n",
       "  <tbody>\n",
       "    <tr>\n",
       "      <td>2020-03-27</td>\n",
       "      <td>World</td>\n",
       "      <td>60096</td>\n",
       "      <td>2681</td>\n",
       "      <td>528025</td>\n",
       "      <td>23669</td>\n",
       "    </tr>\n",
       "  </tbody>\n",
       "</table>\n",
       "</div>"
      ],
      "text/plain": [
       "           location  new_cases  new_deaths  total_cases  total_deaths\n",
       "Date                                                                 \n",
       "2020-03-27    World      60096        2681       528025         23669"
      ]
     },
     "execution_count": 159,
     "metadata": {},
     "output_type": "execute_result"
    }
   ],
   "source": [
    "world_record[world_record.index == latest]"
   ]
  },
  {
   "cell_type": "markdown",
   "metadata": {},
   "source": [
    "### Top 5: total cases per capita and deaths per total"
   ]
  },
  {
   "cell_type": "code",
   "execution_count": 162,
   "metadata": {
    "scrolled": true
   },
   "outputs": [],
   "source": [
    "highest_total_cases_pc = data.nlargest(5, 'total_cases_per_capita')"
   ]
  },
  {
   "cell_type": "code",
   "execution_count": 164,
   "metadata": {
    "scrolled": true
   },
   "outputs": [],
   "source": [
    "highest_total_cases_pc = highest_total_cases_pc.merge(population, on = 'location')"
   ]
  },
  {
   "cell_type": "code",
   "execution_count": 165,
   "metadata": {},
   "outputs": [],
   "source": [
    "deaths_per_cases = data[data['total_cases'] > 50].nlargest(5, 'deaths_per_total')\n",
    "deaths_per_cases = deaths_per_cases.merge(population, on = 'location')"
   ]
  },
  {
   "cell_type": "code",
   "execution_count": 166,
   "metadata": {},
   "outputs": [],
   "source": [
    "total_cases_for_table = highest_total_cases_pc.drop(columns = ['total_deaths_per_capita', 'deaths_per_total', 'new_deaths', 'total_deaths'])\n",
    "total_cases_for_table = total_cases_for_table.reset_index()\n",
    "total_cases_for_table = total_cases_for_table.rename(columns = {'2018':'population'})"
   ]
  },
  {
   "cell_type": "code",
   "execution_count": 167,
   "metadata": {
    "scrolled": true
   },
   "outputs": [],
   "source": [
    "deathsratio_for_table = deaths_per_cases.drop(columns = ['new_cases', 'new_deaths', 'total_cases_per_capita', 'total_deaths_per_capita'])\n",
    "deathsratio_for_table = deathsratio_for_table.reset_index()\n",
    "deathsratio_for_table = deathsratio_for_table.rename(columns = {'2018':'population'})"
   ]
  },
  {
   "cell_type": "markdown",
   "metadata": {},
   "source": [
    "#### Plots"
   ]
  },
  {
   "cell_type": "code",
   "execution_count": 168,
   "metadata": {},
   "outputs": [
    {
     "data": {
      "image/png": "[encoded data removed]",
      "text/plain": [
       "<Figure size 936x576 with 2 Axes>"
      ]
     },
     "metadata": {
      "needs_background": "light"
     },
     "output_type": "display_data"
    }
   ],
   "source": [
    "fig, (ax1, ax2) = plt.subplots(1, 2, figsize=(13, 8))\n",
    "highest_total_cases_pc.sort_values(by = 'total_cases_per_capita', ascending = True).plot(kind='barh',y = 'total_cases_per_capita', ax = ax1,\n",
    "                            ylim = (0, data['total_cases_per_capita'].max()+ 0.0005))\n",
    "\n",
    "deaths_per_cases.sort_values(by = 'deaths_per_total', ascending = True).plot.barh(y = 'deaths_per_total', \n",
    "                                                      color ='red', ax = ax2,\n",
    "                                                      alpha = 0.6)\n",
    "plt.savefig('total_cases_per_capita_and_deaths_per_total.png', bbox_inches = 'tight')"
   ]
  },
  {
   "cell_type": "markdown",
   "metadata": {},
   "source": [
    "#### Tables"
   ]
  },
  {
   "cell_type": "markdown",
   "metadata": {},
   "source": [
    "##### Highest total cases per capita"
   ]
  },
  {
   "cell_type": "code",
   "execution_count": 169,
   "metadata": {
    "scrolled": true
   },
   "outputs": [
    {
     "data": {
      "text/html": [
       "<div>\n",
       "<style scoped>\n",
       "    .dataframe tbody tr th:only-of-type {\n",
       "        vertical-align: middle;\n",
       "    }\n",
       "\n",
       "    .dataframe tbody tr th {\n",
       "        vertical-align: top;\n",
       "    }\n",
       "\n",
       "    .dataframe thead th {\n",
       "        text-align: right;\n",
       "    }\n",
       "</style>\n",
       "<table border=\"1\" class=\"dataframe\">\n",
       "  <thead>\n",
       "    <tr style=\"text-align: right;\">\n",
       "      <th></th>\n",
       "      <th>location</th>\n",
       "      <th>new_cases</th>\n",
       "      <th>total_cases</th>\n",
       "      <th>total_cases_per_capita</th>\n",
       "      <th>population</th>\n",
       "    </tr>\n",
       "  </thead>\n",
       "  <tbody>\n",
       "    <tr>\n",
       "      <td>0</td>\n",
       "      <td>San Marino</td>\n",
       "      <td>10</td>\n",
       "      <td>218</td>\n",
       "      <td>0.006453</td>\n",
       "      <td>33785.0</td>\n",
       "    </tr>\n",
       "    <tr>\n",
       "      <td>1</td>\n",
       "      <td>Andorra</td>\n",
       "      <td>36</td>\n",
       "      <td>224</td>\n",
       "      <td>0.002909</td>\n",
       "      <td>77006.0</td>\n",
       "    </tr>\n",
       "    <tr>\n",
       "      <td>2</td>\n",
       "      <td>Faeroe Islands</td>\n",
       "      <td>8</td>\n",
       "      <td>140</td>\n",
       "      <td>0.002887</td>\n",
       "      <td>48497.0</td>\n",
       "    </tr>\n",
       "    <tr>\n",
       "      <td>3</td>\n",
       "      <td>Luxembourg</td>\n",
       "      <td>120</td>\n",
       "      <td>1453</td>\n",
       "      <td>0.002391</td>\n",
       "      <td>607728.0</td>\n",
       "    </tr>\n",
       "    <tr>\n",
       "      <td>4</td>\n",
       "      <td>Iceland</td>\n",
       "      <td>65</td>\n",
       "      <td>802</td>\n",
       "      <td>0.002268</td>\n",
       "      <td>353574.0</td>\n",
       "    </tr>\n",
       "  </tbody>\n",
       "</table>\n",
       "</div>"
      ],
      "text/plain": [
       "         location  new_cases  total_cases  total_cases_per_capita  population\n",
       "0      San Marino         10          218                0.006453     33785.0\n",
       "1         Andorra         36          224                0.002909     77006.0\n",
       "2  Faeroe Islands          8          140                0.002887     48497.0\n",
       "3      Luxembourg        120         1453                0.002391    607728.0\n",
       "4         Iceland         65          802                0.002268    353574.0"
      ]
     },
     "execution_count": 169,
     "metadata": {},
     "output_type": "execute_result"
    }
   ],
   "source": [
    "total_cases_for_table"
   ]
  },
  {
   "cell_type": "markdown",
   "metadata": {},
   "source": [
    "##### Highest deaths to total cases"
   ]
  },
  {
   "cell_type": "code",
   "execution_count": 170,
   "metadata": {},
   "outputs": [
    {
     "data": {
      "text/html": [
       "<div>\n",
       "<style scoped>\n",
       "    .dataframe tbody tr th:only-of-type {\n",
       "        vertical-align: middle;\n",
       "    }\n",
       "\n",
       "    .dataframe tbody tr th {\n",
       "        vertical-align: top;\n",
       "    }\n",
       "\n",
       "    .dataframe thead th {\n",
       "        text-align: right;\n",
       "    }\n",
       "</style>\n",
       "<table border=\"1\" class=\"dataframe\">\n",
       "  <thead>\n",
       "    <tr style=\"text-align: right;\">\n",
       "      <th></th>\n",
       "      <th>location</th>\n",
       "      <th>total_cases</th>\n",
       "      <th>total_deaths</th>\n",
       "      <th>deaths_per_total</th>\n",
       "      <th>population</th>\n",
       "    </tr>\n",
       "  </thead>\n",
       "  <tbody>\n",
       "    <tr>\n",
       "      <td>0</td>\n",
       "      <td>Italy</td>\n",
       "      <td>80539</td>\n",
       "      <td>8165</td>\n",
       "      <td>0.1014</td>\n",
       "      <td>60431283.0</td>\n",
       "    </tr>\n",
       "    <tr>\n",
       "      <td>1</td>\n",
       "      <td>San Marino</td>\n",
       "      <td>218</td>\n",
       "      <td>21</td>\n",
       "      <td>0.0963</td>\n",
       "      <td>33785.0</td>\n",
       "    </tr>\n",
       "    <tr>\n",
       "      <td>2</td>\n",
       "      <td>Iraq</td>\n",
       "      <td>382</td>\n",
       "      <td>36</td>\n",
       "      <td>0.0942</td>\n",
       "      <td>38433600.0</td>\n",
       "    </tr>\n",
       "    <tr>\n",
       "      <td>3</td>\n",
       "      <td>Indonesia</td>\n",
       "      <td>893</td>\n",
       "      <td>78</td>\n",
       "      <td>0.0873</td>\n",
       "      <td>267663435.0</td>\n",
       "    </tr>\n",
       "    <tr>\n",
       "      <td>4</td>\n",
       "      <td>Iran</td>\n",
       "      <td>29406</td>\n",
       "      <td>2234</td>\n",
       "      <td>0.0760</td>\n",
       "      <td>81800269.0</td>\n",
       "    </tr>\n",
       "  </tbody>\n",
       "</table>\n",
       "</div>"
      ],
      "text/plain": [
       "     location  total_cases  total_deaths  deaths_per_total   population\n",
       "0       Italy        80539          8165            0.1014   60431283.0\n",
       "1  San Marino          218            21            0.0963      33785.0\n",
       "2        Iraq          382            36            0.0942   38433600.0\n",
       "3   Indonesia          893            78            0.0873  267663435.0\n",
       "4        Iran        29406          2234            0.0760   81800269.0"
      ]
     },
     "execution_count": 170,
     "metadata": {},
     "output_type": "execute_result"
    }
   ],
   "source": [
    "deathsratio_for_table"
   ]
  },
  {
   "cell_type": "markdown",
   "metadata": {},
   "source": [
    "### Comparison between select countries"
   ]
  },
  {
   "cell_type": "code",
   "execution_count": 175,
   "metadata": {},
   "outputs": [],
   "source": [
    "filter_countries = ['Canada','United States', 'Pakistan', 'China', 'Italy']"
   ]
  },
  {
   "cell_type": "code",
   "execution_count": 176,
   "metadata": {},
   "outputs": [],
   "source": [
    "earliest = '2020-03-01'\n",
    "country_subset = rdata[rdata['location'].isin(filter_countries) & rdata['date_fm'].between(earliest, latest)]\n",
    "country_subset = country_subset.drop(columns = ['date'])\n",
    "country_subset = country_subset.set_index('date_fm')\n",
    "country_subset.index.name = 'Date'"
   ]
  },
  {
   "cell_type": "code",
   "execution_count": 177,
   "metadata": {},
   "outputs": [],
   "source": [
    "percapita = pd.DataFrame(country_subset['location'])\n",
    "percapita['new_cases_per_capita'] =  country_subset['new_cases'].div(country_subset['location'].map(population['2018']))"
   ]
  },
  {
   "cell_type": "code",
   "execution_count": 178,
   "metadata": {},
   "outputs": [],
   "source": [
    "percapita_total = pd.DataFrame(country_subset['location'])\n",
    "percapita_total['total_cases_per_capita'] =  country_subset['total_cases'].div(country_subset['location'].map(population['2018']))"
   ]
  },
  {
   "cell_type": "markdown",
   "metadata": {},
   "source": [
    "#### Plots"
   ]
  },
  {
   "cell_type": "markdown",
   "metadata": {},
   "source": [
    "##### By new cases"
   ]
  },
  {
   "cell_type": "code",
   "execution_count": 179,
   "metadata": {
    "scrolled": false
   },
   "outputs": [
    {
     "data": {
      "image/png": "[encoded data removed]",
      "text/plain": [
       "<Figure size 1080x720 with 1 Axes>"
      ]
     },
     "metadata": {
      "needs_background": "light"
     },
     "output_type": "display_data"
    }
   ],
   "source": [
    "_, ax = plt.subplots(figsize = (15, 10))\n",
    "ax.set_title('Comparison of New Cases Over Time')\n",
    "\n",
    "for name, group in country_subset.groupby('location'):\n",
    "    group.plot(kind ='line', y = 'new_cases', ax = ax, label = name)\n",
    "\n",
    "plt.savefig('select_countries_new_cases.png', bbox_inches = 'tight')"
   ]
  },
  {
   "cell_type": "markdown",
   "metadata": {},
   "source": [
    "##### New cases per capita"
   ]
  },
  {
   "cell_type": "code",
   "execution_count": 180,
   "metadata": {
    "scrolled": false
   },
   "outputs": [
    {
     "data": {
      "image/png": "[encoded data removed]",
      "text/plain": [
       "<Figure size 1080x720 with 1 Axes>"
      ]
     },
     "metadata": {
      "needs_background": "light"
     },
     "output_type": "display_data"
    }
   ],
   "source": [
    "_, ax = plt.subplots(figsize = (15, 10))\n",
    "\n",
    "ax.set_title('Comparison of New Cases Per Capita Over Time')\n",
    "\n",
    "for name, group in percapita.groupby('location'):\n",
    "    group.plot(kind ='line', y = 'new_cases_per_capita', ax = ax, label = name)\n",
    "\n",
    "plt.savefig('select_countries_new_cases_per_capita.png', bbox_inches = 'tight')"
   ]
  },
  {
   "cell_type": "markdown",
   "metadata": {},
   "source": [
    "##### Total cases per capita"
   ]
  },
  {
   "cell_type": "code",
   "execution_count": 181,
   "metadata": {},
   "outputs": [
    {
     "data": {
      "image/png": "[encoded data removed]",
      "text/plain": [
       "<Figure size 1080x720 with 1 Axes>"
      ]
     },
     "metadata": {
      "needs_background": "light"
     },
     "output_type": "display_data"
    }
   ],
   "source": [
    "_, ax = plt.subplots(figsize = (15, 10))\n",
    "\n",
    "ax.set_title('Comparison of Total Cases Per Capita Over Time')\n",
    "\n",
    "for name, group in percapita_total.groupby('location'):\n",
    "    group.plot(kind ='line', y = 'total_cases_per_capita', ax = ax, label = name)\n",
    "\n",
    "plt.savefig('select_countries_total_cases_per_capita.png', bbox_inches = 'tight')"
   ]
  },
  {
   "cell_type": "code",
   "execution_count": 182,
   "metadata": {
    "scrolled": false
   },
   "outputs": [
    {
     "data": {
      "text/html": [
       "<div>\n",
       "<style scoped>\n",
       "    .dataframe tbody tr th:only-of-type {\n",
       "        vertical-align: middle;\n",
       "    }\n",
       "\n",
       "    .dataframe tbody tr th {\n",
       "        vertical-align: top;\n",
       "    }\n",
       "\n",
       "    .dataframe thead th {\n",
       "        text-align: right;\n",
       "    }\n",
       "</style>\n",
       "<table border=\"1\" class=\"dataframe\">\n",
       "  <thead>\n",
       "    <tr style=\"text-align: right;\">\n",
       "      <th></th>\n",
       "      <th>location</th>\n",
       "      <th>new_cases</th>\n",
       "      <th>new_deaths</th>\n",
       "      <th>total_cases</th>\n",
       "      <th>total_deaths</th>\n",
       "    </tr>\n",
       "    <tr>\n",
       "      <th>Date</th>\n",
       "      <th></th>\n",
       "      <th></th>\n",
       "      <th></th>\n",
       "      <th></th>\n",
       "      <th></th>\n",
       "    </tr>\n",
       "  </thead>\n",
       "  <tbody>\n",
       "    <tr>\n",
       "      <td>2020-03-23</td>\n",
       "      <td>United States</td>\n",
       "      <td>8459</td>\n",
       "      <td>131</td>\n",
       "      <td>35206</td>\n",
       "      <td>471</td>\n",
       "    </tr>\n",
       "    <tr>\n",
       "      <td>2020-03-24</td>\n",
       "      <td>United States</td>\n",
       "      <td>11236</td>\n",
       "      <td>119</td>\n",
       "      <td>46442</td>\n",
       "      <td>590</td>\n",
       "    </tr>\n",
       "    <tr>\n",
       "      <td>2020-03-25</td>\n",
       "      <td>United States</td>\n",
       "      <td>8789</td>\n",
       "      <td>211</td>\n",
       "      <td>55231</td>\n",
       "      <td>801</td>\n",
       "    </tr>\n",
       "    <tr>\n",
       "      <td>2020-03-26</td>\n",
       "      <td>United States</td>\n",
       "      <td>13963</td>\n",
       "      <td>249</td>\n",
       "      <td>69194</td>\n",
       "      <td>1050</td>\n",
       "    </tr>\n",
       "    <tr>\n",
       "      <td>2020-03-27</td>\n",
       "      <td>United States</td>\n",
       "      <td>16797</td>\n",
       "      <td>246</td>\n",
       "      <td>85991</td>\n",
       "      <td>1296</td>\n",
       "    </tr>\n",
       "  </tbody>\n",
       "</table>\n",
       "</div>"
      ],
      "text/plain": [
       "                 location  new_cases  new_deaths  total_cases  total_deaths\n",
       "Date                                                                       \n",
       "2020-03-23  United States       8459         131        35206           471\n",
       "2020-03-24  United States      11236         119        46442           590\n",
       "2020-03-25  United States       8789         211        55231           801\n",
       "2020-03-26  United States      13963         249        69194          1050\n",
       "2020-03-27  United States      16797         246        85991          1296"
      ]
     },
     "execution_count": 182,
     "metadata": {},
     "output_type": "execute_result"
    }
   ],
   "source": [
    "new_cases_selected_country = country_subset[country_subset['location'] == 'United States']\n",
    "new_cases_selected_country.tail(n = 5)"
   ]
  },
  {
   "cell_type": "markdown",
   "metadata": {},
   "source": [
    "### Highest number of total cases and deaths"
   ]
  },
  {
   "cell_type": "code",
   "execution_count": 183,
   "metadata": {},
   "outputs": [],
   "source": [
    "highest_total_cases = data.nlargest(5, 'total_cases')\n",
    "highest_deaths = data.nlargest(5, 'total_deaths')"
   ]
  },
  {
   "cell_type": "markdown",
   "metadata": {},
   "source": [
    "#### Plots"
   ]
  },
  {
   "cell_type": "code",
   "execution_count": 184,
   "metadata": {},
   "outputs": [
    {
     "data": {
      "image/png": "[encoded data removed]",
      "text/plain": [
       "<Figure size 936x576 with 2 Axes>"
      ]
     },
     "metadata": {
      "needs_background": "light"
     },
     "output_type": "display_data"
    }
   ],
   "source": [
    "fig, (ax1, ax2) = plt.subplots(1, 2, figsize=(13, 8))\n",
    "fig.suptitle('Top 5 Countries')\n",
    "\n",
    "highest_total_cases.plot(kind = 'bar', y = 'total_cases', color = ['blue'], ax = ax1)\n",
    "highest_deaths.plot(kind = 'bar', y = 'total_deaths', color = ['red'], ax = ax2)\n",
    "plt.savefig('highest_total_cases_and_deaths.png', bbox_inches = 'tight')"
   ]
  },
  {
   "cell_type": "markdown",
   "metadata": {},
   "source": [
    "#### Tables"
   ]
  },
  {
   "cell_type": "markdown",
   "metadata": {},
   "source": [
    "##### Highest total cases"
   ]
  },
  {
   "cell_type": "code",
   "execution_count": 185,
   "metadata": {
    "scrolled": true
   },
   "outputs": [
    {
     "data": {
      "text/html": [
       "<div>\n",
       "<style scoped>\n",
       "    .dataframe tbody tr th:only-of-type {\n",
       "        vertical-align: middle;\n",
       "    }\n",
       "\n",
       "    .dataframe tbody tr th {\n",
       "        vertical-align: top;\n",
       "    }\n",
       "\n",
       "    .dataframe thead th {\n",
       "        text-align: right;\n",
       "    }\n",
       "</style>\n",
       "<table border=\"1\" class=\"dataframe\">\n",
       "  <thead>\n",
       "    <tr style=\"text-align: right;\">\n",
       "      <th></th>\n",
       "      <th>new_cases</th>\n",
       "      <th>new_deaths</th>\n",
       "      <th>total_cases</th>\n",
       "      <th>total_deaths</th>\n",
       "      <th>total_cases_per_capita</th>\n",
       "      <th>total_deaths_per_capita</th>\n",
       "      <th>deaths_per_total</th>\n",
       "    </tr>\n",
       "    <tr>\n",
       "      <th>location</th>\n",
       "      <th></th>\n",
       "      <th></th>\n",
       "      <th></th>\n",
       "      <th></th>\n",
       "      <th></th>\n",
       "      <th></th>\n",
       "      <th></th>\n",
       "    </tr>\n",
       "  </thead>\n",
       "  <tbody>\n",
       "    <tr>\n",
       "      <td>United States</td>\n",
       "      <td>16797</td>\n",
       "      <td>246</td>\n",
       "      <td>85991</td>\n",
       "      <td>1296</td>\n",
       "      <td>0.000263</td>\n",
       "      <td>0.000004</td>\n",
       "      <td>0.0151</td>\n",
       "    </tr>\n",
       "    <tr>\n",
       "      <td>China</td>\n",
       "      <td>111</td>\n",
       "      <td>5</td>\n",
       "      <td>82079</td>\n",
       "      <td>3298</td>\n",
       "      <td>0.000059</td>\n",
       "      <td>0.000002</td>\n",
       "      <td>0.0402</td>\n",
       "    </tr>\n",
       "    <tr>\n",
       "      <td>Italy</td>\n",
       "      <td>6153</td>\n",
       "      <td>660</td>\n",
       "      <td>80539</td>\n",
       "      <td>8165</td>\n",
       "      <td>0.001333</td>\n",
       "      <td>0.000135</td>\n",
       "      <td>0.1014</td>\n",
       "    </tr>\n",
       "    <tr>\n",
       "      <td>Spain</td>\n",
       "      <td>8578</td>\n",
       "      <td>655</td>\n",
       "      <td>56188</td>\n",
       "      <td>4089</td>\n",
       "      <td>0.001203</td>\n",
       "      <td>0.000088</td>\n",
       "      <td>0.0728</td>\n",
       "    </tr>\n",
       "    <tr>\n",
       "      <td>Germany</td>\n",
       "      <td>5780</td>\n",
       "      <td>55</td>\n",
       "      <td>42288</td>\n",
       "      <td>253</td>\n",
       "      <td>0.000510</td>\n",
       "      <td>0.000003</td>\n",
       "      <td>0.0060</td>\n",
       "    </tr>\n",
       "  </tbody>\n",
       "</table>\n",
       "</div>"
      ],
      "text/plain": [
       "               new_cases  new_deaths  total_cases  total_deaths  \\\n",
       "location                                                          \n",
       "United States      16797         246        85991          1296   \n",
       "China                111           5        82079          3298   \n",
       "Italy               6153         660        80539          8165   \n",
       "Spain               8578         655        56188          4089   \n",
       "Germany             5780          55        42288           253   \n",
       "\n",
       "               total_cases_per_capita  total_deaths_per_capita  \\\n",
       "location                                                         \n",
       "United States                0.000263                 0.000004   \n",
       "China                        0.000059                 0.000002   \n",
       "Italy                        0.001333                 0.000135   \n",
       "Spain                        0.001203                 0.000088   \n",
       "Germany                      0.000510                 0.000003   \n",
       "\n",
       "               deaths_per_total  \n",
       "location                         \n",
       "United States            0.0151  \n",
       "China                    0.0402  \n",
       "Italy                    0.1014  \n",
       "Spain                    0.0728  \n",
       "Germany                  0.0060  "
      ]
     },
     "execution_count": 185,
     "metadata": {},
     "output_type": "execute_result"
    }
   ],
   "source": [
    "highest_total_cases"
   ]
  },
  {
   "cell_type": "markdown",
   "metadata": {},
   "source": [
    "##### Highest total deaths"
   ]
  },
  {
   "cell_type": "code",
   "execution_count": 188,
   "metadata": {},
   "outputs": [
    {
     "data": {
      "text/html": [
       "<div>\n",
       "<style scoped>\n",
       "    .dataframe tbody tr th:only-of-type {\n",
       "        vertical-align: middle;\n",
       "    }\n",
       "\n",
       "    .dataframe tbody tr th {\n",
       "        vertical-align: top;\n",
       "    }\n",
       "\n",
       "    .dataframe thead th {\n",
       "        text-align: right;\n",
       "    }\n",
       "</style>\n",
       "<table border=\"1\" class=\"dataframe\">\n",
       "  <thead>\n",
       "    <tr style=\"text-align: right;\">\n",
       "      <th></th>\n",
       "      <th>new_cases</th>\n",
       "      <th>new_deaths</th>\n",
       "      <th>total_cases</th>\n",
       "      <th>total_deaths</th>\n",
       "      <th>total_cases_per_capita</th>\n",
       "      <th>total_deaths_per_capita</th>\n",
       "      <th>deaths_per_total</th>\n",
       "    </tr>\n",
       "    <tr>\n",
       "      <th>location</th>\n",
       "      <th></th>\n",
       "      <th></th>\n",
       "      <th></th>\n",
       "      <th></th>\n",
       "      <th></th>\n",
       "      <th></th>\n",
       "      <th></th>\n",
       "    </tr>\n",
       "  </thead>\n",
       "  <tbody>\n",
       "    <tr>\n",
       "      <td>Italy</td>\n",
       "      <td>6153</td>\n",
       "      <td>660</td>\n",
       "      <td>80539</td>\n",
       "      <td>8165</td>\n",
       "      <td>0.001333</td>\n",
       "      <td>0.000135</td>\n",
       "      <td>0.1014</td>\n",
       "    </tr>\n",
       "    <tr>\n",
       "      <td>Spain</td>\n",
       "      <td>8578</td>\n",
       "      <td>655</td>\n",
       "      <td>56188</td>\n",
       "      <td>4089</td>\n",
       "      <td>0.001203</td>\n",
       "      <td>0.000088</td>\n",
       "      <td>0.0728</td>\n",
       "    </tr>\n",
       "    <tr>\n",
       "      <td>China</td>\n",
       "      <td>111</td>\n",
       "      <td>5</td>\n",
       "      <td>82079</td>\n",
       "      <td>3298</td>\n",
       "      <td>0.000059</td>\n",
       "      <td>0.000002</td>\n",
       "      <td>0.0402</td>\n",
       "    </tr>\n",
       "    <tr>\n",
       "      <td>Iran</td>\n",
       "      <td>2389</td>\n",
       "      <td>157</td>\n",
       "      <td>29406</td>\n",
       "      <td>2234</td>\n",
       "      <td>0.000359</td>\n",
       "      <td>0.000027</td>\n",
       "      <td>0.0760</td>\n",
       "    </tr>\n",
       "    <tr>\n",
       "      <td>France</td>\n",
       "      <td>3922</td>\n",
       "      <td>365</td>\n",
       "      <td>29155</td>\n",
       "      <td>1696</td>\n",
       "      <td>0.000435</td>\n",
       "      <td>0.000025</td>\n",
       "      <td>0.0582</td>\n",
       "    </tr>\n",
       "  </tbody>\n",
       "</table>\n",
       "</div>"
      ],
      "text/plain": [
       "          new_cases  new_deaths  total_cases  total_deaths  \\\n",
       "location                                                     \n",
       "Italy          6153         660        80539          8165   \n",
       "Spain          8578         655        56188          4089   \n",
       "China           111           5        82079          3298   \n",
       "Iran           2389         157        29406          2234   \n",
       "France         3922         365        29155          1696   \n",
       "\n",
       "          total_cases_per_capita  total_deaths_per_capita  deaths_per_total  \n",
       "location                                                                     \n",
       "Italy                   0.001333                 0.000135            0.1014  \n",
       "Spain                   0.001203                 0.000088            0.0728  \n",
       "China                   0.000059                 0.000002            0.0402  \n",
       "Iran                    0.000359                 0.000027            0.0760  \n",
       "France                  0.000435                 0.000025            0.0582  "
      ]
     },
     "execution_count": 188,
     "metadata": {},
     "output_type": "execute_result"
    }
   ],
   "source": [
    "highest_deaths"
   ]
  },
  {
   "cell_type": "markdown",
   "metadata": {},
   "source": [
    "### Canadian provinces and territories"
   ]
  },
  {
   "cell_type": "markdown",
   "metadata": {},
   "source": [
    "#### Cases and Deaths"
   ]
  },
  {
   "cell_type": "code",
   "execution_count": 189,
   "metadata": {},
   "outputs": [
    {
     "data": {
      "image/png": "[encoded data removed]",
      "text/plain": [
       "<Figure size 1440x1440 with 1 Axes>"
      ]
     },
     "metadata": {
      "needs_background": "light"
     },
     "output_type": "display_data"
    }
   ],
   "source": [
    "canadian_data.plot(kind = 'bar', color = ['blue', 'orange', 'red', 'purple'], figsize = (20,20))\n",
    "plt.savefig('canadian_provinces_all.png', bbox_inches = 'tight')"
   ]
  },
  {
   "cell_type": "code",
   "execution_count": 198,
   "metadata": {
    "scrolled": false
   },
   "outputs": [],
   "source": [
    "canadian_data.sort_values(by = 'Confirmed Cases', ascending = False, inplace = True)"
   ]
  },
  {
   "cell_type": "markdown",
   "metadata": {},
   "source": [
    "##### Plots"
   ]
  },
  {
   "cell_type": "code",
   "execution_count": 191,
   "metadata": {
    "scrolled": false
   },
   "outputs": [
    {
     "data": {
      "image/png": "[encoded data removed]",
      "text/plain": [
       "<Figure size 1440x360 with 3 Axes>"
      ]
     },
     "metadata": {
      "needs_background": "light"
     },
     "output_type": "display_data"
    }
   ],
   "source": [
    "_, (ax1, ax2, ax3) = plt.subplots(1, 3, figsize=(20, 5))\n",
    "canadian_data.plot(kind = 'bar', y = 'Confirmed Cases', color = ['blue'], ax = ax1)\n",
    "canadian_data.plot(kind = 'bar', y = 'Deaths', color = ['red'], ax = ax2)\n",
    "canadian_data.plot(kind = 'bar', y = 'Deaths per Confirmed Cases', color = ['purple'], ax = ax3)\n",
    "plt.savefig('canadian_provinces.png', bbox_inches = 'tight')"
   ]
  },
  {
   "cell_type": "markdown",
   "metadata": {},
   "source": [
    "##### Tables"
   ]
  },
  {
   "cell_type": "markdown",
   "metadata": {},
   "source": [
    "###### Total"
   ]
  },
  {
   "cell_type": "code",
   "execution_count": 192,
   "metadata": {
    "scrolled": true
   },
   "outputs": [
    {
     "data": {
      "text/html": [
       "<div>\n",
       "<style scoped>\n",
       "    .dataframe tbody tr th:only-of-type {\n",
       "        vertical-align: middle;\n",
       "    }\n",
       "\n",
       "    .dataframe tbody tr th {\n",
       "        vertical-align: top;\n",
       "    }\n",
       "\n",
       "    .dataframe thead th {\n",
       "        text-align: right;\n",
       "    }\n",
       "</style>\n",
       "<table border=\"1\" class=\"dataframe\">\n",
       "  <thead>\n",
       "    <tr style=\"text-align: right;\">\n",
       "      <th></th>\n",
       "      <th>Confirmed Cases</th>\n",
       "      <th>Probable Cases</th>\n",
       "      <th>Deaths</th>\n",
       "    </tr>\n",
       "    <tr>\n",
       "      <th>Location</th>\n",
       "      <th></th>\n",
       "      <th></th>\n",
       "      <th></th>\n",
       "    </tr>\n",
       "  </thead>\n",
       "  <tbody>\n",
       "    <tr>\n",
       "      <td>Total</td>\n",
       "      <td>4018</td>\n",
       "      <td>25</td>\n",
       "      <td>39</td>\n",
       "    </tr>\n",
       "  </tbody>\n",
       "</table>\n",
       "</div>"
      ],
      "text/plain": [
       "          Confirmed Cases  Probable Cases  Deaths\n",
       "Location                                         \n",
       "Total                4018              25      39"
      ]
     },
     "execution_count": 192,
     "metadata": {},
     "output_type": "execute_result"
    }
   ],
   "source": [
    "canadian_data_total"
   ]
  },
  {
   "cell_type": "markdown",
   "metadata": {},
   "source": [
    "###### Sorted by confirmed cases"
   ]
  },
  {
   "cell_type": "code",
   "execution_count": 193,
   "metadata": {},
   "outputs": [
    {
     "data": {
      "text/html": [
       "<div>\n",
       "<style scoped>\n",
       "    .dataframe tbody tr th:only-of-type {\n",
       "        vertical-align: middle;\n",
       "    }\n",
       "\n",
       "    .dataframe tbody tr th {\n",
       "        vertical-align: top;\n",
       "    }\n",
       "\n",
       "    .dataframe thead th {\n",
       "        text-align: right;\n",
       "    }\n",
       "</style>\n",
       "<table border=\"1\" class=\"dataframe\">\n",
       "  <thead>\n",
       "    <tr style=\"text-align: right;\">\n",
       "      <th></th>\n",
       "      <th>Confirmed Cases</th>\n",
       "      <th>Probable Cases</th>\n",
       "      <th>Deaths</th>\n",
       "      <th>Deaths per Confirmed Cases</th>\n",
       "      <th>Confirmed Cases Per Capita</th>\n",
       "      <th>Deaths Per Capita</th>\n",
       "    </tr>\n",
       "    <tr>\n",
       "      <th>Location</th>\n",
       "      <th></th>\n",
       "      <th></th>\n",
       "      <th></th>\n",
       "      <th></th>\n",
       "      <th></th>\n",
       "      <th></th>\n",
       "    </tr>\n",
       "  </thead>\n",
       "  <tbody>\n",
       "    <tr>\n",
       "      <td>Quebec</td>\n",
       "      <td>1629</td>\n",
       "      <td>0</td>\n",
       "      <td>8</td>\n",
       "      <td>0.004911</td>\n",
       "      <td>0.000191</td>\n",
       "      <td>9.370234e-07</td>\n",
       "    </tr>\n",
       "    <tr>\n",
       "      <td>Ontario</td>\n",
       "      <td>858</td>\n",
       "      <td>0</td>\n",
       "      <td>15</td>\n",
       "      <td>0.017483</td>\n",
       "      <td>0.000058</td>\n",
       "      <td>1.019588e-06</td>\n",
       "    </tr>\n",
       "    <tr>\n",
       "      <td>British Columbia</td>\n",
       "      <td>725</td>\n",
       "      <td>0</td>\n",
       "      <td>14</td>\n",
       "      <td>0.019310</td>\n",
       "      <td>0.000142</td>\n",
       "      <td>2.739234e-06</td>\n",
       "    </tr>\n",
       "    <tr>\n",
       "      <td>Alberta</td>\n",
       "      <td>486</td>\n",
       "      <td>0</td>\n",
       "      <td>2</td>\n",
       "      <td>0.004115</td>\n",
       "      <td>0.000110</td>\n",
       "      <td>4.531914e-07</td>\n",
       "    </tr>\n",
       "    <tr>\n",
       "      <td>Saskatchewan</td>\n",
       "      <td>95</td>\n",
       "      <td>0</td>\n",
       "      <td>0</td>\n",
       "      <td>0.000000</td>\n",
       "      <td>0.000080</td>\n",
       "      <td>0.000000e+00</td>\n",
       "    </tr>\n",
       "    <tr>\n",
       "      <td>Newfoundland and Labrador</td>\n",
       "      <td>82</td>\n",
       "      <td>0</td>\n",
       "      <td>0</td>\n",
       "      <td>0.000000</td>\n",
       "      <td>0.000157</td>\n",
       "      <td>0.000000e+00</td>\n",
       "    </tr>\n",
       "    <tr>\n",
       "      <td>Nova Scotia</td>\n",
       "      <td>73</td>\n",
       "      <td>0</td>\n",
       "      <td>0</td>\n",
       "      <td>0.000000</td>\n",
       "      <td>0.000075</td>\n",
       "      <td>0.000000e+00</td>\n",
       "    </tr>\n",
       "    <tr>\n",
       "      <td>New Brunswick</td>\n",
       "      <td>33</td>\n",
       "      <td>0</td>\n",
       "      <td>0</td>\n",
       "      <td>0.000000</td>\n",
       "      <td>0.000042</td>\n",
       "      <td>0.000000e+00</td>\n",
       "    </tr>\n",
       "    <tr>\n",
       "      <td>Manitoba</td>\n",
       "      <td>11</td>\n",
       "      <td>25</td>\n",
       "      <td>0</td>\n",
       "      <td>0.000000</td>\n",
       "      <td>0.000008</td>\n",
       "      <td>0.000000e+00</td>\n",
       "    </tr>\n",
       "    <tr>\n",
       "      <td>Prince Edward Island</td>\n",
       "      <td>9</td>\n",
       "      <td>0</td>\n",
       "      <td>0</td>\n",
       "      <td>0.000000</td>\n",
       "      <td>0.000057</td>\n",
       "      <td>0.000000e+00</td>\n",
       "    </tr>\n",
       "    <tr>\n",
       "      <td>Yukon</td>\n",
       "      <td>3</td>\n",
       "      <td>0</td>\n",
       "      <td>0</td>\n",
       "      <td>0.000000</td>\n",
       "      <td>0.000073</td>\n",
       "      <td>0.000000e+00</td>\n",
       "    </tr>\n",
       "    <tr>\n",
       "      <td>Northwest Territories</td>\n",
       "      <td>1</td>\n",
       "      <td>0</td>\n",
       "      <td>0</td>\n",
       "      <td>0.000000</td>\n",
       "      <td>0.000022</td>\n",
       "      <td>0.000000e+00</td>\n",
       "    </tr>\n",
       "    <tr>\n",
       "      <td>Nunavut</td>\n",
       "      <td>0</td>\n",
       "      <td>0</td>\n",
       "      <td>0</td>\n",
       "      <td>NaN</td>\n",
       "      <td>0.000000</td>\n",
       "      <td>0.000000e+00</td>\n",
       "    </tr>\n",
       "  </tbody>\n",
       "</table>\n",
       "</div>"
      ],
      "text/plain": [
       "                           Confirmed Cases  Probable Cases  Deaths  \\\n",
       "Location                                                             \n",
       "Quebec                                1629               0       8   \n",
       "Ontario                                858               0      15   \n",
       "British Columbia                       725               0      14   \n",
       "Alberta                                486               0       2   \n",
       "Saskatchewan                            95               0       0   \n",
       "Newfoundland and Labrador               82               0       0   \n",
       "Nova Scotia                             73               0       0   \n",
       "New Brunswick                           33               0       0   \n",
       "Manitoba                                11              25       0   \n",
       "Prince Edward Island                     9               0       0   \n",
       "Yukon                                    3               0       0   \n",
       "Northwest Territories                    1               0       0   \n",
       "Nunavut                                  0               0       0   \n",
       "\n",
       "                           Deaths per Confirmed Cases  \\\n",
       "Location                                                \n",
       "Quebec                                       0.004911   \n",
       "Ontario                                      0.017483   \n",
       "British Columbia                             0.019310   \n",
       "Alberta                                      0.004115   \n",
       "Saskatchewan                                 0.000000   \n",
       "Newfoundland and Labrador                    0.000000   \n",
       "Nova Scotia                                  0.000000   \n",
       "New Brunswick                                0.000000   \n",
       "Manitoba                                     0.000000   \n",
       "Prince Edward Island                         0.000000   \n",
       "Yukon                                        0.000000   \n",
       "Northwest Territories                        0.000000   \n",
       "Nunavut                                           NaN   \n",
       "\n",
       "                           Confirmed Cases Per Capita  Deaths Per Capita  \n",
       "Location                                                                  \n",
       "Quebec                                       0.000191       9.370234e-07  \n",
       "Ontario                                      0.000058       1.019588e-06  \n",
       "British Columbia                             0.000142       2.739234e-06  \n",
       "Alberta                                      0.000110       4.531914e-07  \n",
       "Saskatchewan                                 0.000080       0.000000e+00  \n",
       "Newfoundland and Labrador                    0.000157       0.000000e+00  \n",
       "Nova Scotia                                  0.000075       0.000000e+00  \n",
       "New Brunswick                                0.000042       0.000000e+00  \n",
       "Manitoba                                     0.000008       0.000000e+00  \n",
       "Prince Edward Island                         0.000057       0.000000e+00  \n",
       "Yukon                                        0.000073       0.000000e+00  \n",
       "Northwest Territories                        0.000022       0.000000e+00  \n",
       "Nunavut                                      0.000000       0.000000e+00  "
      ]
     },
     "execution_count": 193,
     "metadata": {},
     "output_type": "execute_result"
    }
   ],
   "source": [
    "canadian_data"
   ]
  },
  {
   "cell_type": "markdown",
   "metadata": {},
   "source": [
    "#### Per Capita"
   ]
  },
  {
   "cell_type": "markdown",
   "metadata": {},
   "source": [
    "##### Plots"
   ]
  },
  {
   "cell_type": "code",
   "execution_count": 194,
   "metadata": {
    "scrolled": false
   },
   "outputs": [
    {
     "data": {
      "image/png": "[encoded data removed]",
      "text/plain": [
       "<Figure size 1440x360 with 2 Axes>"
      ]
     },
     "metadata": {
      "needs_background": "light"
     },
     "output_type": "display_data"
    }
   ],
   "source": [
    "cdata_sorted = canadian_data.sort_values(by = 'Confirmed Cases Per Capita', ascending = False)\n",
    "\n",
    "fig, (ax1, ax2) = plt.subplots(1, 2, figsize=(20, 5))\n",
    "fig.suptitle('Canadian Provinces and Territories Per Capita')\n",
    "\n",
    "cdata_sorted.plot(kind = 'bar', y = 'Confirmed Cases Per Capita', color = ['blue'], ax = ax1)\n",
    "cdata_sorted.plot(kind = 'bar', y = 'Deaths Per Capita', color = ['red'], ax = ax2)\n",
    "\n",
    "plt.savefig('canadian_provinces_per_capita.png', bbox_inches = 'tight')"
   ]
  },
  {
   "cell_type": "markdown",
   "metadata": {},
   "source": [
    "##### Tables"
   ]
  },
  {
   "cell_type": "markdown",
   "metadata": {},
   "source": [
    "###### Sorted by confirmed cases per capita"
   ]
  },
  {
   "cell_type": "code",
   "execution_count": 101,
   "metadata": {
    "scrolled": false
   },
   "outputs": [
    {
     "data": {
      "text/html": [
       "<div>\n",
       "<style scoped>\n",
       "    .dataframe tbody tr th:only-of-type {\n",
       "        vertical-align: middle;\n",
       "    }\n",
       "\n",
       "    .dataframe tbody tr th {\n",
       "        vertical-align: top;\n",
       "    }\n",
       "\n",
       "    .dataframe thead th {\n",
       "        text-align: right;\n",
       "    }\n",
       "</style>\n",
       "<table border=\"1\" class=\"dataframe\">\n",
       "  <thead>\n",
       "    <tr style=\"text-align: right;\">\n",
       "      <th></th>\n",
       "      <th>Confirmed Cases</th>\n",
       "      <th>Probable Cases</th>\n",
       "      <th>Deaths</th>\n",
       "      <th>Deaths per Confirmed Cases</th>\n",
       "      <th>Confirmed Cases Per Capita</th>\n",
       "      <th>Deaths Per Capita</th>\n",
       "    </tr>\n",
       "    <tr>\n",
       "      <th>Location</th>\n",
       "      <th></th>\n",
       "      <th></th>\n",
       "      <th></th>\n",
       "      <th></th>\n",
       "      <th></th>\n",
       "      <th></th>\n",
       "    </tr>\n",
       "  </thead>\n",
       "  <tbody>\n",
       "    <tr>\n",
       "      <td>Quebec</td>\n",
       "      <td>1629</td>\n",
       "      <td>0</td>\n",
       "      <td>8</td>\n",
       "      <td>0.004911</td>\n",
       "      <td>0.000191</td>\n",
       "      <td>9.370234e-07</td>\n",
       "    </tr>\n",
       "    <tr>\n",
       "      <td>Newfoundland and Labrador</td>\n",
       "      <td>82</td>\n",
       "      <td>0</td>\n",
       "      <td>0</td>\n",
       "      <td>0.000000</td>\n",
       "      <td>0.000157</td>\n",
       "      <td>0.000000e+00</td>\n",
       "    </tr>\n",
       "    <tr>\n",
       "      <td>British Columbia</td>\n",
       "      <td>725</td>\n",
       "      <td>0</td>\n",
       "      <td>14</td>\n",
       "      <td>0.019310</td>\n",
       "      <td>0.000142</td>\n",
       "      <td>2.739234e-06</td>\n",
       "    </tr>\n",
       "    <tr>\n",
       "      <td>Alberta</td>\n",
       "      <td>486</td>\n",
       "      <td>0</td>\n",
       "      <td>2</td>\n",
       "      <td>0.004115</td>\n",
       "      <td>0.000110</td>\n",
       "      <td>4.531914e-07</td>\n",
       "    </tr>\n",
       "    <tr>\n",
       "      <td>Saskatchewan</td>\n",
       "      <td>95</td>\n",
       "      <td>0</td>\n",
       "      <td>0</td>\n",
       "      <td>0.000000</td>\n",
       "      <td>0.000080</td>\n",
       "      <td>0.000000e+00</td>\n",
       "    </tr>\n",
       "    <tr>\n",
       "      <td>Nova Scotia</td>\n",
       "      <td>73</td>\n",
       "      <td>0</td>\n",
       "      <td>0</td>\n",
       "      <td>0.000000</td>\n",
       "      <td>0.000075</td>\n",
       "      <td>0.000000e+00</td>\n",
       "    </tr>\n",
       "    <tr>\n",
       "      <td>Yukon</td>\n",
       "      <td>3</td>\n",
       "      <td>0</td>\n",
       "      <td>0</td>\n",
       "      <td>0.000000</td>\n",
       "      <td>0.000073</td>\n",
       "      <td>0.000000e+00</td>\n",
       "    </tr>\n",
       "    <tr>\n",
       "      <td>Ontario</td>\n",
       "      <td>858</td>\n",
       "      <td>0</td>\n",
       "      <td>15</td>\n",
       "      <td>0.017483</td>\n",
       "      <td>0.000058</td>\n",
       "      <td>1.019588e-06</td>\n",
       "    </tr>\n",
       "    <tr>\n",
       "      <td>Prince Edward Island</td>\n",
       "      <td>9</td>\n",
       "      <td>0</td>\n",
       "      <td>0</td>\n",
       "      <td>0.000000</td>\n",
       "      <td>0.000057</td>\n",
       "      <td>0.000000e+00</td>\n",
       "    </tr>\n",
       "    <tr>\n",
       "      <td>New Brunswick</td>\n",
       "      <td>33</td>\n",
       "      <td>0</td>\n",
       "      <td>0</td>\n",
       "      <td>0.000000</td>\n",
       "      <td>0.000042</td>\n",
       "      <td>0.000000e+00</td>\n",
       "    </tr>\n",
       "    <tr>\n",
       "      <td>Northwest Territories</td>\n",
       "      <td>1</td>\n",
       "      <td>0</td>\n",
       "      <td>0</td>\n",
       "      <td>0.000000</td>\n",
       "      <td>0.000022</td>\n",
       "      <td>0.000000e+00</td>\n",
       "    </tr>\n",
       "    <tr>\n",
       "      <td>Manitoba</td>\n",
       "      <td>11</td>\n",
       "      <td>25</td>\n",
       "      <td>0</td>\n",
       "      <td>0.000000</td>\n",
       "      <td>0.000008</td>\n",
       "      <td>0.000000e+00</td>\n",
       "    </tr>\n",
       "    <tr>\n",
       "      <td>Nunavut</td>\n",
       "      <td>0</td>\n",
       "      <td>0</td>\n",
       "      <td>0</td>\n",
       "      <td>NaN</td>\n",
       "      <td>0.000000</td>\n",
       "      <td>0.000000e+00</td>\n",
       "    </tr>\n",
       "    <tr>\n",
       "      <td>Total</td>\n",
       "      <td>4018</td>\n",
       "      <td>25</td>\n",
       "      <td>39</td>\n",
       "      <td>0.009706</td>\n",
       "      <td>NaN</td>\n",
       "      <td>NaN</td>\n",
       "    </tr>\n",
       "    <tr>\n",
       "      <td>Repatriated travellers</td>\n",
       "      <td>13</td>\n",
       "      <td>0</td>\n",
       "      <td>0</td>\n",
       "      <td>0.000000</td>\n",
       "      <td>NaN</td>\n",
       "      <td>NaN</td>\n",
       "    </tr>\n",
       "  </tbody>\n",
       "</table>\n",
       "</div>"
      ],
      "text/plain": [
       "                           Confirmed Cases  Probable Cases  Deaths  \\\n",
       "Location                                                             \n",
       "Quebec                                1629               0       8   \n",
       "Newfoundland and Labrador               82               0       0   \n",
       "British Columbia                       725               0      14   \n",
       "Alberta                                486               0       2   \n",
       "Saskatchewan                            95               0       0   \n",
       "Nova Scotia                             73               0       0   \n",
       "Yukon                                    3               0       0   \n",
       "Ontario                                858               0      15   \n",
       "Prince Edward Island                     9               0       0   \n",
       "New Brunswick                           33               0       0   \n",
       "Northwest Territories                    1               0       0   \n",
       "Manitoba                                11              25       0   \n",
       "Nunavut                                  0               0       0   \n",
       "Total                                 4018              25      39   \n",
       "Repatriated travellers                  13               0       0   \n",
       "\n",
       "                           Deaths per Confirmed Cases  \\\n",
       "Location                                                \n",
       "Quebec                                       0.004911   \n",
       "Newfoundland and Labrador                    0.000000   \n",
       "British Columbia                             0.019310   \n",
       "Alberta                                      0.004115   \n",
       "Saskatchewan                                 0.000000   \n",
       "Nova Scotia                                  0.000000   \n",
       "Yukon                                        0.000000   \n",
       "Ontario                                      0.017483   \n",
       "Prince Edward Island                         0.000000   \n",
       "New Brunswick                                0.000000   \n",
       "Northwest Territories                        0.000000   \n",
       "Manitoba                                     0.000000   \n",
       "Nunavut                                           NaN   \n",
       "Total                                        0.009706   \n",
       "Repatriated travellers                       0.000000   \n",
       "\n",
       "                           Confirmed Cases Per Capita  Deaths Per Capita  \n",
       "Location                                                                  \n",
       "Quebec                                       0.000191       9.370234e-07  \n",
       "Newfoundland and Labrador                    0.000157       0.000000e+00  \n",
       "British Columbia                             0.000142       2.739234e-06  \n",
       "Alberta                                      0.000110       4.531914e-07  \n",
       "Saskatchewan                                 0.000080       0.000000e+00  \n",
       "Nova Scotia                                  0.000075       0.000000e+00  \n",
       "Yukon                                        0.000073       0.000000e+00  \n",
       "Ontario                                      0.000058       1.019588e-06  \n",
       "Prince Edward Island                         0.000057       0.000000e+00  \n",
       "New Brunswick                                0.000042       0.000000e+00  \n",
       "Northwest Territories                        0.000022       0.000000e+00  \n",
       "Manitoba                                     0.000008       0.000000e+00  \n",
       "Nunavut                                      0.000000       0.000000e+00  \n",
       "Total                                             NaN                NaN  \n",
       "Repatriated travellers                            NaN                NaN  "
      ]
     },
     "execution_count": 101,
     "metadata": {},
     "output_type": "execute_result"
    }
   ],
   "source": [
    "cdata_sorted"
   ]
  },
  {
   "cell_type": "markdown",
   "metadata": {},
   "source": [
    "###### Population"
   ]
  },
  {
   "cell_type": "code",
   "execution_count": 196,
   "metadata": {
    "scrolled": false
   },
   "outputs": [
    {
     "data": {
      "text/html": [
       "<div>\n",
       "<style scoped>\n",
       "    .dataframe tbody tr th:only-of-type {\n",
       "        vertical-align: middle;\n",
       "    }\n",
       "\n",
       "    .dataframe tbody tr th {\n",
       "        vertical-align: top;\n",
       "    }\n",
       "\n",
       "    .dataframe thead th {\n",
       "        text-align: right;\n",
       "    }\n",
       "</style>\n",
       "<table border=\"1\" class=\"dataframe\">\n",
       "  <thead>\n",
       "    <tr style=\"text-align: right;\">\n",
       "      <th></th>\n",
       "      <th>Population</th>\n",
       "    </tr>\n",
       "    <tr>\n",
       "      <th>Location</th>\n",
       "      <th></th>\n",
       "    </tr>\n",
       "  </thead>\n",
       "  <tbody>\n",
       "    <tr>\n",
       "      <td>Ontario</td>\n",
       "      <td>14711827</td>\n",
       "    </tr>\n",
       "    <tr>\n",
       "      <td>Quebec</td>\n",
       "      <td>8537674</td>\n",
       "    </tr>\n",
       "    <tr>\n",
       "      <td>British Columbia</td>\n",
       "      <td>5110917</td>\n",
       "    </tr>\n",
       "    <tr>\n",
       "      <td>Alberta</td>\n",
       "      <td>4413146</td>\n",
       "    </tr>\n",
       "    <tr>\n",
       "      <td>Manitoba</td>\n",
       "      <td>1377517</td>\n",
       "    </tr>\n",
       "    <tr>\n",
       "      <td>Saskatchewan</td>\n",
       "      <td>1181666</td>\n",
       "    </tr>\n",
       "    <tr>\n",
       "      <td>Nova Scotia</td>\n",
       "      <td>977457</td>\n",
       "    </tr>\n",
       "    <tr>\n",
       "      <td>New Brunswick</td>\n",
       "      <td>779993</td>\n",
       "    </tr>\n",
       "    <tr>\n",
       "      <td>Newfoundland and Labrador</td>\n",
       "      <td>521365</td>\n",
       "    </tr>\n",
       "    <tr>\n",
       "      <td>Prince Edward Island</td>\n",
       "      <td>158158</td>\n",
       "    </tr>\n",
       "    <tr>\n",
       "      <td>Northwest Territories</td>\n",
       "      <td>44904</td>\n",
       "    </tr>\n",
       "    <tr>\n",
       "      <td>Nunavut</td>\n",
       "      <td>39097</td>\n",
       "    </tr>\n",
       "    <tr>\n",
       "      <td>Yukon</td>\n",
       "      <td>41078</td>\n",
       "    </tr>\n",
       "  </tbody>\n",
       "</table>\n",
       "</div>"
      ],
      "text/plain": [
       "                           Population\n",
       "Location                             \n",
       "Ontario                      14711827\n",
       "Quebec                        8537674\n",
       "British Columbia              5110917\n",
       "Alberta                       4413146\n",
       "Manitoba                      1377517\n",
       "Saskatchewan                  1181666\n",
       "Nova Scotia                    977457\n",
       "New Brunswick                  779993\n",
       "Newfoundland and Labrador      521365\n",
       "Prince Edward Island           158158\n",
       "Northwest Territories           44904\n",
       "Nunavut                         39097\n",
       "Yukon                           41078"
      ]
     },
     "execution_count": 196,
     "metadata": {},
     "output_type": "execute_result"
    }
   ],
   "source": [
    "canadian_population"
   ]
  },
  {
   "cell_type": "markdown",
   "metadata": {},
   "source": [
    "## Resources\n",
    "1. Data obtained from: https://ourworldindata.org/coronavirus-source-data\n",
    "2. Population data from: https://data.worldbank.org/indicator/SP.POP.TOTL\n",
    "3. Canadian data: https://www.canada.ca/en/public-health/services/diseases/2019-novel-coronavirus-infection.html\n",
    "4. Canadian population: https://en.wikipedia.org/wiki/List_of_Canadian_provinces_and_territories_by_population"
   ]
  }
 ],
 "metadata": {
  "kernelspec": {
   "display_name": "Python 3",
   "language": "python",
   "name": "python3"
  },
  "language_info": {
   "codemirror_mode": {
    "name": "ipython",
    "version": 3
   },
   "file_extension": ".py",
   "mimetype": "text/x-python",
   "name": "python",
   "nbconvert_exporter": "python",
   "pygments_lexer": "ipython3",
   "version": "3.7.4"
  }
 },
 "nbformat": 4,
 "nbformat_minor": 2
}
