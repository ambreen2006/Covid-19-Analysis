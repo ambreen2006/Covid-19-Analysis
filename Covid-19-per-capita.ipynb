{
 "cells": [
  {
   "cell_type": "markdown",
   "metadata": {},
   "source": [
    "# Covid-19 Analysis\n",
    "\n",
    "Looking at the Covid-19 data obtained from 'Our World in Data'.\n",
    "\n",
    "**Index:**\n",
    "\n",
    "- [Countries with total cases per capita, top 5](#Highest-total-cases-per-capita,-top-5)\n",
    "- [Countries with highest death rate per cases, top 5](#Highest-death-rate-per-total-cases,-top-5)\n",
    "- [Comparison of new cases by countries](#Comparison-of-new-cases-by-countries)\n",
    "  <br>Edit the name of the countries in filter_countries variable or add new ones to plot<br>\n",
    "- [Comparison of new cases by countries per capita](#Comparison-of-new-cases-by-countries-per-capita)\n",
    " <br>Edit the name of the countries in filter_countries variable or add new ones to plotplot<br>\n",
    "- [Highest number of total cases and deaths](#Highest-number-of-total-cases-and-deaths)\n",
    "- [Canadian provinces and territories](#Canadian-Provinces-and-Territories)"
   ]
  },
  {
   "cell_type": "markdown",
   "metadata": {},
   "source": [
    "## Extracting coronavirus and country data"
   ]
  },
  {
   "cell_type": "code",
   "execution_count": 1,
   "metadata": {},
   "outputs": [],
   "source": [
    "import numpy as np\n",
    "import pandas as pd\n",
    "import matplotlib.pyplot as plt\n",
    "import plotly.graph_objects as go\n",
    "import requests\n",
    "\n",
    "from scrape_covid19_data import DataScraper"
   ]
  },
  {
   "cell_type": "code",
   "execution_count": 2,
   "metadata": {},
   "outputs": [],
   "source": [
    "r = requests.get('https://covid.ourworldindata.org/data/ecdc/full_data.csv')"
   ]
  },
  {
   "cell_type": "code",
   "execution_count": 3,
   "metadata": {},
   "outputs": [],
   "source": [
    "with open('full_data.csv', 'wb') as fd:\n",
    "    for chunk in r.iter_content(chunk_size = 128):\n",
    "        fd.write(chunk)"
   ]
  },
  {
   "cell_type": "code",
   "execution_count": 4,
   "metadata": {},
   "outputs": [],
   "source": [
    "rdata = pd.read_csv('full_data.csv')\n",
    "rpopulation_data = pd.read_csv('population_data.csv') "
   ]
  },
  {
   "cell_type": "code",
   "execution_count": 5,
   "metadata": {
    "scrolled": true
   },
   "outputs": [
    {
     "data": {
      "text/html": [
       "<div>\n",
       "<style scoped>\n",
       "    .dataframe tbody tr th:only-of-type {\n",
       "        vertical-align: middle;\n",
       "    }\n",
       "\n",
       "    .dataframe tbody tr th {\n",
       "        vertical-align: top;\n",
       "    }\n",
       "\n",
       "    .dataframe thead th {\n",
       "        text-align: right;\n",
       "    }\n",
       "</style>\n",
       "<table border=\"1\" class=\"dataframe\">\n",
       "  <thead>\n",
       "    <tr style=\"text-align: right;\">\n",
       "      <th></th>\n",
       "      <th>date</th>\n",
       "      <th>location</th>\n",
       "      <th>new_cases</th>\n",
       "      <th>new_deaths</th>\n",
       "      <th>total_cases</th>\n",
       "      <th>total_deaths</th>\n",
       "    </tr>\n",
       "  </thead>\n",
       "  <tbody>\n",
       "    <tr>\n",
       "      <td>7208</td>\n",
       "      <td>2020-03-23</td>\n",
       "      <td>Zimbabwe</td>\n",
       "      <td>0</td>\n",
       "      <td>0</td>\n",
       "      <td>2</td>\n",
       "      <td>0</td>\n",
       "    </tr>\n",
       "    <tr>\n",
       "      <td>7209</td>\n",
       "      <td>2020-03-24</td>\n",
       "      <td>Zimbabwe</td>\n",
       "      <td>0</td>\n",
       "      <td>1</td>\n",
       "      <td>2</td>\n",
       "      <td>1</td>\n",
       "    </tr>\n",
       "    <tr>\n",
       "      <td>7210</td>\n",
       "      <td>2020-03-25</td>\n",
       "      <td>Zimbabwe</td>\n",
       "      <td>0</td>\n",
       "      <td>0</td>\n",
       "      <td>2</td>\n",
       "      <td>1</td>\n",
       "    </tr>\n",
       "    <tr>\n",
       "      <td>7211</td>\n",
       "      <td>2020-03-26</td>\n",
       "      <td>Zimbabwe</td>\n",
       "      <td>1</td>\n",
       "      <td>0</td>\n",
       "      <td>3</td>\n",
       "      <td>1</td>\n",
       "    </tr>\n",
       "    <tr>\n",
       "      <td>7212</td>\n",
       "      <td>2020-03-27</td>\n",
       "      <td>Zimbabwe</td>\n",
       "      <td>0</td>\n",
       "      <td>0</td>\n",
       "      <td>3</td>\n",
       "      <td>1</td>\n",
       "    </tr>\n",
       "  </tbody>\n",
       "</table>\n",
       "</div>"
      ],
      "text/plain": [
       "            date  location  new_cases  new_deaths  total_cases  total_deaths\n",
       "7208  2020-03-23  Zimbabwe          0           0            2             0\n",
       "7209  2020-03-24  Zimbabwe          0           1            2             1\n",
       "7210  2020-03-25  Zimbabwe          0           0            2             1\n",
       "7211  2020-03-26  Zimbabwe          1           0            3             1\n",
       "7212  2020-03-27  Zimbabwe          0           0            3             1"
      ]
     },
     "execution_count": 5,
     "metadata": {},
     "output_type": "execute_result"
    }
   ],
   "source": [
    "rdata.tail()"
   ]
  },
  {
   "cell_type": "code",
   "execution_count": 6,
   "metadata": {
    "scrolled": true
   },
   "outputs": [
    {
     "data": {
      "text/html": [
       "<div>\n",
       "<style scoped>\n",
       "    .dataframe tbody tr th:only-of-type {\n",
       "        vertical-align: middle;\n",
       "    }\n",
       "\n",
       "    .dataframe tbody tr th {\n",
       "        vertical-align: top;\n",
       "    }\n",
       "\n",
       "    .dataframe thead th {\n",
       "        text-align: right;\n",
       "    }\n",
       "</style>\n",
       "<table border=\"1\" class=\"dataframe\">\n",
       "  <thead>\n",
       "    <tr style=\"text-align: right;\">\n",
       "      <th></th>\n",
       "      <th>Country Name</th>\n",
       "      <th>Country Code</th>\n",
       "      <th>Indicator Name</th>\n",
       "      <th>Indicator Code</th>\n",
       "      <th>1960</th>\n",
       "      <th>1961</th>\n",
       "      <th>1962</th>\n",
       "      <th>1963</th>\n",
       "      <th>1964</th>\n",
       "      <th>1965</th>\n",
       "      <th>...</th>\n",
       "      <th>2010</th>\n",
       "      <th>2011</th>\n",
       "      <th>2012</th>\n",
       "      <th>2013</th>\n",
       "      <th>2014</th>\n",
       "      <th>2015</th>\n",
       "      <th>2016</th>\n",
       "      <th>2017</th>\n",
       "      <th>2018</th>\n",
       "      <th>2019</th>\n",
       "    </tr>\n",
       "  </thead>\n",
       "  <tbody>\n",
       "    <tr>\n",
       "      <td>0</td>\n",
       "      <td>Aruba</td>\n",
       "      <td>ABW</td>\n",
       "      <td>Population, total</td>\n",
       "      <td>SP.POP.TOTL</td>\n",
       "      <td>54211.0</td>\n",
       "      <td>55438.0</td>\n",
       "      <td>56225.0</td>\n",
       "      <td>56695.0</td>\n",
       "      <td>57032.0</td>\n",
       "      <td>57360.0</td>\n",
       "      <td>...</td>\n",
       "      <td>101669.0</td>\n",
       "      <td>102046.0</td>\n",
       "      <td>102560.0</td>\n",
       "      <td>103159.0</td>\n",
       "      <td>103774.0</td>\n",
       "      <td>104341.0</td>\n",
       "      <td>104872.0</td>\n",
       "      <td>105366.0</td>\n",
       "      <td>105845.0</td>\n",
       "      <td>NaN</td>\n",
       "    </tr>\n",
       "    <tr>\n",
       "      <td>1</td>\n",
       "      <td>Afghanistan</td>\n",
       "      <td>AFG</td>\n",
       "      <td>Population, total</td>\n",
       "      <td>SP.POP.TOTL</td>\n",
       "      <td>8996973.0</td>\n",
       "      <td>9169410.0</td>\n",
       "      <td>9351441.0</td>\n",
       "      <td>9543205.0</td>\n",
       "      <td>9744781.0</td>\n",
       "      <td>9956320.0</td>\n",
       "      <td>...</td>\n",
       "      <td>29185507.0</td>\n",
       "      <td>30117413.0</td>\n",
       "      <td>31161376.0</td>\n",
       "      <td>32269589.0</td>\n",
       "      <td>33370794.0</td>\n",
       "      <td>34413603.0</td>\n",
       "      <td>35383128.0</td>\n",
       "      <td>36296400.0</td>\n",
       "      <td>37172386.0</td>\n",
       "      <td>NaN</td>\n",
       "    </tr>\n",
       "    <tr>\n",
       "      <td>2</td>\n",
       "      <td>Angola</td>\n",
       "      <td>AGO</td>\n",
       "      <td>Population, total</td>\n",
       "      <td>SP.POP.TOTL</td>\n",
       "      <td>5454933.0</td>\n",
       "      <td>5531472.0</td>\n",
       "      <td>5608539.0</td>\n",
       "      <td>5679458.0</td>\n",
       "      <td>5735044.0</td>\n",
       "      <td>5770570.0</td>\n",
       "      <td>...</td>\n",
       "      <td>23356246.0</td>\n",
       "      <td>24220661.0</td>\n",
       "      <td>25107931.0</td>\n",
       "      <td>26015780.0</td>\n",
       "      <td>26941779.0</td>\n",
       "      <td>27884381.0</td>\n",
       "      <td>28842484.0</td>\n",
       "      <td>29816748.0</td>\n",
       "      <td>30809762.0</td>\n",
       "      <td>NaN</td>\n",
       "    </tr>\n",
       "    <tr>\n",
       "      <td>3</td>\n",
       "      <td>Albania</td>\n",
       "      <td>ALB</td>\n",
       "      <td>Population, total</td>\n",
       "      <td>SP.POP.TOTL</td>\n",
       "      <td>1608800.0</td>\n",
       "      <td>1659800.0</td>\n",
       "      <td>1711319.0</td>\n",
       "      <td>1762621.0</td>\n",
       "      <td>1814135.0</td>\n",
       "      <td>1864791.0</td>\n",
       "      <td>...</td>\n",
       "      <td>2913021.0</td>\n",
       "      <td>2905195.0</td>\n",
       "      <td>2900401.0</td>\n",
       "      <td>2895092.0</td>\n",
       "      <td>2889104.0</td>\n",
       "      <td>2880703.0</td>\n",
       "      <td>2876101.0</td>\n",
       "      <td>2873457.0</td>\n",
       "      <td>2866376.0</td>\n",
       "      <td>NaN</td>\n",
       "    </tr>\n",
       "    <tr>\n",
       "      <td>4</td>\n",
       "      <td>Andorra</td>\n",
       "      <td>AND</td>\n",
       "      <td>Population, total</td>\n",
       "      <td>SP.POP.TOTL</td>\n",
       "      <td>13411.0</td>\n",
       "      <td>14375.0</td>\n",
       "      <td>15370.0</td>\n",
       "      <td>16412.0</td>\n",
       "      <td>17469.0</td>\n",
       "      <td>18549.0</td>\n",
       "      <td>...</td>\n",
       "      <td>84449.0</td>\n",
       "      <td>83747.0</td>\n",
       "      <td>82427.0</td>\n",
       "      <td>80774.0</td>\n",
       "      <td>79213.0</td>\n",
       "      <td>78011.0</td>\n",
       "      <td>77297.0</td>\n",
       "      <td>77001.0</td>\n",
       "      <td>77006.0</td>\n",
       "      <td>NaN</td>\n",
       "    </tr>\n",
       "  </tbody>\n",
       "</table>\n",
       "<p>5 rows × 64 columns</p>\n",
       "</div>"
      ],
      "text/plain": [
       "  Country Name Country Code     Indicator Name Indicator Code       1960  \\\n",
       "0        Aruba          ABW  Population, total    SP.POP.TOTL    54211.0   \n",
       "1  Afghanistan          AFG  Population, total    SP.POP.TOTL  8996973.0   \n",
       "2       Angola          AGO  Population, total    SP.POP.TOTL  5454933.0   \n",
       "3      Albania          ALB  Population, total    SP.POP.TOTL  1608800.0   \n",
       "4      Andorra          AND  Population, total    SP.POP.TOTL    13411.0   \n",
       "\n",
       "        1961       1962       1963       1964       1965  ...        2010  \\\n",
       "0    55438.0    56225.0    56695.0    57032.0    57360.0  ...    101669.0   \n",
       "1  9169410.0  9351441.0  9543205.0  9744781.0  9956320.0  ...  29185507.0   \n",
       "2  5531472.0  5608539.0  5679458.0  5735044.0  5770570.0  ...  23356246.0   \n",
       "3  1659800.0  1711319.0  1762621.0  1814135.0  1864791.0  ...   2913021.0   \n",
       "4    14375.0    15370.0    16412.0    17469.0    18549.0  ...     84449.0   \n",
       "\n",
       "         2011        2012        2013        2014        2015        2016  \\\n",
       "0    102046.0    102560.0    103159.0    103774.0    104341.0    104872.0   \n",
       "1  30117413.0  31161376.0  32269589.0  33370794.0  34413603.0  35383128.0   \n",
       "2  24220661.0  25107931.0  26015780.0  26941779.0  27884381.0  28842484.0   \n",
       "3   2905195.0   2900401.0   2895092.0   2889104.0   2880703.0   2876101.0   \n",
       "4     83747.0     82427.0     80774.0     79213.0     78011.0     77297.0   \n",
       "\n",
       "         2017        2018  2019  \n",
       "0    105366.0    105845.0   NaN  \n",
       "1  36296400.0  37172386.0   NaN  \n",
       "2  29816748.0  30809762.0   NaN  \n",
       "3   2873457.0   2866376.0   NaN  \n",
       "4     77001.0     77006.0   NaN  \n",
       "\n",
       "[5 rows x 64 columns]"
      ]
     },
     "execution_count": 6,
     "metadata": {},
     "output_type": "execute_result"
    }
   ],
   "source": [
    "rpopulation_data.head()"
   ]
  },
  {
   "cell_type": "code",
   "execution_count": 7,
   "metadata": {},
   "outputs": [
    {
     "name": "stdout",
     "output_type": "stream",
     "text": [
      "March 26, 2020, 6:00 pm EDT\n"
     ]
    },
    {
     "data": {
      "text/html": [
       "<div>\n",
       "<style scoped>\n",
       "    .dataframe tbody tr th:only-of-type {\n",
       "        vertical-align: middle;\n",
       "    }\n",
       "\n",
       "    .dataframe tbody tr th {\n",
       "        vertical-align: top;\n",
       "    }\n",
       "\n",
       "    .dataframe thead th {\n",
       "        text-align: right;\n",
       "    }\n",
       "</style>\n",
       "<table border=\"1\" class=\"dataframe\">\n",
       "  <thead>\n",
       "    <tr style=\"text-align: right;\">\n",
       "      <th></th>\n",
       "      <th>Province, territory or other</th>\n",
       "      <th>Number of confirmed cases</th>\n",
       "      <th>Number of probable cases</th>\n",
       "      <th>Number of deaths</th>\n",
       "    </tr>\n",
       "  </thead>\n",
       "  <tbody>\n",
       "    <tr>\n",
       "      <td>0</td>\n",
       "      <td>British Columbia</td>\n",
       "      <td>725</td>\n",
       "      <td>0</td>\n",
       "      <td>14</td>\n",
       "    </tr>\n",
       "    <tr>\n",
       "      <td>1</td>\n",
       "      <td>Alberta</td>\n",
       "      <td>486</td>\n",
       "      <td>0</td>\n",
       "      <td>2</td>\n",
       "    </tr>\n",
       "    <tr>\n",
       "      <td>2</td>\n",
       "      <td>Saskatchewan</td>\n",
       "      <td>95</td>\n",
       "      <td>0</td>\n",
       "      <td>0</td>\n",
       "    </tr>\n",
       "    <tr>\n",
       "      <td>3</td>\n",
       "      <td>Manitoba</td>\n",
       "      <td>11</td>\n",
       "      <td>25</td>\n",
       "      <td>0</td>\n",
       "    </tr>\n",
       "    <tr>\n",
       "      <td>4</td>\n",
       "      <td>Ontario</td>\n",
       "      <td>858</td>\n",
       "      <td>0</td>\n",
       "      <td>15</td>\n",
       "    </tr>\n",
       "    <tr>\n",
       "      <td>5</td>\n",
       "      <td>Quebec</td>\n",
       "      <td>1629</td>\n",
       "      <td>0</td>\n",
       "      <td>8</td>\n",
       "    </tr>\n",
       "    <tr>\n",
       "      <td>6</td>\n",
       "      <td>New Brunswick</td>\n",
       "      <td>33</td>\n",
       "      <td>0</td>\n",
       "      <td>0</td>\n",
       "    </tr>\n",
       "    <tr>\n",
       "      <td>7</td>\n",
       "      <td>Nova Scotia</td>\n",
       "      <td>73</td>\n",
       "      <td>0</td>\n",
       "      <td>0</td>\n",
       "    </tr>\n",
       "    <tr>\n",
       "      <td>8</td>\n",
       "      <td>Prince Edward Island</td>\n",
       "      <td>9</td>\n",
       "      <td>0</td>\n",
       "      <td>0</td>\n",
       "    </tr>\n",
       "    <tr>\n",
       "      <td>9</td>\n",
       "      <td>Newfoundland and Labrador</td>\n",
       "      <td>82</td>\n",
       "      <td>0</td>\n",
       "      <td>0</td>\n",
       "    </tr>\n",
       "    <tr>\n",
       "      <td>10</td>\n",
       "      <td>Yukon</td>\n",
       "      <td>3</td>\n",
       "      <td>0</td>\n",
       "      <td>0</td>\n",
       "    </tr>\n",
       "    <tr>\n",
       "      <td>11</td>\n",
       "      <td>Northwest Territories</td>\n",
       "      <td>1</td>\n",
       "      <td>0</td>\n",
       "      <td>0</td>\n",
       "    </tr>\n",
       "    <tr>\n",
       "      <td>12</td>\n",
       "      <td>Nunavut</td>\n",
       "      <td>0</td>\n",
       "      <td>0</td>\n",
       "      <td>0</td>\n",
       "    </tr>\n",
       "    <tr>\n",
       "      <td>13</td>\n",
       "      <td>Repatriated travellers</td>\n",
       "      <td>13</td>\n",
       "      <td>0</td>\n",
       "      <td>0</td>\n",
       "    </tr>\n",
       "    <tr>\n",
       "      <td>14</td>\n",
       "      <td>Total</td>\n",
       "      <td>4018</td>\n",
       "      <td>25</td>\n",
       "      <td>39</td>\n",
       "    </tr>\n",
       "  </tbody>\n",
       "</table>\n",
       "</div>"
      ],
      "text/plain": [
       "   Province, territory or other  Number of confirmed cases  \\\n",
       "0              British Columbia                        725   \n",
       "1                       Alberta                        486   \n",
       "2                  Saskatchewan                         95   \n",
       "3                      Manitoba                         11   \n",
       "4                       Ontario                        858   \n",
       "5                        Quebec                       1629   \n",
       "6                 New Brunswick                         33   \n",
       "7                   Nova Scotia                         73   \n",
       "8          Prince Edward Island                          9   \n",
       "9     Newfoundland and Labrador                         82   \n",
       "10                        Yukon                          3   \n",
       "11        Northwest Territories                          1   \n",
       "12                      Nunavut                          0   \n",
       "13       Repatriated travellers                         13   \n",
       "14                        Total                       4018   \n",
       "\n",
       "    Number of probable cases  Number of deaths  \n",
       "0                          0                14  \n",
       "1                          0                 2  \n",
       "2                          0                 0  \n",
       "3                         25                 0  \n",
       "4                          0                15  \n",
       "5                          0                 8  \n",
       "6                          0                 0  \n",
       "7                          0                 0  \n",
       "8                          0                 0  \n",
       "9                          0                 0  \n",
       "10                         0                 0  \n",
       "11                         0                 0  \n",
       "12                         0                 0  \n",
       "13                         0                 0  \n",
       "14                        25                39  "
      ]
     },
     "execution_count": 7,
     "metadata": {},
     "output_type": "execute_result"
    }
   ],
   "source": [
    "url = \"https://www.canada.ca/en/public-health/services/diseases/2019-novel-coronavirus-infection.html\"\n",
    "scraper = DataScraper(url)\n",
    "canadian_data, pub_date = scraper.parse(in_memory = False)\n",
    "canadian_data"
   ]
  },
  {
   "cell_type": "markdown",
   "metadata": {},
   "source": [
    "## Filtering and cleaning data "
   ]
  },
  {
   "cell_type": "code",
   "execution_count": 8,
   "metadata": {},
   "outputs": [
    {
     "name": "stdout",
     "output_type": "stream",
     "text": [
      "Data Types date            object\n",
      "location        object\n",
      "new_cases        int64\n",
      "new_deaths       int64\n",
      "total_cases      int64\n",
      "total_deaths     int64\n",
      "dtype: object\n",
      "Columns with NaN Index([], dtype='object')\n"
     ]
    }
   ],
   "source": [
    "print(\"Data Types\", rdata.dtypes)\n",
    "print(\"Columns with NaN\", rdata.columns[rdata.isna().any()])"
   ]
  },
  {
   "cell_type": "code",
   "execution_count": 9,
   "metadata": {},
   "outputs": [
    {
     "data": {
      "text/plain": [
       "date            object\n",
       "location        object\n",
       "new_cases        int64\n",
       "new_deaths       int64\n",
       "total_cases      int64\n",
       "total_deaths     int64\n",
       "dtype: object"
      ]
     },
     "execution_count": 9,
     "metadata": {},
     "output_type": "execute_result"
    }
   ],
   "source": [
    "rdata = rdata.fillna(value = 0)\n",
    "pdata = rdata.astype({'new_cases':'int64', \n",
    "                     'new_deaths':'int64', \n",
    "                     'total_deaths':'int64'})\n",
    "pdata.dtypes"
   ]
  },
  {
   "cell_type": "code",
   "execution_count": 10,
   "metadata": {},
   "outputs": [],
   "source": [
    "rdata['date_fm'] = pd.to_datetime(rdata['date'], infer_datetime_format='%Y-%m-%d')"
   ]
  },
  {
   "cell_type": "code",
   "execution_count": 11,
   "metadata": {},
   "outputs": [
    {
     "data": {
      "text/plain": [
       "date                    object\n",
       "location                object\n",
       "new_cases                int64\n",
       "new_deaths               int64\n",
       "total_cases              int64\n",
       "total_deaths             int64\n",
       "date_fm         datetime64[ns]\n",
       "dtype: object"
      ]
     },
     "execution_count": 11,
     "metadata": {},
     "output_type": "execute_result"
    }
   ],
   "source": [
    "rdata.dtypes"
   ]
  },
  {
   "cell_type": "code",
   "execution_count": 12,
   "metadata": {},
   "outputs": [
    {
     "data": {
      "text/plain": [
       "'2020-03-27'"
      ]
     },
     "execution_count": 12,
     "metadata": {},
     "output_type": "execute_result"
    }
   ],
   "source": [
    "latest = pdata['date'].max()\n",
    "latest"
   ]
  },
  {
   "cell_type": "code",
   "execution_count": 13,
   "metadata": {
    "scrolled": true
   },
   "outputs": [],
   "source": [
    "world_record = rdata[rdata['location'] == 'World']\n",
    "data = pdata[pdata['date'] == latest]\n",
    "data.head()\n",
    "data = data.drop('date', axis = 1)\n",
    "data = data.set_index('location')"
   ]
  },
  {
   "cell_type": "code",
   "execution_count": 14,
   "metadata": {
    "scrolled": true
   },
   "outputs": [],
   "source": [
    "data = data[data.index != 'World']"
   ]
  },
  {
   "cell_type": "code",
   "execution_count": 15,
   "metadata": {},
   "outputs": [
    {
     "name": "stdout",
     "output_type": "stream",
     "text": [
      "Max value in total cases 85991\n"
     ]
    }
   ],
   "source": [
    "max_total_cases = data['total_cases'].max()\n",
    "print(\"Max value in total cases\", max_total_cases)"
   ]
  },
  {
   "cell_type": "code",
   "execution_count": 16,
   "metadata": {
    "scrolled": false
   },
   "outputs": [
    {
     "data": {
      "text/html": [
       "<div>\n",
       "<style scoped>\n",
       "    .dataframe tbody tr th:only-of-type {\n",
       "        vertical-align: middle;\n",
       "    }\n",
       "\n",
       "    .dataframe tbody tr th {\n",
       "        vertical-align: top;\n",
       "    }\n",
       "\n",
       "    .dataframe thead th {\n",
       "        text-align: right;\n",
       "    }\n",
       "</style>\n",
       "<table border=\"1\" class=\"dataframe\">\n",
       "  <thead>\n",
       "    <tr style=\"text-align: right;\">\n",
       "      <th></th>\n",
       "      <th>Country Name</th>\n",
       "      <th>2018</th>\n",
       "    </tr>\n",
       "  </thead>\n",
       "  <tbody>\n",
       "    <tr>\n",
       "      <td>33</td>\n",
       "      <td>Canada</td>\n",
       "      <td>37058856.0</td>\n",
       "    </tr>\n",
       "  </tbody>\n",
       "</table>\n",
       "</div>"
      ],
      "text/plain": [
       "   Country Name        2018\n",
       "33       Canada  37058856.0"
      ]
     },
     "execution_count": 16,
     "metadata": {},
     "output_type": "execute_result"
    }
   ],
   "source": [
    "population = rpopulation_data.filter(['Country Name', '2018'])\n",
    "population[population['Country Name'] == 'Canada']"
   ]
  },
  {
   "cell_type": "code",
   "execution_count": 17,
   "metadata": {},
   "outputs": [
    {
     "data": {
      "text/html": [
       "<div>\n",
       "<style scoped>\n",
       "    .dataframe tbody tr th:only-of-type {\n",
       "        vertical-align: middle;\n",
       "    }\n",
       "\n",
       "    .dataframe tbody tr th {\n",
       "        vertical-align: top;\n",
       "    }\n",
       "\n",
       "    .dataframe thead th {\n",
       "        text-align: right;\n",
       "    }\n",
       "</style>\n",
       "<table border=\"1\" class=\"dataframe\">\n",
       "  <thead>\n",
       "    <tr style=\"text-align: right;\">\n",
       "      <th></th>\n",
       "      <th>2018</th>\n",
       "    </tr>\n",
       "    <tr>\n",
       "      <th>location</th>\n",
       "      <th></th>\n",
       "    </tr>\n",
       "  </thead>\n",
       "  <tbody>\n",
       "    <tr>\n",
       "      <td>Aruba</td>\n",
       "      <td>105845.0</td>\n",
       "    </tr>\n",
       "  </tbody>\n",
       "</table>\n",
       "</div>"
      ],
      "text/plain": [
       "              2018\n",
       "location          \n",
       "Aruba     105845.0"
      ]
     },
     "execution_count": 17,
     "metadata": {},
     "output_type": "execute_result"
    }
   ],
   "source": [
    "population = population.rename(columns = {'Country Name':'location'})\n",
    "population = population.set_index('location')\n",
    "population.head(n=1)"
   ]
  },
  {
   "cell_type": "code",
   "execution_count": 18,
   "metadata": {
    "scrolled": false
   },
   "outputs": [
    {
     "data": {
      "text/html": [
       "<div>\n",
       "<style scoped>\n",
       "    .dataframe tbody tr th:only-of-type {\n",
       "        vertical-align: middle;\n",
       "    }\n",
       "\n",
       "    .dataframe tbody tr th {\n",
       "        vertical-align: top;\n",
       "    }\n",
       "\n",
       "    .dataframe thead th {\n",
       "        text-align: right;\n",
       "    }\n",
       "</style>\n",
       "<table border=\"1\" class=\"dataframe\">\n",
       "  <thead>\n",
       "    <tr style=\"text-align: right;\">\n",
       "      <th></th>\n",
       "      <th>new_cases</th>\n",
       "      <th>new_deaths</th>\n",
       "      <th>total_cases</th>\n",
       "      <th>total_deaths</th>\n",
       "    </tr>\n",
       "    <tr>\n",
       "      <th>location</th>\n",
       "      <th></th>\n",
       "      <th></th>\n",
       "      <th></th>\n",
       "      <th></th>\n",
       "    </tr>\n",
       "  </thead>\n",
       "  <tbody>\n",
       "    <tr>\n",
       "      <td>Anguilla</td>\n",
       "      <td>2</td>\n",
       "      <td>0</td>\n",
       "      <td>2</td>\n",
       "      <td>0</td>\n",
       "    </tr>\n",
       "    <tr>\n",
       "      <td>Guernsey</td>\n",
       "      <td>4</td>\n",
       "      <td>0</td>\n",
       "      <td>34</td>\n",
       "      <td>0</td>\n",
       "    </tr>\n",
       "    <tr>\n",
       "      <td>Jersey</td>\n",
       "      <td>14</td>\n",
       "      <td>1</td>\n",
       "      <td>32</td>\n",
       "      <td>1</td>\n",
       "    </tr>\n",
       "    <tr>\n",
       "      <td>Montserrat</td>\n",
       "      <td>4</td>\n",
       "      <td>0</td>\n",
       "      <td>5</td>\n",
       "      <td>0</td>\n",
       "    </tr>\n",
       "    <tr>\n",
       "      <td>Palestine</td>\n",
       "      <td>22</td>\n",
       "      <td>1</td>\n",
       "      <td>84</td>\n",
       "      <td>1</td>\n",
       "    </tr>\n",
       "    <tr>\n",
       "      <td>Saint Kitts and Nevis</td>\n",
       "      <td>0</td>\n",
       "      <td>0</td>\n",
       "      <td>2</td>\n",
       "      <td>0</td>\n",
       "    </tr>\n",
       "    <tr>\n",
       "      <td>Taiwan</td>\n",
       "      <td>17</td>\n",
       "      <td>0</td>\n",
       "      <td>252</td>\n",
       "      <td>2</td>\n",
       "    </tr>\n",
       "    <tr>\n",
       "      <td>Vatican</td>\n",
       "      <td>4</td>\n",
       "      <td>0</td>\n",
       "      <td>5</td>\n",
       "      <td>0</td>\n",
       "    </tr>\n",
       "  </tbody>\n",
       "</table>\n",
       "</div>"
      ],
      "text/plain": [
       "                       new_cases  new_deaths  total_cases  total_deaths\n",
       "location                                                               \n",
       "Anguilla                       2           0            2             0\n",
       "Guernsey                       4           0           34             0\n",
       "Jersey                        14           1           32             1\n",
       "Montserrat                     4           0            5             0\n",
       "Palestine                     22           1           84             1\n",
       "Saint Kitts and Nevis          0           0            2             0\n",
       "Taiwan                        17           0          252             2\n",
       "Vatican                        4           0            5             0"
      ]
     },
     "execution_count": 18,
     "metadata": {},
     "output_type": "execute_result"
    }
   ],
   "source": [
    "data[data.index.isin(population.index) == False]"
   ]
  },
  {
   "cell_type": "code",
   "execution_count": 19,
   "metadata": {
    "scrolled": true
   },
   "outputs": [
    {
     "data": {
      "text/html": [
       "<div>\n",
       "<style scoped>\n",
       "    .dataframe tbody tr th:only-of-type {\n",
       "        vertical-align: middle;\n",
       "    }\n",
       "\n",
       "    .dataframe tbody tr th {\n",
       "        vertical-align: top;\n",
       "    }\n",
       "\n",
       "    .dataframe thead th {\n",
       "        text-align: right;\n",
       "    }\n",
       "</style>\n",
       "<table border=\"1\" class=\"dataframe\">\n",
       "  <thead>\n",
       "    <tr style=\"text-align: right;\">\n",
       "      <th></th>\n",
       "      <th>new_cases</th>\n",
       "      <th>new_deaths</th>\n",
       "      <th>total_cases</th>\n",
       "      <th>total_deaths</th>\n",
       "      <th>total_cases_per_capita</th>\n",
       "      <th>total_deaths_per_capita</th>\n",
       "      <th>deaths_per_total</th>\n",
       "    </tr>\n",
       "    <tr>\n",
       "      <th>location</th>\n",
       "      <th></th>\n",
       "      <th></th>\n",
       "      <th></th>\n",
       "      <th></th>\n",
       "      <th></th>\n",
       "      <th></th>\n",
       "      <th></th>\n",
       "    </tr>\n",
       "  </thead>\n",
       "  <tbody>\n",
       "    <tr>\n",
       "      <td>Afghanistan</td>\n",
       "      <td>0</td>\n",
       "      <td>0</td>\n",
       "      <td>75</td>\n",
       "      <td>1</td>\n",
       "      <td>2.017627e-06</td>\n",
       "      <td>2.690169e-08</td>\n",
       "      <td>0.0133</td>\n",
       "    </tr>\n",
       "    <tr>\n",
       "      <td>Albania</td>\n",
       "      <td>28</td>\n",
       "      <td>1</td>\n",
       "      <td>174</td>\n",
       "      <td>6</td>\n",
       "      <td>6.070383e-05</td>\n",
       "      <td>2.093236e-06</td>\n",
       "      <td>0.0345</td>\n",
       "    </tr>\n",
       "    <tr>\n",
       "      <td>Algeria</td>\n",
       "      <td>41</td>\n",
       "      <td>4</td>\n",
       "      <td>305</td>\n",
       "      <td>21</td>\n",
       "      <td>7.222622e-06</td>\n",
       "      <td>4.972953e-07</td>\n",
       "      <td>0.0689</td>\n",
       "    </tr>\n",
       "    <tr>\n",
       "      <td>Andorra</td>\n",
       "      <td>36</td>\n",
       "      <td>3</td>\n",
       "      <td>224</td>\n",
       "      <td>3</td>\n",
       "      <td>2.908864e-03</td>\n",
       "      <td>3.895800e-05</td>\n",
       "      <td>0.0134</td>\n",
       "    </tr>\n",
       "    <tr>\n",
       "      <td>Angola</td>\n",
       "      <td>1</td>\n",
       "      <td>0</td>\n",
       "      <td>3</td>\n",
       "      <td>0</td>\n",
       "      <td>9.737174e-08</td>\n",
       "      <td>0.000000e+00</td>\n",
       "      <td>0.0000</td>\n",
       "    </tr>\n",
       "  </tbody>\n",
       "</table>\n",
       "</div>"
      ],
      "text/plain": [
       "             new_cases  new_deaths  total_cases  total_deaths  \\\n",
       "location                                                        \n",
       "Afghanistan          0           0           75             1   \n",
       "Albania             28           1          174             6   \n",
       "Algeria             41           4          305            21   \n",
       "Andorra             36           3          224             3   \n",
       "Angola               1           0            3             0   \n",
       "\n",
       "             total_cases_per_capita  total_deaths_per_capita  deaths_per_total  \n",
       "location                                                                        \n",
       "Afghanistan            2.017627e-06             2.690169e-08            0.0133  \n",
       "Albania                6.070383e-05             2.093236e-06            0.0345  \n",
       "Algeria                7.222622e-06             4.972953e-07            0.0689  \n",
       "Andorra                2.908864e-03             3.895800e-05            0.0134  \n",
       "Angola                 9.737174e-08             0.000000e+00            0.0000  "
      ]
     },
     "execution_count": 19,
     "metadata": {},
     "output_type": "execute_result"
    }
   ],
   "source": [
    "data['total_cases_per_capita'] = data['total_cases'].div(data.index.map(population['2018']))\n",
    "data['total_deaths_per_capita'] = data['total_deaths'].div(data.index.map(population['2018']))\n",
    "data['deaths_per_total'] = data['total_deaths'].div(data['total_cases'])\n",
    "data['deaths_per_total'] = data['deaths_per_total'].round(decimals = 4)\n",
    "data.head()"
   ]
  },
  {
   "cell_type": "code",
   "execution_count": 20,
   "metadata": {
    "scrolled": true
   },
   "outputs": [
    {
     "data": {
      "text/plain": [
       "new_cases                    int64\n",
       "new_deaths                   int64\n",
       "total_cases                  int64\n",
       "total_deaths                 int64\n",
       "total_cases_per_capita     float64\n",
       "total_deaths_per_capita    float64\n",
       "deaths_per_total           float64\n",
       "dtype: object"
      ]
     },
     "execution_count": 20,
     "metadata": {},
     "output_type": "execute_result"
    }
   ],
   "source": [
    "data.dtypes"
   ]
  },
  {
   "cell_type": "markdown",
   "metadata": {},
   "source": [
    "## Plots"
   ]
  },
  {
   "cell_type": "code",
   "execution_count": 21,
   "metadata": {
    "scrolled": false
   },
   "outputs": [
    {
     "data": {
      "image/png": "[encoded data removed]",
      "text/plain": [
       "<Figure size 5040x3600 with 1 Axes>"
      ]
     },
     "metadata": {
      "needs_background": "light"
     },
     "output_type": "display_data"
    }
   ],
   "source": [
    "all_rows = data.plot(kind='bar', y = 'total_cases_per_capita', \n",
    "                     figsize = (70, 50), ylim = (0, data['total_cases_per_capita'].max())).get_figure()\n",
    "plt.savefig('all_rows.png', bbox_inches = 'tight')"
   ]
  },
  {
   "cell_type": "markdown",
   "metadata": {},
   "source": [
    "### World Record"
   ]
  },
  {
   "cell_type": "code",
   "execution_count": 22,
   "metadata": {
    "scrolled": false
   },
   "outputs": [],
   "source": [
    "world_record = world_record.drop(columns = ['date'])\n",
    "world_record = world_record.set_index('date_fm')"
   ]
  },
  {
   "cell_type": "code",
   "execution_count": 23,
   "metadata": {},
   "outputs": [
    {
     "data": {
      "text/html": [
       "<div>\n",
       "<style scoped>\n",
       "    .dataframe tbody tr th:only-of-type {\n",
       "        vertical-align: middle;\n",
       "    }\n",
       "\n",
       "    .dataframe tbody tr th {\n",
       "        vertical-align: top;\n",
       "    }\n",
       "\n",
       "    .dataframe thead th {\n",
       "        text-align: right;\n",
       "    }\n",
       "</style>\n",
       "<table border=\"1\" class=\"dataframe\">\n",
       "  <thead>\n",
       "    <tr style=\"text-align: right;\">\n",
       "      <th></th>\n",
       "      <th>location</th>\n",
       "      <th>new_cases</th>\n",
       "      <th>new_deaths</th>\n",
       "      <th>total_cases</th>\n",
       "      <th>total_deaths</th>\n",
       "    </tr>\n",
       "    <tr>\n",
       "      <th>date_fm</th>\n",
       "      <th></th>\n",
       "      <th></th>\n",
       "      <th></th>\n",
       "      <th></th>\n",
       "      <th></th>\n",
       "    </tr>\n",
       "  </thead>\n",
       "  <tbody>\n",
       "    <tr>\n",
       "      <td>2020-03-27</td>\n",
       "      <td>World</td>\n",
       "      <td>60096</td>\n",
       "      <td>2681</td>\n",
       "      <td>528025</td>\n",
       "      <td>23669</td>\n",
       "    </tr>\n",
       "  </tbody>\n",
       "</table>\n",
       "</div>"
      ],
      "text/plain": [
       "           location  new_cases  new_deaths  total_cases  total_deaths\n",
       "date_fm                                                              \n",
       "2020-03-27    World      60096        2681       528025         23669"
      ]
     },
     "execution_count": 23,
     "metadata": {},
     "output_type": "execute_result"
    }
   ],
   "source": [
    "world_record[world_record.index == latest]"
   ]
  },
  {
   "cell_type": "code",
   "execution_count": 24,
   "metadata": {
    "scrolled": false
   },
   "outputs": [
    {
     "data": {
      "image/png": "[encoded data removed]",
      "text/plain": [
       "<Figure size 1080x1080 with 2 Axes>"
      ]
     },
     "metadata": {
      "needs_background": "light"
     },
     "output_type": "display_data"
    }
   ],
   "source": [
    "_, (ax1, ax2) = plt.subplots(2, 1, figsize = (15,15))\n",
    "\n",
    "world_record.plot(kind='line', y= ['total_cases', 'total_deaths'], ax = ax1)\n",
    "world_record.plot(kind='line', y= 'total_deaths', ax = ax2)\n",
    "plt.savefig('world.png', bbox_inches = 'tight')"
   ]
  },
  {
   "cell_type": "markdown",
   "metadata": {},
   "source": [
    "### Highest total cases per capita, top 5"
   ]
  },
  {
   "cell_type": "code",
   "execution_count": 25,
   "metadata": {
    "scrolled": true
   },
   "outputs": [
    {
     "data": {
      "text/html": [
       "<div>\n",
       "<style scoped>\n",
       "    .dataframe tbody tr th:only-of-type {\n",
       "        vertical-align: middle;\n",
       "    }\n",
       "\n",
       "    .dataframe tbody tr th {\n",
       "        vertical-align: top;\n",
       "    }\n",
       "\n",
       "    .dataframe thead th {\n",
       "        text-align: right;\n",
       "    }\n",
       "</style>\n",
       "<table border=\"1\" class=\"dataframe\">\n",
       "  <thead>\n",
       "    <tr style=\"text-align: right;\">\n",
       "      <th></th>\n",
       "      <th>new_cases</th>\n",
       "      <th>new_deaths</th>\n",
       "      <th>total_cases</th>\n",
       "      <th>total_deaths</th>\n",
       "      <th>total_cases_per_capita</th>\n",
       "      <th>total_deaths_per_capita</th>\n",
       "      <th>deaths_per_total</th>\n",
       "    </tr>\n",
       "    <tr>\n",
       "      <th>location</th>\n",
       "      <th></th>\n",
       "      <th></th>\n",
       "      <th></th>\n",
       "      <th></th>\n",
       "      <th></th>\n",
       "      <th></th>\n",
       "      <th></th>\n",
       "    </tr>\n",
       "  </thead>\n",
       "  <tbody>\n",
       "    <tr>\n",
       "      <td>San Marino</td>\n",
       "      <td>10</td>\n",
       "      <td>0</td>\n",
       "      <td>218</td>\n",
       "      <td>21</td>\n",
       "      <td>0.006453</td>\n",
       "      <td>0.000622</td>\n",
       "      <td>0.0963</td>\n",
       "    </tr>\n",
       "    <tr>\n",
       "      <td>Andorra</td>\n",
       "      <td>36</td>\n",
       "      <td>3</td>\n",
       "      <td>224</td>\n",
       "      <td>3</td>\n",
       "      <td>0.002909</td>\n",
       "      <td>0.000039</td>\n",
       "      <td>0.0134</td>\n",
       "    </tr>\n",
       "    <tr>\n",
       "      <td>Faeroe Islands</td>\n",
       "      <td>8</td>\n",
       "      <td>0</td>\n",
       "      <td>140</td>\n",
       "      <td>0</td>\n",
       "      <td>0.002887</td>\n",
       "      <td>0.000000</td>\n",
       "      <td>0.0000</td>\n",
       "    </tr>\n",
       "    <tr>\n",
       "      <td>Luxembourg</td>\n",
       "      <td>120</td>\n",
       "      <td>1</td>\n",
       "      <td>1453</td>\n",
       "      <td>9</td>\n",
       "      <td>0.002391</td>\n",
       "      <td>0.000015</td>\n",
       "      <td>0.0062</td>\n",
       "    </tr>\n",
       "    <tr>\n",
       "      <td>Iceland</td>\n",
       "      <td>65</td>\n",
       "      <td>0</td>\n",
       "      <td>802</td>\n",
       "      <td>2</td>\n",
       "      <td>0.002268</td>\n",
       "      <td>0.000006</td>\n",
       "      <td>0.0025</td>\n",
       "    </tr>\n",
       "  </tbody>\n",
       "</table>\n",
       "</div>"
      ],
      "text/plain": [
       "                new_cases  new_deaths  total_cases  total_deaths  \\\n",
       "location                                                           \n",
       "San Marino             10           0          218            21   \n",
       "Andorra                36           3          224             3   \n",
       "Faeroe Islands          8           0          140             0   \n",
       "Luxembourg            120           1         1453             9   \n",
       "Iceland                65           0          802             2   \n",
       "\n",
       "                total_cases_per_capita  total_deaths_per_capita  \\\n",
       "location                                                          \n",
       "San Marino                    0.006453                 0.000622   \n",
       "Andorra                       0.002909                 0.000039   \n",
       "Faeroe Islands                0.002887                 0.000000   \n",
       "Luxembourg                    0.002391                 0.000015   \n",
       "Iceland                       0.002268                 0.000006   \n",
       "\n",
       "                deaths_per_total  \n",
       "location                          \n",
       "San Marino                0.0963  \n",
       "Andorra                   0.0134  \n",
       "Faeroe Islands            0.0000  \n",
       "Luxembourg                0.0062  \n",
       "Iceland                   0.0025  "
      ]
     },
     "execution_count": 25,
     "metadata": {},
     "output_type": "execute_result"
    }
   ],
   "source": [
    "largest5 = data.nlargest(5, 'total_cases_per_capita')\n",
    "largest5"
   ]
  },
  {
   "cell_type": "code",
   "execution_count": 26,
   "metadata": {
    "scrolled": false
   },
   "outputs": [
    {
     "data": {
      "image/png": "[encoded data removed]",
      "text/plain": [
       "<Figure size 576x720 with 1 Axes>"
      ]
     },
     "metadata": {
      "needs_background": "light"
     },
     "output_type": "display_data"
    }
   ],
   "source": [
    "total_cases_pc_fig = largest5.plot(kind='bar', \n",
    "                                   y = 'total_cases_per_capita', \n",
    "                                   ylim = (0, data['total_cases_per_capita'].max()+ 0.0005),\n",
    "                                   figsize = (8, 10)).get_figure()\n",
    "plt.savefig('total_cases_per_capita.png', bbox_inches = 'tight')"
   ]
  },
  {
   "cell_type": "code",
   "execution_count": 27,
   "metadata": {},
   "outputs": [],
   "source": [
    "largest5 = largest5.merge(population, on = 'location')"
   ]
  },
  {
   "cell_type": "code",
   "execution_count": 28,
   "metadata": {},
   "outputs": [
    {
     "data": {
      "text/html": [
       "<div>\n",
       "<style scoped>\n",
       "    .dataframe tbody tr th:only-of-type {\n",
       "        vertical-align: middle;\n",
       "    }\n",
       "\n",
       "    .dataframe tbody tr th {\n",
       "        vertical-align: top;\n",
       "    }\n",
       "\n",
       "    .dataframe thead th {\n",
       "        text-align: right;\n",
       "    }\n",
       "</style>\n",
       "<table border=\"1\" class=\"dataframe\">\n",
       "  <thead>\n",
       "    <tr style=\"text-align: right;\">\n",
       "      <th></th>\n",
       "      <th>location</th>\n",
       "      <th>new_cases</th>\n",
       "      <th>total_cases</th>\n",
       "      <th>total_cases_per_capita</th>\n",
       "      <th>population</th>\n",
       "    </tr>\n",
       "  </thead>\n",
       "  <tbody>\n",
       "    <tr>\n",
       "      <td>0</td>\n",
       "      <td>San Marino</td>\n",
       "      <td>10</td>\n",
       "      <td>218</td>\n",
       "      <td>0.006453</td>\n",
       "      <td>33785.0</td>\n",
       "    </tr>\n",
       "    <tr>\n",
       "      <td>1</td>\n",
       "      <td>Andorra</td>\n",
       "      <td>36</td>\n",
       "      <td>224</td>\n",
       "      <td>0.002909</td>\n",
       "      <td>77006.0</td>\n",
       "    </tr>\n",
       "    <tr>\n",
       "      <td>2</td>\n",
       "      <td>Faeroe Islands</td>\n",
       "      <td>8</td>\n",
       "      <td>140</td>\n",
       "      <td>0.002887</td>\n",
       "      <td>48497.0</td>\n",
       "    </tr>\n",
       "    <tr>\n",
       "      <td>3</td>\n",
       "      <td>Luxembourg</td>\n",
       "      <td>120</td>\n",
       "      <td>1453</td>\n",
       "      <td>0.002391</td>\n",
       "      <td>607728.0</td>\n",
       "    </tr>\n",
       "    <tr>\n",
       "      <td>4</td>\n",
       "      <td>Iceland</td>\n",
       "      <td>65</td>\n",
       "      <td>802</td>\n",
       "      <td>0.002268</td>\n",
       "      <td>353574.0</td>\n",
       "    </tr>\n",
       "  </tbody>\n",
       "</table>\n",
       "</div>"
      ],
      "text/plain": [
       "         location  new_cases  total_cases  total_cases_per_capita  population\n",
       "0      San Marino         10          218                0.006453     33785.0\n",
       "1         Andorra         36          224                0.002909     77006.0\n",
       "2  Faeroe Islands          8          140                0.002887     48497.0\n",
       "3      Luxembourg        120         1453                0.002391    607728.0\n",
       "4         Iceland         65          802                0.002268    353574.0"
      ]
     },
     "execution_count": 28,
     "metadata": {},
     "output_type": "execute_result"
    }
   ],
   "source": [
    "filtered_for_table = largest5.drop(columns = ['total_deaths_per_capita', 'deaths_per_total', 'new_deaths', 'total_deaths'])\n",
    "filtered_for_table = filtered_for_table.reset_index()\n",
    "filtered_for_table = filtered_for_table.rename(columns = {'2018':'population'})\n",
    "filtered_for_table"
   ]
  },
  {
   "cell_type": "markdown",
   "metadata": {},
   "source": [
    "### Highest death rate per total cases, top 5"
   ]
  },
  {
   "cell_type": "code",
   "execution_count": 29,
   "metadata": {
    "scrolled": false
   },
   "outputs": [
    {
     "data": {
      "text/html": [
       "<div>\n",
       "<style scoped>\n",
       "    .dataframe tbody tr th:only-of-type {\n",
       "        vertical-align: middle;\n",
       "    }\n",
       "\n",
       "    .dataframe tbody tr th {\n",
       "        vertical-align: top;\n",
       "    }\n",
       "\n",
       "    .dataframe thead th {\n",
       "        text-align: right;\n",
       "    }\n",
       "</style>\n",
       "<table border=\"1\" class=\"dataframe\">\n",
       "  <thead>\n",
       "    <tr style=\"text-align: right;\">\n",
       "      <th></th>\n",
       "      <th>new_cases</th>\n",
       "      <th>new_deaths</th>\n",
       "      <th>total_cases</th>\n",
       "      <th>total_deaths</th>\n",
       "      <th>total_cases_per_capita</th>\n",
       "      <th>total_deaths_per_capita</th>\n",
       "      <th>deaths_per_total</th>\n",
       "    </tr>\n",
       "    <tr>\n",
       "      <th>location</th>\n",
       "      <th></th>\n",
       "      <th></th>\n",
       "      <th></th>\n",
       "      <th></th>\n",
       "      <th></th>\n",
       "      <th></th>\n",
       "      <th></th>\n",
       "    </tr>\n",
       "  </thead>\n",
       "  <tbody>\n",
       "    <tr>\n",
       "      <td>Italy</td>\n",
       "      <td>6153</td>\n",
       "      <td>660</td>\n",
       "      <td>80539</td>\n",
       "      <td>8165</td>\n",
       "      <td>0.001333</td>\n",
       "      <td>1.351121e-04</td>\n",
       "      <td>0.1014</td>\n",
       "    </tr>\n",
       "    <tr>\n",
       "      <td>San Marino</td>\n",
       "      <td>10</td>\n",
       "      <td>0</td>\n",
       "      <td>218</td>\n",
       "      <td>21</td>\n",
       "      <td>0.006453</td>\n",
       "      <td>6.215776e-04</td>\n",
       "      <td>0.0963</td>\n",
       "    </tr>\n",
       "    <tr>\n",
       "      <td>Iraq</td>\n",
       "      <td>36</td>\n",
       "      <td>7</td>\n",
       "      <td>382</td>\n",
       "      <td>36</td>\n",
       "      <td>0.000010</td>\n",
       "      <td>9.366804e-07</td>\n",
       "      <td>0.0942</td>\n",
       "    </tr>\n",
       "    <tr>\n",
       "      <td>Indonesia</td>\n",
       "      <td>103</td>\n",
       "      <td>20</td>\n",
       "      <td>893</td>\n",
       "      <td>78</td>\n",
       "      <td>0.000003</td>\n",
       "      <td>2.914107e-07</td>\n",
       "      <td>0.0873</td>\n",
       "    </tr>\n",
       "    <tr>\n",
       "      <td>Iran</td>\n",
       "      <td>2389</td>\n",
       "      <td>157</td>\n",
       "      <td>29406</td>\n",
       "      <td>2234</td>\n",
       "      <td>0.000359</td>\n",
       "      <td>2.731042e-05</td>\n",
       "      <td>0.0760</td>\n",
       "    </tr>\n",
       "  </tbody>\n",
       "</table>\n",
       "</div>"
      ],
      "text/plain": [
       "            new_cases  new_deaths  total_cases  total_deaths  \\\n",
       "location                                                       \n",
       "Italy            6153         660        80539          8165   \n",
       "San Marino         10           0          218            21   \n",
       "Iraq               36           7          382            36   \n",
       "Indonesia         103          20          893            78   \n",
       "Iran             2389         157        29406          2234   \n",
       "\n",
       "            total_cases_per_capita  total_deaths_per_capita  deaths_per_total  \n",
       "location                                                                       \n",
       "Italy                     0.001333             1.351121e-04            0.1014  \n",
       "San Marino                0.006453             6.215776e-04            0.0963  \n",
       "Iraq                      0.000010             9.366804e-07            0.0942  \n",
       "Indonesia                 0.000003             2.914107e-07            0.0873  \n",
       "Iran                      0.000359             2.731042e-05            0.0760  "
      ]
     },
     "execution_count": 29,
     "metadata": {},
     "output_type": "execute_result"
    }
   ],
   "source": [
    "deaths_per_cases = data[data['total_cases'] > 50].nlargest(5, 'deaths_per_total')\n",
    "deaths_per_cases"
   ]
  },
  {
   "cell_type": "code",
   "execution_count": 30,
   "metadata": {
    "scrolled": true
   },
   "outputs": [
    {
     "data": {
      "text/plain": [
       "location\n",
       "Italy         0.1014\n",
       "San Marino    0.0963\n",
       "Iraq          0.0942\n",
       "Indonesia     0.0873\n",
       "Iran          0.0760\n",
       "Name: deaths_per_total, dtype: float64"
      ]
     },
     "execution_count": 30,
     "metadata": {},
     "output_type": "execute_result"
    }
   ],
   "source": [
    "deaths_per_cases['deaths_per_total']"
   ]
  },
  {
   "cell_type": "code",
   "execution_count": 31,
   "metadata": {},
   "outputs": [],
   "source": [
    "deaths_per_cases_pop = deaths_per_cases.merge(population, on = 'location')"
   ]
  },
  {
   "cell_type": "code",
   "execution_count": 32,
   "metadata": {},
   "outputs": [
    {
     "data": {
      "image/png": "[encoded data removed]",
      "text/plain": [
       "<Figure size 576x720 with 1 Axes>"
      ]
     },
     "metadata": {
      "needs_background": "light"
     },
     "output_type": "display_data"
    }
   ],
   "source": [
    "deaths_per_cases_pop.sort_values(by = 'deaths_per_total', ascending = True, inplace = True)\n",
    "deaths_per_cases_fig = deaths_per_cases_pop.plot.barh(y = 'deaths_per_total', \n",
    "                                                      color ='red',\n",
    "                                                      figsize = (8, 10),\n",
    "                                                      alpha = 0.6).get_figure()\n",
    "plt.savefig('deaths_per_cases.png', bbox_inches = 'tight')"
   ]
  },
  {
   "cell_type": "code",
   "execution_count": 33,
   "metadata": {
    "scrolled": true
   },
   "outputs": [
    {
     "data": {
      "text/html": [
       "<div>\n",
       "<style scoped>\n",
       "    .dataframe tbody tr th:only-of-type {\n",
       "        vertical-align: middle;\n",
       "    }\n",
       "\n",
       "    .dataframe tbody tr th {\n",
       "        vertical-align: top;\n",
       "    }\n",
       "\n",
       "    .dataframe thead th {\n",
       "        text-align: right;\n",
       "    }\n",
       "</style>\n",
       "<table border=\"1\" class=\"dataframe\">\n",
       "  <thead>\n",
       "    <tr style=\"text-align: right;\">\n",
       "      <th></th>\n",
       "      <th>location</th>\n",
       "      <th>total_cases</th>\n",
       "      <th>total_deaths</th>\n",
       "      <th>deaths_per_total</th>\n",
       "      <th>population</th>\n",
       "    </tr>\n",
       "  </thead>\n",
       "  <tbody>\n",
       "    <tr>\n",
       "      <td>0</td>\n",
       "      <td>Iran</td>\n",
       "      <td>29406</td>\n",
       "      <td>2234</td>\n",
       "      <td>0.0760</td>\n",
       "      <td>81800269.0</td>\n",
       "    </tr>\n",
       "    <tr>\n",
       "      <td>1</td>\n",
       "      <td>Indonesia</td>\n",
       "      <td>893</td>\n",
       "      <td>78</td>\n",
       "      <td>0.0873</td>\n",
       "      <td>267663435.0</td>\n",
       "    </tr>\n",
       "    <tr>\n",
       "      <td>2</td>\n",
       "      <td>Iraq</td>\n",
       "      <td>382</td>\n",
       "      <td>36</td>\n",
       "      <td>0.0942</td>\n",
       "      <td>38433600.0</td>\n",
       "    </tr>\n",
       "    <tr>\n",
       "      <td>3</td>\n",
       "      <td>San Marino</td>\n",
       "      <td>218</td>\n",
       "      <td>21</td>\n",
       "      <td>0.0963</td>\n",
       "      <td>33785.0</td>\n",
       "    </tr>\n",
       "    <tr>\n",
       "      <td>4</td>\n",
       "      <td>Italy</td>\n",
       "      <td>80539</td>\n",
       "      <td>8165</td>\n",
       "      <td>0.1014</td>\n",
       "      <td>60431283.0</td>\n",
       "    </tr>\n",
       "  </tbody>\n",
       "</table>\n",
       "</div>"
      ],
      "text/plain": [
       "     location  total_cases  total_deaths  deaths_per_total   population\n",
       "0        Iran        29406          2234            0.0760   81800269.0\n",
       "1   Indonesia          893            78            0.0873  267663435.0\n",
       "2        Iraq          382            36            0.0942   38433600.0\n",
       "3  San Marino          218            21            0.0963      33785.0\n",
       "4       Italy        80539          8165            0.1014   60431283.0"
      ]
     },
     "execution_count": 33,
     "metadata": {},
     "output_type": "execute_result"
    }
   ],
   "source": [
    "filtered_for_table = deaths_per_cases_pop.drop(columns = ['new_cases', 'new_deaths', 'total_cases_per_capita', 'total_deaths_per_capita'])\n",
    "filtered_for_table = filtered_for_table.reset_index()\n",
    "filtered_for_table = filtered_for_table.rename(columns = {'2018':'population'})\n",
    "filtered_for_table"
   ]
  },
  {
   "cell_type": "code",
   "execution_count": 34,
   "metadata": {},
   "outputs": [
    {
     "data": {
      "image/svg+xml": [
       "<svg class=\"main-svg\" xmlns=\"http://www.w3.org/2000/svg\" xmlns:xlink=\"http://www.w3.org/1999/xlink\" width=\"700\" height=\"450\" style=\"\" viewBox=\"0 0 700 450\"><rect x=\"0\" y=\"0\" width=\"700\" height=\"450\" style=\"fill: rgb(255, 255, 255); fill-opacity: 1;\"/><defs id=\"defs-ada713\"><g class=\"clips\"/><g class=\"gradients\"/></defs><g class=\"bglayer\"/><g class=\"layer-below\"><g class=\"imagelayer\"/><g class=\"shapelayer\"/></g><g class=\"cartesianlayer\"/><g class=\"polarlayer\"/><g class=\"ternarylayer\"/><g class=\"geolayer\"/><g class=\"funnelarealayer\"/><g class=\"pielayer\"/><g class=\"treemaplayer\"/><g class=\"sunburstlayer\"/><g class=\"glimages\"/><g class=\"table\" overflow=\"visible\" width=\"700\" height=\"450\" transform=\"translate(0,0)\" style=\"box-sizing: content-box; position: absolute; left: 0px; overflow: visible; shape-rendering: crispedges; pointer-events: all;\"><g class=\"table-control-view\" transform=\"translate(80 100)\" clip-path=\"url('#clipada713_scrollAreaBottomClip_2d6681true')\" style=\"box-sizing: content-box;\"><rect class=\"scroll-background\" fill=\"none\" width=\"540\" height=\"270\"/><g class=\"y-column\" transform=\"translate(0 0)\" clip-path=\"url('#clipada713_columnBoundaryClippath_2d6681true_0')\"><g class=\"column-block\" id=\"cells1\" style=\"cursor: default;\" transform=\"translate(0 0)\"><g class=\"column-cells\"><g class=\"column-cell\" transform=\"translate(0 28)\"><rect class=\"cell-rect\" width=\"108\" stroke-width=\"1\" style=\"stroke: rgb(255, 255, 255); stroke-opacity: 1; fill: rgb(235, 240, 248); fill-opacity: 1;\" height=\"20\"/><g class=\"cell-text-holder\" transform=\"translate(8 8)\" text-anchor=\"start\" style=\"shape-rendering: geometricprecision;\"><text class=\"cell-text\" dy=\"0.75em\" style=\"cursor: auto; font-family: 'Open Sans', verdana, arial, sans-serif; font-size: 12px; fill: rgb(42, 63, 95); fill-opacity: 1;\">Iran</text></g></g><g class=\"column-cell\" transform=\"translate(0 48)\"><rect class=\"cell-rect\" width=\"108\" stroke-width=\"1\" style=\"stroke: rgb(255, 255, 255); stroke-opacity: 1; fill: rgb(235, 240, 248); fill-opacity: 1;\" height=\"20\"/><g class=\"cell-text-holder\" transform=\"translate(8 8)\" text-anchor=\"start\" style=\"shape-rendering: geometricprecision;\"><text class=\"cell-text\" dy=\"0.75em\" style=\"cursor: auto; font-family: 'Open Sans', verdana, arial, sans-serif; font-size: 12px; fill: rgb(42, 63, 95); fill-opacity: 1;\">Indonesia</text></g></g><g class=\"column-cell\" transform=\"translate(0 68)\"><rect class=\"cell-rect\" width=\"108\" stroke-width=\"1\" style=\"stroke: rgb(255, 255, 255); stroke-opacity: 1; fill: rgb(235, 240, 248); fill-opacity: 1;\" height=\"20\"/><g class=\"cell-text-holder\" transform=\"translate(8 8)\" text-anchor=\"start\" style=\"shape-rendering: geometricprecision;\"><text class=\"cell-text\" dy=\"0.75em\" style=\"cursor: auto; font-family: 'Open Sans', verdana, arial, sans-serif; font-size: 12px; fill: rgb(42, 63, 95); fill-opacity: 1;\">Iraq</text></g></g><g class=\"column-cell\" transform=\"translate(0 88)\"><rect class=\"cell-rect\" width=\"108\" stroke-width=\"1\" style=\"stroke: rgb(255, 255, 255); stroke-opacity: 1; fill: rgb(235, 240, 248); fill-opacity: 1;\" height=\"20\"/><g class=\"cell-text-holder\" transform=\"translate(8 8)\" text-anchor=\"start\" style=\"shape-rendering: geometricprecision;\"><text class=\"cell-text\" dy=\"0.75em\" x=\"0\" y=\"0\" style=\"cursor: auto; font-family: 'Open Sans', verdana, arial, sans-serif; font-size: 12px; fill: rgb(42, 63, 95); fill-opacity: 1; white-space: pre;\">San Marino</text></g></g><g class=\"column-cell\" transform=\"translate(0 108)\"><rect class=\"cell-rect\" width=\"108\" stroke-width=\"1\" style=\"stroke: rgb(255, 255, 255); stroke-opacity: 1; fill: rgb(235, 240, 248); fill-opacity: 1;\" height=\"20\"/><g class=\"cell-text-holder\" transform=\"translate(8 8)\" text-anchor=\"start\" style=\"shape-rendering: geometricprecision;\"><text class=\"cell-text\" dy=\"0.75em\" style=\"cursor: auto; font-family: 'Open Sans', verdana, arial, sans-serif; font-size: 12px; fill: rgb(42, 63, 95); fill-opacity: 1;\">Italy</text></g></g></g></g><g class=\"column-block\" id=\"cells2\" style=\"cursor: default;\" transform=\"translate(0 0)\"><g class=\"column-cells\"/></g><g class=\"column-block\" id=\"header\" style=\"cursor: ew-resize;\"><g class=\"column-cells\"><g class=\"column-cell\" transform=\"translate(0 0)\"><rect class=\"cell-rect\" width=\"108\" stroke-width=\"1\" style=\"stroke: rgb(255, 255, 255); stroke-opacity: 1; fill: rgb(200, 212, 227); fill-opacity: 1;\" height=\"28\"/><g class=\"cell-text-holder\" transform=\"translate(8 8)\" text-anchor=\"start\" style=\"shape-rendering: geometricprecision;\"><text class=\"cell-text\" dy=\"0.75em\" style=\"cursor: auto; font-family: 'Open Sans', verdana, arial, sans-serif; font-size: 12px; fill: rgb(42, 63, 95); fill-opacity: 1;\">Location</text></g></g></g></g><g class=\"column-boundary\"/><clipPath class=\"column-boundary-clippath\" id=\"clipada713_columnBoundaryClippath_2d6681true_0\"><rect class=\"column-boundary-rect\" fill=\"none\" width=\"110\" height=\"277\" x=\"-1\" y=\"-1\"/></clipPath></g><g class=\"y-column\" transform=\"translate(108 0)\" clip-path=\"url('#clipada713_columnBoundaryClippath_2d6681true_1')\"><g class=\"column-block\" id=\"cells1\" style=\"cursor: default;\" transform=\"translate(0 0)\"><g class=\"column-cells\"><g class=\"column-cell\" transform=\"translate(0 28)\"><rect class=\"cell-rect\" width=\"108\" stroke-width=\"1\" style=\"stroke: rgb(255, 255, 255); stroke-opacity: 1; fill: rgb(235, 240, 248); fill-opacity: 1;\" height=\"20\"/><g class=\"cell-text-holder\" transform=\"translate(8 8)\" text-anchor=\"start\" style=\"shape-rendering: geometricprecision;\"><text class=\"cell-text\" dy=\"0.75em\" style=\"cursor: auto; font-family: 'Open Sans', verdana, arial, sans-serif; font-size: 12px; fill: rgb(42, 63, 95); fill-opacity: 1;\">29406</text></g></g><g class=\"column-cell\" transform=\"translate(0 48)\"><rect class=\"cell-rect\" width=\"108\" stroke-width=\"1\" style=\"stroke: rgb(255, 255, 255); stroke-opacity: 1; fill: rgb(235, 240, 248); fill-opacity: 1;\" height=\"20\"/><g class=\"cell-text-holder\" transform=\"translate(8 8)\" text-anchor=\"start\" style=\"shape-rendering: geometricprecision;\"><text class=\"cell-text\" dy=\"0.75em\" style=\"cursor: auto; font-family: 'Open Sans', verdana, arial, sans-serif; font-size: 12px; fill: rgb(42, 63, 95); fill-opacity: 1;\">893</text></g></g><g class=\"column-cell\" transform=\"translate(0 68)\"><rect class=\"cell-rect\" width=\"108\" stroke-width=\"1\" style=\"stroke: rgb(255, 255, 255); stroke-opacity: 1; fill: rgb(235, 240, 248); fill-opacity: 1;\" height=\"20\"/><g class=\"cell-text-holder\" transform=\"translate(8 8)\" text-anchor=\"start\" style=\"shape-rendering: geometricprecision;\"><text class=\"cell-text\" dy=\"0.75em\" style=\"cursor: auto; font-family: 'Open Sans', verdana, arial, sans-serif; font-size: 12px; fill: rgb(42, 63, 95); fill-opacity: 1;\">382</text></g></g><g class=\"column-cell\" transform=\"translate(0 88)\"><rect class=\"cell-rect\" width=\"108\" stroke-width=\"1\" style=\"stroke: rgb(255, 255, 255); stroke-opacity: 1; fill: rgb(235, 240, 248); fill-opacity: 1;\" height=\"20\"/><g class=\"cell-text-holder\" transform=\"translate(8 8)\" text-anchor=\"start\" style=\"shape-rendering: geometricprecision;\"><text class=\"cell-text\" dy=\"0.75em\" style=\"cursor: auto; font-family: 'Open Sans', verdana, arial, sans-serif; font-size: 12px; fill: rgb(42, 63, 95); fill-opacity: 1;\">218</text></g></g><g class=\"column-cell\" transform=\"translate(0 108)\"><rect class=\"cell-rect\" width=\"108\" stroke-width=\"1\" style=\"stroke: rgb(255, 255, 255); stroke-opacity: 1; fill: rgb(235, 240, 248); fill-opacity: 1;\" height=\"20\"/><g class=\"cell-text-holder\" transform=\"translate(8 8)\" text-anchor=\"start\" style=\"shape-rendering: geometricprecision;\"><text class=\"cell-text\" dy=\"0.75em\" style=\"cursor: auto; font-family: 'Open Sans', verdana, arial, sans-serif; font-size: 12px; fill: rgb(42, 63, 95); fill-opacity: 1;\">80539</text></g></g></g></g><g class=\"column-block\" id=\"cells2\" style=\"cursor: default;\" transform=\"translate(0 0)\"><g class=\"column-cells\"/></g><g class=\"column-block\" id=\"header\" style=\"cursor: ew-resize;\"><g class=\"column-cells\"><g class=\"column-cell\" transform=\"translate(0 0)\"><rect class=\"cell-rect\" width=\"108\" stroke-width=\"1\" style=\"stroke: rgb(255, 255, 255); stroke-opacity: 1; fill: rgb(200, 212, 227); fill-opacity: 1;\" height=\"28\"/><g class=\"cell-text-holder\" style=\"shape-rendering: geometricprecision;\" transform=\"translate(8 8)\" text-anchor=\"start\"><text class=\"cell-text\" dy=\"0.75em\" x=\"0\" y=\"0\" style=\"cursor: auto; font-family: 'Open Sans', verdana, arial, sans-serif; font-size: 12px; fill: rgb(42, 63, 95); fill-opacity: 1; white-space: pre;\">Total Cases</text></g></g></g></g><g class=\"column-boundary\"/><clipPath class=\"column-boundary-clippath\" id=\"clipada713_columnBoundaryClippath_2d6681true_1\"><rect class=\"column-boundary-rect\" fill=\"none\" width=\"110\" height=\"277\" x=\"-1\" y=\"-1\"/></clipPath></g><g class=\"y-column\" transform=\"translate(216 0)\" clip-path=\"url('#clipada713_columnBoundaryClippath_2d6681true_2')\"><g class=\"column-block\" id=\"cells1\" style=\"cursor: default;\" transform=\"translate(0 0)\"><g class=\"column-cells\"><g class=\"column-cell\" transform=\"translate(0 28)\"><rect class=\"cell-rect\" width=\"108\" stroke-width=\"1\" style=\"stroke: rgb(255, 255, 255); stroke-opacity: 1; fill: rgb(235, 240, 248); fill-opacity: 1;\" height=\"20\"/><g class=\"cell-text-holder\" transform=\"translate(8 8)\" text-anchor=\"start\" style=\"shape-rendering: geometricprecision;\"><text class=\"cell-text\" dy=\"0.75em\" style=\"cursor: auto; font-family: 'Open Sans', verdana, arial, sans-serif; font-size: 12px; fill: rgb(42, 63, 95); fill-opacity: 1;\">2234</text></g></g><g class=\"column-cell\" transform=\"translate(0 48)\"><rect class=\"cell-rect\" width=\"108\" stroke-width=\"1\" style=\"stroke: rgb(255, 255, 255); stroke-opacity: 1; fill: rgb(235, 240, 248); fill-opacity: 1;\" height=\"20\"/><g class=\"cell-text-holder\" transform=\"translate(8 8)\" text-anchor=\"start\" style=\"shape-rendering: geometricprecision;\"><text class=\"cell-text\" dy=\"0.75em\" style=\"cursor: auto; font-family: 'Open Sans', verdana, arial, sans-serif; font-size: 12px; fill: rgb(42, 63, 95); fill-opacity: 1;\">78</text></g></g><g class=\"column-cell\" transform=\"translate(0 68)\"><rect class=\"cell-rect\" width=\"108\" stroke-width=\"1\" style=\"stroke: rgb(255, 255, 255); stroke-opacity: 1; fill: rgb(235, 240, 248); fill-opacity: 1;\" height=\"20\"/><g class=\"cell-text-holder\" transform=\"translate(8 8)\" text-anchor=\"start\" style=\"shape-rendering: geometricprecision;\"><text class=\"cell-text\" dy=\"0.75em\" style=\"cursor: auto; font-family: 'Open Sans', verdana, arial, sans-serif; font-size: 12px; fill: rgb(42, 63, 95); fill-opacity: 1;\">36</text></g></g><g class=\"column-cell\" transform=\"translate(0 88)\"><rect class=\"cell-rect\" width=\"108\" stroke-width=\"1\" style=\"stroke: rgb(255, 255, 255); stroke-opacity: 1; fill: rgb(235, 240, 248); fill-opacity: 1;\" height=\"20\"/><g class=\"cell-text-holder\" transform=\"translate(8 8)\" text-anchor=\"start\" style=\"shape-rendering: geometricprecision;\"><text class=\"cell-text\" dy=\"0.75em\" style=\"cursor: auto; font-family: 'Open Sans', verdana, arial, sans-serif; font-size: 12px; fill: rgb(42, 63, 95); fill-opacity: 1;\">21</text></g></g><g class=\"column-cell\" transform=\"translate(0 108)\"><rect class=\"cell-rect\" width=\"108\" stroke-width=\"1\" style=\"stroke: rgb(255, 255, 255); stroke-opacity: 1; fill: rgb(235, 240, 248); fill-opacity: 1;\" height=\"20\"/><g class=\"cell-text-holder\" transform=\"translate(8 8)\" text-anchor=\"start\" style=\"shape-rendering: geometricprecision;\"><text class=\"cell-text\" dy=\"0.75em\" style=\"cursor: auto; font-family: 'Open Sans', verdana, arial, sans-serif; font-size: 12px; fill: rgb(42, 63, 95); fill-opacity: 1;\">8165</text></g></g></g></g><g class=\"column-block\" id=\"cells2\" style=\"cursor: default;\" transform=\"translate(0 0)\"><g class=\"column-cells\"/></g><g class=\"column-block\" id=\"header\" style=\"cursor: ew-resize;\"><g class=\"column-cells\"><g class=\"column-cell\" transform=\"translate(0 0)\"><rect class=\"cell-rect\" width=\"108\" stroke-width=\"1\" style=\"stroke: rgb(255, 255, 255); stroke-opacity: 1; fill: rgb(200, 212, 227); fill-opacity: 1;\" height=\"28\"/><g class=\"cell-text-holder\" style=\"shape-rendering: geometricprecision;\" transform=\"translate(8 8)\" text-anchor=\"start\"><text class=\"cell-text\" dy=\"0.75em\" style=\"cursor: auto; font-family: 'Open Sans', verdana, arial, sans-serif; font-size: 12px; fill: rgb(42, 63, 95); fill-opacity: 1; white-space: pre;\" x=\"0\" y=\"0\">Total Deaths</text></g></g></g></g><g class=\"column-boundary\"/><clipPath class=\"column-boundary-clippath\" id=\"clipada713_columnBoundaryClippath_2d6681true_2\"><rect class=\"column-boundary-rect\" fill=\"none\" width=\"110\" height=\"277\" x=\"-1\" y=\"-1\"/></clipPath></g><g class=\"y-column\" transform=\"translate(324 0)\" clip-path=\"url('#clipada713_columnBoundaryClippath_2d6681true_3')\"><g class=\"column-block\" id=\"cells1\" style=\"cursor: default;\" transform=\"translate(0 0)\"><g class=\"column-cells\"><g class=\"column-cell\" transform=\"translate(0 28)\"><rect class=\"cell-rect\" width=\"108\" stroke-width=\"1\" style=\"stroke: rgb(255, 255, 255); stroke-opacity: 1; fill: rgb(235, 240, 248); fill-opacity: 1;\" height=\"20\"/><g class=\"cell-text-holder\" transform=\"translate(8 8)\" text-anchor=\"start\" style=\"shape-rendering: geometricprecision;\"><text class=\"cell-text\" dy=\"0.75em\" style=\"cursor: auto; font-family: 'Open Sans', verdana, arial, sans-serif; font-size: 12px; fill: rgb(42, 63, 95); fill-opacity: 1;\">0.076</text></g></g><g class=\"column-cell\" transform=\"translate(0 48)\"><rect class=\"cell-rect\" width=\"108\" stroke-width=\"1\" style=\"stroke: rgb(255, 255, 255); stroke-opacity: 1; fill: rgb(235, 240, 248); fill-opacity: 1;\" height=\"20\"/><g class=\"cell-text-holder\" transform=\"translate(8 8)\" text-anchor=\"start\" style=\"shape-rendering: geometricprecision;\"><text class=\"cell-text\" dy=\"0.75em\" style=\"cursor: auto; font-family: 'Open Sans', verdana, arial, sans-serif; font-size: 12px; fill: rgb(42, 63, 95); fill-opacity: 1;\">0.0873</text></g></g><g class=\"column-cell\" transform=\"translate(0 68)\"><rect class=\"cell-rect\" width=\"108\" stroke-width=\"1\" style=\"stroke: rgb(255, 255, 255); stroke-opacity: 1; fill: rgb(235, 240, 248); fill-opacity: 1;\" height=\"20\"/><g class=\"cell-text-holder\" transform=\"translate(8 8)\" text-anchor=\"start\" style=\"shape-rendering: geometricprecision;\"><text class=\"cell-text\" dy=\"0.75em\" style=\"cursor: auto; font-family: 'Open Sans', verdana, arial, sans-serif; font-size: 12px; fill: rgb(42, 63, 95); fill-opacity: 1;\">0.0942</text></g></g><g class=\"column-cell\" transform=\"translate(0 88)\"><rect class=\"cell-rect\" width=\"108\" stroke-width=\"1\" style=\"stroke: rgb(255, 255, 255); stroke-opacity: 1; fill: rgb(235, 240, 248); fill-opacity: 1;\" height=\"20\"/><g class=\"cell-text-holder\" transform=\"translate(8 8)\" text-anchor=\"start\" style=\"shape-rendering: geometricprecision;\"><text class=\"cell-text\" dy=\"0.75em\" style=\"cursor: auto; font-family: 'Open Sans', verdana, arial, sans-serif; font-size: 12px; fill: rgb(42, 63, 95); fill-opacity: 1;\">0.0963</text></g></g><g class=\"column-cell\" transform=\"translate(0 108)\"><rect class=\"cell-rect\" width=\"108\" stroke-width=\"1\" style=\"stroke: rgb(255, 255, 255); stroke-opacity: 1; fill: rgb(235, 240, 248); fill-opacity: 1;\" height=\"20\"/><g class=\"cell-text-holder\" transform=\"translate(8 8)\" text-anchor=\"start\" style=\"shape-rendering: geometricprecision;\"><text class=\"cell-text\" dy=\"0.75em\" style=\"cursor: auto; font-family: 'Open Sans', verdana, arial, sans-serif; font-size: 12px; fill: rgb(42, 63, 95); fill-opacity: 1;\">0.1014</text></g></g></g></g><g class=\"column-block\" id=\"cells2\" style=\"cursor: default;\" transform=\"translate(0 0)\"><g class=\"column-cells\"/></g><g class=\"column-block\" id=\"header\" style=\"cursor: ew-resize;\"><g class=\"column-cells\"><g class=\"column-cell\" transform=\"translate(0 0)\"><rect class=\"cell-rect\" width=\"108\" stroke-width=\"1\" style=\"stroke: rgb(255, 255, 255); stroke-opacity: 1; fill: rgb(200, 212, 227); fill-opacity: 1;\" height=\"28\"/><g class=\"cell-text-holder\" style=\"shape-rendering: geometricprecision;\" transform=\"translate(8 8)\" text-anchor=\"start\"><text class=\"cell-text\" dy=\"0.75em\" style=\"cursor: auto; font-family: 'Open Sans', verdana, arial, sans-serif; font-size: 12px; fill: rgb(42, 63, 95); fill-opacity: 1; white-space: pre;\" x=\"0\" y=\"0\">Deaths per total</text></g></g></g></g><g class=\"column-boundary\"/><clipPath class=\"column-boundary-clippath\" id=\"clipada713_columnBoundaryClippath_2d6681true_3\"><rect class=\"column-boundary-rect\" fill=\"none\" width=\"110\" height=\"277\" x=\"-1\" y=\"-1\"/></clipPath></g><g class=\"y-column\" transform=\"translate(432 0)\" clip-path=\"url('#clipada713_columnBoundaryClippath_2d6681true_4')\"><g class=\"column-block\" id=\"cells1\" style=\"cursor: default;\" transform=\"translate(0 0)\"><g class=\"column-cells\"><g class=\"column-cell\" transform=\"translate(0 28)\"><rect class=\"cell-rect\" width=\"108\" stroke-width=\"1\" style=\"stroke: rgb(255, 255, 255); stroke-opacity: 1; fill: rgb(235, 240, 248); fill-opacity: 1;\" height=\"20\"/><g class=\"cell-text-holder\" transform=\"translate(8 8)\" text-anchor=\"start\" style=\"shape-rendering: geometricprecision;\"><text class=\"cell-text\" dy=\"0.75em\" style=\"cursor: auto; font-family: 'Open Sans', verdana, arial, sans-serif; font-size: 12px; fill: rgb(42, 63, 95); fill-opacity: 1;\">81800269</text></g></g><g class=\"column-cell\" transform=\"translate(0 48)\"><rect class=\"cell-rect\" width=\"108\" stroke-width=\"1\" style=\"stroke: rgb(255, 255, 255); stroke-opacity: 1; fill: rgb(235, 240, 248); fill-opacity: 1;\" height=\"20\"/><g class=\"cell-text-holder\" transform=\"translate(8 8)\" text-anchor=\"start\" style=\"shape-rendering: geometricprecision;\"><text class=\"cell-text\" dy=\"0.75em\" style=\"cursor: auto; font-family: 'Open Sans', verdana, arial, sans-serif; font-size: 12px; fill: rgb(42, 63, 95); fill-opacity: 1;\">267663435</text></g></g><g class=\"column-cell\" transform=\"translate(0 68)\"><rect class=\"cell-rect\" width=\"108\" stroke-width=\"1\" style=\"stroke: rgb(255, 255, 255); stroke-opacity: 1; fill: rgb(235, 240, 248); fill-opacity: 1;\" height=\"20\"/><g class=\"cell-text-holder\" transform=\"translate(8 8)\" text-anchor=\"start\" style=\"shape-rendering: geometricprecision;\"><text class=\"cell-text\" dy=\"0.75em\" style=\"cursor: auto; font-family: 'Open Sans', verdana, arial, sans-serif; font-size: 12px; fill: rgb(42, 63, 95); fill-opacity: 1;\">38433600</text></g></g><g class=\"column-cell\" transform=\"translate(0 88)\"><rect class=\"cell-rect\" width=\"108\" stroke-width=\"1\" style=\"stroke: rgb(255, 255, 255); stroke-opacity: 1; fill: rgb(235, 240, 248); fill-opacity: 1;\" height=\"20\"/><g class=\"cell-text-holder\" transform=\"translate(8 8)\" text-anchor=\"start\" style=\"shape-rendering: geometricprecision;\"><text class=\"cell-text\" dy=\"0.75em\" style=\"cursor: auto; font-family: 'Open Sans', verdana, arial, sans-serif; font-size: 12px; fill: rgb(42, 63, 95); fill-opacity: 1;\">33785</text></g></g><g class=\"column-cell\" transform=\"translate(0 108)\"><rect class=\"cell-rect\" width=\"108\" stroke-width=\"1\" style=\"stroke: rgb(255, 255, 255); stroke-opacity: 1; fill: rgb(235, 240, 248); fill-opacity: 1;\" height=\"20\"/><g class=\"cell-text-holder\" transform=\"translate(8 8)\" text-anchor=\"start\" style=\"shape-rendering: geometricprecision;\"><text class=\"cell-text\" dy=\"0.75em\" style=\"cursor: auto; font-family: 'Open Sans', verdana, arial, sans-serif; font-size: 12px; fill: rgb(42, 63, 95); fill-opacity: 1;\">60431283</text></g></g></g></g><g class=\"column-block\" id=\"cells2\" style=\"cursor: default;\" transform=\"translate(0 0)\"><g class=\"column-cells\"/></g><g class=\"column-block\" id=\"header\" style=\"cursor: ew-resize;\"><g class=\"column-cells\"><g class=\"column-cell\" transform=\"translate(0 0)\"><rect class=\"cell-rect\" width=\"108\" stroke-width=\"1\" style=\"stroke: rgb(255, 255, 255); stroke-opacity: 1; fill: rgb(200, 212, 227); fill-opacity: 1;\" height=\"28\"/><g class=\"cell-text-holder\" style=\"shape-rendering: geometricprecision;\" transform=\"translate(8 8)\" text-anchor=\"start\"><text class=\"cell-text\" dy=\"0.75em\" style=\"cursor: auto; font-family: 'Open Sans', verdana, arial, sans-serif; font-size: 12px; fill: rgb(42, 63, 95); fill-opacity: 1;\">population</text></g></g></g></g><g class=\"column-boundary\"/><clipPath class=\"column-boundary-clippath\" id=\"clipada713_columnBoundaryClippath_2d6681true_4\"><rect class=\"column-boundary-rect\" fill=\"none\" width=\"110\" height=\"277\" x=\"-1\" y=\"-1\"/></clipPath></g><clipPath class=\"scroll-area-clip\" id=\"clipada713_scrollAreaBottomClip_2d6681true\"><rect class=\"scroll-area-clip-rect\" x=\"-45\" y=\"-5\" fill=\"none\" width=\"630\" height=\"275\"/></clipPath></g></g><defs id=\"topdefs-ada713\"><g class=\"clips\"/></defs><g class=\"layer-above\"><g class=\"imagelayer\"/><g class=\"shapelayer\"/></g><g class=\"infolayer\"><g class=\"g-gtitle\"/></g></svg>"
      ]
     },
     "metadata": {},
     "output_type": "display_data"
    }
   ],
   "source": [
    "fig = go.Figure(data=[go.Table(\n",
    "    header=dict(values=['Location', \n",
    "                        'Total Cases', \n",
    "                        'Total Deaths',\n",
    "                        'Deaths per total', \n",
    "                        'population'],\n",
    "                align='left'),\n",
    "    cells=dict(values=[filtered_for_table['location'], \n",
    "                       filtered_for_table['total_cases'], \n",
    "                       filtered_for_table['total_deaths'], \n",
    "                       filtered_for_table['deaths_per_total'],\n",
    "                       filtered_for_table['population']\n",
    "                      ],\n",
    "               align='left'))\n",
    "])\n",
    "\n",
    "fig.show(renderer=\"svg\")"
   ]
  },
  {
   "cell_type": "markdown",
   "metadata": {},
   "source": [
    "### Comparison of new cases by countries"
   ]
  },
  {
   "cell_type": "code",
   "execution_count": 35,
   "metadata": {},
   "outputs": [],
   "source": [
    "filter_countries = ['Canada','United States', 'Pakistan']"
   ]
  },
  {
   "cell_type": "code",
   "execution_count": 36,
   "metadata": {
    "scrolled": false
   },
   "outputs": [
    {
     "data": {
      "text/html": [
       "<div>\n",
       "<style scoped>\n",
       "    .dataframe tbody tr th:only-of-type {\n",
       "        vertical-align: middle;\n",
       "    }\n",
       "\n",
       "    .dataframe tbody tr th {\n",
       "        vertical-align: top;\n",
       "    }\n",
       "\n",
       "    .dataframe thead th {\n",
       "        text-align: right;\n",
       "    }\n",
       "</style>\n",
       "<table border=\"1\" class=\"dataframe\">\n",
       "  <thead>\n",
       "    <tr style=\"text-align: right;\">\n",
       "      <th></th>\n",
       "      <th>new_cases</th>\n",
       "      <th>new_deaths</th>\n",
       "      <th>total_cases</th>\n",
       "      <th>total_deaths</th>\n",
       "      <th>total_cases_per_capita</th>\n",
       "      <th>total_deaths_per_capita</th>\n",
       "      <th>deaths_per_total</th>\n",
       "    </tr>\n",
       "    <tr>\n",
       "      <th>location</th>\n",
       "      <th></th>\n",
       "      <th></th>\n",
       "      <th></th>\n",
       "      <th></th>\n",
       "      <th></th>\n",
       "      <th></th>\n",
       "      <th></th>\n",
       "    </tr>\n",
       "  </thead>\n",
       "  <tbody>\n",
       "    <tr>\n",
       "      <td>Canada</td>\n",
       "      <td>633</td>\n",
       "      <td>4</td>\n",
       "      <td>4018</td>\n",
       "      <td>39</td>\n",
       "      <td>0.000108</td>\n",
       "      <td>1.052380e-06</td>\n",
       "      <td>0.0097</td>\n",
       "    </tr>\n",
       "    <tr>\n",
       "      <td>Pakistan</td>\n",
       "      <td>140</td>\n",
       "      <td>1</td>\n",
       "      <td>1197</td>\n",
       "      <td>9</td>\n",
       "      <td>0.000006</td>\n",
       "      <td>4.240981e-08</td>\n",
       "      <td>0.0075</td>\n",
       "    </tr>\n",
       "    <tr>\n",
       "      <td>United States</td>\n",
       "      <td>16797</td>\n",
       "      <td>246</td>\n",
       "      <td>85991</td>\n",
       "      <td>1296</td>\n",
       "      <td>0.000263</td>\n",
       "      <td>3.961274e-06</td>\n",
       "      <td>0.0151</td>\n",
       "    </tr>\n",
       "  </tbody>\n",
       "</table>\n",
       "</div>"
      ],
      "text/plain": [
       "               new_cases  new_deaths  total_cases  total_deaths  \\\n",
       "location                                                          \n",
       "Canada               633           4         4018            39   \n",
       "Pakistan             140           1         1197             9   \n",
       "United States      16797         246        85991          1296   \n",
       "\n",
       "               total_cases_per_capita  total_deaths_per_capita  \\\n",
       "location                                                         \n",
       "Canada                       0.000108             1.052380e-06   \n",
       "Pakistan                     0.000006             4.240981e-08   \n",
       "United States                0.000263             3.961274e-06   \n",
       "\n",
       "               deaths_per_total  \n",
       "location                         \n",
       "Canada                   0.0097  \n",
       "Pakistan                 0.0075  \n",
       "United States            0.0151  "
      ]
     },
     "execution_count": 36,
     "metadata": {},
     "output_type": "execute_result"
    }
   ],
   "source": [
    "data[data.index.isin(filter_countries)]"
   ]
  },
  {
   "cell_type": "code",
   "execution_count": 37,
   "metadata": {},
   "outputs": [
    {
     "data": {
      "text/html": [
       "<div>\n",
       "<style scoped>\n",
       "    .dataframe tbody tr th:only-of-type {\n",
       "        vertical-align: middle;\n",
       "    }\n",
       "\n",
       "    .dataframe tbody tr th {\n",
       "        vertical-align: top;\n",
       "    }\n",
       "\n",
       "    .dataframe thead th {\n",
       "        text-align: right;\n",
       "    }\n",
       "</style>\n",
       "<table border=\"1\" class=\"dataframe\">\n",
       "  <thead>\n",
       "    <tr style=\"text-align: right;\">\n",
       "      <th></th>\n",
       "      <th>2018</th>\n",
       "    </tr>\n",
       "    <tr>\n",
       "      <th>location</th>\n",
       "      <th></th>\n",
       "    </tr>\n",
       "  </thead>\n",
       "  <tbody>\n",
       "    <tr>\n",
       "      <td>Canada</td>\n",
       "      <td>37058856.0</td>\n",
       "    </tr>\n",
       "    <tr>\n",
       "      <td>Pakistan</td>\n",
       "      <td>212215030.0</td>\n",
       "    </tr>\n",
       "    <tr>\n",
       "      <td>United States</td>\n",
       "      <td>327167434.0</td>\n",
       "    </tr>\n",
       "  </tbody>\n",
       "</table>\n",
       "</div>"
      ],
      "text/plain": [
       "                      2018\n",
       "location                  \n",
       "Canada          37058856.0\n",
       "Pakistan       212215030.0\n",
       "United States  327167434.0"
      ]
     },
     "execution_count": 37,
     "metadata": {},
     "output_type": "execute_result"
    }
   ],
   "source": [
    "population[population.index.isin(filter_countries)]"
   ]
  },
  {
   "cell_type": "code",
   "execution_count": 38,
   "metadata": {},
   "outputs": [],
   "source": [
    "earliest = '2020-03-01'\n",
    "country_subset = rdata[rdata['location'].isin(filter_countries) & rdata['date_fm'].between(earliest, latest)]"
   ]
  },
  {
   "cell_type": "code",
   "execution_count": 39,
   "metadata": {},
   "outputs": [
    {
     "data": {
      "image/png": "[encoded data removed]",
      "text/plain": [
       "<Figure size 1080x720 with 1 Axes>"
      ]
     },
     "metadata": {
      "needs_background": "light"
     },
     "output_type": "display_data"
    }
   ],
   "source": [
    "_, ax = plt.subplots(figsize = (15, 10))\n",
    "\n",
    "for name, group in country_subset.groupby('location'):\n",
    "    group.set_index('date_fm').plot(kind ='line', y = 'new_cases', ax = ax, label = name)\n",
    "\n",
    "plt.savefig('select_countries_new_cases.png', bbox_inches = 'tight')"
   ]
  },
  {
   "cell_type": "markdown",
   "metadata": {},
   "source": [
    "### Comparison of new cases by countries per capita"
   ]
  },
  {
   "cell_type": "code",
   "execution_count": 40,
   "metadata": {},
   "outputs": [],
   "source": [
    "percapita = pd.DataFrame(country_subset['location'])\n",
    "percapita['date_fm'] = country_subset['date_fm']\n",
    "percapita['new_cases_per_capita'] =  country_subset['new_cases'].div(country_subset['location'].map(population['2018']))"
   ]
  },
  {
   "cell_type": "code",
   "execution_count": 41,
   "metadata": {
    "scrolled": false
   },
   "outputs": [
    {
     "data": {
      "image/png": "[encoded data removed]",
      "text/plain": [
       "<Figure size 1080x720 with 1 Axes>"
      ]
     },
     "metadata": {
      "needs_background": "light"
     },
     "output_type": "display_data"
    }
   ],
   "source": [
    "_, ax = plt.subplots(figsize = (15, 10))\n",
    "\n",
    "for name, group in percapita.groupby('location'):\n",
    "    group.set_index('date_fm').plot(kind ='line', y = 'new_cases_per_capita', ax = ax, label = name)\n",
    "\n",
    "plt.savefig('select_countries_new_cases_per_capita.png', bbox_inches = 'tight')"
   ]
  },
  {
   "cell_type": "code",
   "execution_count": 42,
   "metadata": {
    "scrolled": false
   },
   "outputs": [
    {
     "data": {
      "text/html": [
       "<div>\n",
       "<style scoped>\n",
       "    .dataframe tbody tr th:only-of-type {\n",
       "        vertical-align: middle;\n",
       "    }\n",
       "\n",
       "    .dataframe tbody tr th {\n",
       "        vertical-align: top;\n",
       "    }\n",
       "\n",
       "    .dataframe thead th {\n",
       "        text-align: right;\n",
       "    }\n",
       "</style>\n",
       "<table border=\"1\" class=\"dataframe\">\n",
       "  <thead>\n",
       "    <tr style=\"text-align: right;\">\n",
       "      <th></th>\n",
       "      <th>date</th>\n",
       "      <th>location</th>\n",
       "      <th>new_cases</th>\n",
       "      <th>new_deaths</th>\n",
       "      <th>total_cases</th>\n",
       "      <th>total_deaths</th>\n",
       "    </tr>\n",
       "  </thead>\n",
       "  <tbody>\n",
       "    <tr>\n",
       "      <td>6960</td>\n",
       "      <td>2020-03-18</td>\n",
       "      <td>United States</td>\n",
       "      <td>1766</td>\n",
       "      <td>23</td>\n",
       "      <td>6427</td>\n",
       "      <td>108</td>\n",
       "    </tr>\n",
       "    <tr>\n",
       "      <td>6961</td>\n",
       "      <td>2020-03-19</td>\n",
       "      <td>United States</td>\n",
       "      <td>2988</td>\n",
       "      <td>42</td>\n",
       "      <td>9415</td>\n",
       "      <td>150</td>\n",
       "    </tr>\n",
       "    <tr>\n",
       "      <td>6962</td>\n",
       "      <td>2020-03-20</td>\n",
       "      <td>United States</td>\n",
       "      <td>4835</td>\n",
       "      <td>0</td>\n",
       "      <td>14250</td>\n",
       "      <td>150</td>\n",
       "    </tr>\n",
       "    <tr>\n",
       "      <td>6963</td>\n",
       "      <td>2020-03-21</td>\n",
       "      <td>United States</td>\n",
       "      <td>5374</td>\n",
       "      <td>110</td>\n",
       "      <td>19624</td>\n",
       "      <td>260</td>\n",
       "    </tr>\n",
       "    <tr>\n",
       "      <td>6964</td>\n",
       "      <td>2020-03-22</td>\n",
       "      <td>United States</td>\n",
       "      <td>7123</td>\n",
       "      <td>80</td>\n",
       "      <td>26747</td>\n",
       "      <td>340</td>\n",
       "    </tr>\n",
       "    <tr>\n",
       "      <td>6965</td>\n",
       "      <td>2020-03-23</td>\n",
       "      <td>United States</td>\n",
       "      <td>8459</td>\n",
       "      <td>131</td>\n",
       "      <td>35206</td>\n",
       "      <td>471</td>\n",
       "    </tr>\n",
       "    <tr>\n",
       "      <td>6966</td>\n",
       "      <td>2020-03-24</td>\n",
       "      <td>United States</td>\n",
       "      <td>11236</td>\n",
       "      <td>119</td>\n",
       "      <td>46442</td>\n",
       "      <td>590</td>\n",
       "    </tr>\n",
       "    <tr>\n",
       "      <td>6967</td>\n",
       "      <td>2020-03-25</td>\n",
       "      <td>United States</td>\n",
       "      <td>8789</td>\n",
       "      <td>211</td>\n",
       "      <td>55231</td>\n",
       "      <td>801</td>\n",
       "    </tr>\n",
       "    <tr>\n",
       "      <td>6968</td>\n",
       "      <td>2020-03-26</td>\n",
       "      <td>United States</td>\n",
       "      <td>13963</td>\n",
       "      <td>249</td>\n",
       "      <td>69194</td>\n",
       "      <td>1050</td>\n",
       "    </tr>\n",
       "    <tr>\n",
       "      <td>6969</td>\n",
       "      <td>2020-03-27</td>\n",
       "      <td>United States</td>\n",
       "      <td>16797</td>\n",
       "      <td>246</td>\n",
       "      <td>85991</td>\n",
       "      <td>1296</td>\n",
       "    </tr>\n",
       "  </tbody>\n",
       "</table>\n",
       "</div>"
      ],
      "text/plain": [
       "            date       location  new_cases  new_deaths  total_cases  \\\n",
       "6960  2020-03-18  United States       1766          23         6427   \n",
       "6961  2020-03-19  United States       2988          42         9415   \n",
       "6962  2020-03-20  United States       4835           0        14250   \n",
       "6963  2020-03-21  United States       5374         110        19624   \n",
       "6964  2020-03-22  United States       7123          80        26747   \n",
       "6965  2020-03-23  United States       8459         131        35206   \n",
       "6966  2020-03-24  United States      11236         119        46442   \n",
       "6967  2020-03-25  United States       8789         211        55231   \n",
       "6968  2020-03-26  United States      13963         249        69194   \n",
       "6969  2020-03-27  United States      16797         246        85991   \n",
       "\n",
       "      total_deaths  \n",
       "6960           108  \n",
       "6961           150  \n",
       "6962           150  \n",
       "6963           260  \n",
       "6964           340  \n",
       "6965           471  \n",
       "6966           590  \n",
       "6967           801  \n",
       "6968          1050  \n",
       "6969          1296  "
      ]
     },
     "execution_count": 42,
     "metadata": {},
     "output_type": "execute_result"
    }
   ],
   "source": [
    "new_cases_selected_country = country_subset[country_subset['location'] == 'United States'].drop(columns = ['date_fm'])\n",
    "new_cases_selected_country.tail(n = 10)"
   ]
  },
  {
   "cell_type": "markdown",
   "metadata": {},
   "source": [
    "### Highest number of total cases and deaths"
   ]
  },
  {
   "cell_type": "code",
   "execution_count": 43,
   "metadata": {},
   "outputs": [],
   "source": [
    "highest_total_cases = data.nlargest(5, 'total_cases')\n",
    "highest_deaths = data.nlargest(5, 'total_deaths')"
   ]
  },
  {
   "cell_type": "code",
   "execution_count": 44,
   "metadata": {},
   "outputs": [
    {
     "data": {
      "image/png": "[encoded data removed]",
      "text/plain": [
       "<Figure size 936x576 with 2 Axes>"
      ]
     },
     "metadata": {
      "needs_background": "light"
     },
     "output_type": "display_data"
    }
   ],
   "source": [
    "_, (ax1, ax2) = plt.subplots(1, 2, figsize=(13, 8))\n",
    "highest_total_cases.plot(kind = 'bar', y = 'total_cases', color = ['blue'], ax = ax1)\n",
    "highest_deaths.plot(kind = 'bar', y = 'total_deaths', color = ['red'], ax = ax2)\n",
    "plt.savefig('highest_total_cases_and_deaths.png', bbox_inches = 'tight')"
   ]
  },
  {
   "cell_type": "code",
   "execution_count": 45,
   "metadata": {
    "scrolled": true
   },
   "outputs": [
    {
     "data": {
      "text/html": [
       "<div>\n",
       "<style scoped>\n",
       "    .dataframe tbody tr th:only-of-type {\n",
       "        vertical-align: middle;\n",
       "    }\n",
       "\n",
       "    .dataframe tbody tr th {\n",
       "        vertical-align: top;\n",
       "    }\n",
       "\n",
       "    .dataframe thead th {\n",
       "        text-align: right;\n",
       "    }\n",
       "</style>\n",
       "<table border=\"1\" class=\"dataframe\">\n",
       "  <thead>\n",
       "    <tr style=\"text-align: right;\">\n",
       "      <th></th>\n",
       "      <th>new_cases</th>\n",
       "      <th>new_deaths</th>\n",
       "      <th>total_cases</th>\n",
       "      <th>total_deaths</th>\n",
       "      <th>total_cases_per_capita</th>\n",
       "      <th>total_deaths_per_capita</th>\n",
       "      <th>deaths_per_total</th>\n",
       "    </tr>\n",
       "    <tr>\n",
       "      <th>location</th>\n",
       "      <th></th>\n",
       "      <th></th>\n",
       "      <th></th>\n",
       "      <th></th>\n",
       "      <th></th>\n",
       "      <th></th>\n",
       "      <th></th>\n",
       "    </tr>\n",
       "  </thead>\n",
       "  <tbody>\n",
       "    <tr>\n",
       "      <td>United States</td>\n",
       "      <td>16797</td>\n",
       "      <td>246</td>\n",
       "      <td>85991</td>\n",
       "      <td>1296</td>\n",
       "      <td>0.000263</td>\n",
       "      <td>0.000004</td>\n",
       "      <td>0.0151</td>\n",
       "    </tr>\n",
       "    <tr>\n",
       "      <td>China</td>\n",
       "      <td>111</td>\n",
       "      <td>5</td>\n",
       "      <td>82079</td>\n",
       "      <td>3298</td>\n",
       "      <td>0.000059</td>\n",
       "      <td>0.000002</td>\n",
       "      <td>0.0402</td>\n",
       "    </tr>\n",
       "    <tr>\n",
       "      <td>Italy</td>\n",
       "      <td>6153</td>\n",
       "      <td>660</td>\n",
       "      <td>80539</td>\n",
       "      <td>8165</td>\n",
       "      <td>0.001333</td>\n",
       "      <td>0.000135</td>\n",
       "      <td>0.1014</td>\n",
       "    </tr>\n",
       "    <tr>\n",
       "      <td>Spain</td>\n",
       "      <td>8578</td>\n",
       "      <td>655</td>\n",
       "      <td>56188</td>\n",
       "      <td>4089</td>\n",
       "      <td>0.001203</td>\n",
       "      <td>0.000088</td>\n",
       "      <td>0.0728</td>\n",
       "    </tr>\n",
       "    <tr>\n",
       "      <td>Germany</td>\n",
       "      <td>5780</td>\n",
       "      <td>55</td>\n",
       "      <td>42288</td>\n",
       "      <td>253</td>\n",
       "      <td>0.000510</td>\n",
       "      <td>0.000003</td>\n",
       "      <td>0.0060</td>\n",
       "    </tr>\n",
       "  </tbody>\n",
       "</table>\n",
       "</div>"
      ],
      "text/plain": [
       "               new_cases  new_deaths  total_cases  total_deaths  \\\n",
       "location                                                          \n",
       "United States      16797         246        85991          1296   \n",
       "China                111           5        82079          3298   \n",
       "Italy               6153         660        80539          8165   \n",
       "Spain               8578         655        56188          4089   \n",
       "Germany             5780          55        42288           253   \n",
       "\n",
       "               total_cases_per_capita  total_deaths_per_capita  \\\n",
       "location                                                         \n",
       "United States                0.000263                 0.000004   \n",
       "China                        0.000059                 0.000002   \n",
       "Italy                        0.001333                 0.000135   \n",
       "Spain                        0.001203                 0.000088   \n",
       "Germany                      0.000510                 0.000003   \n",
       "\n",
       "               deaths_per_total  \n",
       "location                         \n",
       "United States            0.0151  \n",
       "China                    0.0402  \n",
       "Italy                    0.1014  \n",
       "Spain                    0.0728  \n",
       "Germany                  0.0060  "
      ]
     },
     "execution_count": 45,
     "metadata": {},
     "output_type": "execute_result"
    }
   ],
   "source": [
    "highest_total_cases"
   ]
  },
  {
   "cell_type": "code",
   "execution_count": 46,
   "metadata": {},
   "outputs": [
    {
     "data": {
      "text/html": [
       "<div>\n",
       "<style scoped>\n",
       "    .dataframe tbody tr th:only-of-type {\n",
       "        vertical-align: middle;\n",
       "    }\n",
       "\n",
       "    .dataframe tbody tr th {\n",
       "        vertical-align: top;\n",
       "    }\n",
       "\n",
       "    .dataframe thead th {\n",
       "        text-align: right;\n",
       "    }\n",
       "</style>\n",
       "<table border=\"1\" class=\"dataframe\">\n",
       "  <thead>\n",
       "    <tr style=\"text-align: right;\">\n",
       "      <th></th>\n",
       "      <th>new_cases</th>\n",
       "      <th>new_deaths</th>\n",
       "      <th>total_cases</th>\n",
       "      <th>total_deaths</th>\n",
       "      <th>total_cases_per_capita</th>\n",
       "      <th>total_deaths_per_capita</th>\n",
       "      <th>deaths_per_total</th>\n",
       "    </tr>\n",
       "    <tr>\n",
       "      <th>location</th>\n",
       "      <th></th>\n",
       "      <th></th>\n",
       "      <th></th>\n",
       "      <th></th>\n",
       "      <th></th>\n",
       "      <th></th>\n",
       "      <th></th>\n",
       "    </tr>\n",
       "  </thead>\n",
       "  <tbody>\n",
       "    <tr>\n",
       "      <td>Italy</td>\n",
       "      <td>6153</td>\n",
       "      <td>660</td>\n",
       "      <td>80539</td>\n",
       "      <td>8165</td>\n",
       "      <td>0.001333</td>\n",
       "      <td>0.000135</td>\n",
       "      <td>0.1014</td>\n",
       "    </tr>\n",
       "    <tr>\n",
       "      <td>Spain</td>\n",
       "      <td>8578</td>\n",
       "      <td>655</td>\n",
       "      <td>56188</td>\n",
       "      <td>4089</td>\n",
       "      <td>0.001203</td>\n",
       "      <td>0.000088</td>\n",
       "      <td>0.0728</td>\n",
       "    </tr>\n",
       "    <tr>\n",
       "      <td>China</td>\n",
       "      <td>111</td>\n",
       "      <td>5</td>\n",
       "      <td>82079</td>\n",
       "      <td>3298</td>\n",
       "      <td>0.000059</td>\n",
       "      <td>0.000002</td>\n",
       "      <td>0.0402</td>\n",
       "    </tr>\n",
       "    <tr>\n",
       "      <td>Iran</td>\n",
       "      <td>2389</td>\n",
       "      <td>157</td>\n",
       "      <td>29406</td>\n",
       "      <td>2234</td>\n",
       "      <td>0.000359</td>\n",
       "      <td>0.000027</td>\n",
       "      <td>0.0760</td>\n",
       "    </tr>\n",
       "    <tr>\n",
       "      <td>France</td>\n",
       "      <td>3922</td>\n",
       "      <td>365</td>\n",
       "      <td>29155</td>\n",
       "      <td>1696</td>\n",
       "      <td>0.000435</td>\n",
       "      <td>0.000025</td>\n",
       "      <td>0.0582</td>\n",
       "    </tr>\n",
       "  </tbody>\n",
       "</table>\n",
       "</div>"
      ],
      "text/plain": [
       "          new_cases  new_deaths  total_cases  total_deaths  \\\n",
       "location                                                     \n",
       "Italy          6153         660        80539          8165   \n",
       "Spain          8578         655        56188          4089   \n",
       "China           111           5        82079          3298   \n",
       "Iran           2389         157        29406          2234   \n",
       "France         3922         365        29155          1696   \n",
       "\n",
       "          total_cases_per_capita  total_deaths_per_capita  deaths_per_total  \n",
       "location                                                                     \n",
       "Italy                   0.001333                 0.000135            0.1014  \n",
       "Spain                   0.001203                 0.000088            0.0728  \n",
       "China                   0.000059                 0.000002            0.0402  \n",
       "Iran                    0.000359                 0.000027            0.0760  \n",
       "France                  0.000435                 0.000025            0.0582  "
      ]
     },
     "execution_count": 46,
     "metadata": {},
     "output_type": "execute_result"
    }
   ],
   "source": [
    "highest_deaths"
   ]
  },
  {
   "cell_type": "markdown",
   "metadata": {},
   "source": [
    "### Canadian Provinces and Territories"
   ]
  },
  {
   "cell_type": "code",
   "execution_count": 47,
   "metadata": {},
   "outputs": [],
   "source": [
    "canadian_data = canadian_data.rename(columns = {'Number of confirmed cases': 'Confirmed Cases', \n",
    "                                                'Number of probable cases':'Probable Cases',\n",
    "                                                'Number of deaths': 'Deaths',\n",
    "                                                'Province, territory or other':'Location'})"
   ]
  },
  {
   "cell_type": "code",
   "execution_count": 48,
   "metadata": {},
   "outputs": [],
   "source": [
    "canadian_data['Deaths per Confirmed Cases'] = (canadian_data['Deaths'].div(canadian_data['Confirmed Cases']))"
   ]
  },
  {
   "cell_type": "code",
   "execution_count": 49,
   "metadata": {},
   "outputs": [
    {
     "data": {
      "text/html": [
       "<div>\n",
       "<style scoped>\n",
       "    .dataframe tbody tr th:only-of-type {\n",
       "        vertical-align: middle;\n",
       "    }\n",
       "\n",
       "    .dataframe tbody tr th {\n",
       "        vertical-align: top;\n",
       "    }\n",
       "\n",
       "    .dataframe thead th {\n",
       "        text-align: right;\n",
       "    }\n",
       "</style>\n",
       "<table border=\"1\" class=\"dataframe\">\n",
       "  <thead>\n",
       "    <tr style=\"text-align: right;\">\n",
       "      <th></th>\n",
       "      <th>Location</th>\n",
       "      <th>Confirmed Cases</th>\n",
       "      <th>Probable Cases</th>\n",
       "      <th>Deaths</th>\n",
       "      <th>Deaths per Confirmed Cases</th>\n",
       "    </tr>\n",
       "  </thead>\n",
       "  <tbody>\n",
       "    <tr>\n",
       "      <td>14</td>\n",
       "      <td>Total</td>\n",
       "      <td>4018</td>\n",
       "      <td>25</td>\n",
       "      <td>39</td>\n",
       "      <td>0.009706</td>\n",
       "    </tr>\n",
       "  </tbody>\n",
       "</table>\n",
       "</div>"
      ],
      "text/plain": [
       "   Location  Confirmed Cases  Probable Cases  Deaths  \\\n",
       "14    Total             4018              25      39   \n",
       "\n",
       "    Deaths per Confirmed Cases  \n",
       "14                    0.009706  "
      ]
     },
     "execution_count": 49,
     "metadata": {},
     "output_type": "execute_result"
    }
   ],
   "source": [
    "canadian_data_total = canadian_data[canadian_data['Location'] == 'Total']\n",
    "canadian_data = canadian_data[canadian_data['Location'] != 'Total']\n",
    "canadian_data_total"
   ]
  },
  {
   "cell_type": "code",
   "execution_count": 50,
   "metadata": {},
   "outputs": [
    {
     "data": {
      "image/png": "[encoded data removed]",
      "text/plain": [
       "<Figure size 1440x1440 with 1 Axes>"
      ]
     },
     "metadata": {
      "needs_background": "light"
     },
     "output_type": "display_data"
    }
   ],
   "source": [
    "canadian_data.plot(kind = 'bar', x = 'Location', color = ['blue', 'orange', 'red', 'purple'], figsize = (20,20))\n",
    "plt.savefig('canadian_provinces_all.png', bbox_inches = 'tight')"
   ]
  },
  {
   "cell_type": "code",
   "execution_count": 51,
   "metadata": {
    "scrolled": false
   },
   "outputs": [
    {
     "data": {
      "text/html": [
       "<div>\n",
       "<style scoped>\n",
       "    .dataframe tbody tr th:only-of-type {\n",
       "        vertical-align: middle;\n",
       "    }\n",
       "\n",
       "    .dataframe tbody tr th {\n",
       "        vertical-align: top;\n",
       "    }\n",
       "\n",
       "    .dataframe thead th {\n",
       "        text-align: right;\n",
       "    }\n",
       "</style>\n",
       "<table border=\"1\" class=\"dataframe\">\n",
       "  <thead>\n",
       "    <tr style=\"text-align: right;\">\n",
       "      <th></th>\n",
       "      <th>Location</th>\n",
       "      <th>Confirmed Cases</th>\n",
       "      <th>Probable Cases</th>\n",
       "      <th>Deaths</th>\n",
       "      <th>Deaths per Confirmed Cases</th>\n",
       "    </tr>\n",
       "  </thead>\n",
       "  <tbody>\n",
       "    <tr>\n",
       "      <td>5</td>\n",
       "      <td>Quebec</td>\n",
       "      <td>1629</td>\n",
       "      <td>0</td>\n",
       "      <td>8</td>\n",
       "      <td>0.004911</td>\n",
       "    </tr>\n",
       "    <tr>\n",
       "      <td>4</td>\n",
       "      <td>Ontario</td>\n",
       "      <td>858</td>\n",
       "      <td>0</td>\n",
       "      <td>15</td>\n",
       "      <td>0.017483</td>\n",
       "    </tr>\n",
       "    <tr>\n",
       "      <td>0</td>\n",
       "      <td>British Columbia</td>\n",
       "      <td>725</td>\n",
       "      <td>0</td>\n",
       "      <td>14</td>\n",
       "      <td>0.019310</td>\n",
       "    </tr>\n",
       "    <tr>\n",
       "      <td>1</td>\n",
       "      <td>Alberta</td>\n",
       "      <td>486</td>\n",
       "      <td>0</td>\n",
       "      <td>2</td>\n",
       "      <td>0.004115</td>\n",
       "    </tr>\n",
       "    <tr>\n",
       "      <td>2</td>\n",
       "      <td>Saskatchewan</td>\n",
       "      <td>95</td>\n",
       "      <td>0</td>\n",
       "      <td>0</td>\n",
       "      <td>0.000000</td>\n",
       "    </tr>\n",
       "    <tr>\n",
       "      <td>9</td>\n",
       "      <td>Newfoundland and Labrador</td>\n",
       "      <td>82</td>\n",
       "      <td>0</td>\n",
       "      <td>0</td>\n",
       "      <td>0.000000</td>\n",
       "    </tr>\n",
       "    <tr>\n",
       "      <td>7</td>\n",
       "      <td>Nova Scotia</td>\n",
       "      <td>73</td>\n",
       "      <td>0</td>\n",
       "      <td>0</td>\n",
       "      <td>0.000000</td>\n",
       "    </tr>\n",
       "    <tr>\n",
       "      <td>6</td>\n",
       "      <td>New Brunswick</td>\n",
       "      <td>33</td>\n",
       "      <td>0</td>\n",
       "      <td>0</td>\n",
       "      <td>0.000000</td>\n",
       "    </tr>\n",
       "    <tr>\n",
       "      <td>13</td>\n",
       "      <td>Repatriated travellers</td>\n",
       "      <td>13</td>\n",
       "      <td>0</td>\n",
       "      <td>0</td>\n",
       "      <td>0.000000</td>\n",
       "    </tr>\n",
       "    <tr>\n",
       "      <td>3</td>\n",
       "      <td>Manitoba</td>\n",
       "      <td>11</td>\n",
       "      <td>25</td>\n",
       "      <td>0</td>\n",
       "      <td>0.000000</td>\n",
       "    </tr>\n",
       "    <tr>\n",
       "      <td>8</td>\n",
       "      <td>Prince Edward Island</td>\n",
       "      <td>9</td>\n",
       "      <td>0</td>\n",
       "      <td>0</td>\n",
       "      <td>0.000000</td>\n",
       "    </tr>\n",
       "    <tr>\n",
       "      <td>10</td>\n",
       "      <td>Yukon</td>\n",
       "      <td>3</td>\n",
       "      <td>0</td>\n",
       "      <td>0</td>\n",
       "      <td>0.000000</td>\n",
       "    </tr>\n",
       "    <tr>\n",
       "      <td>11</td>\n",
       "      <td>Northwest Territories</td>\n",
       "      <td>1</td>\n",
       "      <td>0</td>\n",
       "      <td>0</td>\n",
       "      <td>0.000000</td>\n",
       "    </tr>\n",
       "  </tbody>\n",
       "</table>\n",
       "</div>"
      ],
      "text/plain": [
       "                     Location  Confirmed Cases  Probable Cases  Deaths  \\\n",
       "5                      Quebec             1629               0       8   \n",
       "4                     Ontario              858               0      15   \n",
       "0            British Columbia              725               0      14   \n",
       "1                     Alberta              486               0       2   \n",
       "2                Saskatchewan               95               0       0   \n",
       "9   Newfoundland and Labrador               82               0       0   \n",
       "7                 Nova Scotia               73               0       0   \n",
       "6               New Brunswick               33               0       0   \n",
       "13     Repatriated travellers               13               0       0   \n",
       "3                    Manitoba               11              25       0   \n",
       "8        Prince Edward Island                9               0       0   \n",
       "10                      Yukon                3               0       0   \n",
       "11      Northwest Territories                1               0       0   \n",
       "\n",
       "    Deaths per Confirmed Cases  \n",
       "5                     0.004911  \n",
       "4                     0.017483  \n",
       "0                     0.019310  \n",
       "1                     0.004115  \n",
       "2                     0.000000  \n",
       "9                     0.000000  \n",
       "7                     0.000000  \n",
       "6                     0.000000  \n",
       "13                    0.000000  \n",
       "3                     0.000000  \n",
       "8                     0.000000  \n",
       "10                    0.000000  \n",
       "11                    0.000000  "
      ]
     },
     "execution_count": 51,
     "metadata": {},
     "output_type": "execute_result"
    }
   ],
   "source": [
    "canadian_data = canadian_data.nlargest(13, 'Confirmed Cases')\n",
    "canadian_data"
   ]
  },
  {
   "cell_type": "code",
   "execution_count": 52,
   "metadata": {},
   "outputs": [
    {
     "data": {
      "image/png": "[encoded data removed]",
      "text/plain": [
       "<Figure size 1440x360 with 3 Axes>"
      ]
     },
     "metadata": {
      "needs_background": "light"
     },
     "output_type": "display_data"
    }
   ],
   "source": [
    "_, (ax1, ax2, ax3) = plt.subplots(1, 3, figsize=(20, 5))\n",
    "canadian_data.plot(kind = 'bar', x = 'Location', y = 'Confirmed Cases', color = ['blue'], ax = ax1)\n",
    "canadian_data.plot(kind = 'bar', x = 'Location', y = 'Deaths', color = ['red'], ax = ax2)\n",
    "canadian_data.plot(kind = 'bar', x = 'Location', y = 'Deaths per Confirmed Cases', color = ['purple'], ax = ax3)\n",
    "plt.savefig('canadian_provinces.png', bbox_inches = 'tight')"
   ]
  },
  {
   "cell_type": "markdown",
   "metadata": {},
   "source": [
    "## Resources\n",
    "1. Data obtained from: https://ourworldindata.org/coronavirus-source-data\n",
    "2. Population data from: https://data.worldbank.org/indicator/SP.POP.TOTL\n",
    "3. Canadian data: https://www.canada.ca/en/public-health/services/diseases/2019-novel-coronavirus-infection.html"
   ]
  }
 ],
 "metadata": {
  "kernelspec": {
   "display_name": "Python 3",
   "language": "python",
   "name": "python3"
  },
  "language_info": {
   "codemirror_mode": {
    "name": "ipython",
    "version": 3
   },
   "file_extension": ".py",
   "mimetype": "text/x-python",
   "name": "python",
   "nbconvert_exporter": "python",
   "pygments_lexer": "ipython3",
   "version": "3.7.4"
  }
 },
 "nbformat": 4,
 "nbformat_minor": 2
}
