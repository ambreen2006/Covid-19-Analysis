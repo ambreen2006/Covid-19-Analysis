{
 "cells": [
  {
   "cell_type": "markdown",
   "metadata": {},
   "source": [
    "## Extracting coronavirus and country data"
   ]
  },
  {
   "cell_type": "markdown",
   "metadata": {},
   "source": [
    "# Covid-19 Analysis\n",
    "\n",
    "Looking at the Covid-19 data obtained from 'Our World in Data'.\n",
    "\n",
    "**Index:**\n",
    "\n",
    "- [Countries with total cases per capita, top 5](#Highest-total-cases-per-capita,-top-5)\n",
    "- [Countries with highest death rate per cases, top 5](#Highest-death-rate-per-total-cases,-top-5)\n",
    "- [Canada, US, and Pakistan](#Canada,-US,-and-Pakistan)\n"
   ]
  },
  {
   "cell_type": "code",
   "execution_count": 1,
   "metadata": {},
   "outputs": [],
   "source": [
    "import numpy as np\n",
    "import pandas as pd\n",
    "import matplotlib.pyplot as plt\n",
    "import plotly.graph_objects as go\n",
    "import requests"
   ]
  },
  {
   "cell_type": "code",
   "execution_count": 2,
   "metadata": {},
   "outputs": [],
   "source": [
    "r = requests.get('https://covid.ourworldindata.org/data/ecdc/full_data.csv')"
   ]
  },
  {
   "cell_type": "code",
   "execution_count": 3,
   "metadata": {},
   "outputs": [],
   "source": [
    "with open('full_data.csv', 'wb') as fd:\n",
    "    for chunk in r.iter_content(chunk_size = 128):\n",
    "        fd.write(chunk)"
   ]
  },
  {
   "cell_type": "code",
   "execution_count": 30,
   "metadata": {},
   "outputs": [],
   "source": [
    "rdata = pd.read_csv('full_data.csv')\n",
    "rpopulation_data = pd.read_csv('population_data.csv') "
   ]
  },
  {
   "cell_type": "code",
   "execution_count": 31,
   "metadata": {
    "scrolled": true
   },
   "outputs": [
    {
     "data": {
      "text/html": [
       "<div>\n",
       "<style scoped>\n",
       "    .dataframe tbody tr th:only-of-type {\n",
       "        vertical-align: middle;\n",
       "    }\n",
       "\n",
       "    .dataframe tbody tr th {\n",
       "        vertical-align: top;\n",
       "    }\n",
       "\n",
       "    .dataframe thead th {\n",
       "        text-align: right;\n",
       "    }\n",
       "</style>\n",
       "<table border=\"1\" class=\"dataframe\">\n",
       "  <thead>\n",
       "    <tr style=\"text-align: right;\">\n",
       "      <th></th>\n",
       "      <th>date</th>\n",
       "      <th>location</th>\n",
       "      <th>new_cases</th>\n",
       "      <th>new_deaths</th>\n",
       "      <th>total_cases</th>\n",
       "      <th>total_deaths</th>\n",
       "    </tr>\n",
       "  </thead>\n",
       "  <tbody>\n",
       "    <tr>\n",
       "      <th>0</th>\n",
       "      <td>2019-12-31</td>\n",
       "      <td>Afghanistan</td>\n",
       "      <td>0</td>\n",
       "      <td>0</td>\n",
       "      <td>0</td>\n",
       "      <td>0</td>\n",
       "    </tr>\n",
       "    <tr>\n",
       "      <th>1</th>\n",
       "      <td>2020-01-01</td>\n",
       "      <td>Afghanistan</td>\n",
       "      <td>0</td>\n",
       "      <td>0</td>\n",
       "      <td>0</td>\n",
       "      <td>0</td>\n",
       "    </tr>\n",
       "    <tr>\n",
       "      <th>2</th>\n",
       "      <td>2020-01-02</td>\n",
       "      <td>Afghanistan</td>\n",
       "      <td>0</td>\n",
       "      <td>0</td>\n",
       "      <td>0</td>\n",
       "      <td>0</td>\n",
       "    </tr>\n",
       "    <tr>\n",
       "      <th>3</th>\n",
       "      <td>2020-01-03</td>\n",
       "      <td>Afghanistan</td>\n",
       "      <td>0</td>\n",
       "      <td>0</td>\n",
       "      <td>0</td>\n",
       "      <td>0</td>\n",
       "    </tr>\n",
       "    <tr>\n",
       "      <th>4</th>\n",
       "      <td>2020-01-04</td>\n",
       "      <td>Afghanistan</td>\n",
       "      <td>0</td>\n",
       "      <td>0</td>\n",
       "      <td>0</td>\n",
       "      <td>0</td>\n",
       "    </tr>\n",
       "  </tbody>\n",
       "</table>\n",
       "</div>"
      ],
      "text/plain": [
       "         date     location  new_cases  new_deaths  total_cases  total_deaths\n",
       "0  2019-12-31  Afghanistan          0           0            0             0\n",
       "1  2020-01-01  Afghanistan          0           0            0             0\n",
       "2  2020-01-02  Afghanistan          0           0            0             0\n",
       "3  2020-01-03  Afghanistan          0           0            0             0\n",
       "4  2020-01-04  Afghanistan          0           0            0             0"
      ]
     },
     "execution_count": 31,
     "metadata": {},
     "output_type": "execute_result"
    }
   ],
   "source": [
    "rdata.head()"
   ]
  },
  {
   "cell_type": "code",
   "execution_count": 32,
   "metadata": {
    "scrolled": false
   },
   "outputs": [
    {
     "data": {
      "text/html": [
       "<div>\n",
       "<style scoped>\n",
       "    .dataframe tbody tr th:only-of-type {\n",
       "        vertical-align: middle;\n",
       "    }\n",
       "\n",
       "    .dataframe tbody tr th {\n",
       "        vertical-align: top;\n",
       "    }\n",
       "\n",
       "    .dataframe thead th {\n",
       "        text-align: right;\n",
       "    }\n",
       "</style>\n",
       "<table border=\"1\" class=\"dataframe\">\n",
       "  <thead>\n",
       "    <tr style=\"text-align: right;\">\n",
       "      <th></th>\n",
       "      <th>Country Name</th>\n",
       "      <th>Country Code</th>\n",
       "      <th>Indicator Name</th>\n",
       "      <th>Indicator Code</th>\n",
       "      <th>1960</th>\n",
       "      <th>1961</th>\n",
       "      <th>1962</th>\n",
       "      <th>1963</th>\n",
       "      <th>1964</th>\n",
       "      <th>1965</th>\n",
       "      <th>...</th>\n",
       "      <th>2010</th>\n",
       "      <th>2011</th>\n",
       "      <th>2012</th>\n",
       "      <th>2013</th>\n",
       "      <th>2014</th>\n",
       "      <th>2015</th>\n",
       "      <th>2016</th>\n",
       "      <th>2017</th>\n",
       "      <th>2018</th>\n",
       "      <th>2019</th>\n",
       "    </tr>\n",
       "  </thead>\n",
       "  <tbody>\n",
       "    <tr>\n",
       "      <th>0</th>\n",
       "      <td>Aruba</td>\n",
       "      <td>ABW</td>\n",
       "      <td>Population, total</td>\n",
       "      <td>SP.POP.TOTL</td>\n",
       "      <td>54211.0</td>\n",
       "      <td>55438.0</td>\n",
       "      <td>56225.0</td>\n",
       "      <td>56695.0</td>\n",
       "      <td>57032.0</td>\n",
       "      <td>57360.0</td>\n",
       "      <td>...</td>\n",
       "      <td>101669.0</td>\n",
       "      <td>102046.0</td>\n",
       "      <td>102560.0</td>\n",
       "      <td>103159.0</td>\n",
       "      <td>103774.0</td>\n",
       "      <td>104341.0</td>\n",
       "      <td>104872.0</td>\n",
       "      <td>105366.0</td>\n",
       "      <td>105845.0</td>\n",
       "      <td>NaN</td>\n",
       "    </tr>\n",
       "    <tr>\n",
       "      <th>1</th>\n",
       "      <td>Afghanistan</td>\n",
       "      <td>AFG</td>\n",
       "      <td>Population, total</td>\n",
       "      <td>SP.POP.TOTL</td>\n",
       "      <td>8996973.0</td>\n",
       "      <td>9169410.0</td>\n",
       "      <td>9351441.0</td>\n",
       "      <td>9543205.0</td>\n",
       "      <td>9744781.0</td>\n",
       "      <td>9956320.0</td>\n",
       "      <td>...</td>\n",
       "      <td>29185507.0</td>\n",
       "      <td>30117413.0</td>\n",
       "      <td>31161376.0</td>\n",
       "      <td>32269589.0</td>\n",
       "      <td>33370794.0</td>\n",
       "      <td>34413603.0</td>\n",
       "      <td>35383128.0</td>\n",
       "      <td>36296400.0</td>\n",
       "      <td>37172386.0</td>\n",
       "      <td>NaN</td>\n",
       "    </tr>\n",
       "    <tr>\n",
       "      <th>2</th>\n",
       "      <td>Angola</td>\n",
       "      <td>AGO</td>\n",
       "      <td>Population, total</td>\n",
       "      <td>SP.POP.TOTL</td>\n",
       "      <td>5454933.0</td>\n",
       "      <td>5531472.0</td>\n",
       "      <td>5608539.0</td>\n",
       "      <td>5679458.0</td>\n",
       "      <td>5735044.0</td>\n",
       "      <td>5770570.0</td>\n",
       "      <td>...</td>\n",
       "      <td>23356246.0</td>\n",
       "      <td>24220661.0</td>\n",
       "      <td>25107931.0</td>\n",
       "      <td>26015780.0</td>\n",
       "      <td>26941779.0</td>\n",
       "      <td>27884381.0</td>\n",
       "      <td>28842484.0</td>\n",
       "      <td>29816748.0</td>\n",
       "      <td>30809762.0</td>\n",
       "      <td>NaN</td>\n",
       "    </tr>\n",
       "    <tr>\n",
       "      <th>3</th>\n",
       "      <td>Albania</td>\n",
       "      <td>ALB</td>\n",
       "      <td>Population, total</td>\n",
       "      <td>SP.POP.TOTL</td>\n",
       "      <td>1608800.0</td>\n",
       "      <td>1659800.0</td>\n",
       "      <td>1711319.0</td>\n",
       "      <td>1762621.0</td>\n",
       "      <td>1814135.0</td>\n",
       "      <td>1864791.0</td>\n",
       "      <td>...</td>\n",
       "      <td>2913021.0</td>\n",
       "      <td>2905195.0</td>\n",
       "      <td>2900401.0</td>\n",
       "      <td>2895092.0</td>\n",
       "      <td>2889104.0</td>\n",
       "      <td>2880703.0</td>\n",
       "      <td>2876101.0</td>\n",
       "      <td>2873457.0</td>\n",
       "      <td>2866376.0</td>\n",
       "      <td>NaN</td>\n",
       "    </tr>\n",
       "    <tr>\n",
       "      <th>4</th>\n",
       "      <td>Andorra</td>\n",
       "      <td>AND</td>\n",
       "      <td>Population, total</td>\n",
       "      <td>SP.POP.TOTL</td>\n",
       "      <td>13411.0</td>\n",
       "      <td>14375.0</td>\n",
       "      <td>15370.0</td>\n",
       "      <td>16412.0</td>\n",
       "      <td>17469.0</td>\n",
       "      <td>18549.0</td>\n",
       "      <td>...</td>\n",
       "      <td>84449.0</td>\n",
       "      <td>83747.0</td>\n",
       "      <td>82427.0</td>\n",
       "      <td>80774.0</td>\n",
       "      <td>79213.0</td>\n",
       "      <td>78011.0</td>\n",
       "      <td>77297.0</td>\n",
       "      <td>77001.0</td>\n",
       "      <td>77006.0</td>\n",
       "      <td>NaN</td>\n",
       "    </tr>\n",
       "  </tbody>\n",
       "</table>\n",
       "<p>5 rows × 64 columns</p>\n",
       "</div>"
      ],
      "text/plain": [
       "  Country Name Country Code     Indicator Name Indicator Code       1960  \\\n",
       "0        Aruba          ABW  Population, total    SP.POP.TOTL    54211.0   \n",
       "1  Afghanistan          AFG  Population, total    SP.POP.TOTL  8996973.0   \n",
       "2       Angola          AGO  Population, total    SP.POP.TOTL  5454933.0   \n",
       "3      Albania          ALB  Population, total    SP.POP.TOTL  1608800.0   \n",
       "4      Andorra          AND  Population, total    SP.POP.TOTL    13411.0   \n",
       "\n",
       "        1961       1962       1963       1964       1965  ...        2010  \\\n",
       "0    55438.0    56225.0    56695.0    57032.0    57360.0  ...    101669.0   \n",
       "1  9169410.0  9351441.0  9543205.0  9744781.0  9956320.0  ...  29185507.0   \n",
       "2  5531472.0  5608539.0  5679458.0  5735044.0  5770570.0  ...  23356246.0   \n",
       "3  1659800.0  1711319.0  1762621.0  1814135.0  1864791.0  ...   2913021.0   \n",
       "4    14375.0    15370.0    16412.0    17469.0    18549.0  ...     84449.0   \n",
       "\n",
       "         2011        2012        2013        2014        2015        2016  \\\n",
       "0    102046.0    102560.0    103159.0    103774.0    104341.0    104872.0   \n",
       "1  30117413.0  31161376.0  32269589.0  33370794.0  34413603.0  35383128.0   \n",
       "2  24220661.0  25107931.0  26015780.0  26941779.0  27884381.0  28842484.0   \n",
       "3   2905195.0   2900401.0   2895092.0   2889104.0   2880703.0   2876101.0   \n",
       "4     83747.0     82427.0     80774.0     79213.0     78011.0     77297.0   \n",
       "\n",
       "         2017        2018  2019  \n",
       "0    105366.0    105845.0   NaN  \n",
       "1  36296400.0  37172386.0   NaN  \n",
       "2  29816748.0  30809762.0   NaN  \n",
       "3   2873457.0   2866376.0   NaN  \n",
       "4     77001.0     77006.0   NaN  \n",
       "\n",
       "[5 rows x 64 columns]"
      ]
     },
     "execution_count": 32,
     "metadata": {},
     "output_type": "execute_result"
    }
   ],
   "source": [
    "rpopulation_data.head()"
   ]
  },
  {
   "cell_type": "markdown",
   "metadata": {},
   "source": [
    "## Filtering and cleaning data "
   ]
  },
  {
   "cell_type": "code",
   "execution_count": 33,
   "metadata": {},
   "outputs": [
    {
     "name": "stdout",
     "output_type": "stream",
     "text": [
      "Data Types date            object\n",
      "location        object\n",
      "new_cases        int64\n",
      "new_deaths       int64\n",
      "total_cases      int64\n",
      "total_deaths     int64\n",
      "dtype: object\n",
      "Columns with NaN Index([], dtype='object')\n"
     ]
    }
   ],
   "source": [
    "print(\"Data Types\", rdata.dtypes)\n",
    "print(\"Columns with NaN\", rdata.columns[rdata.isna().any()])"
   ]
  },
  {
   "cell_type": "code",
   "execution_count": 34,
   "metadata": {},
   "outputs": [
    {
     "data": {
      "text/plain": [
       "date            object\n",
       "location        object\n",
       "new_cases        int64\n",
       "new_deaths       int64\n",
       "total_cases      int64\n",
       "total_deaths     int64\n",
       "dtype: object"
      ]
     },
     "execution_count": 34,
     "metadata": {},
     "output_type": "execute_result"
    }
   ],
   "source": [
    "rdata = rdata.fillna(value = 0)\n",
    "pdata = rdata.astype({'new_cases':'int64', \n",
    "                     'new_deaths':'int64', \n",
    "                     'total_deaths':'int64'})\n",
    "pdata.dtypes"
   ]
  },
  {
   "cell_type": "code",
   "execution_count": 35,
   "metadata": {},
   "outputs": [],
   "source": [
    "rdata['date_fm'] = pd.to_datetime(rdata['date'], infer_datetime_format='%Y-%m-%d')"
   ]
  },
  {
   "cell_type": "code",
   "execution_count": 36,
   "metadata": {},
   "outputs": [
    {
     "data": {
      "text/plain": [
       "date                    object\n",
       "location                object\n",
       "new_cases                int64\n",
       "new_deaths               int64\n",
       "total_cases              int64\n",
       "total_deaths             int64\n",
       "date_fm         datetime64[ns]\n",
       "dtype: object"
      ]
     },
     "execution_count": 36,
     "metadata": {},
     "output_type": "execute_result"
    }
   ],
   "source": [
    "rdata.dtypes"
   ]
  },
  {
   "cell_type": "code",
   "execution_count": 37,
   "metadata": {},
   "outputs": [
    {
     "data": {
      "text/plain": [
       "'2020-03-20'"
      ]
     },
     "execution_count": 37,
     "metadata": {},
     "output_type": "execute_result"
    }
   ],
   "source": [
    "latest = pdata['date'].max()\n",
    "latest"
   ]
  },
  {
   "cell_type": "code",
   "execution_count": 38,
   "metadata": {
    "scrolled": true
   },
   "outputs": [],
   "source": [
    "data = pdata[pdata['date'] == latest]\n",
    "data.head()\n",
    "data = data.drop('date', axis = 1)\n",
    "world_record = data[data['location'] == 'World']\n",
    "data = data.set_index('location')"
   ]
  },
  {
   "cell_type": "code",
   "execution_count": 39,
   "metadata": {
    "scrolled": false
   },
   "outputs": [
    {
     "name": "stdout",
     "output_type": "stream",
     "text": [
      "     location  new_cases  new_deaths  total_cases  total_deaths\n",
      "5917    World      29222        1042       242476          9885\n"
     ]
    }
   ],
   "source": [
    "data = data[data.index != 'World']\n",
    "print(world_record)"
   ]
  },
  {
   "cell_type": "code",
   "execution_count": 40,
   "metadata": {},
   "outputs": [
    {
     "name": "stdout",
     "output_type": "stream",
     "text": [
      "Max value in total cases 81337\n"
     ]
    }
   ],
   "source": [
    "max_total_cases = data['total_cases'].max()\n",
    "print(\"Max value in total cases\", max_total_cases)\n"
   ]
  },
  {
   "cell_type": "code",
   "execution_count": 41,
   "metadata": {
    "scrolled": true
   },
   "outputs": [
    {
     "data": {
      "text/html": [
       "<div>\n",
       "<style scoped>\n",
       "    .dataframe tbody tr th:only-of-type {\n",
       "        vertical-align: middle;\n",
       "    }\n",
       "\n",
       "    .dataframe tbody tr th {\n",
       "        vertical-align: top;\n",
       "    }\n",
       "\n",
       "    .dataframe thead th {\n",
       "        text-align: right;\n",
       "    }\n",
       "</style>\n",
       "<table border=\"1\" class=\"dataframe\">\n",
       "  <thead>\n",
       "    <tr style=\"text-align: right;\">\n",
       "      <th></th>\n",
       "      <th>Country Name</th>\n",
       "      <th>2018</th>\n",
       "    </tr>\n",
       "  </thead>\n",
       "  <tbody>\n",
       "    <tr>\n",
       "      <th>33</th>\n",
       "      <td>Canada</td>\n",
       "      <td>37058856.0</td>\n",
       "    </tr>\n",
       "  </tbody>\n",
       "</table>\n",
       "</div>"
      ],
      "text/plain": [
       "   Country Name        2018\n",
       "33       Canada  37058856.0"
      ]
     },
     "execution_count": 41,
     "metadata": {},
     "output_type": "execute_result"
    }
   ],
   "source": [
    "population = rpopulation_data.filter(['Country Name', '2018'])\n",
    "population[population['Country Name'] == 'Canada']"
   ]
  },
  {
   "cell_type": "code",
   "execution_count": 42,
   "metadata": {},
   "outputs": [
    {
     "data": {
      "text/html": [
       "<div>\n",
       "<style scoped>\n",
       "    .dataframe tbody tr th:only-of-type {\n",
       "        vertical-align: middle;\n",
       "    }\n",
       "\n",
       "    .dataframe tbody tr th {\n",
       "        vertical-align: top;\n",
       "    }\n",
       "\n",
       "    .dataframe thead th {\n",
       "        text-align: right;\n",
       "    }\n",
       "</style>\n",
       "<table border=\"1\" class=\"dataframe\">\n",
       "  <thead>\n",
       "    <tr style=\"text-align: right;\">\n",
       "      <th></th>\n",
       "      <th>2018</th>\n",
       "    </tr>\n",
       "    <tr>\n",
       "      <th>location</th>\n",
       "      <th></th>\n",
       "    </tr>\n",
       "  </thead>\n",
       "  <tbody>\n",
       "    <tr>\n",
       "      <th>Aruba</th>\n",
       "      <td>105845.0</td>\n",
       "    </tr>\n",
       "  </tbody>\n",
       "</table>\n",
       "</div>"
      ],
      "text/plain": [
       "              2018\n",
       "location          \n",
       "Aruba     105845.0"
      ]
     },
     "execution_count": 42,
     "metadata": {},
     "output_type": "execute_result"
    }
   ],
   "source": [
    "population = population.rename(columns = {'Country Name':'location'})\n",
    "population = population.set_index('location')\n",
    "population.head(n=1)"
   ]
  },
  {
   "cell_type": "code",
   "execution_count": 43,
   "metadata": {
    "scrolled": true
   },
   "outputs": [
    {
     "data": {
      "text/html": [
       "<div>\n",
       "<style scoped>\n",
       "    .dataframe tbody tr th:only-of-type {\n",
       "        vertical-align: middle;\n",
       "    }\n",
       "\n",
       "    .dataframe tbody tr th {\n",
       "        vertical-align: top;\n",
       "    }\n",
       "\n",
       "    .dataframe thead th {\n",
       "        text-align: right;\n",
       "    }\n",
       "</style>\n",
       "<table border=\"1\" class=\"dataframe\">\n",
       "  <thead>\n",
       "    <tr style=\"text-align: right;\">\n",
       "      <th></th>\n",
       "      <th>new_cases</th>\n",
       "      <th>new_deaths</th>\n",
       "      <th>total_cases</th>\n",
       "      <th>total_deaths</th>\n",
       "      <th>total_cases_pc</th>\n",
       "      <th>total_deaths_pc</th>\n",
       "      <th>deaths_per_total</th>\n",
       "    </tr>\n",
       "    <tr>\n",
       "      <th>location</th>\n",
       "      <th></th>\n",
       "      <th></th>\n",
       "      <th></th>\n",
       "      <th></th>\n",
       "      <th></th>\n",
       "      <th></th>\n",
       "      <th></th>\n",
       "    </tr>\n",
       "  </thead>\n",
       "  <tbody>\n",
       "    <tr>\n",
       "      <th>Afghanistan</th>\n",
       "      <td>0</td>\n",
       "      <td>0</td>\n",
       "      <td>22</td>\n",
       "      <td>0</td>\n",
       "      <td>5.918372e-07</td>\n",
       "      <td>0.000000e+00</td>\n",
       "      <td>0.0000</td>\n",
       "    </tr>\n",
       "    <tr>\n",
       "      <th>Albania</th>\n",
       "      <td>11</td>\n",
       "      <td>0</td>\n",
       "      <td>70</td>\n",
       "      <td>2</td>\n",
       "      <td>2.442108e-05</td>\n",
       "      <td>6.977452e-07</td>\n",
       "      <td>0.0286</td>\n",
       "    </tr>\n",
       "    <tr>\n",
       "      <th>Algeria</th>\n",
       "      <td>9</td>\n",
       "      <td>1</td>\n",
       "      <td>82</td>\n",
       "      <td>7</td>\n",
       "      <td>1.941820e-06</td>\n",
       "      <td>1.657651e-07</td>\n",
       "      <td>0.0854</td>\n",
       "    </tr>\n",
       "    <tr>\n",
       "      <th>Andorra</th>\n",
       "      <td>22</td>\n",
       "      <td>0</td>\n",
       "      <td>75</td>\n",
       "      <td>0</td>\n",
       "      <td>9.739501e-04</td>\n",
       "      <td>0.000000e+00</td>\n",
       "      <td>0.0000</td>\n",
       "    </tr>\n",
       "    <tr>\n",
       "      <th>Argentina</th>\n",
       "      <td>31</td>\n",
       "      <td>1</td>\n",
       "      <td>128</td>\n",
       "      <td>3</td>\n",
       "      <td>2.876760e-06</td>\n",
       "      <td>6.742406e-08</td>\n",
       "      <td>0.0234</td>\n",
       "    </tr>\n",
       "  </tbody>\n",
       "</table>\n",
       "</div>"
      ],
      "text/plain": [
       "             new_cases  new_deaths  total_cases  total_deaths  total_cases_pc  \\\n",
       "location                                                                        \n",
       "Afghanistan          0           0           22             0    5.918372e-07   \n",
       "Albania             11           0           70             2    2.442108e-05   \n",
       "Algeria              9           1           82             7    1.941820e-06   \n",
       "Andorra             22           0           75             0    9.739501e-04   \n",
       "Argentina           31           1          128             3    2.876760e-06   \n",
       "\n",
       "             total_deaths_pc  deaths_per_total  \n",
       "location                                        \n",
       "Afghanistan     0.000000e+00            0.0000  \n",
       "Albania         6.977452e-07            0.0286  \n",
       "Algeria         1.657651e-07            0.0854  \n",
       "Andorra         0.000000e+00            0.0000  \n",
       "Argentina       6.742406e-08            0.0234  "
      ]
     },
     "execution_count": 43,
     "metadata": {},
     "output_type": "execute_result"
    }
   ],
   "source": [
    "data['total_cases_pc'] = data['total_cases'].div(data.index.map(population['2018']))\n",
    "data['total_deaths_pc'] = data['total_deaths'].div(data.index.map(population['2018']))\n",
    "data['deaths_per_total'] = data['total_deaths'].div(data['total_cases'])\n",
    "data['deaths_per_total'] = data['deaths_per_total'].round(decimals = 4)\n",
    "data.head()"
   ]
  },
  {
   "cell_type": "code",
   "execution_count": 44,
   "metadata": {},
   "outputs": [
    {
     "data": {
      "text/plain": [
       "new_cases             int64\n",
       "new_deaths            int64\n",
       "total_cases           int64\n",
       "total_deaths          int64\n",
       "total_cases_pc      float64\n",
       "total_deaths_pc     float64\n",
       "deaths_per_total    float64\n",
       "dtype: object"
      ]
     },
     "execution_count": 44,
     "metadata": {},
     "output_type": "execute_result"
    }
   ],
   "source": [
    "data.dtypes"
   ]
  },
  {
   "cell_type": "markdown",
   "metadata": {},
   "source": [
    "## Plots"
   ]
  },
  {
   "cell_type": "code",
   "execution_count": 45,
   "metadata": {
    "scrolled": true
   },
   "outputs": [
    {
     "data": {
      "image/png": "[encoded data removed]",
      "text/plain": [
       "<Figure size 5040x3600 with 1 Axes>"
      ]
     },
     "metadata": {
      "needs_background": "light"
     },
     "output_type": "display_data"
    }
   ],
   "source": [
    "all_rows = data.plot(kind='bar', y = 'total_cases_pc', \n",
    "                     figsize = (70, 50), ylim = (0, data['total_cases_pc'].max())).get_figure()\n",
    "plt.savefig('all_rows.png')"
   ]
  },
  {
   "cell_type": "code",
   "execution_count": 46,
   "metadata": {
    "scrolled": true
   },
   "outputs": [
    {
     "data": {
      "text/html": [
       "<div>\n",
       "<style scoped>\n",
       "    .dataframe tbody tr th:only-of-type {\n",
       "        vertical-align: middle;\n",
       "    }\n",
       "\n",
       "    .dataframe tbody tr th {\n",
       "        vertical-align: top;\n",
       "    }\n",
       "\n",
       "    .dataframe thead th {\n",
       "        text-align: right;\n",
       "    }\n",
       "</style>\n",
       "<table border=\"1\" class=\"dataframe\">\n",
       "  <thead>\n",
       "    <tr style=\"text-align: right;\">\n",
       "      <th></th>\n",
       "      <th>new_cases</th>\n",
       "      <th>new_deaths</th>\n",
       "      <th>total_cases</th>\n",
       "      <th>total_deaths</th>\n",
       "      <th>total_cases_pc</th>\n",
       "      <th>total_deaths_pc</th>\n",
       "      <th>deaths_per_total</th>\n",
       "    </tr>\n",
       "    <tr>\n",
       "      <th>location</th>\n",
       "      <th></th>\n",
       "      <th></th>\n",
       "      <th></th>\n",
       "      <th></th>\n",
       "      <th></th>\n",
       "      <th></th>\n",
       "      <th></th>\n",
       "    </tr>\n",
       "  </thead>\n",
       "  <tbody>\n",
       "    <tr>\n",
       "      <th>San Marino</th>\n",
       "      <td>17</td>\n",
       "      <td>0</td>\n",
       "      <td>126</td>\n",
       "      <td>14</td>\n",
       "      <td>0.003729</td>\n",
       "      <td>0.000414</td>\n",
       "      <td>0.1111</td>\n",
       "    </tr>\n",
       "    <tr>\n",
       "      <th>Andorra</th>\n",
       "      <td>22</td>\n",
       "      <td>0</td>\n",
       "      <td>75</td>\n",
       "      <td>0</td>\n",
       "      <td>0.000974</td>\n",
       "      <td>0.000000</td>\n",
       "      <td>0.0000</td>\n",
       "    </tr>\n",
       "    <tr>\n",
       "      <th>Iceland</th>\n",
       "      <td>80</td>\n",
       "      <td>1</td>\n",
       "      <td>330</td>\n",
       "      <td>1</td>\n",
       "      <td>0.000933</td>\n",
       "      <td>0.000003</td>\n",
       "      <td>0.0030</td>\n",
       "    </tr>\n",
       "    <tr>\n",
       "      <th>Italy</th>\n",
       "      <td>5322</td>\n",
       "      <td>429</td>\n",
       "      <td>41035</td>\n",
       "      <td>3407</td>\n",
       "      <td>0.000679</td>\n",
       "      <td>0.000056</td>\n",
       "      <td>0.0830</td>\n",
       "    </tr>\n",
       "    <tr>\n",
       "      <th>Liechtenstein</th>\n",
       "      <td>0</td>\n",
       "      <td>0</td>\n",
       "      <td>25</td>\n",
       "      <td>0</td>\n",
       "      <td>0.000659</td>\n",
       "      <td>0.000000</td>\n",
       "      <td>0.0000</td>\n",
       "    </tr>\n",
       "  </tbody>\n",
       "</table>\n",
       "</div>"
      ],
      "text/plain": [
       "               new_cases  new_deaths  total_cases  total_deaths  \\\n",
       "location                                                          \n",
       "San Marino            17           0          126            14   \n",
       "Andorra               22           0           75             0   \n",
       "Iceland               80           1          330             1   \n",
       "Italy               5322         429        41035          3407   \n",
       "Liechtenstein          0           0           25             0   \n",
       "\n",
       "               total_cases_pc  total_deaths_pc  deaths_per_total  \n",
       "location                                                          \n",
       "San Marino           0.003729         0.000414            0.1111  \n",
       "Andorra              0.000974         0.000000            0.0000  \n",
       "Iceland              0.000933         0.000003            0.0030  \n",
       "Italy                0.000679         0.000056            0.0830  \n",
       "Liechtenstein        0.000659         0.000000            0.0000  "
      ]
     },
     "execution_count": 46,
     "metadata": {},
     "output_type": "execute_result"
    }
   ],
   "source": [
    "largest5 = data.nlargest(5, 'total_cases_pc')\n",
    "largest5"
   ]
  },
  {
   "cell_type": "markdown",
   "metadata": {},
   "source": [
    "### Highest total cases per capita, top 5"
   ]
  },
  {
   "cell_type": "code",
   "execution_count": 47,
   "metadata": {},
   "outputs": [
    {
     "data": {
      "text/plain": [
       "location\n",
       "San Marino       0.003729\n",
       "Andorra          0.000974\n",
       "Iceland          0.000933\n",
       "Italy            0.000679\n",
       "Liechtenstein    0.000659\n",
       "Name: total_cases_pc, dtype: float64"
      ]
     },
     "execution_count": 47,
     "metadata": {},
     "output_type": "execute_result"
    }
   ],
   "source": [
    "largest5['total_cases_pc']"
   ]
  },
  {
   "cell_type": "code",
   "execution_count": 48,
   "metadata": {},
   "outputs": [
    {
     "data": {
      "image/png": "[encoded data removed]",
      "text/plain": [
       "<Figure size 576x720 with 1 Axes>"
      ]
     },
     "metadata": {
      "needs_background": "light"
     },
     "output_type": "display_data"
    }
   ],
   "source": [
    "total_cases_pc_fig = largest5.plot(kind='bar', \n",
    "                                   y = 'total_cases_pc', \n",
    "                                   ylim = (0, data['total_cases_pc'].max()+ 0.0005),\n",
    "                                   figsize = (8, 10)).get_figure()\n",
    "plt.savefig('total_cases_pc.png')"
   ]
  },
  {
   "cell_type": "code",
   "execution_count": 49,
   "metadata": {
    "scrolled": false
   },
   "outputs": [
    {
     "name": "stdout",
     "output_type": "stream",
     "text": [
      "               2018\n",
      "location           \n",
      "San Marino  33785.0\n",
      "            new_cases  new_deaths  total_cases  total_deaths  total_cases_pc  \\\n",
      "location                                                                       \n",
      "San Marino         17           0          126            14        0.003729   \n",
      "\n",
      "            total_deaths_pc  deaths_per_total  \n",
      "location                                       \n",
      "San Marino         0.000414            0.1111  \n"
     ]
    }
   ],
   "source": [
    "print(population[population.index == 'San Marino'])\n",
    "print(data[data.index == 'San Marino'])"
   ]
  },
  {
   "cell_type": "markdown",
   "metadata": {},
   "source": [
    "### Highest death rate per total cases, top 5"
   ]
  },
  {
   "cell_type": "code",
   "execution_count": 50,
   "metadata": {
    "scrolled": false
   },
   "outputs": [
    {
     "data": {
      "text/html": [
       "<div>\n",
       "<style scoped>\n",
       "    .dataframe tbody tr th:only-of-type {\n",
       "        vertical-align: middle;\n",
       "    }\n",
       "\n",
       "    .dataframe tbody tr th {\n",
       "        vertical-align: top;\n",
       "    }\n",
       "\n",
       "    .dataframe thead th {\n",
       "        text-align: right;\n",
       "    }\n",
       "</style>\n",
       "<table border=\"1\" class=\"dataframe\">\n",
       "  <thead>\n",
       "    <tr style=\"text-align: right;\">\n",
       "      <th></th>\n",
       "      <th>new_cases</th>\n",
       "      <th>new_deaths</th>\n",
       "      <th>total_cases</th>\n",
       "      <th>total_deaths</th>\n",
       "      <th>total_cases_pc</th>\n",
       "      <th>total_deaths_pc</th>\n",
       "      <th>deaths_per_total</th>\n",
       "    </tr>\n",
       "    <tr>\n",
       "      <th>location</th>\n",
       "      <th></th>\n",
       "      <th></th>\n",
       "      <th></th>\n",
       "      <th></th>\n",
       "      <th></th>\n",
       "      <th></th>\n",
       "      <th></th>\n",
       "    </tr>\n",
       "  </thead>\n",
       "  <tbody>\n",
       "    <tr>\n",
       "      <th>San Marino</th>\n",
       "      <td>17</td>\n",
       "      <td>0</td>\n",
       "      <td>126</td>\n",
       "      <td>14</td>\n",
       "      <td>3.729466e-03</td>\n",
       "      <td>4.143851e-04</td>\n",
       "      <td>0.1111</td>\n",
       "    </tr>\n",
       "    <tr>\n",
       "      <th>Algeria</th>\n",
       "      <td>9</td>\n",
       "      <td>1</td>\n",
       "      <td>82</td>\n",
       "      <td>7</td>\n",
       "      <td>1.941820e-06</td>\n",
       "      <td>1.657651e-07</td>\n",
       "      <td>0.0854</td>\n",
       "    </tr>\n",
       "    <tr>\n",
       "      <th>Indonesia</th>\n",
       "      <td>55</td>\n",
       "      <td>14</td>\n",
       "      <td>227</td>\n",
       "      <td>19</td>\n",
       "      <td>8.480800e-07</td>\n",
       "      <td>7.098467e-08</td>\n",
       "      <td>0.0837</td>\n",
       "    </tr>\n",
       "    <tr>\n",
       "      <th>Italy</th>\n",
       "      <td>5322</td>\n",
       "      <td>429</td>\n",
       "      <td>41035</td>\n",
       "      <td>3407</td>\n",
       "      <td>6.790357e-04</td>\n",
       "      <td>5.637808e-05</td>\n",
       "      <td>0.0830</td>\n",
       "    </tr>\n",
       "    <tr>\n",
       "      <th>Philippines</th>\n",
       "      <td>28</td>\n",
       "      <td>1</td>\n",
       "      <td>230</td>\n",
       "      <td>18</td>\n",
       "      <td>2.156548e-06</td>\n",
       "      <td>1.687733e-07</td>\n",
       "      <td>0.0783</td>\n",
       "    </tr>\n",
       "  </tbody>\n",
       "</table>\n",
       "</div>"
      ],
      "text/plain": [
       "             new_cases  new_deaths  total_cases  total_deaths  total_cases_pc  \\\n",
       "location                                                                        \n",
       "San Marino          17           0          126            14    3.729466e-03   \n",
       "Algeria              9           1           82             7    1.941820e-06   \n",
       "Indonesia           55          14          227            19    8.480800e-07   \n",
       "Italy             5322         429        41035          3407    6.790357e-04   \n",
       "Philippines         28           1          230            18    2.156548e-06   \n",
       "\n",
       "             total_deaths_pc  deaths_per_total  \n",
       "location                                        \n",
       "San Marino      4.143851e-04            0.1111  \n",
       "Algeria         1.657651e-07            0.0854  \n",
       "Indonesia       7.098467e-08            0.0837  \n",
       "Italy           5.637808e-05            0.0830  \n",
       "Philippines     1.687733e-07            0.0783  "
      ]
     },
     "execution_count": 50,
     "metadata": {},
     "output_type": "execute_result"
    }
   ],
   "source": [
    "deaths_per_cases = data[data['total_cases'] > 50].nlargest(5, 'deaths_per_total')\n",
    "deaths_per_cases"
   ]
  },
  {
   "cell_type": "code",
   "execution_count": 51,
   "metadata": {
    "scrolled": true
   },
   "outputs": [
    {
     "data": {
      "text/plain": [
       "location\n",
       "San Marino     0.1111\n",
       "Algeria        0.0854\n",
       "Indonesia      0.0837\n",
       "Italy          0.0830\n",
       "Philippines    0.0783\n",
       "Name: deaths_per_total, dtype: float64"
      ]
     },
     "execution_count": 51,
     "metadata": {},
     "output_type": "execute_result"
    }
   ],
   "source": [
    "deaths_per_cases['deaths_per_total']"
   ]
  },
  {
   "cell_type": "code",
   "execution_count": 52,
   "metadata": {},
   "outputs": [],
   "source": [
    "deaths_per_cases_pop = deaths_per_cases.merge(population, on = 'location')"
   ]
  },
  {
   "cell_type": "code",
   "execution_count": 53,
   "metadata": {},
   "outputs": [
    {
     "data": {
      "image/png": "[encoded data removed]",
      "text/plain": [
       "<Figure size 576x720 with 1 Axes>"
      ]
     },
     "metadata": {
      "needs_background": "light"
     },
     "output_type": "display_data"
    }
   ],
   "source": [
    "deaths_per_cases_pop.sort_values(by = 'deaths_per_total', ascending = True, inplace = True)\n",
    "deaths_per_cases_fig = deaths_per_cases_pop.plot.barh(y = 'deaths_per_total', \n",
    "                                                      color ='red',\n",
    "                                                      figsize = (8, 10),\n",
    "                                                      alpha = 0.6).get_figure()\n",
    "plt.savefig('deaths_per_cases.png')"
   ]
  },
  {
   "cell_type": "code",
   "execution_count": 54,
   "metadata": {
    "scrolled": true
   },
   "outputs": [
    {
     "data": {
      "text/html": [
       "<div>\n",
       "<style scoped>\n",
       "    .dataframe tbody tr th:only-of-type {\n",
       "        vertical-align: middle;\n",
       "    }\n",
       "\n",
       "    .dataframe tbody tr th {\n",
       "        vertical-align: top;\n",
       "    }\n",
       "\n",
       "    .dataframe thead th {\n",
       "        text-align: right;\n",
       "    }\n",
       "</style>\n",
       "<table border=\"1\" class=\"dataframe\">\n",
       "  <thead>\n",
       "    <tr style=\"text-align: right;\">\n",
       "      <th></th>\n",
       "      <th>location</th>\n",
       "      <th>total_cases</th>\n",
       "      <th>total_deaths</th>\n",
       "      <th>deaths_per_total</th>\n",
       "      <th>population</th>\n",
       "    </tr>\n",
       "  </thead>\n",
       "  <tbody>\n",
       "    <tr>\n",
       "      <th>0</th>\n",
       "      <td>Philippines</td>\n",
       "      <td>230</td>\n",
       "      <td>18</td>\n",
       "      <td>0.0783</td>\n",
       "      <td>106651922.0</td>\n",
       "    </tr>\n",
       "    <tr>\n",
       "      <th>1</th>\n",
       "      <td>Italy</td>\n",
       "      <td>41035</td>\n",
       "      <td>3407</td>\n",
       "      <td>0.0830</td>\n",
       "      <td>60431283.0</td>\n",
       "    </tr>\n",
       "    <tr>\n",
       "      <th>2</th>\n",
       "      <td>Indonesia</td>\n",
       "      <td>227</td>\n",
       "      <td>19</td>\n",
       "      <td>0.0837</td>\n",
       "      <td>267663435.0</td>\n",
       "    </tr>\n",
       "    <tr>\n",
       "      <th>3</th>\n",
       "      <td>Algeria</td>\n",
       "      <td>82</td>\n",
       "      <td>7</td>\n",
       "      <td>0.0854</td>\n",
       "      <td>42228429.0</td>\n",
       "    </tr>\n",
       "    <tr>\n",
       "      <th>4</th>\n",
       "      <td>San Marino</td>\n",
       "      <td>126</td>\n",
       "      <td>14</td>\n",
       "      <td>0.1111</td>\n",
       "      <td>33785.0</td>\n",
       "    </tr>\n",
       "  </tbody>\n",
       "</table>\n",
       "</div>"
      ],
      "text/plain": [
       "      location  total_cases  total_deaths  deaths_per_total   population\n",
       "0  Philippines          230            18            0.0783  106651922.0\n",
       "1        Italy        41035          3407            0.0830   60431283.0\n",
       "2    Indonesia          227            19            0.0837  267663435.0\n",
       "3      Algeria           82             7            0.0854   42228429.0\n",
       "4   San Marino          126            14            0.1111      33785.0"
      ]
     },
     "execution_count": 54,
     "metadata": {},
     "output_type": "execute_result"
    }
   ],
   "source": [
    "filtered_for_table = deaths_per_cases_pop.drop(columns = ['new_cases', 'new_deaths', 'total_cases_pc', 'total_deaths_pc'])\n",
    "filtered_for_table = filtered_for_table.reset_index()\n",
    "filtered_for_table = filtered_for_table.rename(columns = {'2018':'population'})\n",
    "filtered_for_table"
   ]
  },
  {
   "cell_type": "code",
   "execution_count": 55,
   "metadata": {},
   "outputs": [
    {
     "data": {
      "image/svg+xml": [
       "<svg class=\"main-svg\" xmlns=\"http://www.w3.org/2000/svg\" xmlns:xlink=\"http://www.w3.org/1999/xlink\" width=\"700\" height=\"450\" style=\"\" viewBox=\"0 0 700 450\"><rect x=\"0\" y=\"0\" width=\"700\" height=\"450\" style=\"fill: rgb(255, 255, 255); fill-opacity: 1;\"/><defs id=\"defs-e76051\"><g class=\"clips\"/><g class=\"gradients\"/></defs><g class=\"bglayer\"/><g class=\"layer-below\"><g class=\"imagelayer\"/><g class=\"shapelayer\"/></g><g class=\"cartesianlayer\"/><g class=\"polarlayer\"/><g class=\"ternarylayer\"/><g class=\"geolayer\"/><g class=\"funnelarealayer\"/><g class=\"pielayer\"/><g class=\"treemaplayer\"/><g class=\"sunburstlayer\"/><g class=\"glimages\"/><g class=\"table\" overflow=\"visible\" width=\"700\" height=\"450\" transform=\"translate(0,0)\" style=\"box-sizing: content-box; position: absolute; left: 0px; overflow: visible; shape-rendering: crispedges; pointer-events: all;\"><g class=\"table-control-view\" transform=\"translate(80 100)\" clip-path=\"url('#clipe76051_scrollAreaBottomClip_649f4atrue')\" style=\"box-sizing: content-box;\"><rect class=\"scroll-background\" fill=\"none\" width=\"540\" height=\"270\"/><g class=\"y-column\" transform=\"translate(0 0)\" clip-path=\"url('#clipe76051_columnBoundaryClippath_649f4atrue_0')\"><g class=\"column-block\" id=\"cells1\" style=\"cursor: default;\" transform=\"translate(0 0)\"><g class=\"column-cells\"><g class=\"column-cell\" transform=\"translate(0 46.609375)\"><rect class=\"cell-rect\" width=\"108\" stroke-width=\"1\" style=\"stroke: rgb(255, 255, 255); stroke-opacity: 1; fill: rgb(235, 240, 248); fill-opacity: 1;\" height=\"20\"/><g class=\"cell-text-holder\" transform=\"translate(8 8)\" text-anchor=\"start\" style=\"shape-rendering: geometricprecision;\"><text class=\"cell-text\" dy=\"0.75em\" style=\"cursor: auto; font-family: 'Open Sans', verdana, arial, sans-serif; font-size: 12px; fill: rgb(42, 63, 95); fill-opacity: 1;\">Philippines</text></g></g><g class=\"column-cell\" transform=\"translate(0 66.609375)\"><rect class=\"cell-rect\" width=\"108\" stroke-width=\"1\" style=\"stroke: rgb(255, 255, 255); stroke-opacity: 1; fill: rgb(235, 240, 248); fill-opacity: 1;\" height=\"20\"/><g class=\"cell-text-holder\" transform=\"translate(8 8)\" text-anchor=\"start\" style=\"shape-rendering: geometricprecision;\"><text class=\"cell-text\" dy=\"0.75em\" style=\"cursor: auto; font-family: 'Open Sans', verdana, arial, sans-serif; font-size: 12px; fill: rgb(42, 63, 95); fill-opacity: 1;\">Italy</text></g></g><g class=\"column-cell\" transform=\"translate(0 86.609375)\"><rect class=\"cell-rect\" width=\"108\" stroke-width=\"1\" style=\"stroke: rgb(255, 255, 255); stroke-opacity: 1; fill: rgb(235, 240, 248); fill-opacity: 1;\" height=\"20\"/><g class=\"cell-text-holder\" transform=\"translate(8 8)\" text-anchor=\"start\" style=\"shape-rendering: geometricprecision;\"><text class=\"cell-text\" dy=\"0.75em\" style=\"cursor: auto; font-family: 'Open Sans', verdana, arial, sans-serif; font-size: 12px; fill: rgb(42, 63, 95); fill-opacity: 1;\">Indonesia</text></g></g><g class=\"column-cell\" transform=\"translate(0 106.609375)\"><rect class=\"cell-rect\" width=\"108\" stroke-width=\"1\" style=\"stroke: rgb(255, 255, 255); stroke-opacity: 1; fill: rgb(235, 240, 248); fill-opacity: 1;\" height=\"20\"/><g class=\"cell-text-holder\" transform=\"translate(8 8)\" text-anchor=\"start\" style=\"shape-rendering: geometricprecision;\"><text class=\"cell-text\" dy=\"0.75em\" style=\"cursor: auto; font-family: 'Open Sans', verdana, arial, sans-serif; font-size: 12px; fill: rgb(42, 63, 95); fill-opacity: 1;\">Algeria</text></g></g><g class=\"column-cell\" transform=\"translate(0 126.609375)\"><rect class=\"cell-rect\" width=\"108\" stroke-width=\"1\" style=\"stroke: rgb(255, 255, 255); stroke-opacity: 1; fill: rgb(235, 240, 248); fill-opacity: 1;\" height=\"20\"/><g class=\"cell-text-holder\" transform=\"translate(8 8)\" text-anchor=\"start\" style=\"shape-rendering: geometricprecision;\"><text class=\"cell-text\" dy=\"0.75em\" x=\"0\" y=\"0\" style=\"cursor: auto; font-family: 'Open Sans', verdana, arial, sans-serif; font-size: 12px; fill: rgb(42, 63, 95); fill-opacity: 1; white-space: pre;\">San Marino</text></g></g></g></g><g class=\"column-block\" id=\"cells2\" style=\"cursor: default;\" transform=\"translate(0 0)\"><g class=\"column-cells\"/></g><g class=\"column-block\" id=\"header\" style=\"cursor: ew-resize;\"><g class=\"column-cells\"><g class=\"column-cell\" transform=\"translate(0 0)\"><rect class=\"cell-rect\" width=\"108\" stroke-width=\"1\" style=\"stroke: rgb(255, 255, 255); stroke-opacity: 1; fill: rgb(200, 212, 227); fill-opacity: 1;\" height=\"46.609375\"/><g class=\"cell-text-holder\" transform=\"translate(8 8)\" text-anchor=\"start\" style=\"shape-rendering: geometricprecision;\"><text class=\"cell-text\" dy=\"0.75em\" style=\"cursor: auto; font-family: 'Open Sans', verdana, arial, sans-serif; font-size: 12px; fill: rgb(42, 63, 95); fill-opacity: 1;\">Location</text></g></g></g></g><g class=\"column-boundary\"/><clipPath class=\"column-boundary-clippath\" id=\"clipe76051_columnBoundaryClippath_649f4atrue_0\"><rect class=\"column-boundary-rect\" fill=\"none\" width=\"110\" height=\"277\" x=\"-1\" y=\"-1\"/></clipPath></g><g class=\"y-column\" transform=\"translate(108 0)\" clip-path=\"url('#clipe76051_columnBoundaryClippath_649f4atrue_1')\"><g class=\"column-block\" id=\"cells1\" style=\"cursor: default;\" transform=\"translate(0 0)\"><g class=\"column-cells\"><g class=\"column-cell\" transform=\"translate(0 46.609375)\"><rect class=\"cell-rect\" width=\"108\" stroke-width=\"1\" style=\"stroke: rgb(255, 255, 255); stroke-opacity: 1; fill: rgb(235, 240, 248); fill-opacity: 1;\" height=\"20\"/><g class=\"cell-text-holder\" transform=\"translate(8 8)\" text-anchor=\"start\" style=\"shape-rendering: geometricprecision;\"><text class=\"cell-text\" dy=\"0.75em\" style=\"cursor: auto; font-family: 'Open Sans', verdana, arial, sans-serif; font-size: 12px; fill: rgb(42, 63, 95); fill-opacity: 1;\">230</text></g></g><g class=\"column-cell\" transform=\"translate(0 66.609375)\"><rect class=\"cell-rect\" width=\"108\" stroke-width=\"1\" style=\"stroke: rgb(255, 255, 255); stroke-opacity: 1; fill: rgb(235, 240, 248); fill-opacity: 1;\" height=\"20\"/><g class=\"cell-text-holder\" transform=\"translate(8 8)\" text-anchor=\"start\" style=\"shape-rendering: geometricprecision;\"><text class=\"cell-text\" dy=\"0.75em\" style=\"cursor: auto; font-family: 'Open Sans', verdana, arial, sans-serif; font-size: 12px; fill: rgb(42, 63, 95); fill-opacity: 1;\">41035</text></g></g><g class=\"column-cell\" transform=\"translate(0 86.609375)\"><rect class=\"cell-rect\" width=\"108\" stroke-width=\"1\" style=\"stroke: rgb(255, 255, 255); stroke-opacity: 1; fill: rgb(235, 240, 248); fill-opacity: 1;\" height=\"20\"/><g class=\"cell-text-holder\" transform=\"translate(8 8)\" text-anchor=\"start\" style=\"shape-rendering: geometricprecision;\"><text class=\"cell-text\" dy=\"0.75em\" style=\"cursor: auto; font-family: 'Open Sans', verdana, arial, sans-serif; font-size: 12px; fill: rgb(42, 63, 95); fill-opacity: 1;\">227</text></g></g><g class=\"column-cell\" transform=\"translate(0 106.609375)\"><rect class=\"cell-rect\" width=\"108\" stroke-width=\"1\" style=\"stroke: rgb(255, 255, 255); stroke-opacity: 1; fill: rgb(235, 240, 248); fill-opacity: 1;\" height=\"20\"/><g class=\"cell-text-holder\" transform=\"translate(8 8)\" text-anchor=\"start\" style=\"shape-rendering: geometricprecision;\"><text class=\"cell-text\" dy=\"0.75em\" style=\"cursor: auto; font-family: 'Open Sans', verdana, arial, sans-serif; font-size: 12px; fill: rgb(42, 63, 95); fill-opacity: 1;\">82</text></g></g><g class=\"column-cell\" transform=\"translate(0 126.609375)\"><rect class=\"cell-rect\" width=\"108\" stroke-width=\"1\" style=\"stroke: rgb(255, 255, 255); stroke-opacity: 1; fill: rgb(235, 240, 248); fill-opacity: 1;\" height=\"20\"/><g class=\"cell-text-holder\" transform=\"translate(8 8)\" text-anchor=\"start\" style=\"shape-rendering: geometricprecision;\"><text class=\"cell-text\" dy=\"0.75em\" style=\"cursor: auto; font-family: 'Open Sans', verdana, arial, sans-serif; font-size: 12px; fill: rgb(42, 63, 95); fill-opacity: 1;\">126</text></g></g></g></g><g class=\"column-block\" id=\"cells2\" style=\"cursor: default;\" transform=\"translate(0 0)\"><g class=\"column-cells\"/></g><g class=\"column-block\" id=\"header\" style=\"cursor: ew-resize;\"><g class=\"column-cells\"><g class=\"column-cell\" transform=\"translate(0 0)\"><rect class=\"cell-rect\" width=\"108\" stroke-width=\"1\" style=\"stroke: rgb(255, 255, 255); stroke-opacity: 1; fill: rgb(200, 212, 227); fill-opacity: 1;\" height=\"46.609375\"/><g class=\"cell-text-holder\" style=\"shape-rendering: geometricprecision;\" transform=\"translate(8 8)\" text-anchor=\"start\"><text class=\"cell-text\" dy=\"0.75em\" x=\"0\" y=\"0\" style=\"cursor: auto; font-family: 'Open Sans', verdana, arial, sans-serif; font-size: 12px; fill: rgb(42, 63, 95); fill-opacity: 1; white-space: pre;\">Total Cases</text></g></g></g></g><g class=\"column-boundary\"/><clipPath class=\"column-boundary-clippath\" id=\"clipe76051_columnBoundaryClippath_649f4atrue_1\"><rect class=\"column-boundary-rect\" fill=\"none\" width=\"110\" height=\"277\" x=\"-1\" y=\"-1\"/></clipPath></g><g class=\"y-column\" transform=\"translate(216 0)\" clip-path=\"url('#clipe76051_columnBoundaryClippath_649f4atrue_2')\"><g class=\"column-block\" id=\"cells1\" style=\"cursor: default;\" transform=\"translate(0 0)\"><g class=\"column-cells\"><g class=\"column-cell\" transform=\"translate(0 46.609375)\"><rect class=\"cell-rect\" width=\"108\" stroke-width=\"1\" style=\"stroke: rgb(255, 255, 255); stroke-opacity: 1; fill: rgb(235, 240, 248); fill-opacity: 1;\" height=\"20\"/><g class=\"cell-text-holder\" transform=\"translate(8 8)\" text-anchor=\"start\" style=\"shape-rendering: geometricprecision;\"><text class=\"cell-text\" dy=\"0.75em\" style=\"cursor: auto; font-family: 'Open Sans', verdana, arial, sans-serif; font-size: 12px; fill: rgb(42, 63, 95); fill-opacity: 1;\">18</text></g></g><g class=\"column-cell\" transform=\"translate(0 66.609375)\"><rect class=\"cell-rect\" width=\"108\" stroke-width=\"1\" style=\"stroke: rgb(255, 255, 255); stroke-opacity: 1; fill: rgb(235, 240, 248); fill-opacity: 1;\" height=\"20\"/><g class=\"cell-text-holder\" transform=\"translate(8 8)\" text-anchor=\"start\" style=\"shape-rendering: geometricprecision;\"><text class=\"cell-text\" dy=\"0.75em\" style=\"cursor: auto; font-family: 'Open Sans', verdana, arial, sans-serif; font-size: 12px; fill: rgb(42, 63, 95); fill-opacity: 1;\">3407</text></g></g><g class=\"column-cell\" transform=\"translate(0 86.609375)\"><rect class=\"cell-rect\" width=\"108\" stroke-width=\"1\" style=\"stroke: rgb(255, 255, 255); stroke-opacity: 1; fill: rgb(235, 240, 248); fill-opacity: 1;\" height=\"20\"/><g class=\"cell-text-holder\" transform=\"translate(8 8)\" text-anchor=\"start\" style=\"shape-rendering: geometricprecision;\"><text class=\"cell-text\" dy=\"0.75em\" style=\"cursor: auto; font-family: 'Open Sans', verdana, arial, sans-serif; font-size: 12px; fill: rgb(42, 63, 95); fill-opacity: 1;\">19</text></g></g><g class=\"column-cell\" transform=\"translate(0 106.609375)\"><rect class=\"cell-rect\" width=\"108\" stroke-width=\"1\" style=\"stroke: rgb(255, 255, 255); stroke-opacity: 1; fill: rgb(235, 240, 248); fill-opacity: 1;\" height=\"20\"/><g class=\"cell-text-holder\" transform=\"translate(8 8)\" text-anchor=\"start\" style=\"shape-rendering: geometricprecision;\"><text class=\"cell-text\" dy=\"0.75em\" style=\"cursor: auto; font-family: 'Open Sans', verdana, arial, sans-serif; font-size: 12px; fill: rgb(42, 63, 95); fill-opacity: 1;\">7</text></g></g><g class=\"column-cell\" transform=\"translate(0 126.609375)\"><rect class=\"cell-rect\" width=\"108\" stroke-width=\"1\" style=\"stroke: rgb(255, 255, 255); stroke-opacity: 1; fill: rgb(235, 240, 248); fill-opacity: 1;\" height=\"20\"/><g class=\"cell-text-holder\" transform=\"translate(8 8)\" text-anchor=\"start\" style=\"shape-rendering: geometricprecision;\"><text class=\"cell-text\" dy=\"0.75em\" style=\"cursor: auto; font-family: 'Open Sans', verdana, arial, sans-serif; font-size: 12px; fill: rgb(42, 63, 95); fill-opacity: 1;\">14</text></g></g></g></g><g class=\"column-block\" id=\"cells2\" style=\"cursor: default;\" transform=\"translate(0 0)\"><g class=\"column-cells\"/></g><g class=\"column-block\" id=\"header\" style=\"cursor: ew-resize;\"><g class=\"column-cells\"><g class=\"column-cell\" transform=\"translate(0 0)\"><rect class=\"cell-rect\" width=\"108\" stroke-width=\"1\" style=\"stroke: rgb(255, 255, 255); stroke-opacity: 1; fill: rgb(200, 212, 227); fill-opacity: 1;\" height=\"46.609375\"/><g class=\"cell-text-holder\" style=\"shape-rendering: geometricprecision;\" transform=\"translate(8 8)\" text-anchor=\"start\"><text class=\"cell-text\" dy=\"0.75em\" style=\"cursor: auto; font-family: 'Open Sans', verdana, arial, sans-serif; font-size: 12px; fill: rgb(42, 63, 95); fill-opacity: 1; white-space: pre;\" x=\"0\" y=\"0\">Total Deaths</text></g></g></g></g><g class=\"column-boundary\"/><clipPath class=\"column-boundary-clippath\" id=\"clipe76051_columnBoundaryClippath_649f4atrue_2\"><rect class=\"column-boundary-rect\" fill=\"none\" width=\"110\" height=\"277\" x=\"-1\" y=\"-1\"/></clipPath></g><g class=\"y-column\" transform=\"translate(324 0)\" clip-path=\"url('#clipe76051_columnBoundaryClippath_649f4atrue_3')\"><g class=\"column-block\" id=\"cells1\" style=\"cursor: default;\" transform=\"translate(0 0)\"><g class=\"column-cells\"><g class=\"column-cell\" transform=\"translate(0 46.609375)\"><rect class=\"cell-rect\" width=\"108\" stroke-width=\"1\" style=\"stroke: rgb(255, 255, 255); stroke-opacity: 1; fill: rgb(235, 240, 248); fill-opacity: 1;\" height=\"20\"/><g class=\"cell-text-holder\" transform=\"translate(8 8)\" text-anchor=\"start\" style=\"shape-rendering: geometricprecision;\"><text class=\"cell-text\" dy=\"0.75em\" style=\"cursor: auto; font-family: 'Open Sans', verdana, arial, sans-serif; font-size: 12px; fill: rgb(42, 63, 95); fill-opacity: 1;\">0.0783</text></g></g><g class=\"column-cell\" transform=\"translate(0 66.609375)\"><rect class=\"cell-rect\" width=\"108\" stroke-width=\"1\" style=\"stroke: rgb(255, 255, 255); stroke-opacity: 1; fill: rgb(235, 240, 248); fill-opacity: 1;\" height=\"20\"/><g class=\"cell-text-holder\" transform=\"translate(8 8)\" text-anchor=\"start\" style=\"shape-rendering: geometricprecision;\"><text class=\"cell-text\" dy=\"0.75em\" style=\"cursor: auto; font-family: 'Open Sans', verdana, arial, sans-serif; font-size: 12px; fill: rgb(42, 63, 95); fill-opacity: 1;\">0.083</text></g></g><g class=\"column-cell\" transform=\"translate(0 86.609375)\"><rect class=\"cell-rect\" width=\"108\" stroke-width=\"1\" style=\"stroke: rgb(255, 255, 255); stroke-opacity: 1; fill: rgb(235, 240, 248); fill-opacity: 1;\" height=\"20\"/><g class=\"cell-text-holder\" transform=\"translate(8 8)\" text-anchor=\"start\" style=\"shape-rendering: geometricprecision;\"><text class=\"cell-text\" dy=\"0.75em\" style=\"cursor: auto; font-family: 'Open Sans', verdana, arial, sans-serif; font-size: 12px; fill: rgb(42, 63, 95); fill-opacity: 1;\">0.0837</text></g></g><g class=\"column-cell\" transform=\"translate(0 106.609375)\"><rect class=\"cell-rect\" width=\"108\" stroke-width=\"1\" style=\"stroke: rgb(255, 255, 255); stroke-opacity: 1; fill: rgb(235, 240, 248); fill-opacity: 1;\" height=\"20\"/><g class=\"cell-text-holder\" transform=\"translate(8 8)\" text-anchor=\"start\" style=\"shape-rendering: geometricprecision;\"><text class=\"cell-text\" dy=\"0.75em\" style=\"cursor: auto; font-family: 'Open Sans', verdana, arial, sans-serif; font-size: 12px; fill: rgb(42, 63, 95); fill-opacity: 1;\">0.0854</text></g></g><g class=\"column-cell\" transform=\"translate(0 126.609375)\"><rect class=\"cell-rect\" width=\"108\" stroke-width=\"1\" style=\"stroke: rgb(255, 255, 255); stroke-opacity: 1; fill: rgb(235, 240, 248); fill-opacity: 1;\" height=\"20\"/><g class=\"cell-text-holder\" transform=\"translate(8 8)\" text-anchor=\"start\" style=\"shape-rendering: geometricprecision;\"><text class=\"cell-text\" dy=\"0.75em\" style=\"cursor: auto; font-family: 'Open Sans', verdana, arial, sans-serif; font-size: 12px; fill: rgb(42, 63, 95); fill-opacity: 1;\">0.1111</text></g></g></g></g><g class=\"column-block\" id=\"cells2\" style=\"cursor: default;\" transform=\"translate(0 0)\"><g class=\"column-cells\"/></g><g class=\"column-block\" id=\"header\" style=\"cursor: ew-resize;\"><g class=\"column-cells\"><g class=\"column-cell\" transform=\"translate(0 0)\"><rect class=\"cell-rect\" width=\"108\" stroke-width=\"1\" style=\"stroke: rgb(255, 255, 255); stroke-opacity: 1; fill: rgb(200, 212, 227); fill-opacity: 1;\" height=\"46.609375\"/><g class=\"cell-text-holder\" style=\"shape-rendering: geometricprecision;\" transform=\"translate(8 20)\"><text class=\"cell-text\" dy=\"0\" style=\"cursor: auto; font-family: 'Open Sans', verdana, arial, sans-serif; font-size: 12px; fill: rgb(42, 63, 95); fill-opacity: 1; white-space: pre;\" x=\"0\" y=\"0\"><tspan class=\"line\" dy=\"0em\" x=\"0\" y=\"0\">Deaths per</tspan><tspan class=\"line\" dy=\"1.3em\" x=\"0\" y=\"0\">total</tspan></text></g></g></g></g><g class=\"column-boundary\"/><clipPath class=\"column-boundary-clippath\" id=\"clipe76051_columnBoundaryClippath_649f4atrue_3\"><rect class=\"column-boundary-rect\" fill=\"none\" width=\"110\" height=\"277\" x=\"-1\" y=\"-1\"/></clipPath></g><g class=\"y-column\" transform=\"translate(432 0)\" clip-path=\"url('#clipe76051_columnBoundaryClippath_649f4atrue_4')\"><g class=\"column-block\" id=\"cells1\" style=\"cursor: default;\" transform=\"translate(0 0)\"><g class=\"column-cells\"><g class=\"column-cell\" transform=\"translate(0 46.609375)\"><rect class=\"cell-rect\" width=\"108\" stroke-width=\"1\" style=\"stroke: rgb(255, 255, 255); stroke-opacity: 1; fill: rgb(235, 240, 248); fill-opacity: 1;\" height=\"20\"/><g class=\"cell-text-holder\" transform=\"translate(8 8)\" text-anchor=\"start\" style=\"shape-rendering: geometricprecision;\"><text class=\"cell-text\" dy=\"0.75em\" style=\"cursor: auto; font-family: 'Open Sans', verdana, arial, sans-serif; font-size: 12px; fill: rgb(42, 63, 95); fill-opacity: 1;\">106651922</text></g></g><g class=\"column-cell\" transform=\"translate(0 66.609375)\"><rect class=\"cell-rect\" width=\"108\" stroke-width=\"1\" style=\"stroke: rgb(255, 255, 255); stroke-opacity: 1; fill: rgb(235, 240, 248); fill-opacity: 1;\" height=\"20\"/><g class=\"cell-text-holder\" transform=\"translate(8 8)\" text-anchor=\"start\" style=\"shape-rendering: geometricprecision;\"><text class=\"cell-text\" dy=\"0.75em\" style=\"cursor: auto; font-family: 'Open Sans', verdana, arial, sans-serif; font-size: 12px; fill: rgb(42, 63, 95); fill-opacity: 1;\">60431283</text></g></g><g class=\"column-cell\" transform=\"translate(0 86.609375)\"><rect class=\"cell-rect\" width=\"108\" stroke-width=\"1\" style=\"stroke: rgb(255, 255, 255); stroke-opacity: 1; fill: rgb(235, 240, 248); fill-opacity: 1;\" height=\"20\"/><g class=\"cell-text-holder\" transform=\"translate(8 8)\" text-anchor=\"start\" style=\"shape-rendering: geometricprecision;\"><text class=\"cell-text\" dy=\"0.75em\" style=\"cursor: auto; font-family: 'Open Sans', verdana, arial, sans-serif; font-size: 12px; fill: rgb(42, 63, 95); fill-opacity: 1;\">267663435</text></g></g><g class=\"column-cell\" transform=\"translate(0 106.609375)\"><rect class=\"cell-rect\" width=\"108\" stroke-width=\"1\" style=\"stroke: rgb(255, 255, 255); stroke-opacity: 1; fill: rgb(235, 240, 248); fill-opacity: 1;\" height=\"20\"/><g class=\"cell-text-holder\" transform=\"translate(8 8)\" text-anchor=\"start\" style=\"shape-rendering: geometricprecision;\"><text class=\"cell-text\" dy=\"0.75em\" style=\"cursor: auto; font-family: 'Open Sans', verdana, arial, sans-serif; font-size: 12px; fill: rgb(42, 63, 95); fill-opacity: 1;\">42228429</text></g></g><g class=\"column-cell\" transform=\"translate(0 126.609375)\"><rect class=\"cell-rect\" width=\"108\" stroke-width=\"1\" style=\"stroke: rgb(255, 255, 255); stroke-opacity: 1; fill: rgb(235, 240, 248); fill-opacity: 1;\" height=\"20\"/><g class=\"cell-text-holder\" transform=\"translate(8 8)\" text-anchor=\"start\" style=\"shape-rendering: geometricprecision;\"><text class=\"cell-text\" dy=\"0.75em\" style=\"cursor: auto; font-family: 'Open Sans', verdana, arial, sans-serif; font-size: 12px; fill: rgb(42, 63, 95); fill-opacity: 1;\">33785</text></g></g></g></g><g class=\"column-block\" id=\"cells2\" style=\"cursor: default;\" transform=\"translate(0 0)\"><g class=\"column-cells\"/></g><g class=\"column-block\" id=\"header\" style=\"cursor: ew-resize;\"><g class=\"column-cells\"><g class=\"column-cell\" transform=\"translate(0 0)\"><rect class=\"cell-rect\" width=\"108\" stroke-width=\"1\" style=\"stroke: rgb(255, 255, 255); stroke-opacity: 1; fill: rgb(200, 212, 227); fill-opacity: 1;\" height=\"46.609375\"/><g class=\"cell-text-holder\" style=\"shape-rendering: geometricprecision;\" transform=\"translate(8 8)\" text-anchor=\"start\"><text class=\"cell-text\" dy=\"0.75em\" style=\"cursor: auto; font-family: 'Open Sans', verdana, arial, sans-serif; font-size: 12px; fill: rgb(42, 63, 95); fill-opacity: 1;\">population</text></g></g></g></g><g class=\"column-boundary\"/><clipPath class=\"column-boundary-clippath\" id=\"clipe76051_columnBoundaryClippath_649f4atrue_4\"><rect class=\"column-boundary-rect\" fill=\"none\" width=\"110\" height=\"277\" x=\"-1\" y=\"-1\"/></clipPath></g><g class=\"scrollbar-kit\" transform=\"translate(549 46.609375)\" style=\"shape-rendering: geometricprecision;\"><g class=\"scrollbar\"><g class=\"scrollbar-slider\" transform=\"translate(0 0)\"/></g></g><clipPath class=\"scroll-area-clip\" id=\"clipe76051_scrollAreaBottomClip_649f4atrue\"><rect class=\"scroll-area-clip-rect\" x=\"-45\" y=\"-5\" fill=\"none\" width=\"630\" height=\"275\"/></clipPath></g></g><defs id=\"topdefs-e76051\"><g class=\"clips\"/></defs><g class=\"layer-above\"><g class=\"imagelayer\"/><g class=\"shapelayer\"/></g><g class=\"infolayer\"><g class=\"g-gtitle\"/></g></svg>"
      ]
     },
     "metadata": {},
     "output_type": "display_data"
    }
   ],
   "source": [
    "fig = go.Figure(data=[go.Table(\n",
    "    header=dict(values=['Location', \n",
    "                        'Total Cases', \n",
    "                        'Total Deaths',\n",
    "                        'Deaths per total', \n",
    "                        'population'],\n",
    "                align='left'),\n",
    "    cells=dict(values=[filtered_for_table['location'], \n",
    "                       filtered_for_table['total_cases'], \n",
    "                       filtered_for_table['total_deaths'], \n",
    "                       filtered_for_table['deaths_per_total'],\n",
    "                       filtered_for_table['population']\n",
    "                      ],\n",
    "               align='left'))\n",
    "])\n",
    "\n",
    "fig.show(renderer=\"svg\")"
   ]
  },
  {
   "cell_type": "markdown",
   "metadata": {},
   "source": [
    "### Canada, US, and Pakistan"
   ]
  },
  {
   "cell_type": "code",
   "execution_count": 56,
   "metadata": {},
   "outputs": [],
   "source": [
    "filter_countries = ['Canada','United States', 'Pakistan']"
   ]
  },
  {
   "cell_type": "code",
   "execution_count": 57,
   "metadata": {
    "scrolled": false
   },
   "outputs": [
    {
     "data": {
      "text/html": [
       "<div>\n",
       "<style scoped>\n",
       "    .dataframe tbody tr th:only-of-type {\n",
       "        vertical-align: middle;\n",
       "    }\n",
       "\n",
       "    .dataframe tbody tr th {\n",
       "        vertical-align: top;\n",
       "    }\n",
       "\n",
       "    .dataframe thead th {\n",
       "        text-align: right;\n",
       "    }\n",
       "</style>\n",
       "<table border=\"1\" class=\"dataframe\">\n",
       "  <thead>\n",
       "    <tr style=\"text-align: right;\">\n",
       "      <th></th>\n",
       "      <th>new_cases</th>\n",
       "      <th>new_deaths</th>\n",
       "      <th>total_cases</th>\n",
       "      <th>total_deaths</th>\n",
       "      <th>total_cases_pc</th>\n",
       "      <th>total_deaths_pc</th>\n",
       "      <th>deaths_per_total</th>\n",
       "    </tr>\n",
       "    <tr>\n",
       "      <th>location</th>\n",
       "      <th></th>\n",
       "      <th></th>\n",
       "      <th></th>\n",
       "      <th></th>\n",
       "      <th></th>\n",
       "      <th></th>\n",
       "      <th></th>\n",
       "    </tr>\n",
       "  </thead>\n",
       "  <tbody>\n",
       "    <tr>\n",
       "      <th>Canada</th>\n",
       "      <td>156</td>\n",
       "      <td>1</td>\n",
       "      <td>846</td>\n",
       "      <td>10</td>\n",
       "      <td>0.000023</td>\n",
       "      <td>2.698410e-07</td>\n",
       "      <td>0.0118</td>\n",
       "    </tr>\n",
       "    <tr>\n",
       "      <th>Pakistan</th>\n",
       "      <td>176</td>\n",
       "      <td>2</td>\n",
       "      <td>478</td>\n",
       "      <td>2</td>\n",
       "      <td>0.000002</td>\n",
       "      <td>9.424403e-09</td>\n",
       "      <td>0.0042</td>\n",
       "    </tr>\n",
       "    <tr>\n",
       "      <th>United States</th>\n",
       "      <td>4835</td>\n",
       "      <td>0</td>\n",
       "      <td>14250</td>\n",
       "      <td>150</td>\n",
       "      <td>0.000044</td>\n",
       "      <td>4.584808e-07</td>\n",
       "      <td>0.0105</td>\n",
       "    </tr>\n",
       "  </tbody>\n",
       "</table>\n",
       "</div>"
      ],
      "text/plain": [
       "               new_cases  new_deaths  total_cases  total_deaths  \\\n",
       "location                                                          \n",
       "Canada               156           1          846            10   \n",
       "Pakistan             176           2          478             2   \n",
       "United States       4835           0        14250           150   \n",
       "\n",
       "               total_cases_pc  total_deaths_pc  deaths_per_total  \n",
       "location                                                          \n",
       "Canada               0.000023     2.698410e-07            0.0118  \n",
       "Pakistan             0.000002     9.424403e-09            0.0042  \n",
       "United States        0.000044     4.584808e-07            0.0105  "
      ]
     },
     "execution_count": 57,
     "metadata": {},
     "output_type": "execute_result"
    }
   ],
   "source": [
    "data[data.index.isin(filter_countries)]"
   ]
  },
  {
   "cell_type": "code",
   "execution_count": 58,
   "metadata": {},
   "outputs": [
    {
     "data": {
      "text/html": [
       "<div>\n",
       "<style scoped>\n",
       "    .dataframe tbody tr th:only-of-type {\n",
       "        vertical-align: middle;\n",
       "    }\n",
       "\n",
       "    .dataframe tbody tr th {\n",
       "        vertical-align: top;\n",
       "    }\n",
       "\n",
       "    .dataframe thead th {\n",
       "        text-align: right;\n",
       "    }\n",
       "</style>\n",
       "<table border=\"1\" class=\"dataframe\">\n",
       "  <thead>\n",
       "    <tr style=\"text-align: right;\">\n",
       "      <th></th>\n",
       "      <th>date</th>\n",
       "      <th>location</th>\n",
       "      <th>new_cases</th>\n",
       "      <th>new_deaths</th>\n",
       "      <th>total_cases</th>\n",
       "      <th>total_deaths</th>\n",
       "      <th>date_fm</th>\n",
       "    </tr>\n",
       "  </thead>\n",
       "  <tbody>\n",
       "    <tr>\n",
       "      <th>950</th>\n",
       "      <td>2019-12-31</td>\n",
       "      <td>Canada</td>\n",
       "      <td>0</td>\n",
       "      <td>0</td>\n",
       "      <td>0</td>\n",
       "      <td>0</td>\n",
       "      <td>2019-12-31</td>\n",
       "    </tr>\n",
       "    <tr>\n",
       "      <th>951</th>\n",
       "      <td>2020-01-01</td>\n",
       "      <td>Canada</td>\n",
       "      <td>0</td>\n",
       "      <td>0</td>\n",
       "      <td>0</td>\n",
       "      <td>0</td>\n",
       "      <td>2020-01-01</td>\n",
       "    </tr>\n",
       "    <tr>\n",
       "      <th>952</th>\n",
       "      <td>2020-01-02</td>\n",
       "      <td>Canada</td>\n",
       "      <td>0</td>\n",
       "      <td>0</td>\n",
       "      <td>0</td>\n",
       "      <td>0</td>\n",
       "      <td>2020-01-02</td>\n",
       "    </tr>\n",
       "    <tr>\n",
       "      <th>953</th>\n",
       "      <td>2020-01-03</td>\n",
       "      <td>Canada</td>\n",
       "      <td>0</td>\n",
       "      <td>0</td>\n",
       "      <td>0</td>\n",
       "      <td>0</td>\n",
       "      <td>2020-01-03</td>\n",
       "    </tr>\n",
       "    <tr>\n",
       "      <th>954</th>\n",
       "      <td>2020-01-04</td>\n",
       "      <td>Canada</td>\n",
       "      <td>0</td>\n",
       "      <td>0</td>\n",
       "      <td>0</td>\n",
       "      <td>0</td>\n",
       "      <td>2020-01-04</td>\n",
       "    </tr>\n",
       "    <tr>\n",
       "      <th>...</th>\n",
       "      <td>...</td>\n",
       "      <td>...</td>\n",
       "      <td>...</td>\n",
       "      <td>...</td>\n",
       "      <td>...</td>\n",
       "      <td>...</td>\n",
       "      <td>...</td>\n",
       "    </tr>\n",
       "    <tr>\n",
       "      <th>5732</th>\n",
       "      <td>2020-03-16</td>\n",
       "      <td>United States</td>\n",
       "      <td>823</td>\n",
       "      <td>12</td>\n",
       "      <td>3774</td>\n",
       "      <td>69</td>\n",
       "      <td>2020-03-16</td>\n",
       "    </tr>\n",
       "    <tr>\n",
       "      <th>5733</th>\n",
       "      <td>2020-03-17</td>\n",
       "      <td>United States</td>\n",
       "      <td>887</td>\n",
       "      <td>16</td>\n",
       "      <td>4661</td>\n",
       "      <td>85</td>\n",
       "      <td>2020-03-17</td>\n",
       "    </tr>\n",
       "    <tr>\n",
       "      <th>5734</th>\n",
       "      <td>2020-03-18</td>\n",
       "      <td>United States</td>\n",
       "      <td>1766</td>\n",
       "      <td>23</td>\n",
       "      <td>6427</td>\n",
       "      <td>108</td>\n",
       "      <td>2020-03-18</td>\n",
       "    </tr>\n",
       "    <tr>\n",
       "      <th>5735</th>\n",
       "      <td>2020-03-19</td>\n",
       "      <td>United States</td>\n",
       "      <td>2988</td>\n",
       "      <td>42</td>\n",
       "      <td>9415</td>\n",
       "      <td>150</td>\n",
       "      <td>2020-03-19</td>\n",
       "    </tr>\n",
       "    <tr>\n",
       "      <th>5736</th>\n",
       "      <td>2020-03-20</td>\n",
       "      <td>United States</td>\n",
       "      <td>4835</td>\n",
       "      <td>0</td>\n",
       "      <td>14250</td>\n",
       "      <td>150</td>\n",
       "      <td>2020-03-20</td>\n",
       "    </tr>\n",
       "  </tbody>\n",
       "</table>\n",
       "<p>238 rows × 7 columns</p>\n",
       "</div>"
      ],
      "text/plain": [
       "            date       location  new_cases  new_deaths  total_cases  \\\n",
       "950   2019-12-31         Canada          0           0            0   \n",
       "951   2020-01-01         Canada          0           0            0   \n",
       "952   2020-01-02         Canada          0           0            0   \n",
       "953   2020-01-03         Canada          0           0            0   \n",
       "954   2020-01-04         Canada          0           0            0   \n",
       "...          ...            ...        ...         ...          ...   \n",
       "5732  2020-03-16  United States        823          12         3774   \n",
       "5733  2020-03-17  United States        887          16         4661   \n",
       "5734  2020-03-18  United States       1766          23         6427   \n",
       "5735  2020-03-19  United States       2988          42         9415   \n",
       "5736  2020-03-20  United States       4835           0        14250   \n",
       "\n",
       "      total_deaths    date_fm  \n",
       "950              0 2019-12-31  \n",
       "951              0 2020-01-01  \n",
       "952              0 2020-01-02  \n",
       "953              0 2020-01-03  \n",
       "954              0 2020-01-04  \n",
       "...            ...        ...  \n",
       "5732            69 2020-03-16  \n",
       "5733            85 2020-03-17  \n",
       "5734           108 2020-03-18  \n",
       "5735           150 2020-03-19  \n",
       "5736           150 2020-03-20  \n",
       "\n",
       "[238 rows x 7 columns]"
      ]
     },
     "execution_count": 58,
     "metadata": {},
     "output_type": "execute_result"
    }
   ],
   "source": [
    "country_subset = rdata[rdata['location'].isin(filter_countries)]\n",
    "country_subset"
   ]
  },
  {
   "cell_type": "code",
   "execution_count": 59,
   "metadata": {},
   "outputs": [
    {
     "data": {
      "image/png": "[encoded data removed]",
      "text/plain": [
       "<Figure size 1080x720 with 1 Axes>"
      ]
     },
     "metadata": {
      "needs_background": "light"
     },
     "output_type": "display_data"
    }
   ],
   "source": [
    "_, ax = plt.subplots(figsize = (15, 10))\n",
    "\n",
    "for name, group in country_subset.groupby('location'):\n",
    "    group.set_index('date_fm').plot(kind ='line', y = 'new_cases', ax = ax, label = name)\n",
    "\n",
    "plt.show()"
   ]
  },
  {
   "cell_type": "markdown",
   "metadata": {},
   "source": [
    "## Resources\n",
    "1. Data obtained from: https://ourworldindata.org/coronavirus-source-data\n",
    "2. Population data from: https://data.worldbank.org/indicator/SP.POP.TOTL"
   ]
  }
 ],
 "metadata": {
  "kernelspec": {
   "display_name": "Python 3",
   "language": "python",
   "name": "python3"
  },
  "language_info": {
   "codemirror_mode": {
    "name": "ipython",
    "version": 3
   },
   "file_extension": ".py",
   "mimetype": "text/x-python",
   "name": "python",
   "nbconvert_exporter": "python",
   "pygments_lexer": "ipython3",
   "version": "3.7.6"
  }
 },
 "nbformat": 4,
 "nbformat_minor": 2
}
