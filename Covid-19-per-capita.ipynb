{
 "cells": [
  {
   "cell_type": "markdown",
   "metadata": {},
   "source": [
    "# Covid-19 Analysis\n",
    "\n",
    "Looking at the Covid-19 data obtained from 'Our World in Data'.\n",
    "\n",
    "**Index:**\n",
    "\n",
    "- [Countries with total cases per capita, top 5](#Highest-total-cases-per-capita,-top-5)\n",
    "- [Countries with highest death rate per cases, top 5](#Highest-death-rate-per-total-cases,-top-5)\n",
    "- [Comparison of new cases by countries](#Comparison-of-new-cases-by-countries)\n",
    "  <br>Edit the name of the countries in filter_countries variable or add new ones to plot<br>\n",
    "- [Comparison of new cases by countries per capita](#Comparison-of-new-cases-by-countries-per-capita)\n",
    " <br>Edit the name of the countries in filter_countries variable or add new ones to plotplot<br>"
   ]
  },
  {
   "cell_type": "markdown",
   "metadata": {},
   "source": [
    "## Extracting coronavirus and country data"
   ]
  },
  {
   "cell_type": "code",
   "execution_count": null,
   "metadata": {},
   "outputs": [],
   "source": [
    "import numpy as np\n",
    "import pandas as pd\n",
    "import matplotlib.pyplot as plt\n",
    "import plotly.graph_objects as go\n",
    "import requests"
   ]
  },
  {
   "cell_type": "code",
   "execution_count": null,
   "metadata": {},
   "outputs": [],
   "source": [
    "r = requests.get('https://covid.ourworldindata.org/data/ecdc/full_data.csv')"
   ]
  },
  {
   "cell_type": "code",
   "execution_count": null,
   "metadata": {},
   "outputs": [],
   "source": [
    "with open('full_data.csv', 'wb') as fd:\n",
    "    for chunk in r.iter_content(chunk_size = 128):\n",
    "        fd.write(chunk)"
   ]
  },
  {
   "cell_type": "code",
   "execution_count": 178,
   "metadata": {},
   "outputs": [],
   "source": [
    "rdata = pd.read_csv('full_data.csv')\n",
    "rpopulation_data = pd.read_csv('population_data.csv') "
   ]
  },
  {
   "cell_type": "code",
   "execution_count": 179,
   "metadata": {
    "scrolled": true
   },
   "outputs": [
    {
     "data": {
      "text/html": [
       "<div>\n",
       "<style scoped>\n",
       "    .dataframe tbody tr th:only-of-type {\n",
       "        vertical-align: middle;\n",
       "    }\n",
       "\n",
       "    .dataframe tbody tr th {\n",
       "        vertical-align: top;\n",
       "    }\n",
       "\n",
       "    .dataframe thead th {\n",
       "        text-align: right;\n",
       "    }\n",
       "</style>\n",
       "<table border=\"1\" class=\"dataframe\">\n",
       "  <thead>\n",
       "    <tr style=\"text-align: right;\">\n",
       "      <th></th>\n",
       "      <th>date</th>\n",
       "      <th>location</th>\n",
       "      <th>new_cases</th>\n",
       "      <th>new_deaths</th>\n",
       "      <th>total_cases</th>\n",
       "      <th>total_deaths</th>\n",
       "    </tr>\n",
       "  </thead>\n",
       "  <tbody>\n",
       "    <tr>\n",
       "      <td>0</td>\n",
       "      <td>2019-12-31</td>\n",
       "      <td>Afghanistan</td>\n",
       "      <td>0</td>\n",
       "      <td>0</td>\n",
       "      <td>0</td>\n",
       "      <td>0</td>\n",
       "    </tr>\n",
       "    <tr>\n",
       "      <td>1</td>\n",
       "      <td>2020-01-01</td>\n",
       "      <td>Afghanistan</td>\n",
       "      <td>0</td>\n",
       "      <td>0</td>\n",
       "      <td>0</td>\n",
       "      <td>0</td>\n",
       "    </tr>\n",
       "    <tr>\n",
       "      <td>2</td>\n",
       "      <td>2020-01-02</td>\n",
       "      <td>Afghanistan</td>\n",
       "      <td>0</td>\n",
       "      <td>0</td>\n",
       "      <td>0</td>\n",
       "      <td>0</td>\n",
       "    </tr>\n",
       "    <tr>\n",
       "      <td>3</td>\n",
       "      <td>2020-01-03</td>\n",
       "      <td>Afghanistan</td>\n",
       "      <td>0</td>\n",
       "      <td>0</td>\n",
       "      <td>0</td>\n",
       "      <td>0</td>\n",
       "    </tr>\n",
       "    <tr>\n",
       "      <td>4</td>\n",
       "      <td>2020-01-04</td>\n",
       "      <td>Afghanistan</td>\n",
       "      <td>0</td>\n",
       "      <td>0</td>\n",
       "      <td>0</td>\n",
       "      <td>0</td>\n",
       "    </tr>\n",
       "  </tbody>\n",
       "</table>\n",
       "</div>"
      ],
      "text/plain": [
       "         date     location  new_cases  new_deaths  total_cases  total_deaths\n",
       "0  2019-12-31  Afghanistan          0           0            0             0\n",
       "1  2020-01-01  Afghanistan          0           0            0             0\n",
       "2  2020-01-02  Afghanistan          0           0            0             0\n",
       "3  2020-01-03  Afghanistan          0           0            0             0\n",
       "4  2020-01-04  Afghanistan          0           0            0             0"
      ]
     },
     "execution_count": 179,
     "metadata": {},
     "output_type": "execute_result"
    }
   ],
   "source": [
    "rdata.head()"
   ]
  },
  {
   "cell_type": "code",
   "execution_count": 180,
   "metadata": {
    "scrolled": false
   },
   "outputs": [
    {
     "data": {
      "text/html": [
       "<div>\n",
       "<style scoped>\n",
       "    .dataframe tbody tr th:only-of-type {\n",
       "        vertical-align: middle;\n",
       "    }\n",
       "\n",
       "    .dataframe tbody tr th {\n",
       "        vertical-align: top;\n",
       "    }\n",
       "\n",
       "    .dataframe thead th {\n",
       "        text-align: right;\n",
       "    }\n",
       "</style>\n",
       "<table border=\"1\" class=\"dataframe\">\n",
       "  <thead>\n",
       "    <tr style=\"text-align: right;\">\n",
       "      <th></th>\n",
       "      <th>Country Name</th>\n",
       "      <th>Country Code</th>\n",
       "      <th>Indicator Name</th>\n",
       "      <th>Indicator Code</th>\n",
       "      <th>1960</th>\n",
       "      <th>1961</th>\n",
       "      <th>1962</th>\n",
       "      <th>1963</th>\n",
       "      <th>1964</th>\n",
       "      <th>1965</th>\n",
       "      <th>...</th>\n",
       "      <th>2010</th>\n",
       "      <th>2011</th>\n",
       "      <th>2012</th>\n",
       "      <th>2013</th>\n",
       "      <th>2014</th>\n",
       "      <th>2015</th>\n",
       "      <th>2016</th>\n",
       "      <th>2017</th>\n",
       "      <th>2018</th>\n",
       "      <th>2019</th>\n",
       "    </tr>\n",
       "  </thead>\n",
       "  <tbody>\n",
       "    <tr>\n",
       "      <td>0</td>\n",
       "      <td>Aruba</td>\n",
       "      <td>ABW</td>\n",
       "      <td>Population, total</td>\n",
       "      <td>SP.POP.TOTL</td>\n",
       "      <td>54211.0</td>\n",
       "      <td>55438.0</td>\n",
       "      <td>56225.0</td>\n",
       "      <td>56695.0</td>\n",
       "      <td>57032.0</td>\n",
       "      <td>57360.0</td>\n",
       "      <td>...</td>\n",
       "      <td>101669.0</td>\n",
       "      <td>102046.0</td>\n",
       "      <td>102560.0</td>\n",
       "      <td>103159.0</td>\n",
       "      <td>103774.0</td>\n",
       "      <td>104341.0</td>\n",
       "      <td>104872.0</td>\n",
       "      <td>105366.0</td>\n",
       "      <td>105845.0</td>\n",
       "      <td>NaN</td>\n",
       "    </tr>\n",
       "    <tr>\n",
       "      <td>1</td>\n",
       "      <td>Afghanistan</td>\n",
       "      <td>AFG</td>\n",
       "      <td>Population, total</td>\n",
       "      <td>SP.POP.TOTL</td>\n",
       "      <td>8996973.0</td>\n",
       "      <td>9169410.0</td>\n",
       "      <td>9351441.0</td>\n",
       "      <td>9543205.0</td>\n",
       "      <td>9744781.0</td>\n",
       "      <td>9956320.0</td>\n",
       "      <td>...</td>\n",
       "      <td>29185507.0</td>\n",
       "      <td>30117413.0</td>\n",
       "      <td>31161376.0</td>\n",
       "      <td>32269589.0</td>\n",
       "      <td>33370794.0</td>\n",
       "      <td>34413603.0</td>\n",
       "      <td>35383128.0</td>\n",
       "      <td>36296400.0</td>\n",
       "      <td>37172386.0</td>\n",
       "      <td>NaN</td>\n",
       "    </tr>\n",
       "    <tr>\n",
       "      <td>2</td>\n",
       "      <td>Angola</td>\n",
       "      <td>AGO</td>\n",
       "      <td>Population, total</td>\n",
       "      <td>SP.POP.TOTL</td>\n",
       "      <td>5454933.0</td>\n",
       "      <td>5531472.0</td>\n",
       "      <td>5608539.0</td>\n",
       "      <td>5679458.0</td>\n",
       "      <td>5735044.0</td>\n",
       "      <td>5770570.0</td>\n",
       "      <td>...</td>\n",
       "      <td>23356246.0</td>\n",
       "      <td>24220661.0</td>\n",
       "      <td>25107931.0</td>\n",
       "      <td>26015780.0</td>\n",
       "      <td>26941779.0</td>\n",
       "      <td>27884381.0</td>\n",
       "      <td>28842484.0</td>\n",
       "      <td>29816748.0</td>\n",
       "      <td>30809762.0</td>\n",
       "      <td>NaN</td>\n",
       "    </tr>\n",
       "    <tr>\n",
       "      <td>3</td>\n",
       "      <td>Albania</td>\n",
       "      <td>ALB</td>\n",
       "      <td>Population, total</td>\n",
       "      <td>SP.POP.TOTL</td>\n",
       "      <td>1608800.0</td>\n",
       "      <td>1659800.0</td>\n",
       "      <td>1711319.0</td>\n",
       "      <td>1762621.0</td>\n",
       "      <td>1814135.0</td>\n",
       "      <td>1864791.0</td>\n",
       "      <td>...</td>\n",
       "      <td>2913021.0</td>\n",
       "      <td>2905195.0</td>\n",
       "      <td>2900401.0</td>\n",
       "      <td>2895092.0</td>\n",
       "      <td>2889104.0</td>\n",
       "      <td>2880703.0</td>\n",
       "      <td>2876101.0</td>\n",
       "      <td>2873457.0</td>\n",
       "      <td>2866376.0</td>\n",
       "      <td>NaN</td>\n",
       "    </tr>\n",
       "    <tr>\n",
       "      <td>4</td>\n",
       "      <td>Andorra</td>\n",
       "      <td>AND</td>\n",
       "      <td>Population, total</td>\n",
       "      <td>SP.POP.TOTL</td>\n",
       "      <td>13411.0</td>\n",
       "      <td>14375.0</td>\n",
       "      <td>15370.0</td>\n",
       "      <td>16412.0</td>\n",
       "      <td>17469.0</td>\n",
       "      <td>18549.0</td>\n",
       "      <td>...</td>\n",
       "      <td>84449.0</td>\n",
       "      <td>83747.0</td>\n",
       "      <td>82427.0</td>\n",
       "      <td>80774.0</td>\n",
       "      <td>79213.0</td>\n",
       "      <td>78011.0</td>\n",
       "      <td>77297.0</td>\n",
       "      <td>77001.0</td>\n",
       "      <td>77006.0</td>\n",
       "      <td>NaN</td>\n",
       "    </tr>\n",
       "  </tbody>\n",
       "</table>\n",
       "<p>5 rows × 64 columns</p>\n",
       "</div>"
      ],
      "text/plain": [
       "  Country Name Country Code     Indicator Name Indicator Code       1960  \\\n",
       "0        Aruba          ABW  Population, total    SP.POP.TOTL    54211.0   \n",
       "1  Afghanistan          AFG  Population, total    SP.POP.TOTL  8996973.0   \n",
       "2       Angola          AGO  Population, total    SP.POP.TOTL  5454933.0   \n",
       "3      Albania          ALB  Population, total    SP.POP.TOTL  1608800.0   \n",
       "4      Andorra          AND  Population, total    SP.POP.TOTL    13411.0   \n",
       "\n",
       "        1961       1962       1963       1964       1965  ...        2010  \\\n",
       "0    55438.0    56225.0    56695.0    57032.0    57360.0  ...    101669.0   \n",
       "1  9169410.0  9351441.0  9543205.0  9744781.0  9956320.0  ...  29185507.0   \n",
       "2  5531472.0  5608539.0  5679458.0  5735044.0  5770570.0  ...  23356246.0   \n",
       "3  1659800.0  1711319.0  1762621.0  1814135.0  1864791.0  ...   2913021.0   \n",
       "4    14375.0    15370.0    16412.0    17469.0    18549.0  ...     84449.0   \n",
       "\n",
       "         2011        2012        2013        2014        2015        2016  \\\n",
       "0    102046.0    102560.0    103159.0    103774.0    104341.0    104872.0   \n",
       "1  30117413.0  31161376.0  32269589.0  33370794.0  34413603.0  35383128.0   \n",
       "2  24220661.0  25107931.0  26015780.0  26941779.0  27884381.0  28842484.0   \n",
       "3   2905195.0   2900401.0   2895092.0   2889104.0   2880703.0   2876101.0   \n",
       "4     83747.0     82427.0     80774.0     79213.0     78011.0     77297.0   \n",
       "\n",
       "         2017        2018  2019  \n",
       "0    105366.0    105845.0   NaN  \n",
       "1  36296400.0  37172386.0   NaN  \n",
       "2  29816748.0  30809762.0   NaN  \n",
       "3   2873457.0   2866376.0   NaN  \n",
       "4     77001.0     77006.0   NaN  \n",
       "\n",
       "[5 rows x 64 columns]"
      ]
     },
     "execution_count": 180,
     "metadata": {},
     "output_type": "execute_result"
    }
   ],
   "source": [
    "rpopulation_data.head()"
   ]
  },
  {
   "cell_type": "markdown",
   "metadata": {},
   "source": [
    "## Filtering and cleaning data "
   ]
  },
  {
   "cell_type": "code",
   "execution_count": 181,
   "metadata": {},
   "outputs": [
    {
     "name": "stdout",
     "output_type": "stream",
     "text": [
      "Data Types date            object\n",
      "location        object\n",
      "new_cases        int64\n",
      "new_deaths       int64\n",
      "total_cases      int64\n",
      "total_deaths     int64\n",
      "dtype: object\n",
      "Columns with NaN Index([], dtype='object')\n"
     ]
    }
   ],
   "source": [
    "print(\"Data Types\", rdata.dtypes)\n",
    "print(\"Columns with NaN\", rdata.columns[rdata.isna().any()])"
   ]
  },
  {
   "cell_type": "code",
   "execution_count": 182,
   "metadata": {},
   "outputs": [
    {
     "data": {
      "text/plain": [
       "date            object\n",
       "location        object\n",
       "new_cases        int64\n",
       "new_deaths       int64\n",
       "total_cases      int64\n",
       "total_deaths     int64\n",
       "dtype: object"
      ]
     },
     "execution_count": 182,
     "metadata": {},
     "output_type": "execute_result"
    }
   ],
   "source": [
    "rdata = rdata.fillna(value = 0)\n",
    "pdata = rdata.astype({'new_cases':'int64', \n",
    "                     'new_deaths':'int64', \n",
    "                     'total_deaths':'int64'})\n",
    "pdata.dtypes"
   ]
  },
  {
   "cell_type": "code",
   "execution_count": 183,
   "metadata": {},
   "outputs": [],
   "source": [
    "rdata['date_fm'] = pd.to_datetime(rdata['date'], infer_datetime_format='%Y-%m-%d')"
   ]
  },
  {
   "cell_type": "code",
   "execution_count": 184,
   "metadata": {},
   "outputs": [
    {
     "data": {
      "text/plain": [
       "date                    object\n",
       "location                object\n",
       "new_cases                int64\n",
       "new_deaths               int64\n",
       "total_cases              int64\n",
       "total_deaths             int64\n",
       "date_fm         datetime64[ns]\n",
       "dtype: object"
      ]
     },
     "execution_count": 184,
     "metadata": {},
     "output_type": "execute_result"
    }
   ],
   "source": [
    "rdata.dtypes"
   ]
  },
  {
   "cell_type": "code",
   "execution_count": 185,
   "metadata": {},
   "outputs": [
    {
     "data": {
      "text/plain": [
       "'2020-03-25'"
      ]
     },
     "execution_count": 185,
     "metadata": {},
     "output_type": "execute_result"
    }
   ],
   "source": [
    "latest = pdata['date'].max()\n",
    "latest"
   ]
  },
  {
   "cell_type": "code",
   "execution_count": 186,
   "metadata": {
    "scrolled": true
   },
   "outputs": [],
   "source": [
    "world_record = rdata[rdata['location'] == 'World']\n",
    "data = pdata[pdata['date'] == latest]\n",
    "data.head()\n",
    "data = data.drop('date', axis = 1)\n",
    "data = data.set_index('location')"
   ]
  },
  {
   "cell_type": "code",
   "execution_count": 187,
   "metadata": {
    "scrolled": true
   },
   "outputs": [],
   "source": [
    "data = data[data.index != 'World']"
   ]
  },
  {
   "cell_type": "code",
   "execution_count": 188,
   "metadata": {},
   "outputs": [
    {
     "name": "stdout",
     "output_type": "stream",
     "text": [
      "Max value in total cases 81847\n"
     ]
    }
   ],
   "source": [
    "max_total_cases = data['total_cases'].max()\n",
    "print(\"Max value in total cases\", max_total_cases)"
   ]
  },
  {
   "cell_type": "code",
   "execution_count": 189,
   "metadata": {
    "scrolled": false
   },
   "outputs": [
    {
     "data": {
      "text/html": [
       "<div>\n",
       "<style scoped>\n",
       "    .dataframe tbody tr th:only-of-type {\n",
       "        vertical-align: middle;\n",
       "    }\n",
       "\n",
       "    .dataframe tbody tr th {\n",
       "        vertical-align: top;\n",
       "    }\n",
       "\n",
       "    .dataframe thead th {\n",
       "        text-align: right;\n",
       "    }\n",
       "</style>\n",
       "<table border=\"1\" class=\"dataframe\">\n",
       "  <thead>\n",
       "    <tr style=\"text-align: right;\">\n",
       "      <th></th>\n",
       "      <th>Country Name</th>\n",
       "      <th>2018</th>\n",
       "    </tr>\n",
       "  </thead>\n",
       "  <tbody>\n",
       "    <tr>\n",
       "      <td>33</td>\n",
       "      <td>Canada</td>\n",
       "      <td>37058856.0</td>\n",
       "    </tr>\n",
       "  </tbody>\n",
       "</table>\n",
       "</div>"
      ],
      "text/plain": [
       "   Country Name        2018\n",
       "33       Canada  37058856.0"
      ]
     },
     "execution_count": 189,
     "metadata": {},
     "output_type": "execute_result"
    }
   ],
   "source": [
    "population = rpopulation_data.filter(['Country Name', '2018'])\n",
    "population[population['Country Name'] == 'Canada']"
   ]
  },
  {
   "cell_type": "code",
   "execution_count": 190,
   "metadata": {},
   "outputs": [
    {
     "data": {
      "text/html": [
       "<div>\n",
       "<style scoped>\n",
       "    .dataframe tbody tr th:only-of-type {\n",
       "        vertical-align: middle;\n",
       "    }\n",
       "\n",
       "    .dataframe tbody tr th {\n",
       "        vertical-align: top;\n",
       "    }\n",
       "\n",
       "    .dataframe thead th {\n",
       "        text-align: right;\n",
       "    }\n",
       "</style>\n",
       "<table border=\"1\" class=\"dataframe\">\n",
       "  <thead>\n",
       "    <tr style=\"text-align: right;\">\n",
       "      <th></th>\n",
       "      <th>2018</th>\n",
       "    </tr>\n",
       "    <tr>\n",
       "      <th>location</th>\n",
       "      <th></th>\n",
       "    </tr>\n",
       "  </thead>\n",
       "  <tbody>\n",
       "    <tr>\n",
       "      <td>Aruba</td>\n",
       "      <td>105845.0</td>\n",
       "    </tr>\n",
       "  </tbody>\n",
       "</table>\n",
       "</div>"
      ],
      "text/plain": [
       "              2018\n",
       "location          \n",
       "Aruba     105845.0"
      ]
     },
     "execution_count": 190,
     "metadata": {},
     "output_type": "execute_result"
    }
   ],
   "source": [
    "population = population.rename(columns = {'Country Name':'location'})\n",
    "population = population.set_index('location')\n",
    "population.head(n=1)"
   ]
  },
  {
   "cell_type": "code",
   "execution_count": 191,
   "metadata": {
    "scrolled": false
   },
   "outputs": [
    {
     "data": {
      "text/html": [
       "<div>\n",
       "<style scoped>\n",
       "    .dataframe tbody tr th:only-of-type {\n",
       "        vertical-align: middle;\n",
       "    }\n",
       "\n",
       "    .dataframe tbody tr th {\n",
       "        vertical-align: top;\n",
       "    }\n",
       "\n",
       "    .dataframe thead th {\n",
       "        text-align: right;\n",
       "    }\n",
       "</style>\n",
       "<table border=\"1\" class=\"dataframe\">\n",
       "  <thead>\n",
       "    <tr style=\"text-align: right;\">\n",
       "      <th></th>\n",
       "      <th>new_cases</th>\n",
       "      <th>new_deaths</th>\n",
       "      <th>total_cases</th>\n",
       "      <th>total_deaths</th>\n",
       "    </tr>\n",
       "    <tr>\n",
       "      <th>location</th>\n",
       "      <th></th>\n",
       "      <th></th>\n",
       "      <th></th>\n",
       "      <th></th>\n",
       "    </tr>\n",
       "  </thead>\n",
       "  <tbody>\n",
       "    <tr>\n",
       "      <td>Guernsey</td>\n",
       "      <td>3</td>\n",
       "      <td>0</td>\n",
       "      <td>23</td>\n",
       "      <td>0</td>\n",
       "    </tr>\n",
       "    <tr>\n",
       "      <td>Jersey</td>\n",
       "      <td>0</td>\n",
       "      <td>0</td>\n",
       "      <td>18</td>\n",
       "      <td>0</td>\n",
       "    </tr>\n",
       "    <tr>\n",
       "      <td>Montserrat</td>\n",
       "      <td>0</td>\n",
       "      <td>0</td>\n",
       "      <td>1</td>\n",
       "      <td>0</td>\n",
       "    </tr>\n",
       "    <tr>\n",
       "      <td>Netherlands Antilles</td>\n",
       "      <td>5</td>\n",
       "      <td>0</td>\n",
       "      <td>22</td>\n",
       "      <td>0</td>\n",
       "    </tr>\n",
       "    <tr>\n",
       "      <td>Palestine</td>\n",
       "      <td>1</td>\n",
       "      <td>0</td>\n",
       "      <td>60</td>\n",
       "      <td>0</td>\n",
       "    </tr>\n",
       "    <tr>\n",
       "      <td>Taiwan</td>\n",
       "      <td>21</td>\n",
       "      <td>0</td>\n",
       "      <td>216</td>\n",
       "      <td>2</td>\n",
       "    </tr>\n",
       "    <tr>\n",
       "      <td>Vatican</td>\n",
       "      <td>0</td>\n",
       "      <td>0</td>\n",
       "      <td>1</td>\n",
       "      <td>0</td>\n",
       "    </tr>\n",
       "  </tbody>\n",
       "</table>\n",
       "</div>"
      ],
      "text/plain": [
       "                      new_cases  new_deaths  total_cases  total_deaths\n",
       "location                                                              \n",
       "Guernsey                      3           0           23             0\n",
       "Jersey                        0           0           18             0\n",
       "Montserrat                    0           0            1             0\n",
       "Netherlands Antilles          5           0           22             0\n",
       "Palestine                     1           0           60             0\n",
       "Taiwan                       21           0          216             2\n",
       "Vatican                       0           0            1             0"
      ]
     },
     "execution_count": 191,
     "metadata": {},
     "output_type": "execute_result"
    }
   ],
   "source": [
    "data[data.index.isin(population.index) == False]"
   ]
  },
  {
   "cell_type": "code",
   "execution_count": 192,
   "metadata": {
    "scrolled": true
   },
   "outputs": [
    {
     "data": {
      "text/html": [
       "<div>\n",
       "<style scoped>\n",
       "    .dataframe tbody tr th:only-of-type {\n",
       "        vertical-align: middle;\n",
       "    }\n",
       "\n",
       "    .dataframe tbody tr th {\n",
       "        vertical-align: top;\n",
       "    }\n",
       "\n",
       "    .dataframe thead th {\n",
       "        text-align: right;\n",
       "    }\n",
       "</style>\n",
       "<table border=\"1\" class=\"dataframe\">\n",
       "  <thead>\n",
       "    <tr style=\"text-align: right;\">\n",
       "      <th></th>\n",
       "      <th>new_cases</th>\n",
       "      <th>new_deaths</th>\n",
       "      <th>total_cases</th>\n",
       "      <th>total_deaths</th>\n",
       "      <th>total_cases_per_capita</th>\n",
       "      <th>total_deaths_per_capita</th>\n",
       "      <th>deaths_per_total</th>\n",
       "    </tr>\n",
       "    <tr>\n",
       "      <th>location</th>\n",
       "      <th></th>\n",
       "      <th></th>\n",
       "      <th></th>\n",
       "      <th></th>\n",
       "      <th></th>\n",
       "      <th></th>\n",
       "      <th></th>\n",
       "    </tr>\n",
       "  </thead>\n",
       "  <tbody>\n",
       "    <tr>\n",
       "      <td>Afghanistan</td>\n",
       "      <td>2</td>\n",
       "      <td>0</td>\n",
       "      <td>42</td>\n",
       "      <td>1</td>\n",
       "      <td>1.129871e-06</td>\n",
       "      <td>2.690169e-08</td>\n",
       "      <td>0.0238</td>\n",
       "    </tr>\n",
       "    <tr>\n",
       "      <td>Albania</td>\n",
       "      <td>23</td>\n",
       "      <td>1</td>\n",
       "      <td>123</td>\n",
       "      <td>5</td>\n",
       "      <td>4.291133e-05</td>\n",
       "      <td>1.744363e-06</td>\n",
       "      <td>0.0407</td>\n",
       "    </tr>\n",
       "    <tr>\n",
       "      <td>Algeria</td>\n",
       "      <td>42</td>\n",
       "      <td>0</td>\n",
       "      <td>231</td>\n",
       "      <td>17</td>\n",
       "      <td>5.470248e-06</td>\n",
       "      <td>4.025724e-07</td>\n",
       "      <td>0.0736</td>\n",
       "    </tr>\n",
       "    <tr>\n",
       "      <td>Andorra</td>\n",
       "      <td>31</td>\n",
       "      <td>0</td>\n",
       "      <td>164</td>\n",
       "      <td>0</td>\n",
       "      <td>2.129704e-03</td>\n",
       "      <td>0.000000e+00</td>\n",
       "      <td>0.0000</td>\n",
       "    </tr>\n",
       "    <tr>\n",
       "      <td>Angola</td>\n",
       "      <td>0</td>\n",
       "      <td>0</td>\n",
       "      <td>2</td>\n",
       "      <td>0</td>\n",
       "      <td>6.491449e-08</td>\n",
       "      <td>0.000000e+00</td>\n",
       "      <td>0.0000</td>\n",
       "    </tr>\n",
       "  </tbody>\n",
       "</table>\n",
       "</div>"
      ],
      "text/plain": [
       "             new_cases  new_deaths  total_cases  total_deaths  \\\n",
       "location                                                        \n",
       "Afghanistan          2           0           42             1   \n",
       "Albania             23           1          123             5   \n",
       "Algeria             42           0          231            17   \n",
       "Andorra             31           0          164             0   \n",
       "Angola               0           0            2             0   \n",
       "\n",
       "             total_cases_per_capita  total_deaths_per_capita  deaths_per_total  \n",
       "location                                                                        \n",
       "Afghanistan            1.129871e-06             2.690169e-08            0.0238  \n",
       "Albania                4.291133e-05             1.744363e-06            0.0407  \n",
       "Algeria                5.470248e-06             4.025724e-07            0.0736  \n",
       "Andorra                2.129704e-03             0.000000e+00            0.0000  \n",
       "Angola                 6.491449e-08             0.000000e+00            0.0000  "
      ]
     },
     "execution_count": 192,
     "metadata": {},
     "output_type": "execute_result"
    }
   ],
   "source": [
    "data['total_cases_per_capita'] = data['total_cases'].div(data.index.map(population['2018']))\n",
    "data['total_deaths_per_capita'] = data['total_deaths'].div(data.index.map(population['2018']))\n",
    "data['deaths_per_total'] = data['total_deaths'].div(data['total_cases'])\n",
    "data['deaths_per_total'] = data['deaths_per_total'].round(decimals = 4)\n",
    "data.head()"
   ]
  },
  {
   "cell_type": "code",
   "execution_count": 193,
   "metadata": {
    "scrolled": true
   },
   "outputs": [
    {
     "data": {
      "text/plain": [
       "new_cases                    int64\n",
       "new_deaths                   int64\n",
       "total_cases                  int64\n",
       "total_deaths                 int64\n",
       "total_cases_per_capita     float64\n",
       "total_deaths_per_capita    float64\n",
       "deaths_per_total           float64\n",
       "dtype: object"
      ]
     },
     "execution_count": 193,
     "metadata": {},
     "output_type": "execute_result"
    }
   ],
   "source": [
    "data.dtypes"
   ]
  },
  {
   "cell_type": "markdown",
   "metadata": {},
   "source": [
    "## Plots"
   ]
  },
  {
   "cell_type": "code",
   "execution_count": 194,
   "metadata": {
    "scrolled": false
   },
   "outputs": [
    {
     "data": {
      "image/png": "[encoded data removed]",
      "text/plain": [
       "<Figure size 5040x3600 with 1 Axes>"
      ]
     },
     "metadata": {
      "needs_background": "light"
     },
     "output_type": "display_data"
    }
   ],
   "source": [
    "all_rows = data.plot(kind='bar', y = 'total_cases_per_capita', \n",
    "                     figsize = (70, 50), ylim = (0, data['total_cases_per_capita'].max())).get_figure()\n",
    "plt.savefig('all_rows.png')"
   ]
  },
  {
   "cell_type": "markdown",
   "metadata": {},
   "source": [
    "### World Record"
   ]
  },
  {
   "cell_type": "code",
   "execution_count": 195,
   "metadata": {
    "scrolled": false
   },
   "outputs": [],
   "source": [
    "world_record = world_record.drop(columns = ['date'])\n",
    "world_record = world_record.set_index('date_fm')"
   ]
  },
  {
   "cell_type": "code",
   "execution_count": 196,
   "metadata": {},
   "outputs": [
    {
     "data": {
      "text/html": [
       "<div>\n",
       "<style scoped>\n",
       "    .dataframe tbody tr th:only-of-type {\n",
       "        vertical-align: middle;\n",
       "    }\n",
       "\n",
       "    .dataframe tbody tr th {\n",
       "        vertical-align: top;\n",
       "    }\n",
       "\n",
       "    .dataframe thead th {\n",
       "        text-align: right;\n",
       "    }\n",
       "</style>\n",
       "<table border=\"1\" class=\"dataframe\">\n",
       "  <thead>\n",
       "    <tr style=\"text-align: right;\">\n",
       "      <th></th>\n",
       "      <th>location</th>\n",
       "      <th>new_cases</th>\n",
       "      <th>new_deaths</th>\n",
       "      <th>total_cases</th>\n",
       "      <th>total_deaths</th>\n",
       "    </tr>\n",
       "    <tr>\n",
       "      <th>date_fm</th>\n",
       "      <th></th>\n",
       "      <th></th>\n",
       "      <th></th>\n",
       "      <th></th>\n",
       "      <th></th>\n",
       "    </tr>\n",
       "  </thead>\n",
       "  <tbody>\n",
       "    <tr>\n",
       "      <td>2020-03-25</td>\n",
       "      <td>World</td>\n",
       "      <td>38876</td>\n",
       "      <td>2200</td>\n",
       "      <td>416916</td>\n",
       "      <td>18565</td>\n",
       "    </tr>\n",
       "  </tbody>\n",
       "</table>\n",
       "</div>"
      ],
      "text/plain": [
       "           location  new_cases  new_deaths  total_cases  total_deaths\n",
       "date_fm                                                              \n",
       "2020-03-25    World      38876        2200       416916         18565"
      ]
     },
     "execution_count": 196,
     "metadata": {},
     "output_type": "execute_result"
    }
   ],
   "source": [
    "world_record[world_record.index == latest]"
   ]
  },
  {
   "cell_type": "code",
   "execution_count": 197,
   "metadata": {
    "scrolled": false
   },
   "outputs": [
    {
     "data": {
      "text/plain": [
       "<matplotlib.axes._subplots.AxesSubplot at 0x7fe459433110>"
      ]
     },
     "execution_count": 197,
     "metadata": {},
     "output_type": "execute_result"
    },
    {
     "data": {
      "image/png": "[encoded data removed]",
      "text/plain": [
       "<Figure size 1080x1080 with 2 Axes>"
      ]
     },
     "metadata": {
      "needs_background": "light"
     },
     "output_type": "display_data"
    }
   ],
   "source": [
    "_, (ax1, ax2) = plt.subplots(2, 1, figsize = (15,15))\n",
    "\n",
    "world_record.plot(kind='line', y= ['total_cases', 'total_deaths'], ax = ax1)\n",
    "world_record.plot(kind='line', y= 'total_deaths', ax = ax2)\n"
   ]
  },
  {
   "cell_type": "markdown",
   "metadata": {},
   "source": [
    "### Highest total cases per capita, top 5"
   ]
  },
  {
   "cell_type": "code",
   "execution_count": 198,
   "metadata": {
    "scrolled": true
   },
   "outputs": [
    {
     "data": {
      "text/html": [
       "<div>\n",
       "<style scoped>\n",
       "    .dataframe tbody tr th:only-of-type {\n",
       "        vertical-align: middle;\n",
       "    }\n",
       "\n",
       "    .dataframe tbody tr th {\n",
       "        vertical-align: top;\n",
       "    }\n",
       "\n",
       "    .dataframe thead th {\n",
       "        text-align: right;\n",
       "    }\n",
       "</style>\n",
       "<table border=\"1\" class=\"dataframe\">\n",
       "  <thead>\n",
       "    <tr style=\"text-align: right;\">\n",
       "      <th></th>\n",
       "      <th>new_cases</th>\n",
       "      <th>new_deaths</th>\n",
       "      <th>total_cases</th>\n",
       "      <th>total_deaths</th>\n",
       "      <th>total_cases_per_capita</th>\n",
       "      <th>total_deaths_per_capita</th>\n",
       "      <th>deaths_per_total</th>\n",
       "    </tr>\n",
       "    <tr>\n",
       "      <th>location</th>\n",
       "      <th></th>\n",
       "      <th></th>\n",
       "      <th></th>\n",
       "      <th></th>\n",
       "      <th></th>\n",
       "      <th></th>\n",
       "      <th></th>\n",
       "    </tr>\n",
       "  </thead>\n",
       "  <tbody>\n",
       "    <tr>\n",
       "      <td>San Marino</td>\n",
       "      <td>0</td>\n",
       "      <td>1</td>\n",
       "      <td>187</td>\n",
       "      <td>21</td>\n",
       "      <td>0.005535</td>\n",
       "      <td>0.000622</td>\n",
       "      <td>0.1123</td>\n",
       "    </tr>\n",
       "    <tr>\n",
       "      <td>Faeroe Islands</td>\n",
       "      <td>4</td>\n",
       "      <td>0</td>\n",
       "      <td>122</td>\n",
       "      <td>0</td>\n",
       "      <td>0.002516</td>\n",
       "      <td>0.000000</td>\n",
       "      <td>0.0000</td>\n",
       "    </tr>\n",
       "    <tr>\n",
       "      <td>Andorra</td>\n",
       "      <td>31</td>\n",
       "      <td>0</td>\n",
       "      <td>164</td>\n",
       "      <td>0</td>\n",
       "      <td>0.002130</td>\n",
       "      <td>0.000000</td>\n",
       "      <td>0.0000</td>\n",
       "    </tr>\n",
       "    <tr>\n",
       "      <td>Iceland</td>\n",
       "      <td>60</td>\n",
       "      <td>0</td>\n",
       "      <td>648</td>\n",
       "      <td>2</td>\n",
       "      <td>0.001833</td>\n",
       "      <td>0.000006</td>\n",
       "      <td>0.0031</td>\n",
       "    </tr>\n",
       "    <tr>\n",
       "      <td>Luxembourg</td>\n",
       "      <td>224</td>\n",
       "      <td>0</td>\n",
       "      <td>1099</td>\n",
       "      <td>8</td>\n",
       "      <td>0.001808</td>\n",
       "      <td>0.000013</td>\n",
       "      <td>0.0073</td>\n",
       "    </tr>\n",
       "  </tbody>\n",
       "</table>\n",
       "</div>"
      ],
      "text/plain": [
       "                new_cases  new_deaths  total_cases  total_deaths  \\\n",
       "location                                                           \n",
       "San Marino              0           1          187            21   \n",
       "Faeroe Islands          4           0          122             0   \n",
       "Andorra                31           0          164             0   \n",
       "Iceland                60           0          648             2   \n",
       "Luxembourg            224           0         1099             8   \n",
       "\n",
       "                total_cases_per_capita  total_deaths_per_capita  \\\n",
       "location                                                          \n",
       "San Marino                    0.005535                 0.000622   \n",
       "Faeroe Islands                0.002516                 0.000000   \n",
       "Andorra                       0.002130                 0.000000   \n",
       "Iceland                       0.001833                 0.000006   \n",
       "Luxembourg                    0.001808                 0.000013   \n",
       "\n",
       "                deaths_per_total  \n",
       "location                          \n",
       "San Marino                0.1123  \n",
       "Faeroe Islands            0.0000  \n",
       "Andorra                   0.0000  \n",
       "Iceland                   0.0031  \n",
       "Luxembourg                0.0073  "
      ]
     },
     "execution_count": 198,
     "metadata": {},
     "output_type": "execute_result"
    }
   ],
   "source": [
    "largest5 = data.nlargest(5, 'total_cases_per_capita')\n",
    "largest5"
   ]
  },
  {
   "cell_type": "code",
   "execution_count": 199,
   "metadata": {
    "scrolled": false
   },
   "outputs": [
    {
     "data": {
      "image/png": "[encoded data removed]",
      "text/plain": [
       "<Figure size 576x720 with 1 Axes>"
      ]
     },
     "metadata": {
      "needs_background": "light"
     },
     "output_type": "display_data"
    }
   ],
   "source": [
    "total_cases_pc_fig = largest5.plot(kind='bar', \n",
    "                                   y = 'total_cases_per_capita', \n",
    "                                   ylim = (0, data['total_cases_per_capita'].max()+ 0.0005),\n",
    "                                   figsize = (8, 10)).get_figure()\n",
    "plt.savefig('total_cases_per_capita.png')"
   ]
  },
  {
   "cell_type": "code",
   "execution_count": 200,
   "metadata": {},
   "outputs": [],
   "source": [
    "largest5 = largest5.merge(population, on = 'location')"
   ]
  },
  {
   "cell_type": "code",
   "execution_count": 201,
   "metadata": {},
   "outputs": [
    {
     "data": {
      "text/html": [
       "<div>\n",
       "<style scoped>\n",
       "    .dataframe tbody tr th:only-of-type {\n",
       "        vertical-align: middle;\n",
       "    }\n",
       "\n",
       "    .dataframe tbody tr th {\n",
       "        vertical-align: top;\n",
       "    }\n",
       "\n",
       "    .dataframe thead th {\n",
       "        text-align: right;\n",
       "    }\n",
       "</style>\n",
       "<table border=\"1\" class=\"dataframe\">\n",
       "  <thead>\n",
       "    <tr style=\"text-align: right;\">\n",
       "      <th></th>\n",
       "      <th>location</th>\n",
       "      <th>new_cases</th>\n",
       "      <th>total_cases</th>\n",
       "      <th>total_cases_per_capita</th>\n",
       "      <th>population</th>\n",
       "    </tr>\n",
       "  </thead>\n",
       "  <tbody>\n",
       "    <tr>\n",
       "      <td>0</td>\n",
       "      <td>San Marino</td>\n",
       "      <td>0</td>\n",
       "      <td>187</td>\n",
       "      <td>0.005535</td>\n",
       "      <td>33785.0</td>\n",
       "    </tr>\n",
       "    <tr>\n",
       "      <td>1</td>\n",
       "      <td>Faeroe Islands</td>\n",
       "      <td>4</td>\n",
       "      <td>122</td>\n",
       "      <td>0.002516</td>\n",
       "      <td>48497.0</td>\n",
       "    </tr>\n",
       "    <tr>\n",
       "      <td>2</td>\n",
       "      <td>Andorra</td>\n",
       "      <td>31</td>\n",
       "      <td>164</td>\n",
       "      <td>0.002130</td>\n",
       "      <td>77006.0</td>\n",
       "    </tr>\n",
       "    <tr>\n",
       "      <td>3</td>\n",
       "      <td>Iceland</td>\n",
       "      <td>60</td>\n",
       "      <td>648</td>\n",
       "      <td>0.001833</td>\n",
       "      <td>353574.0</td>\n",
       "    </tr>\n",
       "    <tr>\n",
       "      <td>4</td>\n",
       "      <td>Luxembourg</td>\n",
       "      <td>224</td>\n",
       "      <td>1099</td>\n",
       "      <td>0.001808</td>\n",
       "      <td>607728.0</td>\n",
       "    </tr>\n",
       "  </tbody>\n",
       "</table>\n",
       "</div>"
      ],
      "text/plain": [
       "         location  new_cases  total_cases  total_cases_per_capita  population\n",
       "0      San Marino          0          187                0.005535     33785.0\n",
       "1  Faeroe Islands          4          122                0.002516     48497.0\n",
       "2         Andorra         31          164                0.002130     77006.0\n",
       "3         Iceland         60          648                0.001833    353574.0\n",
       "4      Luxembourg        224         1099                0.001808    607728.0"
      ]
     },
     "execution_count": 201,
     "metadata": {},
     "output_type": "execute_result"
    }
   ],
   "source": [
    "filtered_for_table = largest5.drop(columns = ['total_deaths_per_capita', 'deaths_per_total', 'new_deaths', 'total_deaths'])\n",
    "filtered_for_table = filtered_for_table.reset_index()\n",
    "filtered_for_table = filtered_for_table.rename(columns = {'2018':'population'})\n",
    "filtered_for_table"
   ]
  },
  {
   "cell_type": "markdown",
   "metadata": {},
   "source": [
    "### Highest death rate per total cases, top 5"
   ]
  },
  {
   "cell_type": "code",
   "execution_count": 202,
   "metadata": {
    "scrolled": false
   },
   "outputs": [
    {
     "data": {
      "text/html": [
       "<div>\n",
       "<style scoped>\n",
       "    .dataframe tbody tr th:only-of-type {\n",
       "        vertical-align: middle;\n",
       "    }\n",
       "\n",
       "    .dataframe tbody tr th {\n",
       "        vertical-align: top;\n",
       "    }\n",
       "\n",
       "    .dataframe thead th {\n",
       "        text-align: right;\n",
       "    }\n",
       "</style>\n",
       "<table border=\"1\" class=\"dataframe\">\n",
       "  <thead>\n",
       "    <tr style=\"text-align: right;\">\n",
       "      <th></th>\n",
       "      <th>new_cases</th>\n",
       "      <th>new_deaths</th>\n",
       "      <th>total_cases</th>\n",
       "      <th>total_deaths</th>\n",
       "      <th>total_cases_per_capita</th>\n",
       "      <th>total_deaths_per_capita</th>\n",
       "      <th>deaths_per_total</th>\n",
       "    </tr>\n",
       "    <tr>\n",
       "      <th>location</th>\n",
       "      <th></th>\n",
       "      <th></th>\n",
       "      <th></th>\n",
       "      <th></th>\n",
       "      <th></th>\n",
       "      <th></th>\n",
       "      <th></th>\n",
       "    </tr>\n",
       "  </thead>\n",
       "  <tbody>\n",
       "    <tr>\n",
       "      <td>San Marino</td>\n",
       "      <td>0</td>\n",
       "      <td>1</td>\n",
       "      <td>187</td>\n",
       "      <td>21</td>\n",
       "      <td>0.005535</td>\n",
       "      <td>6.215776e-04</td>\n",
       "      <td>0.1123</td>\n",
       "    </tr>\n",
       "    <tr>\n",
       "      <td>Italy</td>\n",
       "      <td>5249</td>\n",
       "      <td>743</td>\n",
       "      <td>69176</td>\n",
       "      <td>6820</td>\n",
       "      <td>0.001145</td>\n",
       "      <td>1.128555e-04</td>\n",
       "      <td>0.0986</td>\n",
       "    </tr>\n",
       "    <tr>\n",
       "      <td>Iraq</td>\n",
       "      <td>50</td>\n",
       "      <td>4</td>\n",
       "      <td>316</td>\n",
       "      <td>27</td>\n",
       "      <td>0.000008</td>\n",
       "      <td>7.025103e-07</td>\n",
       "      <td>0.0854</td>\n",
       "    </tr>\n",
       "    <tr>\n",
       "      <td>Indonesia</td>\n",
       "      <td>107</td>\n",
       "      <td>6</td>\n",
       "      <td>686</td>\n",
       "      <td>55</td>\n",
       "      <td>0.000003</td>\n",
       "      <td>2.054819e-07</td>\n",
       "      <td>0.0802</td>\n",
       "    </tr>\n",
       "    <tr>\n",
       "      <td>Iran</td>\n",
       "      <td>1762</td>\n",
       "      <td>122</td>\n",
       "      <td>24811</td>\n",
       "      <td>1934</td>\n",
       "      <td>0.000303</td>\n",
       "      <td>2.364295e-05</td>\n",
       "      <td>0.0779</td>\n",
       "    </tr>\n",
       "  </tbody>\n",
       "</table>\n",
       "</div>"
      ],
      "text/plain": [
       "            new_cases  new_deaths  total_cases  total_deaths  \\\n",
       "location                                                       \n",
       "San Marino          0           1          187            21   \n",
       "Italy            5249         743        69176          6820   \n",
       "Iraq               50           4          316            27   \n",
       "Indonesia         107           6          686            55   \n",
       "Iran             1762         122        24811          1934   \n",
       "\n",
       "            total_cases_per_capita  total_deaths_per_capita  deaths_per_total  \n",
       "location                                                                       \n",
       "San Marino                0.005535             6.215776e-04            0.1123  \n",
       "Italy                     0.001145             1.128555e-04            0.0986  \n",
       "Iraq                      0.000008             7.025103e-07            0.0854  \n",
       "Indonesia                 0.000003             2.054819e-07            0.0802  \n",
       "Iran                      0.000303             2.364295e-05            0.0779  "
      ]
     },
     "execution_count": 202,
     "metadata": {},
     "output_type": "execute_result"
    }
   ],
   "source": [
    "deaths_per_cases = data[data['total_cases'] > 50].nlargest(5, 'deaths_per_total')\n",
    "deaths_per_cases"
   ]
  },
  {
   "cell_type": "code",
   "execution_count": 203,
   "metadata": {
    "scrolled": true
   },
   "outputs": [
    {
     "data": {
      "text/plain": [
       "location\n",
       "San Marino    0.1123\n",
       "Italy         0.0986\n",
       "Iraq          0.0854\n",
       "Indonesia     0.0802\n",
       "Iran          0.0779\n",
       "Name: deaths_per_total, dtype: float64"
      ]
     },
     "execution_count": 203,
     "metadata": {},
     "output_type": "execute_result"
    }
   ],
   "source": [
    "deaths_per_cases['deaths_per_total']"
   ]
  },
  {
   "cell_type": "code",
   "execution_count": 204,
   "metadata": {},
   "outputs": [],
   "source": [
    "deaths_per_cases_pop = deaths_per_cases.merge(population, on = 'location')"
   ]
  },
  {
   "cell_type": "code",
   "execution_count": 205,
   "metadata": {},
   "outputs": [
    {
     "data": {
      "image/png": "[encoded data removed]",
      "text/plain": [
       "<Figure size 576x720 with 1 Axes>"
      ]
     },
     "metadata": {
      "needs_background": "light"
     },
     "output_type": "display_data"
    }
   ],
   "source": [
    "deaths_per_cases_pop.sort_values(by = 'deaths_per_total', ascending = True, inplace = True)\n",
    "deaths_per_cases_fig = deaths_per_cases_pop.plot.barh(y = 'deaths_per_total', \n",
    "                                                      color ='red',\n",
    "                                                      figsize = (8, 10),\n",
    "                                                      alpha = 0.6).get_figure()\n",
    "plt.savefig('deaths_per_cases.png')"
   ]
  },
  {
   "cell_type": "code",
   "execution_count": 206,
   "metadata": {
    "scrolled": true
   },
   "outputs": [
    {
     "data": {
      "text/html": [
       "<div>\n",
       "<style scoped>\n",
       "    .dataframe tbody tr th:only-of-type {\n",
       "        vertical-align: middle;\n",
       "    }\n",
       "\n",
       "    .dataframe tbody tr th {\n",
       "        vertical-align: top;\n",
       "    }\n",
       "\n",
       "    .dataframe thead th {\n",
       "        text-align: right;\n",
       "    }\n",
       "</style>\n",
       "<table border=\"1\" class=\"dataframe\">\n",
       "  <thead>\n",
       "    <tr style=\"text-align: right;\">\n",
       "      <th></th>\n",
       "      <th>location</th>\n",
       "      <th>total_cases</th>\n",
       "      <th>total_deaths</th>\n",
       "      <th>deaths_per_total</th>\n",
       "      <th>population</th>\n",
       "    </tr>\n",
       "  </thead>\n",
       "  <tbody>\n",
       "    <tr>\n",
       "      <td>0</td>\n",
       "      <td>Iran</td>\n",
       "      <td>24811</td>\n",
       "      <td>1934</td>\n",
       "      <td>0.0779</td>\n",
       "      <td>81800269.0</td>\n",
       "    </tr>\n",
       "    <tr>\n",
       "      <td>1</td>\n",
       "      <td>Indonesia</td>\n",
       "      <td>686</td>\n",
       "      <td>55</td>\n",
       "      <td>0.0802</td>\n",
       "      <td>267663435.0</td>\n",
       "    </tr>\n",
       "    <tr>\n",
       "      <td>2</td>\n",
       "      <td>Iraq</td>\n",
       "      <td>316</td>\n",
       "      <td>27</td>\n",
       "      <td>0.0854</td>\n",
       "      <td>38433600.0</td>\n",
       "    </tr>\n",
       "    <tr>\n",
       "      <td>3</td>\n",
       "      <td>Italy</td>\n",
       "      <td>69176</td>\n",
       "      <td>6820</td>\n",
       "      <td>0.0986</td>\n",
       "      <td>60431283.0</td>\n",
       "    </tr>\n",
       "    <tr>\n",
       "      <td>4</td>\n",
       "      <td>San Marino</td>\n",
       "      <td>187</td>\n",
       "      <td>21</td>\n",
       "      <td>0.1123</td>\n",
       "      <td>33785.0</td>\n",
       "    </tr>\n",
       "  </tbody>\n",
       "</table>\n",
       "</div>"
      ],
      "text/plain": [
       "     location  total_cases  total_deaths  deaths_per_total   population\n",
       "0        Iran        24811          1934            0.0779   81800269.0\n",
       "1   Indonesia          686            55            0.0802  267663435.0\n",
       "2        Iraq          316            27            0.0854   38433600.0\n",
       "3       Italy        69176          6820            0.0986   60431283.0\n",
       "4  San Marino          187            21            0.1123      33785.0"
      ]
     },
     "execution_count": 206,
     "metadata": {},
     "output_type": "execute_result"
    }
   ],
   "source": [
    "filtered_for_table = deaths_per_cases_pop.drop(columns = ['new_cases', 'new_deaths', 'total_cases_per_capita', 'total_deaths_per_capita'])\n",
    "filtered_for_table = filtered_for_table.reset_index()\n",
    "filtered_for_table = filtered_for_table.rename(columns = {'2018':'population'})\n",
    "filtered_for_table"
   ]
  },
  {
   "cell_type": "code",
   "execution_count": 207,
   "metadata": {},
   "outputs": [
    {
     "data": {
      "image/svg+xml": [
       "<svg class=\"main-svg\" xmlns=\"http://www.w3.org/2000/svg\" xmlns:xlink=\"http://www.w3.org/1999/xlink\" width=\"700\" height=\"450\" style=\"\" viewBox=\"0 0 700 450\"><rect x=\"0\" y=\"0\" width=\"700\" height=\"450\" style=\"fill: rgb(255, 255, 255); fill-opacity: 1;\"/><defs id=\"defs-b055e0\"><g class=\"clips\"/><g class=\"gradients\"/></defs><g class=\"bglayer\"/><g class=\"layer-below\"><g class=\"imagelayer\"/><g class=\"shapelayer\"/></g><g class=\"cartesianlayer\"/><g class=\"polarlayer\"/><g class=\"ternarylayer\"/><g class=\"geolayer\"/><g class=\"funnelarealayer\"/><g class=\"pielayer\"/><g class=\"treemaplayer\"/><g class=\"sunburstlayer\"/><g class=\"glimages\"/><g class=\"table\" overflow=\"visible\" width=\"700\" height=\"450\" transform=\"translate(0,0)\" style=\"box-sizing: content-box; position: absolute; left: 0px; overflow: visible; shape-rendering: crispedges; pointer-events: all;\"><g class=\"table-control-view\" transform=\"translate(80 100)\" clip-path=\"url('#clipb055e0_scrollAreaBottomClip_993273true')\" style=\"box-sizing: content-box;\"><rect class=\"scroll-background\" fill=\"none\" width=\"540\" height=\"270\"/><g class=\"y-column\" transform=\"translate(0 0)\" clip-path=\"url('#clipb055e0_columnBoundaryClippath_993273true_0')\"><g class=\"column-block\" id=\"cells1\" style=\"cursor: default;\" transform=\"translate(0 0)\"><g class=\"column-cells\"><g class=\"column-cell\" transform=\"translate(0 28)\"><rect class=\"cell-rect\" width=\"108\" stroke-width=\"1\" style=\"stroke: rgb(255, 255, 255); stroke-opacity: 1; fill: rgb(235, 240, 248); fill-opacity: 1;\" height=\"20\"/><g class=\"cell-text-holder\" transform=\"translate(8 8)\" text-anchor=\"start\" style=\"shape-rendering: geometricprecision;\"><text class=\"cell-text\" dy=\"0.75em\" style=\"cursor: auto; font-family: 'Open Sans', verdana, arial, sans-serif; font-size: 12px; fill: rgb(42, 63, 95); fill-opacity: 1;\">Iran</text></g></g><g class=\"column-cell\" transform=\"translate(0 48)\"><rect class=\"cell-rect\" width=\"108\" stroke-width=\"1\" style=\"stroke: rgb(255, 255, 255); stroke-opacity: 1; fill: rgb(235, 240, 248); fill-opacity: 1;\" height=\"20\"/><g class=\"cell-text-holder\" transform=\"translate(8 8)\" text-anchor=\"start\" style=\"shape-rendering: geometricprecision;\"><text class=\"cell-text\" dy=\"0.75em\" style=\"cursor: auto; font-family: 'Open Sans', verdana, arial, sans-serif; font-size: 12px; fill: rgb(42, 63, 95); fill-opacity: 1;\">Indonesia</text></g></g><g class=\"column-cell\" transform=\"translate(0 68)\"><rect class=\"cell-rect\" width=\"108\" stroke-width=\"1\" style=\"stroke: rgb(255, 255, 255); stroke-opacity: 1; fill: rgb(235, 240, 248); fill-opacity: 1;\" height=\"20\"/><g class=\"cell-text-holder\" transform=\"translate(8 8)\" text-anchor=\"start\" style=\"shape-rendering: geometricprecision;\"><text class=\"cell-text\" dy=\"0.75em\" style=\"cursor: auto; font-family: 'Open Sans', verdana, arial, sans-serif; font-size: 12px; fill: rgb(42, 63, 95); fill-opacity: 1;\">Iraq</text></g></g><g class=\"column-cell\" transform=\"translate(0 88)\"><rect class=\"cell-rect\" width=\"108\" stroke-width=\"1\" style=\"stroke: rgb(255, 255, 255); stroke-opacity: 1; fill: rgb(235, 240, 248); fill-opacity: 1;\" height=\"20\"/><g class=\"cell-text-holder\" transform=\"translate(8 8)\" text-anchor=\"start\" style=\"shape-rendering: geometricprecision;\"><text class=\"cell-text\" dy=\"0.75em\" style=\"cursor: auto; font-family: 'Open Sans', verdana, arial, sans-serif; font-size: 12px; fill: rgb(42, 63, 95); fill-opacity: 1;\">Italy</text></g></g><g class=\"column-cell\" transform=\"translate(0 108)\"><rect class=\"cell-rect\" width=\"108\" stroke-width=\"1\" style=\"stroke: rgb(255, 255, 255); stroke-opacity: 1; fill: rgb(235, 240, 248); fill-opacity: 1;\" height=\"20\"/><g class=\"cell-text-holder\" transform=\"translate(8 8)\" text-anchor=\"start\" style=\"shape-rendering: geometricprecision;\"><text class=\"cell-text\" dy=\"0.75em\" x=\"0\" y=\"0\" style=\"cursor: auto; font-family: 'Open Sans', verdana, arial, sans-serif; font-size: 12px; fill: rgb(42, 63, 95); fill-opacity: 1; white-space: pre;\">San Marino</text></g></g></g></g><g class=\"column-block\" id=\"cells2\" style=\"cursor: default;\" transform=\"translate(0 0)\"><g class=\"column-cells\"/></g><g class=\"column-block\" id=\"header\" style=\"cursor: ew-resize;\"><g class=\"column-cells\"><g class=\"column-cell\" transform=\"translate(0 0)\"><rect class=\"cell-rect\" width=\"108\" stroke-width=\"1\" style=\"stroke: rgb(255, 255, 255); stroke-opacity: 1; fill: rgb(200, 212, 227); fill-opacity: 1;\" height=\"28\"/><g class=\"cell-text-holder\" transform=\"translate(8 8)\" text-anchor=\"start\" style=\"shape-rendering: geometricprecision;\"><text class=\"cell-text\" dy=\"0.75em\" style=\"cursor: auto; font-family: 'Open Sans', verdana, arial, sans-serif; font-size: 12px; fill: rgb(42, 63, 95); fill-opacity: 1;\">Location</text></g></g></g></g><g class=\"column-boundary\"/><clipPath class=\"column-boundary-clippath\" id=\"clipb055e0_columnBoundaryClippath_993273true_0\"><rect class=\"column-boundary-rect\" fill=\"none\" width=\"110\" height=\"277\" x=\"-1\" y=\"-1\"/></clipPath></g><g class=\"y-column\" transform=\"translate(108 0)\" clip-path=\"url('#clipb055e0_columnBoundaryClippath_993273true_1')\"><g class=\"column-block\" id=\"cells1\" style=\"cursor: default;\" transform=\"translate(0 0)\"><g class=\"column-cells\"><g class=\"column-cell\" transform=\"translate(0 28)\"><rect class=\"cell-rect\" width=\"108\" stroke-width=\"1\" style=\"stroke: rgb(255, 255, 255); stroke-opacity: 1; fill: rgb(235, 240, 248); fill-opacity: 1;\" height=\"20\"/><g class=\"cell-text-holder\" transform=\"translate(8 8)\" text-anchor=\"start\" style=\"shape-rendering: geometricprecision;\"><text class=\"cell-text\" dy=\"0.75em\" style=\"cursor: auto; font-family: 'Open Sans', verdana, arial, sans-serif; font-size: 12px; fill: rgb(42, 63, 95); fill-opacity: 1;\">24811</text></g></g><g class=\"column-cell\" transform=\"translate(0 48)\"><rect class=\"cell-rect\" width=\"108\" stroke-width=\"1\" style=\"stroke: rgb(255, 255, 255); stroke-opacity: 1; fill: rgb(235, 240, 248); fill-opacity: 1;\" height=\"20\"/><g class=\"cell-text-holder\" transform=\"translate(8 8)\" text-anchor=\"start\" style=\"shape-rendering: geometricprecision;\"><text class=\"cell-text\" dy=\"0.75em\" style=\"cursor: auto; font-family: 'Open Sans', verdana, arial, sans-serif; font-size: 12px; fill: rgb(42, 63, 95); fill-opacity: 1;\">686</text></g></g><g class=\"column-cell\" transform=\"translate(0 68)\"><rect class=\"cell-rect\" width=\"108\" stroke-width=\"1\" style=\"stroke: rgb(255, 255, 255); stroke-opacity: 1; fill: rgb(235, 240, 248); fill-opacity: 1;\" height=\"20\"/><g class=\"cell-text-holder\" transform=\"translate(8 8)\" text-anchor=\"start\" style=\"shape-rendering: geometricprecision;\"><text class=\"cell-text\" dy=\"0.75em\" style=\"cursor: auto; font-family: 'Open Sans', verdana, arial, sans-serif; font-size: 12px; fill: rgb(42, 63, 95); fill-opacity: 1;\">316</text></g></g><g class=\"column-cell\" transform=\"translate(0 88)\"><rect class=\"cell-rect\" width=\"108\" stroke-width=\"1\" style=\"stroke: rgb(255, 255, 255); stroke-opacity: 1; fill: rgb(235, 240, 248); fill-opacity: 1;\" height=\"20\"/><g class=\"cell-text-holder\" transform=\"translate(8 8)\" text-anchor=\"start\" style=\"shape-rendering: geometricprecision;\"><text class=\"cell-text\" dy=\"0.75em\" style=\"cursor: auto; font-family: 'Open Sans', verdana, arial, sans-serif; font-size: 12px; fill: rgb(42, 63, 95); fill-opacity: 1;\">69176</text></g></g><g class=\"column-cell\" transform=\"translate(0 108)\"><rect class=\"cell-rect\" width=\"108\" stroke-width=\"1\" style=\"stroke: rgb(255, 255, 255); stroke-opacity: 1; fill: rgb(235, 240, 248); fill-opacity: 1;\" height=\"20\"/><g class=\"cell-text-holder\" transform=\"translate(8 8)\" text-anchor=\"start\" style=\"shape-rendering: geometricprecision;\"><text class=\"cell-text\" dy=\"0.75em\" style=\"cursor: auto; font-family: 'Open Sans', verdana, arial, sans-serif; font-size: 12px; fill: rgb(42, 63, 95); fill-opacity: 1;\">187</text></g></g></g></g><g class=\"column-block\" id=\"cells2\" style=\"cursor: default;\" transform=\"translate(0 0)\"><g class=\"column-cells\"/></g><g class=\"column-block\" id=\"header\" style=\"cursor: ew-resize;\"><g class=\"column-cells\"><g class=\"column-cell\" transform=\"translate(0 0)\"><rect class=\"cell-rect\" width=\"108\" stroke-width=\"1\" style=\"stroke: rgb(255, 255, 255); stroke-opacity: 1; fill: rgb(200, 212, 227); fill-opacity: 1;\" height=\"28\"/><g class=\"cell-text-holder\" style=\"shape-rendering: geometricprecision;\" transform=\"translate(8 8)\" text-anchor=\"start\"><text class=\"cell-text\" dy=\"0.75em\" x=\"0\" y=\"0\" style=\"cursor: auto; font-family: 'Open Sans', verdana, arial, sans-serif; font-size: 12px; fill: rgb(42, 63, 95); fill-opacity: 1; white-space: pre;\">Total Cases</text></g></g></g></g><g class=\"column-boundary\"/><clipPath class=\"column-boundary-clippath\" id=\"clipb055e0_columnBoundaryClippath_993273true_1\"><rect class=\"column-boundary-rect\" fill=\"none\" width=\"110\" height=\"277\" x=\"-1\" y=\"-1\"/></clipPath></g><g class=\"y-column\" transform=\"translate(216 0)\" clip-path=\"url('#clipb055e0_columnBoundaryClippath_993273true_2')\"><g class=\"column-block\" id=\"cells1\" style=\"cursor: default;\" transform=\"translate(0 0)\"><g class=\"column-cells\"><g class=\"column-cell\" transform=\"translate(0 28)\"><rect class=\"cell-rect\" width=\"108\" stroke-width=\"1\" style=\"stroke: rgb(255, 255, 255); stroke-opacity: 1; fill: rgb(235, 240, 248); fill-opacity: 1;\" height=\"20\"/><g class=\"cell-text-holder\" transform=\"translate(8 8)\" text-anchor=\"start\" style=\"shape-rendering: geometricprecision;\"><text class=\"cell-text\" dy=\"0.75em\" style=\"cursor: auto; font-family: 'Open Sans', verdana, arial, sans-serif; font-size: 12px; fill: rgb(42, 63, 95); fill-opacity: 1;\">1934</text></g></g><g class=\"column-cell\" transform=\"translate(0 48)\"><rect class=\"cell-rect\" width=\"108\" stroke-width=\"1\" style=\"stroke: rgb(255, 255, 255); stroke-opacity: 1; fill: rgb(235, 240, 248); fill-opacity: 1;\" height=\"20\"/><g class=\"cell-text-holder\" transform=\"translate(8 8)\" text-anchor=\"start\" style=\"shape-rendering: geometricprecision;\"><text class=\"cell-text\" dy=\"0.75em\" style=\"cursor: auto; font-family: 'Open Sans', verdana, arial, sans-serif; font-size: 12px; fill: rgb(42, 63, 95); fill-opacity: 1;\">55</text></g></g><g class=\"column-cell\" transform=\"translate(0 68)\"><rect class=\"cell-rect\" width=\"108\" stroke-width=\"1\" style=\"stroke: rgb(255, 255, 255); stroke-opacity: 1; fill: rgb(235, 240, 248); fill-opacity: 1;\" height=\"20\"/><g class=\"cell-text-holder\" transform=\"translate(8 8)\" text-anchor=\"start\" style=\"shape-rendering: geometricprecision;\"><text class=\"cell-text\" dy=\"0.75em\" style=\"cursor: auto; font-family: 'Open Sans', verdana, arial, sans-serif; font-size: 12px; fill: rgb(42, 63, 95); fill-opacity: 1;\">27</text></g></g><g class=\"column-cell\" transform=\"translate(0 88)\"><rect class=\"cell-rect\" width=\"108\" stroke-width=\"1\" style=\"stroke: rgb(255, 255, 255); stroke-opacity: 1; fill: rgb(235, 240, 248); fill-opacity: 1;\" height=\"20\"/><g class=\"cell-text-holder\" transform=\"translate(8 8)\" text-anchor=\"start\" style=\"shape-rendering: geometricprecision;\"><text class=\"cell-text\" dy=\"0.75em\" style=\"cursor: auto; font-family: 'Open Sans', verdana, arial, sans-serif; font-size: 12px; fill: rgb(42, 63, 95); fill-opacity: 1;\">6820</text></g></g><g class=\"column-cell\" transform=\"translate(0 108)\"><rect class=\"cell-rect\" width=\"108\" stroke-width=\"1\" style=\"stroke: rgb(255, 255, 255); stroke-opacity: 1; fill: rgb(235, 240, 248); fill-opacity: 1;\" height=\"20\"/><g class=\"cell-text-holder\" transform=\"translate(8 8)\" text-anchor=\"start\" style=\"shape-rendering: geometricprecision;\"><text class=\"cell-text\" dy=\"0.75em\" style=\"cursor: auto; font-family: 'Open Sans', verdana, arial, sans-serif; font-size: 12px; fill: rgb(42, 63, 95); fill-opacity: 1;\">21</text></g></g></g></g><g class=\"column-block\" id=\"cells2\" style=\"cursor: default;\" transform=\"translate(0 0)\"><g class=\"column-cells\"/></g><g class=\"column-block\" id=\"header\" style=\"cursor: ew-resize;\"><g class=\"column-cells\"><g class=\"column-cell\" transform=\"translate(0 0)\"><rect class=\"cell-rect\" width=\"108\" stroke-width=\"1\" style=\"stroke: rgb(255, 255, 255); stroke-opacity: 1; fill: rgb(200, 212, 227); fill-opacity: 1;\" height=\"28\"/><g class=\"cell-text-holder\" style=\"shape-rendering: geometricprecision;\" transform=\"translate(8 8)\" text-anchor=\"start\"><text class=\"cell-text\" dy=\"0.75em\" style=\"cursor: auto; font-family: 'Open Sans', verdana, arial, sans-serif; font-size: 12px; fill: rgb(42, 63, 95); fill-opacity: 1; white-space: pre;\" x=\"0\" y=\"0\">Total Deaths</text></g></g></g></g><g class=\"column-boundary\"/><clipPath class=\"column-boundary-clippath\" id=\"clipb055e0_columnBoundaryClippath_993273true_2\"><rect class=\"column-boundary-rect\" fill=\"none\" width=\"110\" height=\"277\" x=\"-1\" y=\"-1\"/></clipPath></g><g class=\"y-column\" transform=\"translate(324 0)\" clip-path=\"url('#clipb055e0_columnBoundaryClippath_993273true_3')\"><g class=\"column-block\" id=\"cells1\" style=\"cursor: default;\" transform=\"translate(0 0)\"><g class=\"column-cells\"><g class=\"column-cell\" transform=\"translate(0 28)\"><rect class=\"cell-rect\" width=\"108\" stroke-width=\"1\" style=\"stroke: rgb(255, 255, 255); stroke-opacity: 1; fill: rgb(235, 240, 248); fill-opacity: 1;\" height=\"20\"/><g class=\"cell-text-holder\" transform=\"translate(8 8)\" text-anchor=\"start\" style=\"shape-rendering: geometricprecision;\"><text class=\"cell-text\" dy=\"0.75em\" style=\"cursor: auto; font-family: 'Open Sans', verdana, arial, sans-serif; font-size: 12px; fill: rgb(42, 63, 95); fill-opacity: 1;\">0.0779</text></g></g><g class=\"column-cell\" transform=\"translate(0 48)\"><rect class=\"cell-rect\" width=\"108\" stroke-width=\"1\" style=\"stroke: rgb(255, 255, 255); stroke-opacity: 1; fill: rgb(235, 240, 248); fill-opacity: 1;\" height=\"20\"/><g class=\"cell-text-holder\" transform=\"translate(8 8)\" text-anchor=\"start\" style=\"shape-rendering: geometricprecision;\"><text class=\"cell-text\" dy=\"0.75em\" style=\"cursor: auto; font-family: 'Open Sans', verdana, arial, sans-serif; font-size: 12px; fill: rgb(42, 63, 95); fill-opacity: 1;\">0.0802</text></g></g><g class=\"column-cell\" transform=\"translate(0 68)\"><rect class=\"cell-rect\" width=\"108\" stroke-width=\"1\" style=\"stroke: rgb(255, 255, 255); stroke-opacity: 1; fill: rgb(235, 240, 248); fill-opacity: 1;\" height=\"20\"/><g class=\"cell-text-holder\" transform=\"translate(8 8)\" text-anchor=\"start\" style=\"shape-rendering: geometricprecision;\"><text class=\"cell-text\" dy=\"0.75em\" style=\"cursor: auto; font-family: 'Open Sans', verdana, arial, sans-serif; font-size: 12px; fill: rgb(42, 63, 95); fill-opacity: 1;\">0.0854</text></g></g><g class=\"column-cell\" transform=\"translate(0 88)\"><rect class=\"cell-rect\" width=\"108\" stroke-width=\"1\" style=\"stroke: rgb(255, 255, 255); stroke-opacity: 1; fill: rgb(235, 240, 248); fill-opacity: 1;\" height=\"20\"/><g class=\"cell-text-holder\" transform=\"translate(8 8)\" text-anchor=\"start\" style=\"shape-rendering: geometricprecision;\"><text class=\"cell-text\" dy=\"0.75em\" style=\"cursor: auto; font-family: 'Open Sans', verdana, arial, sans-serif; font-size: 12px; fill: rgb(42, 63, 95); fill-opacity: 1;\">0.0986</text></g></g><g class=\"column-cell\" transform=\"translate(0 108)\"><rect class=\"cell-rect\" width=\"108\" stroke-width=\"1\" style=\"stroke: rgb(255, 255, 255); stroke-opacity: 1; fill: rgb(235, 240, 248); fill-opacity: 1;\" height=\"20\"/><g class=\"cell-text-holder\" transform=\"translate(8 8)\" text-anchor=\"start\" style=\"shape-rendering: geometricprecision;\"><text class=\"cell-text\" dy=\"0.75em\" style=\"cursor: auto; font-family: 'Open Sans', verdana, arial, sans-serif; font-size: 12px; fill: rgb(42, 63, 95); fill-opacity: 1;\">0.1123</text></g></g></g></g><g class=\"column-block\" id=\"cells2\" style=\"cursor: default;\" transform=\"translate(0 0)\"><g class=\"column-cells\"/></g><g class=\"column-block\" id=\"header\" style=\"cursor: ew-resize;\"><g class=\"column-cells\"><g class=\"column-cell\" transform=\"translate(0 0)\"><rect class=\"cell-rect\" width=\"108\" stroke-width=\"1\" style=\"stroke: rgb(255, 255, 255); stroke-opacity: 1; fill: rgb(200, 212, 227); fill-opacity: 1;\" height=\"28\"/><g class=\"cell-text-holder\" style=\"shape-rendering: geometricprecision;\" transform=\"translate(8 8)\" text-anchor=\"start\"><text class=\"cell-text\" dy=\"0.75em\" style=\"cursor: auto; font-family: 'Open Sans', verdana, arial, sans-serif; font-size: 12px; fill: rgb(42, 63, 95); fill-opacity: 1; white-space: pre;\" x=\"0\" y=\"0\">Deaths per total</text></g></g></g></g><g class=\"column-boundary\"/><clipPath class=\"column-boundary-clippath\" id=\"clipb055e0_columnBoundaryClippath_993273true_3\"><rect class=\"column-boundary-rect\" fill=\"none\" width=\"110\" height=\"277\" x=\"-1\" y=\"-1\"/></clipPath></g><g class=\"y-column\" transform=\"translate(432 0)\" clip-path=\"url('#clipb055e0_columnBoundaryClippath_993273true_4')\"><g class=\"column-block\" id=\"cells1\" style=\"cursor: default;\" transform=\"translate(0 0)\"><g class=\"column-cells\"><g class=\"column-cell\" transform=\"translate(0 28)\"><rect class=\"cell-rect\" width=\"108\" stroke-width=\"1\" style=\"stroke: rgb(255, 255, 255); stroke-opacity: 1; fill: rgb(235, 240, 248); fill-opacity: 1;\" height=\"20\"/><g class=\"cell-text-holder\" transform=\"translate(8 8)\" text-anchor=\"start\" style=\"shape-rendering: geometricprecision;\"><text class=\"cell-text\" dy=\"0.75em\" style=\"cursor: auto; font-family: 'Open Sans', verdana, arial, sans-serif; font-size: 12px; fill: rgb(42, 63, 95); fill-opacity: 1;\">81800269</text></g></g><g class=\"column-cell\" transform=\"translate(0 48)\"><rect class=\"cell-rect\" width=\"108\" stroke-width=\"1\" style=\"stroke: rgb(255, 255, 255); stroke-opacity: 1; fill: rgb(235, 240, 248); fill-opacity: 1;\" height=\"20\"/><g class=\"cell-text-holder\" transform=\"translate(8 8)\" text-anchor=\"start\" style=\"shape-rendering: geometricprecision;\"><text class=\"cell-text\" dy=\"0.75em\" style=\"cursor: auto; font-family: 'Open Sans', verdana, arial, sans-serif; font-size: 12px; fill: rgb(42, 63, 95); fill-opacity: 1;\">267663435</text></g></g><g class=\"column-cell\" transform=\"translate(0 68)\"><rect class=\"cell-rect\" width=\"108\" stroke-width=\"1\" style=\"stroke: rgb(255, 255, 255); stroke-opacity: 1; fill: rgb(235, 240, 248); fill-opacity: 1;\" height=\"20\"/><g class=\"cell-text-holder\" transform=\"translate(8 8)\" text-anchor=\"start\" style=\"shape-rendering: geometricprecision;\"><text class=\"cell-text\" dy=\"0.75em\" style=\"cursor: auto; font-family: 'Open Sans', verdana, arial, sans-serif; font-size: 12px; fill: rgb(42, 63, 95); fill-opacity: 1;\">38433600</text></g></g><g class=\"column-cell\" transform=\"translate(0 88)\"><rect class=\"cell-rect\" width=\"108\" stroke-width=\"1\" style=\"stroke: rgb(255, 255, 255); stroke-opacity: 1; fill: rgb(235, 240, 248); fill-opacity: 1;\" height=\"20\"/><g class=\"cell-text-holder\" transform=\"translate(8 8)\" text-anchor=\"start\" style=\"shape-rendering: geometricprecision;\"><text class=\"cell-text\" dy=\"0.75em\" style=\"cursor: auto; font-family: 'Open Sans', verdana, arial, sans-serif; font-size: 12px; fill: rgb(42, 63, 95); fill-opacity: 1;\">60431283</text></g></g><g class=\"column-cell\" transform=\"translate(0 108)\"><rect class=\"cell-rect\" width=\"108\" stroke-width=\"1\" style=\"stroke: rgb(255, 255, 255); stroke-opacity: 1; fill: rgb(235, 240, 248); fill-opacity: 1;\" height=\"20\"/><g class=\"cell-text-holder\" transform=\"translate(8 8)\" text-anchor=\"start\" style=\"shape-rendering: geometricprecision;\"><text class=\"cell-text\" dy=\"0.75em\" style=\"cursor: auto; font-family: 'Open Sans', verdana, arial, sans-serif; font-size: 12px; fill: rgb(42, 63, 95); fill-opacity: 1;\">33785</text></g></g></g></g><g class=\"column-block\" id=\"cells2\" style=\"cursor: default;\" transform=\"translate(0 0)\"><g class=\"column-cells\"/></g><g class=\"column-block\" id=\"header\" style=\"cursor: ew-resize;\"><g class=\"column-cells\"><g class=\"column-cell\" transform=\"translate(0 0)\"><rect class=\"cell-rect\" width=\"108\" stroke-width=\"1\" style=\"stroke: rgb(255, 255, 255); stroke-opacity: 1; fill: rgb(200, 212, 227); fill-opacity: 1;\" height=\"28\"/><g class=\"cell-text-holder\" style=\"shape-rendering: geometricprecision;\" transform=\"translate(8 8)\" text-anchor=\"start\"><text class=\"cell-text\" dy=\"0.75em\" style=\"cursor: auto; font-family: 'Open Sans', verdana, arial, sans-serif; font-size: 12px; fill: rgb(42, 63, 95); fill-opacity: 1;\">population</text></g></g></g></g><g class=\"column-boundary\"/><clipPath class=\"column-boundary-clippath\" id=\"clipb055e0_columnBoundaryClippath_993273true_4\"><rect class=\"column-boundary-rect\" fill=\"none\" width=\"110\" height=\"277\" x=\"-1\" y=\"-1\"/></clipPath></g><clipPath class=\"scroll-area-clip\" id=\"clipb055e0_scrollAreaBottomClip_993273true\"><rect class=\"scroll-area-clip-rect\" x=\"-45\" y=\"-5\" fill=\"none\" width=\"630\" height=\"275\"/></clipPath></g></g><defs id=\"topdefs-b055e0\"><g class=\"clips\"/></defs><g class=\"layer-above\"><g class=\"imagelayer\"/><g class=\"shapelayer\"/></g><g class=\"infolayer\"><g class=\"g-gtitle\"/></g></svg>"
      ]
     },
     "metadata": {},
     "output_type": "display_data"
    }
   ],
   "source": [
    "fig = go.Figure(data=[go.Table(\n",
    "    header=dict(values=['Location', \n",
    "                        'Total Cases', \n",
    "                        'Total Deaths',\n",
    "                        'Deaths per total', \n",
    "                        'population'],\n",
    "                align='left'),\n",
    "    cells=dict(values=[filtered_for_table['location'], \n",
    "                       filtered_for_table['total_cases'], \n",
    "                       filtered_for_table['total_deaths'], \n",
    "                       filtered_for_table['deaths_per_total'],\n",
    "                       filtered_for_table['population']\n",
    "                      ],\n",
    "               align='left'))\n",
    "])\n",
    "\n",
    "fig.show(renderer=\"svg\")"
   ]
  },
  {
   "cell_type": "markdown",
   "metadata": {},
   "source": [
    "### Comparison of new cases by countries"
   ]
  },
  {
   "cell_type": "code",
   "execution_count": 208,
   "metadata": {},
   "outputs": [],
   "source": [
    "filter_countries = ['Canada','United States', 'Pakistan']"
   ]
  },
  {
   "cell_type": "code",
   "execution_count": 209,
   "metadata": {
    "scrolled": false
   },
   "outputs": [
    {
     "data": {
      "text/html": [
       "<div>\n",
       "<style scoped>\n",
       "    .dataframe tbody tr th:only-of-type {\n",
       "        vertical-align: middle;\n",
       "    }\n",
       "\n",
       "    .dataframe tbody tr th {\n",
       "        vertical-align: top;\n",
       "    }\n",
       "\n",
       "    .dataframe thead th {\n",
       "        text-align: right;\n",
       "    }\n",
       "</style>\n",
       "<table border=\"1\" class=\"dataframe\">\n",
       "  <thead>\n",
       "    <tr style=\"text-align: right;\">\n",
       "      <th></th>\n",
       "      <th>new_cases</th>\n",
       "      <th>new_deaths</th>\n",
       "      <th>total_cases</th>\n",
       "      <th>total_deaths</th>\n",
       "      <th>total_cases_per_capita</th>\n",
       "      <th>total_deaths_per_capita</th>\n",
       "      <th>deaths_per_total</th>\n",
       "    </tr>\n",
       "    <tr>\n",
       "      <th>location</th>\n",
       "      <th></th>\n",
       "      <th></th>\n",
       "      <th></th>\n",
       "      <th></th>\n",
       "      <th></th>\n",
       "      <th></th>\n",
       "      <th></th>\n",
       "    </tr>\n",
       "  </thead>\n",
       "  <tbody>\n",
       "    <tr>\n",
       "      <td>Canada</td>\n",
       "      <td>313</td>\n",
       "      <td>3</td>\n",
       "      <td>1959</td>\n",
       "      <td>27</td>\n",
       "      <td>0.000053</td>\n",
       "      <td>7.285708e-07</td>\n",
       "      <td>0.0138</td>\n",
       "    </tr>\n",
       "    <tr>\n",
       "      <td>Pakistan</td>\n",
       "      <td>104</td>\n",
       "      <td>1</td>\n",
       "      <td>991</td>\n",
       "      <td>7</td>\n",
       "      <td>0.000005</td>\n",
       "      <td>3.298541e-08</td>\n",
       "      <td>0.0071</td>\n",
       "    </tr>\n",
       "    <tr>\n",
       "      <td>United States</td>\n",
       "      <td>8789</td>\n",
       "      <td>211</td>\n",
       "      <td>55231</td>\n",
       "      <td>801</td>\n",
       "      <td>0.000169</td>\n",
       "      <td>2.448288e-06</td>\n",
       "      <td>0.0145</td>\n",
       "    </tr>\n",
       "  </tbody>\n",
       "</table>\n",
       "</div>"
      ],
      "text/plain": [
       "               new_cases  new_deaths  total_cases  total_deaths  \\\n",
       "location                                                          \n",
       "Canada               313           3         1959            27   \n",
       "Pakistan             104           1          991             7   \n",
       "United States       8789         211        55231           801   \n",
       "\n",
       "               total_cases_per_capita  total_deaths_per_capita  \\\n",
       "location                                                         \n",
       "Canada                       0.000053             7.285708e-07   \n",
       "Pakistan                     0.000005             3.298541e-08   \n",
       "United States                0.000169             2.448288e-06   \n",
       "\n",
       "               deaths_per_total  \n",
       "location                         \n",
       "Canada                   0.0138  \n",
       "Pakistan                 0.0071  \n",
       "United States            0.0145  "
      ]
     },
     "execution_count": 209,
     "metadata": {},
     "output_type": "execute_result"
    }
   ],
   "source": [
    "data[data.index.isin(filter_countries)]"
   ]
  },
  {
   "cell_type": "code",
   "execution_count": 210,
   "metadata": {},
   "outputs": [],
   "source": [
    "earliest = '2020-03-01'\n",
    "country_subset = rdata[rdata['location'].isin(filter_countries) & rdata['date_fm'].between(earliest, latest)]"
   ]
  },
  {
   "cell_type": "code",
   "execution_count": 211,
   "metadata": {},
   "outputs": [
    {
     "data": {
      "image/png": "[encoded data removed]",
      "text/plain": [
       "<Figure size 1080x720 with 1 Axes>"
      ]
     },
     "metadata": {
      "needs_background": "light"
     },
     "output_type": "display_data"
    }
   ],
   "source": [
    "_, ax = plt.subplots(figsize = (15, 10))\n",
    "\n",
    "for name, group in country_subset.groupby('location'):\n",
    "    group.set_index('date_fm').plot(kind ='line', y = 'new_cases', ax = ax, label = name)\n",
    "\n",
    "plt.show()"
   ]
  },
  {
   "cell_type": "markdown",
   "metadata": {},
   "source": [
    "### Comparison of new cases by countries per capita"
   ]
  },
  {
   "cell_type": "code",
   "execution_count": 212,
   "metadata": {},
   "outputs": [],
   "source": [
    "percapita = pd.DataFrame(country_subset['location'])\n",
    "percapita['date_fm'] = country_subset['date_fm']\n",
    "percapita['new_cases_per_capita'] =  country_subset['new_cases'].div(country_subset['location'].map(population['2018']))"
   ]
  },
  {
   "cell_type": "code",
   "execution_count": 213,
   "metadata": {
    "scrolled": false
   },
   "outputs": [
    {
     "data": {
      "image/png": "[encoded data removed]",
      "text/plain": [
       "<Figure size 1080x720 with 1 Axes>"
      ]
     },
     "metadata": {
      "needs_background": "light"
     },
     "output_type": "display_data"
    }
   ],
   "source": [
    "_, ax = plt.subplots(figsize = (15, 10))\n",
    "\n",
    "for name, group in percapita.groupby('location'):\n",
    "    group.set_index('date_fm').plot(kind ='line', y = 'new_cases_per_capita', ax = ax, label = name)\n",
    "\n",
    "plt.show()"
   ]
  },
  {
   "cell_type": "code",
   "execution_count": 214,
   "metadata": {},
   "outputs": [
    {
     "data": {
      "text/html": [
       "<div>\n",
       "<style scoped>\n",
       "    .dataframe tbody tr th:only-of-type {\n",
       "        vertical-align: middle;\n",
       "    }\n",
       "\n",
       "    .dataframe tbody tr th {\n",
       "        vertical-align: top;\n",
       "    }\n",
       "\n",
       "    .dataframe thead th {\n",
       "        text-align: right;\n",
       "    }\n",
       "</style>\n",
       "<table border=\"1\" class=\"dataframe\">\n",
       "  <thead>\n",
       "    <tr style=\"text-align: right;\">\n",
       "      <th></th>\n",
       "      <th>date</th>\n",
       "      <th>location</th>\n",
       "      <th>new_cases</th>\n",
       "      <th>new_deaths</th>\n",
       "      <th>total_cases</th>\n",
       "      <th>total_deaths</th>\n",
       "    </tr>\n",
       "  </thead>\n",
       "  <tbody>\n",
       "    <tr>\n",
       "      <td>1152</td>\n",
       "      <td>2020-03-01</td>\n",
       "      <td>Canada</td>\n",
       "      <td>4</td>\n",
       "      <td>0</td>\n",
       "      <td>20</td>\n",
       "      <td>0</td>\n",
       "    </tr>\n",
       "    <tr>\n",
       "      <td>1153</td>\n",
       "      <td>2020-03-02</td>\n",
       "      <td>Canada</td>\n",
       "      <td>4</td>\n",
       "      <td>0</td>\n",
       "      <td>24</td>\n",
       "      <td>0</td>\n",
       "    </tr>\n",
       "    <tr>\n",
       "      <td>1154</td>\n",
       "      <td>2020-03-03</td>\n",
       "      <td>Canada</td>\n",
       "      <td>3</td>\n",
       "      <td>0</td>\n",
       "      <td>27</td>\n",
       "      <td>0</td>\n",
       "    </tr>\n",
       "    <tr>\n",
       "      <td>1155</td>\n",
       "      <td>2020-03-04</td>\n",
       "      <td>Canada</td>\n",
       "      <td>3</td>\n",
       "      <td>0</td>\n",
       "      <td>30</td>\n",
       "      <td>0</td>\n",
       "    </tr>\n",
       "    <tr>\n",
       "      <td>1156</td>\n",
       "      <td>2020-03-05</td>\n",
       "      <td>Canada</td>\n",
       "      <td>3</td>\n",
       "      <td>0</td>\n",
       "      <td>33</td>\n",
       "      <td>0</td>\n",
       "    </tr>\n",
       "    <tr>\n",
       "      <td>1157</td>\n",
       "      <td>2020-03-06</td>\n",
       "      <td>Canada</td>\n",
       "      <td>12</td>\n",
       "      <td>0</td>\n",
       "      <td>45</td>\n",
       "      <td>0</td>\n",
       "    </tr>\n",
       "    <tr>\n",
       "      <td>1158</td>\n",
       "      <td>2020-03-07</td>\n",
       "      <td>Canada</td>\n",
       "      <td>6</td>\n",
       "      <td>0</td>\n",
       "      <td>51</td>\n",
       "      <td>0</td>\n",
       "    </tr>\n",
       "    <tr>\n",
       "      <td>1159</td>\n",
       "      <td>2020-03-08</td>\n",
       "      <td>Canada</td>\n",
       "      <td>6</td>\n",
       "      <td>0</td>\n",
       "      <td>57</td>\n",
       "      <td>0</td>\n",
       "    </tr>\n",
       "    <tr>\n",
       "      <td>1160</td>\n",
       "      <td>2020-03-09</td>\n",
       "      <td>Canada</td>\n",
       "      <td>5</td>\n",
       "      <td>0</td>\n",
       "      <td>62</td>\n",
       "      <td>0</td>\n",
       "    </tr>\n",
       "    <tr>\n",
       "      <td>1161</td>\n",
       "      <td>2020-03-10</td>\n",
       "      <td>Canada</td>\n",
       "      <td>15</td>\n",
       "      <td>1</td>\n",
       "      <td>77</td>\n",
       "      <td>1</td>\n",
       "    </tr>\n",
       "    <tr>\n",
       "      <td>1162</td>\n",
       "      <td>2020-03-11</td>\n",
       "      <td>Canada</td>\n",
       "      <td>16</td>\n",
       "      <td>0</td>\n",
       "      <td>93</td>\n",
       "      <td>1</td>\n",
       "    </tr>\n",
       "    <tr>\n",
       "      <td>1163</td>\n",
       "      <td>2020-03-12</td>\n",
       "      <td>Canada</td>\n",
       "      <td>10</td>\n",
       "      <td>0</td>\n",
       "      <td>103</td>\n",
       "      <td>1</td>\n",
       "    </tr>\n",
       "    <tr>\n",
       "      <td>1164</td>\n",
       "      <td>2020-03-13</td>\n",
       "      <td>Canada</td>\n",
       "      <td>35</td>\n",
       "      <td>0</td>\n",
       "      <td>138</td>\n",
       "      <td>1</td>\n",
       "    </tr>\n",
       "    <tr>\n",
       "      <td>1165</td>\n",
       "      <td>2020-03-14</td>\n",
       "      <td>Canada</td>\n",
       "      <td>38</td>\n",
       "      <td>0</td>\n",
       "      <td>176</td>\n",
       "      <td>1</td>\n",
       "    </tr>\n",
       "    <tr>\n",
       "      <td>1166</td>\n",
       "      <td>2020-03-15</td>\n",
       "      <td>Canada</td>\n",
       "      <td>68</td>\n",
       "      <td>0</td>\n",
       "      <td>244</td>\n",
       "      <td>1</td>\n",
       "    </tr>\n",
       "    <tr>\n",
       "      <td>1167</td>\n",
       "      <td>2020-03-16</td>\n",
       "      <td>Canada</td>\n",
       "      <td>60</td>\n",
       "      <td>0</td>\n",
       "      <td>304</td>\n",
       "      <td>1</td>\n",
       "    </tr>\n",
       "    <tr>\n",
       "      <td>1168</td>\n",
       "      <td>2020-03-17</td>\n",
       "      <td>Canada</td>\n",
       "      <td>120</td>\n",
       "      <td>3</td>\n",
       "      <td>424</td>\n",
       "      <td>4</td>\n",
       "    </tr>\n",
       "    <tr>\n",
       "      <td>1169</td>\n",
       "      <td>2020-03-18</td>\n",
       "      <td>Canada</td>\n",
       "      <td>145</td>\n",
       "      <td>4</td>\n",
       "      <td>569</td>\n",
       "      <td>8</td>\n",
       "    </tr>\n",
       "    <tr>\n",
       "      <td>1170</td>\n",
       "      <td>2020-03-19</td>\n",
       "      <td>Canada</td>\n",
       "      <td>121</td>\n",
       "      <td>1</td>\n",
       "      <td>690</td>\n",
       "      <td>9</td>\n",
       "    </tr>\n",
       "    <tr>\n",
       "      <td>1171</td>\n",
       "      <td>2020-03-20</td>\n",
       "      <td>Canada</td>\n",
       "      <td>156</td>\n",
       "      <td>1</td>\n",
       "      <td>846</td>\n",
       "      <td>10</td>\n",
       "    </tr>\n",
       "    <tr>\n",
       "      <td>1172</td>\n",
       "      <td>2020-03-21</td>\n",
       "      <td>Canada</td>\n",
       "      <td>125</td>\n",
       "      <td>2</td>\n",
       "      <td>971</td>\n",
       "      <td>12</td>\n",
       "    </tr>\n",
       "    <tr>\n",
       "      <td>1173</td>\n",
       "      <td>2020-03-22</td>\n",
       "      <td>Canada</td>\n",
       "      <td>260</td>\n",
       "      <td>1</td>\n",
       "      <td>1231</td>\n",
       "      <td>13</td>\n",
       "    </tr>\n",
       "    <tr>\n",
       "      <td>1174</td>\n",
       "      <td>2020-03-23</td>\n",
       "      <td>Canada</td>\n",
       "      <td>199</td>\n",
       "      <td>5</td>\n",
       "      <td>1430</td>\n",
       "      <td>18</td>\n",
       "    </tr>\n",
       "    <tr>\n",
       "      <td>1175</td>\n",
       "      <td>2020-03-24</td>\n",
       "      <td>Canada</td>\n",
       "      <td>216</td>\n",
       "      <td>6</td>\n",
       "      <td>1646</td>\n",
       "      <td>24</td>\n",
       "    </tr>\n",
       "    <tr>\n",
       "      <td>1176</td>\n",
       "      <td>2020-03-25</td>\n",
       "      <td>Canada</td>\n",
       "      <td>313</td>\n",
       "      <td>3</td>\n",
       "      <td>1959</td>\n",
       "      <td>27</td>\n",
       "    </tr>\n",
       "  </tbody>\n",
       "</table>\n",
       "</div>"
      ],
      "text/plain": [
       "            date location  new_cases  new_deaths  total_cases  total_deaths\n",
       "1152  2020-03-01   Canada          4           0           20             0\n",
       "1153  2020-03-02   Canada          4           0           24             0\n",
       "1154  2020-03-03   Canada          3           0           27             0\n",
       "1155  2020-03-04   Canada          3           0           30             0\n",
       "1156  2020-03-05   Canada          3           0           33             0\n",
       "1157  2020-03-06   Canada         12           0           45             0\n",
       "1158  2020-03-07   Canada          6           0           51             0\n",
       "1159  2020-03-08   Canada          6           0           57             0\n",
       "1160  2020-03-09   Canada          5           0           62             0\n",
       "1161  2020-03-10   Canada         15           1           77             1\n",
       "1162  2020-03-11   Canada         16           0           93             1\n",
       "1163  2020-03-12   Canada         10           0          103             1\n",
       "1164  2020-03-13   Canada         35           0          138             1\n",
       "1165  2020-03-14   Canada         38           0          176             1\n",
       "1166  2020-03-15   Canada         68           0          244             1\n",
       "1167  2020-03-16   Canada         60           0          304             1\n",
       "1168  2020-03-17   Canada        120           3          424             4\n",
       "1169  2020-03-18   Canada        145           4          569             8\n",
       "1170  2020-03-19   Canada        121           1          690             9\n",
       "1171  2020-03-20   Canada        156           1          846            10\n",
       "1172  2020-03-21   Canada        125           2          971            12\n",
       "1173  2020-03-22   Canada        260           1         1231            13\n",
       "1174  2020-03-23   Canada        199           5         1430            18\n",
       "1175  2020-03-24   Canada        216           6         1646            24\n",
       "1176  2020-03-25   Canada        313           3         1959            27"
      ]
     },
     "execution_count": 214,
     "metadata": {},
     "output_type": "execute_result"
    }
   ],
   "source": [
    "new_cases_us = country_subset[country_subset['location'] == 'Canada'].drop(columns = ['date_fm'])\n",
    "new_cases_us"
   ]
  },
  {
   "cell_type": "markdown",
   "metadata": {},
   "source": [
    "## Resources\n",
    "1. Data obtained from: https://ourworldindata.org/coronavirus-source-data\n",
    "2. Population data from: https://data.worldbank.org/indicator/SP.POP.TOTL"
   ]
  }
 ],
 "metadata": {
  "kernelspec": {
   "display_name": "Python 3",
   "language": "python",
   "name": "python3"
  },
  "language_info": {
   "codemirror_mode": {
    "name": "ipython",
    "version": 3
   },
   "file_extension": ".py",
   "mimetype": "text/x-python",
   "name": "python",
   "nbconvert_exporter": "python",
   "pygments_lexer": "ipython3",
   "version": "3.7.4"
  }
 },
 "nbformat": 4,
 "nbformat_minor": 2
}
